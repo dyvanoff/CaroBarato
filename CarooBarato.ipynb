{
  "nbformat": 4,
  "nbformat_minor": 0,
  "metadata": {
    "kernelspec": {
      "display_name": "Python [conda env:diplodatos-ayvd]",
      "language": "python",
      "name": "conda-env-diplodatos-ayvd-py"
    },
    "language_info": {
      "codemirror_mode": {
        "name": "ipython",
        "version": 3
      },
      "file_extension": ".py",
      "mimetype": "text/x-python",
      "name": "python",
      "nbconvert_exporter": "python",
      "pygments_lexer": "ipython3",
      "version": "3.6.10"
    },
    "colab": {
      "name": "CarooBarato.ipynb",
      "provenance": [],
      "collapsed_sections": [
        "sZhGLx2ELPKN"
      ],
      "include_colab_link": true
    }
  },
  "cells": [
    {
      "cell_type": "markdown",
      "metadata": {
        "id": "view-in-github",
        "colab_type": "text"
      },
      "source": [
        "<a href=\"https://colab.research.google.com/github/dyvanoff/CaroBarato/blob/master/CarooBarato.ipynb\" target=\"_parent\"><img src=\"https://colab.research.google.com/assets/colab-badge.svg\" alt=\"Open In Colab\"/></a>"
      ]
    },
    {
      "cell_type": "markdown",
      "metadata": {
        "id": "1Oa1U54sLPIl",
        "colab_type": "text"
      },
      "source": [
        "# Introducción"
      ]
    },
    {
      "cell_type": "markdown",
      "metadata": {
        "id": "DCoOYN9mLPIn",
        "colab_type": "text"
      },
      "source": [
        "El presente analisis se realiza sobre un conjunto de datos normalizados de precios, sucursales y productos derivado de datos \n",
        "obtenidos de la página de Precios Claros (http://preciosclaros.gob.ar/). \n",
        "\n",
        "En las siguientes secciones se procedera a presentar la información del conjunto de datos. Identificaremos las variables \n",
        "más relevantes, sus relaciones y elaboraremos una conclusión al respecto."
      ]
    },
    {
      "cell_type": "markdown",
      "metadata": {
        "id": "UzUSZBXvLPIq",
        "colab_type": "text"
      },
      "source": [
        "# Presentación del Conjunto de Datos"
      ]
    },
    {
      "cell_type": "code",
      "metadata": {
        "id": "VYa8wR0YLPIs",
        "colab_type": "code",
        "colab": {
          "base_uri": "https://localhost:8080/",
          "height": 34
        },
        "outputId": "0609baa8-0556-456b-e4da-4049cc271f16"
      },
      "source": [
        "%pylab inline\n",
        "import pandas as pd\n",
        "from io import StringIO\n",
        "import numpy as np\n",
        "import seaborn as sns\n",
        "import scipy as sp\n",
        "import scipy.stats as stats\n",
        "import matplotlib.pyplot as plt\n",
        "\n",
        "sns.set(style='ticks', color_codes=True)\n",
        "sns.set_context(context='talk', font_scale=1.2)\n",
        "\n",
        "from google.colab import files\n",
        "\n",
        "# Install Kaggle library\n",
        "!pip install -q kaggle\n",
        "\n",
        "#Definimos colores\n",
        "BLUE = '#35A7FF'\n",
        "RED = '#FF5964'\n"
      ],
      "execution_count": null,
      "outputs": [
        {
          "output_type": "stream",
          "text": [
            "Populating the interactive namespace from numpy and matplotlib\n"
          ],
          "name": "stdout"
        }
      ]
    },
    {
      "cell_type": "code",
      "metadata": {
        "id": "6P8fxdnuibqX",
        "colab_type": "code",
        "colab": {
          "resources": {
            "http://localhost:8080/nbextensions/google.colab/files.js": {
              "data": "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",
              "ok": true,
              "headers": [
                [
                  "content-type",
                  "application/javascript"
                ]
              ],
              "status": 200,
              "status_text": ""
            }
          },
          "base_uri": "https://localhost:8080/",
          "height": 72
        },
        "outputId": "27951843-82bd-4b7a-b90c-3486454a9e17"
      },
      "source": [
        "# Upload kaggle API key file only first time\n",
        "#uploaded = files.upload()"
      ],
      "execution_count": null,
      "outputs": [
        {
          "output_type": "display_data",
          "data": {
            "text/html": [
              "\n",
              "     <input type=\"file\" id=\"files-c74883ba-b0bc-48eb-a5d3-f9292e4f58e4\" name=\"files[]\" multiple disabled\n",
              "        style=\"border:none\" />\n",
              "     <output id=\"result-c74883ba-b0bc-48eb-a5d3-f9292e4f58e4\">\n",
              "      Upload widget is only available when the cell has been executed in the\n",
              "      current browser session. Please rerun this cell to enable.\n",
              "      </output>\n",
              "      <script src=\"/nbextensions/google.colab/files.js\"></script> "
            ],
            "text/plain": [
              "<IPython.core.display.HTML object>"
            ]
          },
          "metadata": {
            "tags": []
          }
        },
        {
          "output_type": "stream",
          "text": [
            "Saving kaggle.json to kaggle (1).json\n"
          ],
          "name": "stdout"
        }
      ]
    },
    {
      "cell_type": "code",
      "metadata": {
        "id": "2cRNngHRj0-G",
        "colab_type": "code",
        "colab": {
          "base_uri": "https://localhost:8080/",
          "height": 34
        },
        "outputId": "e7c6e535-1e72-41c8-86b1-9fe0d2395714"
      },
      "source": [
        "#move kaggle.json API KEY file \n",
        "#!mv kaggle.json /root/.kaggle"
      ],
      "execution_count": null,
      "outputs": [
        {
          "output_type": "stream",
          "text": [
            "mv: cannot stat 'kaggle.json': No such file or directory\n"
          ],
          "name": "stdout"
        }
      ]
    },
    {
      "cell_type": "code",
      "metadata": {
        "id": "m6LHCMVaki7L",
        "colab_type": "code",
        "colab": {}
      },
      "source": [
        "#change permission kaggle.json API KEY file\n",
        "#!chmod 600 /root/.kaggle/kaggle.json"
      ],
      "execution_count": null,
      "outputs": []
    },
    {
      "cell_type": "code",
      "metadata": {
        "id": "PEVsPdQAjFYL",
        "colab_type": "code",
        "colab": {
          "base_uri": "https://localhost:8080/",
          "height": 68
        },
        "outputId": "8d44b472-9186-4cd2-c85e-77ba13a899cb"
      },
      "source": [
        "#!donwload dataset zip file to colab\n",
        "#!kaggle datasets download -d darioyvanoff/preciosucursalproducto"
      ],
      "execution_count": 28,
      "outputs": [
        {
          "output_type": "stream",
          "text": [
            "Downloading preciosucursalproducto.zip to /content\n",
            " 54% 17.0M/31.2M [00:02<00:02, 5.58MB/s]\n",
            "100% 31.2M/31.2M [00:02<00:00, 12.2MB/s]\n"
          ],
          "name": "stdout"
        }
      ]
    },
    {
      "cell_type": "code",
      "metadata": {
        "id": "RwGQ1Ee2LPJA",
        "colab_type": "code",
        "colab": {}
      },
      "source": [
        "#read dataset zip file\n",
        "file_name =  'preciosucursalproducto.zip'\n",
        "precio_sucursal_producto = pd.read_pickle(file_name)"
      ],
      "execution_count": 33,
      "outputs": []
    },
    {
      "cell_type": "code",
      "metadata": {
        "id": "UtesNYnqLPJK",
        "colab_type": "code",
        "colab": {
          "base_uri": "https://localhost:8080/",
          "height": 476
        },
        "outputId": "16c5042b-5a09-40a0-8c80-b56270464089"
      },
      "source": [
        "precio_sucursal_producto.dtypes"
      ],
      "execution_count": 34,
      "outputs": [
        {
          "output_type": "execute_result",
          "data": {
            "text/plain": [
              "precio                 float64\n",
              "producto_id             object\n",
              "sucursal_id             object\n",
              "fecha                   object\n",
              "marca                   object\n",
              "nombre                  object\n",
              "presentacion            object\n",
              "categoria1              object\n",
              "categoria2              object\n",
              "categoria3              object\n",
              "comercioId             float64\n",
              "banderaId              float64\n",
              "banderaDescripcion      object\n",
              "comercioRazonSocial     object\n",
              "provincia               object\n",
              "localidad               object\n",
              "direccion               object\n",
              "lat                    float64\n",
              "lng                    float64\n",
              "sucursalNombre          object\n",
              "sucursalTipo            object\n",
              "nom_provincia           object\n",
              "region                  object\n",
              "cantidad               float64\n",
              "unidad                  object\n",
              "nombre_sin_um           object\n",
              "dtype: object"
            ]
          },
          "metadata": {
            "tags": []
          },
          "execution_count": 34
        }
      ]
    },
    {
      "cell_type": "code",
      "metadata": {
        "id": "i7oWMGrMLPJR",
        "colab_type": "code",
        "colab": {
          "base_uri": "https://localhost:8080/",
          "height": 478
        },
        "outputId": "2a9d456d-d496-4e4f-a19e-f1d46fda24b0"
      },
      "source": [
        "precio_sucursal_producto.describe(include='all')"
      ],
      "execution_count": 35,
      "outputs": [
        {
          "output_type": "execute_result",
          "data": {
            "text/html": [
              "<div>\n",
              "<style scoped>\n",
              "    .dataframe tbody tr th:only-of-type {\n",
              "        vertical-align: middle;\n",
              "    }\n",
              "\n",
              "    .dataframe tbody tr th {\n",
              "        vertical-align: top;\n",
              "    }\n",
              "\n",
              "    .dataframe thead th {\n",
              "        text-align: right;\n",
              "    }\n",
              "</style>\n",
              "<table border=\"1\" class=\"dataframe\">\n",
              "  <thead>\n",
              "    <tr style=\"text-align: right;\">\n",
              "      <th></th>\n",
              "      <th>precio</th>\n",
              "      <th>producto_id</th>\n",
              "      <th>sucursal_id</th>\n",
              "      <th>fecha</th>\n",
              "      <th>marca</th>\n",
              "      <th>nombre</th>\n",
              "      <th>presentacion</th>\n",
              "      <th>categoria1</th>\n",
              "      <th>categoria2</th>\n",
              "      <th>categoria3</th>\n",
              "      <th>comercioId</th>\n",
              "      <th>banderaId</th>\n",
              "      <th>banderaDescripcion</th>\n",
              "      <th>comercioRazonSocial</th>\n",
              "      <th>provincia</th>\n",
              "      <th>localidad</th>\n",
              "      <th>direccion</th>\n",
              "      <th>lat</th>\n",
              "      <th>lng</th>\n",
              "      <th>sucursalNombre</th>\n",
              "      <th>sucursalTipo</th>\n",
              "      <th>nom_provincia</th>\n",
              "      <th>region</th>\n",
              "      <th>cantidad</th>\n",
              "      <th>unidad</th>\n",
              "      <th>nombre_sin_um</th>\n",
              "    </tr>\n",
              "  </thead>\n",
              "  <tbody>\n",
              "    <tr>\n",
              "      <th>count</th>\n",
              "      <td>2.214788e+06</td>\n",
              "      <td>2222411</td>\n",
              "      <td>2222411</td>\n",
              "      <td>2222411</td>\n",
              "      <td>2222411</td>\n",
              "      <td>2222411</td>\n",
              "      <td>2222411</td>\n",
              "      <td>5</td>\n",
              "      <td>5</td>\n",
              "      <td>5</td>\n",
              "      <td>2.202411e+06</td>\n",
              "      <td>2.202411e+06</td>\n",
              "      <td>2202411</td>\n",
              "      <td>2202411</td>\n",
              "      <td>2202411</td>\n",
              "      <td>2202411</td>\n",
              "      <td>2202411</td>\n",
              "      <td>2.202411e+06</td>\n",
              "      <td>2.202411e+06</td>\n",
              "      <td>2202411</td>\n",
              "      <td>2202411</td>\n",
              "      <td>2202411</td>\n",
              "      <td>2202411</td>\n",
              "      <td>2.222411e+06</td>\n",
              "      <td>2222411</td>\n",
              "      <td>2222411</td>\n",
              "    </tr>\n",
              "    <tr>\n",
              "      <th>unique</th>\n",
              "      <td>NaN</td>\n",
              "      <td>71716</td>\n",
              "      <td>513</td>\n",
              "      <td>5</td>\n",
              "      <td>5644</td>\n",
              "      <td>63660</td>\n",
              "      <td>1168</td>\n",
              "      <td>2</td>\n",
              "      <td>2</td>\n",
              "      <td>2</td>\n",
              "      <td>NaN</td>\n",
              "      <td>NaN</td>\n",
              "      <td>45</td>\n",
              "      <td>34</td>\n",
              "      <td>24</td>\n",
              "      <td>309</td>\n",
              "      <td>491</td>\n",
              "      <td>NaN</td>\n",
              "      <td>NaN</td>\n",
              "      <td>464</td>\n",
              "      <td>4</td>\n",
              "      <td>24</td>\n",
              "      <td>4</td>\n",
              "      <td>NaN</td>\n",
              "      <td>7</td>\n",
              "      <td>58270</td>\n",
              "    </tr>\n",
              "    <tr>\n",
              "      <th>top</th>\n",
              "      <td>NaN</td>\n",
              "      <td>7793100111563</td>\n",
              "      <td>49-1-2</td>\n",
              "      <td>20200426</td>\n",
              "      <td>SIN MARCA</td>\n",
              "      <td>Edulcorante Liquido Hileret Zucra 200 Cc</td>\n",
              "      <td>1.0 kg</td>\n",
              "      <td>Perfumería y Cuidado Personal</td>\n",
              "      <td>Cuidado Capilar</td>\n",
              "      <td>Acondicionadores</td>\n",
              "      <td>NaN</td>\n",
              "      <td>NaN</td>\n",
              "      <td>Hipermercado Carrefour</td>\n",
              "      <td>INC S.A.</td>\n",
              "      <td>AR-B</td>\n",
              "      <td>LA PLATA</td>\n",
              "      <td>Av. 25 De Mayo Y Garmendia 0</td>\n",
              "      <td>NaN</td>\n",
              "      <td>NaN</td>\n",
              "      <td>Super TUTI 3</td>\n",
              "      <td>Supermercado</td>\n",
              "      <td>Provincia de Buenos Aires</td>\n",
              "      <td>Centro</td>\n",
              "      <td>NaN</td>\n",
              "      <td>gr</td>\n",
              "      <td>Gaseosa Sprite</td>\n",
              "    </tr>\n",
              "    <tr>\n",
              "      <th>freq</th>\n",
              "      <td>NaN</td>\n",
              "      <td>545</td>\n",
              "      <td>75516</td>\n",
              "      <td>478909</td>\n",
              "      <td>64702</td>\n",
              "      <td>723</td>\n",
              "      <td>109079</td>\n",
              "      <td>4</td>\n",
              "      <td>4</td>\n",
              "      <td>4</td>\n",
              "      <td>NaN</td>\n",
              "      <td>NaN</td>\n",
              "      <td>339572</td>\n",
              "      <td>556040</td>\n",
              "      <td>772902</td>\n",
              "      <td>161996</td>\n",
              "      <td>75516</td>\n",
              "      <td>NaN</td>\n",
              "      <td>NaN</td>\n",
              "      <td>75516</td>\n",
              "      <td>1098206</td>\n",
              "      <td>772902</td>\n",
              "      <td>1207678</td>\n",
              "      <td>NaN</td>\n",
              "      <td>946281</td>\n",
              "      <td>1379</td>\n",
              "    </tr>\n",
              "    <tr>\n",
              "      <th>mean</th>\n",
              "      <td>1.856890e+02</td>\n",
              "      <td>NaN</td>\n",
              "      <td>NaN</td>\n",
              "      <td>NaN</td>\n",
              "      <td>NaN</td>\n",
              "      <td>NaN</td>\n",
              "      <td>NaN</td>\n",
              "      <td>NaN</td>\n",
              "      <td>NaN</td>\n",
              "      <td>NaN</td>\n",
              "      <td>1.652007e+01</td>\n",
              "      <td>1.605383e+00</td>\n",
              "      <td>NaN</td>\n",
              "      <td>NaN</td>\n",
              "      <td>NaN</td>\n",
              "      <td>NaN</td>\n",
              "      <td>NaN</td>\n",
              "      <td>-3.454504e+01</td>\n",
              "      <td>-6.285409e+01</td>\n",
              "      <td>NaN</td>\n",
              "      <td>NaN</td>\n",
              "      <td>NaN</td>\n",
              "      <td>NaN</td>\n",
              "      <td>2.411996e+02</td>\n",
              "      <td>NaN</td>\n",
              "      <td>NaN</td>\n",
              "    </tr>\n",
              "    <tr>\n",
              "      <th>std</th>\n",
              "      <td>3.627684e+02</td>\n",
              "      <td>NaN</td>\n",
              "      <td>NaN</td>\n",
              "      <td>NaN</td>\n",
              "      <td>NaN</td>\n",
              "      <td>NaN</td>\n",
              "      <td>NaN</td>\n",
              "      <td>NaN</td>\n",
              "      <td>NaN</td>\n",
              "      <td>NaN</td>\n",
              "      <td>1.432286e+01</td>\n",
              "      <td>1.096062e+00</td>\n",
              "      <td>NaN</td>\n",
              "      <td>NaN</td>\n",
              "      <td>NaN</td>\n",
              "      <td>NaN</td>\n",
              "      <td>NaN</td>\n",
              "      <td>6.110636e+00</td>\n",
              "      <td>4.054112e+00</td>\n",
              "      <td>NaN</td>\n",
              "      <td>NaN</td>\n",
              "      <td>NaN</td>\n",
              "      <td>NaN</td>\n",
              "      <td>2.571440e+02</td>\n",
              "      <td>NaN</td>\n",
              "      <td>NaN</td>\n",
              "    </tr>\n",
              "    <tr>\n",
              "      <th>min</th>\n",
              "      <td>1.200000e-01</td>\n",
              "      <td>NaN</td>\n",
              "      <td>NaN</td>\n",
              "      <td>NaN</td>\n",
              "      <td>NaN</td>\n",
              "      <td>NaN</td>\n",
              "      <td>NaN</td>\n",
              "      <td>NaN</td>\n",
              "      <td>NaN</td>\n",
              "      <td>NaN</td>\n",
              "      <td>1.000000e+00</td>\n",
              "      <td>1.000000e+00</td>\n",
              "      <td>NaN</td>\n",
              "      <td>NaN</td>\n",
              "      <td>NaN</td>\n",
              "      <td>NaN</td>\n",
              "      <td>NaN</td>\n",
              "      <td>-5.481010e+01</td>\n",
              "      <td>-7.221356e+01</td>\n",
              "      <td>NaN</td>\n",
              "      <td>NaN</td>\n",
              "      <td>NaN</td>\n",
              "      <td>NaN</td>\n",
              "      <td>8.000000e-01</td>\n",
              "      <td>NaN</td>\n",
              "      <td>NaN</td>\n",
              "    </tr>\n",
              "    <tr>\n",
              "      <th>25%</th>\n",
              "      <td>6.690000e+01</td>\n",
              "      <td>NaN</td>\n",
              "      <td>NaN</td>\n",
              "      <td>NaN</td>\n",
              "      <td>NaN</td>\n",
              "      <td>NaN</td>\n",
              "      <td>NaN</td>\n",
              "      <td>NaN</td>\n",
              "      <td>NaN</td>\n",
              "      <td>NaN</td>\n",
              "      <td>9.000000e+00</td>\n",
              "      <td>1.000000e+00</td>\n",
              "      <td>NaN</td>\n",
              "      <td>NaN</td>\n",
              "      <td>NaN</td>\n",
              "      <td>NaN</td>\n",
              "      <td>NaN</td>\n",
              "      <td>-3.660429e+01</td>\n",
              "      <td>-6.545231e+01</td>\n",
              "      <td>NaN</td>\n",
              "      <td>NaN</td>\n",
              "      <td>NaN</td>\n",
              "      <td>NaN</td>\n",
              "      <td>1.600000e+01</td>\n",
              "      <td>NaN</td>\n",
              "      <td>NaN</td>\n",
              "    </tr>\n",
              "    <tr>\n",
              "      <th>50%</th>\n",
              "      <td>1.189500e+02</td>\n",
              "      <td>NaN</td>\n",
              "      <td>NaN</td>\n",
              "      <td>NaN</td>\n",
              "      <td>NaN</td>\n",
              "      <td>NaN</td>\n",
              "      <td>NaN</td>\n",
              "      <td>NaN</td>\n",
              "      <td>NaN</td>\n",
              "      <td>NaN</td>\n",
              "      <td>1.000000e+01</td>\n",
              "      <td>1.000000e+00</td>\n",
              "      <td>NaN</td>\n",
              "      <td>NaN</td>\n",
              "      <td>NaN</td>\n",
              "      <td>NaN</td>\n",
              "      <td>NaN</td>\n",
              "      <td>-3.459195e+01</td>\n",
              "      <td>-6.289345e+01</td>\n",
              "      <td>NaN</td>\n",
              "      <td>NaN</td>\n",
              "      <td>NaN</td>\n",
              "      <td>NaN</td>\n",
              "      <td>1.500000e+02</td>\n",
              "      <td>NaN</td>\n",
              "      <td>NaN</td>\n",
              "    </tr>\n",
              "    <tr>\n",
              "      <th>75%</th>\n",
              "      <td>2.140000e+02</td>\n",
              "      <td>NaN</td>\n",
              "      <td>NaN</td>\n",
              "      <td>NaN</td>\n",
              "      <td>NaN</td>\n",
              "      <td>NaN</td>\n",
              "      <td>NaN</td>\n",
              "      <td>NaN</td>\n",
              "      <td>NaN</td>\n",
              "      <td>NaN</td>\n",
              "      <td>1.600000e+01</td>\n",
              "      <td>2.000000e+00</td>\n",
              "      <td>NaN</td>\n",
              "      <td>NaN</td>\n",
              "      <td>NaN</td>\n",
              "      <td>NaN</td>\n",
              "      <td>NaN</td>\n",
              "      <td>-3.155759e+01</td>\n",
              "      <td>-5.862642e+01</td>\n",
              "      <td>NaN</td>\n",
              "      <td>NaN</td>\n",
              "      <td>NaN</td>\n",
              "      <td>NaN</td>\n",
              "      <td>4.000000e+02</td>\n",
              "      <td>NaN</td>\n",
              "      <td>NaN</td>\n",
              "    </tr>\n",
              "    <tr>\n",
              "      <th>max</th>\n",
              "      <td>3.590000e+04</td>\n",
              "      <td>NaN</td>\n",
              "      <td>NaN</td>\n",
              "      <td>NaN</td>\n",
              "      <td>NaN</td>\n",
              "      <td>NaN</td>\n",
              "      <td>NaN</td>\n",
              "      <td>NaN</td>\n",
              "      <td>NaN</td>\n",
              "      <td>NaN</td>\n",
              "      <td>6.500000e+01</td>\n",
              "      <td>6.000000e+00</td>\n",
              "      <td>NaN</td>\n",
              "      <td>NaN</td>\n",
              "      <td>NaN</td>\n",
              "      <td>NaN</td>\n",
              "      <td>NaN</td>\n",
              "      <td>-2.313573e+01</td>\n",
              "      <td>-5.589373e+01</td>\n",
              "      <td>NaN</td>\n",
              "      <td>NaN</td>\n",
              "      <td>NaN</td>\n",
              "      <td>NaN</td>\n",
              "      <td>1.125000e+03</td>\n",
              "      <td>NaN</td>\n",
              "      <td>NaN</td>\n",
              "    </tr>\n",
              "  </tbody>\n",
              "</table>\n",
              "</div>"
            ],
            "text/plain": [
              "              precio    producto_id  ...   unidad   nombre_sin_um\n",
              "count   2.214788e+06        2222411  ...  2222411         2222411\n",
              "unique           NaN          71716  ...        7           58270\n",
              "top              NaN  7793100111563  ...       gr  Gaseosa Sprite\n",
              "freq             NaN            545  ...   946281            1379\n",
              "mean    1.856890e+02            NaN  ...      NaN             NaN\n",
              "std     3.627684e+02            NaN  ...      NaN             NaN\n",
              "min     1.200000e-01            NaN  ...      NaN             NaN\n",
              "25%     6.690000e+01            NaN  ...      NaN             NaN\n",
              "50%     1.189500e+02            NaN  ...      NaN             NaN\n",
              "75%     2.140000e+02            NaN  ...      NaN             NaN\n",
              "max     3.590000e+04            NaN  ...      NaN             NaN\n",
              "\n",
              "[11 rows x 26 columns]"
            ]
          },
          "metadata": {
            "tags": []
          },
          "execution_count": 35
        }
      ]
    },
    {
      "cell_type": "markdown",
      "metadata": {
        "id": "M0rLaYFOLPJb",
        "colab_type": "text"
      },
      "source": [
        "# Variables de interés"
      ]
    },
    {
      "cell_type": "markdown",
      "metadata": {
        "id": "HUutwG0kLPJc",
        "colab_type": "text"
      },
      "source": [
        "Basado en que el objetivo final de este proyecto es encontrar una forma de identificar si un producto está caro o barato, no en una sucursal puntual, sino dada una región o ciudad hemos decidido como variables relevantes:\n",
        "- producto_id/nombre_sin_um: identifican a un producto y son variables categóricas nominales.\n",
        "- localidad, provincia,region: que especifican la ubicación de la tienda y que son variables categóricas nominales.\n",
        "- comercioRazonSocial: variable categórica nominal.\n",
        "- fecha: variable cuantitativa\n",
        "- precio: variable cuantitativa continua."
      ]
    },
    {
      "cell_type": "code",
      "metadata": {
        "id": "HlMoor1QLPJd",
        "colab_type": "code",
        "colab": {},
        "outputId": "438b47a4-a890-4130-fea0-75920bc27ae3"
      },
      "source": [
        "precio_sucursal_producto.shape"
      ],
      "execution_count": null,
      "outputs": [
        {
          "output_type": "execute_result",
          "data": {
            "text/plain": [
              "(2222411, 26)"
            ]
          },
          "metadata": {
            "tags": []
          },
          "execution_count": 7
        }
      ]
    },
    {
      "cell_type": "code",
      "metadata": {
        "id": "EbvbNtRnLPJo",
        "colab_type": "code",
        "colab": {},
        "outputId": "b7866a47-cf78-4a47-9b11-d0a5fec1471d"
      },
      "source": [
        "precio_sucursal_producto.isna().sum()"
      ],
      "execution_count": null,
      "outputs": [
        {
          "output_type": "execute_result",
          "data": {
            "text/plain": [
              "precio                    7623\n",
              "producto_id                  0\n",
              "sucursal_id                  0\n",
              "fecha                        0\n",
              "marca                        0\n",
              "nombre                       0\n",
              "presentacion                 0\n",
              "categoria1             2222406\n",
              "categoria2             2222406\n",
              "categoria3             2222406\n",
              "comercioId               20000\n",
              "banderaId                20000\n",
              "banderaDescripcion       20000\n",
              "comercioRazonSocial      20000\n",
              "provincia                20000\n",
              "localidad                20000\n",
              "direccion                20000\n",
              "lat                      20000\n",
              "lng                      20000\n",
              "sucursalNombre           20000\n",
              "sucursalTipo             20000\n",
              "nom_provincia            20000\n",
              "region                   20000\n",
              "cantidad                     0\n",
              "unidad                       0\n",
              "nombre_sin_um                0\n",
              "dtype: int64"
            ]
          },
          "metadata": {
            "tags": []
          },
          "execution_count": 8
        }
      ]
    },
    {
      "cell_type": "markdown",
      "metadata": {
        "id": "Ii8q0SOxLPJv",
        "colab_type": "text"
      },
      "source": [
        "Como se observa en las variables de interes seleccionadas se encuentran 7623 NaN en la variable precio mientras que se ecuentran  20000 NaN en comercioRazonSocial, provincia y localidad.\n",
        "\n",
        "**Importante:** Habida cuenta que las 7623 filas de precios NaN representan solo el 0.34% de los datos decidimos eliminarlos de nuestro conjunto de datos."
      ]
    },
    {
      "cell_type": "markdown",
      "metadata": {
        "id": "jUABrmV-LPJx",
        "colab_type": "text"
      },
      "source": [
        "Generamos un dataset solo con las variables relevantes identificadas que se utilizará para las siguientes secciones de análisis"
      ]
    },
    {
      "cell_type": "code",
      "metadata": {
        "id": "4fIMGN2XLPJx",
        "colab_type": "code",
        "colab": {},
        "outputId": "9de7d1b7-a5ca-452f-a271-c1f1b7229f91"
      },
      "source": [
        "#Generamos un dataset con las variables de interes sin NaN en precios y convirtiendo la fecha a int64 para mejor tratamiento posterior\n",
        "precio_no_nan=~precio_sucursal_producto.precio.isna()\n",
        "dataset = precio_sucursal_producto[precio_no_nan]\n",
        "datasetNew=dataset[['fecha','sucursal_id','producto_id','nombre_sin_um','localidad','nom_provincia','region','comercioRazonSocial','presentacion','precio']]\n",
        "datasetNew=datasetNew.astype({'fecha': 'int64'})\n",
        "datasetNew.shape"
      ],
      "execution_count": null,
      "outputs": [
        {
          "output_type": "execute_result",
          "data": {
            "text/plain": [
              "(2214788, 10)"
            ]
          },
          "metadata": {
            "tags": []
          },
          "execution_count": 87
        }
      ]
    },
    {
      "cell_type": "markdown",
      "metadata": {
        "id": "rzXGQebfLPJ4",
        "colab_type": "text"
      },
      "source": [
        "**Nota:** Luego de eliminar los NaN en la columna precio del dataset original obtenemos un conjunto de datos con 7623 filas menos ( 2222411 - 2214788) en nuestro conjunto de datos."
      ]
    },
    {
      "cell_type": "code",
      "metadata": {
        "id": "RYhV5yYLLPJ6",
        "colab_type": "code",
        "colab": {},
        "outputId": "54a16ab7-5dfb-44c1-a169-38cbebfc96c6"
      },
      "source": [
        "datasetNew.localidad.isna().sum()"
      ],
      "execution_count": null,
      "outputs": [
        {
          "output_type": "execute_result",
          "data": {
            "text/plain": [
              "17998"
            ]
          },
          "metadata": {
            "tags": []
          },
          "execution_count": 88
        }
      ]
    },
    {
      "cell_type": "markdown",
      "metadata": {
        "id": "IZxdYXBnLPKB",
        "colab_type": "text"
      },
      "source": [
        "**REVISAR verificar si podemos inferir de alguna manera los valores de sucursal desde los datos**"
      ]
    },
    {
      "cell_type": "markdown",
      "metadata": {
        "id": "f5HHTBShLPKD",
        "colab_type": "text"
      },
      "source": [
        "**Quedan 17998 filas NaN en localidad CONSULTAR RECOMENDACIONES** "
      ]
    },
    {
      "cell_type": "code",
      "metadata": {
        "id": "2d-QU6LVLPKD",
        "colab_type": "code",
        "colab": {},
        "outputId": "ad87fb7a-90f5-48a9-f9c7-510ffad907fd"
      },
      "source": [
        "datasetNew.sample(5)"
      ],
      "execution_count": null,
      "outputs": [
        {
          "output_type": "execute_result",
          "data": {
            "text/html": [
              "<div>\n",
              "<style scoped>\n",
              "    .dataframe tbody tr th:only-of-type {\n",
              "        vertical-align: middle;\n",
              "    }\n",
              "\n",
              "    .dataframe tbody tr th {\n",
              "        vertical-align: top;\n",
              "    }\n",
              "\n",
              "    .dataframe thead th {\n",
              "        text-align: right;\n",
              "    }\n",
              "</style>\n",
              "<table border=\"1\" class=\"dataframe\">\n",
              "  <thead>\n",
              "    <tr style=\"text-align: right;\">\n",
              "      <th></th>\n",
              "      <th>fecha</th>\n",
              "      <th>sucursal_id</th>\n",
              "      <th>producto_id</th>\n",
              "      <th>nombre_sin_um</th>\n",
              "      <th>localidad</th>\n",
              "      <th>nom_provincia</th>\n",
              "      <th>region</th>\n",
              "      <th>comercioRazonSocial</th>\n",
              "      <th>precio</th>\n",
              "    </tr>\n",
              "  </thead>\n",
              "  <tbody>\n",
              "    <tr>\n",
              "      <th>2154345</th>\n",
              "      <td>20200518</td>\n",
              "      <td>2-1-134</td>\n",
              "      <td>7798024399905</td>\n",
              "      <td>Helado Chocolate Frutilla Vainilla Dulce de Le...</td>\n",
              "      <td>Trelew</td>\n",
              "      <td>Chubut</td>\n",
              "      <td>Patagonia</td>\n",
              "      <td>S.A. Importadora y Exportadora de la Patagonia</td>\n",
              "      <td>665.00</td>\n",
              "    </tr>\n",
              "    <tr>\n",
              "      <th>1517015</th>\n",
              "      <td>20200502</td>\n",
              "      <td>9-3-5222</td>\n",
              "      <td>7790170914759</td>\n",
              "      <td>Te en Saquitos Rapida Infusion La Morenita</td>\n",
              "      <td>GODOY CRUZ</td>\n",
              "      <td>Mendoza</td>\n",
              "      <td>Cuyo</td>\n",
              "      <td>Jumbo Retail Argentina S.A.</td>\n",
              "      <td>33.76</td>\n",
              "    </tr>\n",
              "    <tr>\n",
              "      <th>208423</th>\n",
              "      <td>20200412</td>\n",
              "      <td>46-1-3</td>\n",
              "      <td>7790895009853</td>\n",
              "      <td>Jugo Listo Manzana Cepita</td>\n",
              "      <td>LA PLATA</td>\n",
              "      <td>Provincia de Buenos Aires</td>\n",
              "      <td>Centro</td>\n",
              "      <td>Almacenes de Marca S.A.</td>\n",
              "      <td>71.50</td>\n",
              "    </tr>\n",
              "    <tr>\n",
              "      <th>233353</th>\n",
              "      <td>20200412</td>\n",
              "      <td>13-1-119</td>\n",
              "      <td>7791130962476</td>\n",
              "      <td>Limpiador Liquido Vainilla Procenex</td>\n",
              "      <td>San Martín de los Andes</td>\n",
              "      <td>Neuquén</td>\n",
              "      <td>Patagonia</td>\n",
              "      <td>Cooperativa Obrera Limitada de Consumo y Vivienda</td>\n",
              "      <td>90.00</td>\n",
              "    </tr>\n",
              "    <tr>\n",
              "      <th>1819834</th>\n",
              "      <td>20200518</td>\n",
              "      <td>10-2-216</td>\n",
              "      <td>10-2-2303914000004</td>\n",
              "      <td>Copos de Maiz sin Azucar</td>\n",
              "      <td>Vicente López</td>\n",
              "      <td>Provincia de Buenos Aires</td>\n",
              "      <td>Centro</td>\n",
              "      <td>INC S.A.</td>\n",
              "      <td>317.00</td>\n",
              "    </tr>\n",
              "  </tbody>\n",
              "</table>\n",
              "</div>"
            ],
            "text/plain": [
              "            fecha sucursal_id         producto_id  \\\n",
              "2154345  20200518     2-1-134       7798024399905   \n",
              "1517015  20200502    9-3-5222       7790170914759   \n",
              "208423   20200412      46-1-3       7790895009853   \n",
              "233353   20200412    13-1-119       7791130962476   \n",
              "1819834  20200518    10-2-216  10-2-2303914000004   \n",
              "\n",
              "                                             nombre_sin_um  \\\n",
              "2154345  Helado Chocolate Frutilla Vainilla Dulce de Le...   \n",
              "1517015         Te en Saquitos Rapida Infusion La Morenita   \n",
              "208423                           Jugo Listo Manzana Cepita   \n",
              "233353                 Limpiador Liquido Vainilla Procenex   \n",
              "1819834                           Copos de Maiz sin Azucar   \n",
              "\n",
              "                       localidad              nom_provincia     region  \\\n",
              "2154345                   Trelew                     Chubut  Patagonia   \n",
              "1517015               GODOY CRUZ                    Mendoza       Cuyo   \n",
              "208423                  LA PLATA  Provincia de Buenos Aires     Centro   \n",
              "233353   San Martín de los Andes                    Neuquén  Patagonia   \n",
              "1819834            Vicente López  Provincia de Buenos Aires     Centro   \n",
              "\n",
              "                                       comercioRazonSocial  precio  \n",
              "2154345     S.A. Importadora y Exportadora de la Patagonia  665.00  \n",
              "1517015                        Jumbo Retail Argentina S.A.   33.76  \n",
              "208423                             Almacenes de Marca S.A.   71.50  \n",
              "233353   Cooperativa Obrera Limitada de Consumo y Vivienda   90.00  \n",
              "1819834                                           INC S.A.  317.00  "
            ]
          },
          "metadata": {
            "tags": []
          },
          "execution_count": 72
        }
      ]
    },
    {
      "cell_type": "markdown",
      "metadata": {
        "id": "sZhGLx2ELPKN",
        "colab_type": "text"
      },
      "source": [
        "# Estadísticos"
      ]
    },
    {
      "cell_type": "markdown",
      "metadata": {
        "id": "Yr15ST6cLPKO",
        "colab_type": "text"
      },
      "source": [
        "Comenzamos mostrando los valores estadisticos de media, mediana, desvios entre otros de las variables de interes en el conjunto de datos"
      ]
    },
    {
      "cell_type": "code",
      "metadata": {
        "id": "7Cr8MNXNLPKP",
        "colab_type": "code",
        "colab": {},
        "outputId": "6d70b658-b27e-4101-a036-ff757ededab3"
      },
      "source": [
        "datasetNew.describe(include='all')"
      ],
      "execution_count": null,
      "outputs": [
        {
          "output_type": "execute_result",
          "data": {
            "text/html": [
              "<div>\n",
              "<style scoped>\n",
              "    .dataframe tbody tr th:only-of-type {\n",
              "        vertical-align: middle;\n",
              "    }\n",
              "\n",
              "    .dataframe tbody tr th {\n",
              "        vertical-align: top;\n",
              "    }\n",
              "\n",
              "    .dataframe thead th {\n",
              "        text-align: right;\n",
              "    }\n",
              "</style>\n",
              "<table border=\"1\" class=\"dataframe\">\n",
              "  <thead>\n",
              "    <tr style=\"text-align: right;\">\n",
              "      <th></th>\n",
              "      <th>fecha</th>\n",
              "      <th>producto_id</th>\n",
              "      <th>nombre_sin_um</th>\n",
              "      <th>localidad</th>\n",
              "      <th>provincia</th>\n",
              "      <th>region</th>\n",
              "      <th>comercioRazonSocial</th>\n",
              "      <th>precio</th>\n",
              "    </tr>\n",
              "  </thead>\n",
              "  <tbody>\n",
              "    <tr>\n",
              "      <th>count</th>\n",
              "      <td>2.214788e+06</td>\n",
              "      <td>2214788</td>\n",
              "      <td>2214788</td>\n",
              "      <td>2196790</td>\n",
              "      <td>2196790</td>\n",
              "      <td>2196790</td>\n",
              "      <td>2196790</td>\n",
              "      <td>2.214788e+06</td>\n",
              "    </tr>\n",
              "    <tr>\n",
              "      <th>unique</th>\n",
              "      <td>NaN</td>\n",
              "      <td>71354</td>\n",
              "      <td>57989</td>\n",
              "      <td>306</td>\n",
              "      <td>24</td>\n",
              "      <td>4</td>\n",
              "      <td>33</td>\n",
              "      <td>NaN</td>\n",
              "    </tr>\n",
              "    <tr>\n",
              "      <th>top</th>\n",
              "      <td>NaN</td>\n",
              "      <td>7793100111563</td>\n",
              "      <td>Gaseosa Sprite</td>\n",
              "      <td>LA PLATA</td>\n",
              "      <td>AR-B</td>\n",
              "      <td>Centro</td>\n",
              "      <td>INC S.A.</td>\n",
              "      <td>NaN</td>\n",
              "    </tr>\n",
              "    <tr>\n",
              "      <th>freq</th>\n",
              "      <td>NaN</td>\n",
              "      <td>545</td>\n",
              "      <td>1379</td>\n",
              "      <td>161996</td>\n",
              "      <td>767427</td>\n",
              "      <td>1202057</td>\n",
              "      <td>556040</td>\n",
              "      <td>NaN</td>\n",
              "    </tr>\n",
              "    <tr>\n",
              "      <th>mean</th>\n",
              "      <td>2.020045e+07</td>\n",
              "      <td>NaN</td>\n",
              "      <td>NaN</td>\n",
              "      <td>NaN</td>\n",
              "      <td>NaN</td>\n",
              "      <td>NaN</td>\n",
              "      <td>NaN</td>\n",
              "      <td>1.856890e+02</td>\n",
              "    </tr>\n",
              "    <tr>\n",
              "      <th>std</th>\n",
              "      <td>4.438824e+01</td>\n",
              "      <td>NaN</td>\n",
              "      <td>NaN</td>\n",
              "      <td>NaN</td>\n",
              "      <td>NaN</td>\n",
              "      <td>NaN</td>\n",
              "      <td>NaN</td>\n",
              "      <td>3.627684e+02</td>\n",
              "    </tr>\n",
              "    <tr>\n",
              "      <th>min</th>\n",
              "      <td>2.020041e+07</td>\n",
              "      <td>NaN</td>\n",
              "      <td>NaN</td>\n",
              "      <td>NaN</td>\n",
              "      <td>NaN</td>\n",
              "      <td>NaN</td>\n",
              "      <td>NaN</td>\n",
              "      <td>1.200000e-01</td>\n",
              "    </tr>\n",
              "    <tr>\n",
              "      <th>25%</th>\n",
              "      <td>2.020042e+07</td>\n",
              "      <td>NaN</td>\n",
              "      <td>NaN</td>\n",
              "      <td>NaN</td>\n",
              "      <td>NaN</td>\n",
              "      <td>NaN</td>\n",
              "      <td>NaN</td>\n",
              "      <td>6.690000e+01</td>\n",
              "    </tr>\n",
              "    <tr>\n",
              "      <th>50%</th>\n",
              "      <td>2.020043e+07</td>\n",
              "      <td>NaN</td>\n",
              "      <td>NaN</td>\n",
              "      <td>NaN</td>\n",
              "      <td>NaN</td>\n",
              "      <td>NaN</td>\n",
              "      <td>NaN</td>\n",
              "      <td>1.189500e+02</td>\n",
              "    </tr>\n",
              "    <tr>\n",
              "      <th>75%</th>\n",
              "      <td>2.020050e+07</td>\n",
              "      <td>NaN</td>\n",
              "      <td>NaN</td>\n",
              "      <td>NaN</td>\n",
              "      <td>NaN</td>\n",
              "      <td>NaN</td>\n",
              "      <td>NaN</td>\n",
              "      <td>2.140000e+02</td>\n",
              "    </tr>\n",
              "    <tr>\n",
              "      <th>max</th>\n",
              "      <td>2.020052e+07</td>\n",
              "      <td>NaN</td>\n",
              "      <td>NaN</td>\n",
              "      <td>NaN</td>\n",
              "      <td>NaN</td>\n",
              "      <td>NaN</td>\n",
              "      <td>NaN</td>\n",
              "      <td>3.590000e+04</td>\n",
              "    </tr>\n",
              "  </tbody>\n",
              "</table>\n",
              "</div>"
            ],
            "text/plain": [
              "               fecha    producto_id   nombre_sin_um localidad provincia  \\\n",
              "count   2.214788e+06        2214788         2214788   2196790   2196790   \n",
              "unique           NaN          71354           57989       306        24   \n",
              "top              NaN  7793100111563  Gaseosa Sprite  LA PLATA      AR-B   \n",
              "freq             NaN            545            1379    161996    767427   \n",
              "mean    2.020045e+07            NaN             NaN       NaN       NaN   \n",
              "std     4.438824e+01            NaN             NaN       NaN       NaN   \n",
              "min     2.020041e+07            NaN             NaN       NaN       NaN   \n",
              "25%     2.020042e+07            NaN             NaN       NaN       NaN   \n",
              "50%     2.020043e+07            NaN             NaN       NaN       NaN   \n",
              "75%     2.020050e+07            NaN             NaN       NaN       NaN   \n",
              "max     2.020052e+07            NaN             NaN       NaN       NaN   \n",
              "\n",
              "         region comercioRazonSocial        precio  \n",
              "count   2196790             2196790  2.214788e+06  \n",
              "unique        4                  33           NaN  \n",
              "top      Centro            INC S.A.           NaN  \n",
              "freq    1202057              556040           NaN  \n",
              "mean        NaN                 NaN  1.856890e+02  \n",
              "std         NaN                 NaN  3.627684e+02  \n",
              "min         NaN                 NaN  1.200000e-01  \n",
              "25%         NaN                 NaN  6.690000e+01  \n",
              "50%         NaN                 NaN  1.189500e+02  \n",
              "75%         NaN                 NaN  2.140000e+02  \n",
              "max         NaN                 NaN  3.590000e+04  "
            ]
          },
          "metadata": {
            "tags": []
          },
          "execution_count": 12
        }
      ]
    },
    {
      "cell_type": "markdown",
      "metadata": {
        "id": "yTvV7zmULPKW",
        "colab_type": "text"
      },
      "source": [
        "**a- Outliers de variables seleccionadas**"
      ]
    },
    {
      "cell_type": "markdown",
      "metadata": {
        "id": "VS_TSj9SLPKX",
        "colab_type": "text"
      },
      "source": [
        "En esta sección se verificará la existencia de outliers en las variables seleccionadas. Para ello en primera medida se procedera a realizar representaciones gráficas a través de boxplot de manera de poder identificarlos."
      ]
    },
    {
      "cell_type": "code",
      "metadata": {
        "id": "z1JzrOPILPKa",
        "colab_type": "code",
        "colab": {},
        "outputId": "12baa291-8565-4ef2-a0b3-3dd46005a294"
      },
      "source": [
        "plt.figure(figsize=(8,5))\n",
        "p1=sns.boxplot(data=datasetNew, color=BLUE,\n",
        "                x='fecha', y='precio')\n",
        "plt.ylabel('precio')\n",
        "plt.xlabel('fecha')\n",
        "plt.xticks(rotation=45)\n",
        "sns.despine()"
      ],
      "execution_count": null,
      "outputs": [
        {
          "output_type": "display_data",
          "data": {
            "image/png": "[encoded data removed]",
            "text/plain": [
              "<Figure size 576x360 with 1 Axes>"
            ]
          },
          "metadata": {
            "tags": []
          }
        }
      ]
    },
    {
      "cell_type": "markdown",
      "metadata": {
        "id": "feciX9NqLPKg",
        "colab_type": "text"
      },
      "source": [
        "**REVISAR armar un dataset con media y desvios de cada producto a nivel nacional y obtener un dataset con todos los outliers que esten a mas de 3 desvios standares para cada fecha del conjunto de datos**"
      ]
    },
    {
      "cell_type": "markdown",
      "metadata": {
        "id": "joT5vEnELPKh",
        "colab_type": "text"
      },
      "source": [
        "Para detectar los outliers decidimos utilizar la función *clean_outliers* (implementada abajo). La misma define como outliers a las realizaciones de los datos cuyo valor cumple que **(x > 1.5**$\\times$**IQR + Q3)** o **(x < 1.5**$\\times$**IQR - Q1)**, donde **IQR=Q3-Q1**."
      ]
    },
    {
      "cell_type": "code",
      "metadata": {
        "id": "scaKplvjLPKh",
        "colab_type": "code",
        "colab": {}
      },
      "source": [
        "#Función para remover outliers más allá de whis*(Q3-Q1).\n",
        "def clean_outliers(dataset, column_name, whis=1.5):\n",
        "    \"\"\"Returns dataset removing the outlier rows from column @column_name.\"\"\"\n",
        "    interesting_col = dataset[column_name]\n",
        "    # Here we can remove the outliers from both ends, or even add more restrictions.\n",
        "    Q1 = np.quantile(interesting_col, 0.25, interpolation='midpoint')\n",
        "    Q3 = np.quantile(interesting_col, 0.75, interpolation='midpoint')\n",
        "    mask_variable_outlier = ((interesting_col <= Q3 + whis*(Q3-Q1))\n",
        "                            &\n",
        "                             (Q1 - whis*(Q3-Q1) <= interesting_col))\n",
        "    return dataset[mask_variable_outlier]"
      ],
      "execution_count": null,
      "outputs": []
    },
    {
      "cell_type": "markdown",
      "metadata": {
        "id": "E61-NgwTLPKo",
        "colab_type": "text"
      },
      "source": [
        "A continuación se muestra el número de outliers de **Precio** en todos los dias informados en el conjunto de datos por un lado, y luego por separado dia por dia por el otro. "
      ]
    },
    {
      "cell_type": "code",
      "metadata": {
        "id": "eS5xN-GSLPKq",
        "colab_type": "code",
        "colab": {},
        "outputId": "fcec38e7-842d-4f72-fa52-554ccac3df65"
      },
      "source": [
        "#Vemos cuántos outliers presentan precio juntando todos los dias\n",
        "Out_Glo_precio = len(datasetNew) - len(clean_outliers(datasetNew, 'precio'))\n",
        "print('Todos los dias juntos'\n",
        "      '\\n Outliers de precio: %2i == %2.2f %% del total'\n",
        "    %(Out_Glo_precio, Out_Glo_precio*100/float(len(datasetNew))))\n",
        "print('')\n",
        "\n",
        "#Un vistazo a la cantidad de outliers por dia\n",
        "for i in datasetNew.fecha.unique():\n",
        "    dia = (datasetNew.fecha == i)\n",
        "    Out_Glo_precio_dia = len(datasetNew[dia]) - len(clean_outliers(datasetNew[dia],'precio'))\n",
        "    print('Día %i'\n",
        "          '\\n Outliers de precio: %2i == %2.2f %% del total'\n",
        "          %(i,\n",
        "            Out_Glo_precio_dia, Out_Glo_precio_dia*100/float(len(datasetNew[dia]))))"
      ],
      "execution_count": null,
      "outputs": [
        {
          "output_type": "stream",
          "text": [
            "Todos los dias juntos\n",
            " Outliers de precio: 170577 == 7.70 % del total\n",
            "\n",
            "Día 20200412\n",
            " Outliers de precio: 37028 == 7.84 % del total\n",
            "Día 20200419\n",
            " Outliers de precio: 34849 == 7.63 % del total\n",
            "Día 20200426\n",
            " Outliers de precio: 36418 == 7.63 % del total\n",
            "Día 20200502\n",
            " Outliers de precio: 30286 == 7.66 % del total\n",
            "Día 20200518\n",
            " Outliers de precio: 31577 == 7.64 % del total\n"
          ],
          "name": "stdout"
        }
      ]
    },
    {
      "cell_type": "markdown",
      "metadata": {
        "id": "DZ2elKFKLPKw",
        "colab_type": "text"
      },
      "source": [
        "**b- Dstribuciones de las variables de interés**"
      ]
    },
    {
      "cell_type": "markdown",
      "metadata": {
        "id": "zHCu5o1tLPKw",
        "colab_type": "text"
      },
      "source": [
        "**REVISAR hacer un grafico por fecha y tomar por rango de precios**"
      ]
    },
    {
      "cell_type": "code",
      "metadata": {
        "id": "LkNvlQ6JLPKy",
        "colab_type": "code",
        "colab": {},
        "outputId": "516b4797-15b3-444a-c2e5-7b1dfd735442"
      },
      "source": [
        "#Ploteamos para comparar visualmente\n",
        "bins_pf=10  #Bines para precio\n",
        "\n",
        "plt.figure(figsize=(18,7))\n",
        "plt.suptitle('Comparación visual entre distribuciones')\n",
        "\n",
        "plt.subplot(1,2,1)\n",
        "sns.distplot(datasetNew.precio, kde=True, norm_hist=True, bins=bins_pf, label='Todos')\n",
        "sns.lineplot(np.linspace(min(datasetNew.precio), max(datasetNew.precio), bins_pf),\n",
        "             sp.stats.norm.pdf(np.linspace(min(datasetNew.precio), max(datasetNew.precio), bins_pf),\n",
        "                               datasetNew.precio.mean(), datasetNew.precio.std()), label='Gaussiana')\n",
        "\n",
        "plt.xlabel('Precio', weight='bold')\n",
        "plt.ylabel('Frecuencia normalizada')\n",
        "plt.xlim(min(datasetNew.precio), max(datasetNew.precio))\n",
        "sns.despine()\n",
        "\n",
        "plt.show()"
      ],
      "execution_count": null,
      "outputs": [
        {
          "output_type": "display_data",
          "data": {
            "image/png": "[encoded data removed]",
            "text/plain": [
              "<Figure size 1296x504 with 1 Axes>"
            ]
          },
          "metadata": {
            "tags": []
          }
        }
      ]
    },
    {
      "cell_type": "code",
      "metadata": {
        "id": "AjVigz_XLPLC",
        "colab_type": "code",
        "colab": {},
        "outputId": "624c6650-e3fe-4718-d6b2-f4b037b89ad2"
      },
      "source": [
        "#Planteamos la primer hipótesis nula\n",
        "print('Hipótesis nula: La distribución de Precios es Gaussiana con: '\n",
        "      '\\n mu    = %.3f'\n",
        "      '\\n sigma = %.3f'\n",
        "      %(datasetNew.precio.mean(), datasetNew.precio.std())), print('')\n",
        "\n",
        "#Para realizar el ks_test, se normalizan los datos: (x-mu)/sigma), para luego comparar con una distribución normal.\n",
        "precio_LAC_normed = (datasetNew.precio - datasetNew.precio.mean())/datasetNew.precio.std()\n",
        "\n",
        "#Nivel de significancia\n",
        "alpha_hf = 0.05\n",
        "print('Definimos un nivel de significancia:'\n",
        "      '\\n alpha =', alpha_hf), print('')\n",
        "\n",
        "#Realizamos el ks_test\n",
        "_, pvalue_hf = sp.stats.kstest(precio_LAC_normed, 'norm')\n",
        "print('Realizamos el estadístico de prueba ks_test:'\n",
        "     '\\n pvalue = %f' %pvalue_hf), print('')\n",
        "\n",
        "#Vemos los resultados\n",
        "if (alpha_hf>pvalue_hf):\n",
        "    print('Se rechaza la hipótesis nula con el nivel de significancia impuesto.')\n",
        "else:\n",
        "    print('No se puede rechazar la hipótesis nula con el nivel de significancia impuesto.') "
      ],
      "execution_count": null,
      "outputs": [
        {
          "output_type": "stream",
          "text": [
            "Hipótesis nula: La distribución de Precios es Gaussiana con: \n",
            " mu    = 185.689\n",
            " sigma = 362.768\n",
            "\n",
            "Definimos un nivel de significancia:\n",
            " alpha = 0.05\n",
            "\n",
            "Realizamos el estadístico de prueba ks_test:\n",
            " pvalue = 0.000000\n",
            "\n",
            "Se rechaza la hipótesis nula con el nivel de significancia impuesto.\n"
          ],
          "name": "stdout"
        }
      ]
    },
    {
      "cell_type": "markdown",
      "metadata": {
        "id": "t-iOPGpYLPLI",
        "colab_type": "text"
      },
      "source": [
        "**Nota:** Basados en el test de Kolmogorov antes realizado podes concluir que los precios no tienen una distribución gausiana. "
      ]
    },
    {
      "cell_type": "markdown",
      "metadata": {
        "id": "8IRAgJPlLPLJ",
        "colab_type": "text"
      },
      "source": [
        "**c- Frecuencia de variables categóricas de interés**"
      ]
    },
    {
      "cell_type": "markdown",
      "metadata": {
        "id": "WtIrR5tmLPLL",
        "colab_type": "text"
      },
      "source": [
        "Generamos la tabla de Frecuencia de las variables de interés"
      ]
    },
    {
      "cell_type": "code",
      "metadata": {
        "id": "ptkA7X4yLPLN",
        "colab_type": "code",
        "colab": {},
        "outputId": "67f55341-1306-4f86-e8e3-4f3c13eacdc3"
      },
      "source": [
        "datasetNew.describe(exclude=[np.number])"
      ],
      "execution_count": null,
      "outputs": [
        {
          "output_type": "execute_result",
          "data": {
            "text/html": [
              "<div>\n",
              "<style scoped>\n",
              "    .dataframe tbody tr th:only-of-type {\n",
              "        vertical-align: middle;\n",
              "    }\n",
              "\n",
              "    .dataframe tbody tr th {\n",
              "        vertical-align: top;\n",
              "    }\n",
              "\n",
              "    .dataframe thead th {\n",
              "        text-align: right;\n",
              "    }\n",
              "</style>\n",
              "<table border=\"1\" class=\"dataframe\">\n",
              "  <thead>\n",
              "    <tr style=\"text-align: right;\">\n",
              "      <th></th>\n",
              "      <th>producto_id</th>\n",
              "      <th>nombre_sin_um</th>\n",
              "      <th>localidad</th>\n",
              "      <th>provincia</th>\n",
              "      <th>region</th>\n",
              "      <th>comercioRazonSocial</th>\n",
              "    </tr>\n",
              "  </thead>\n",
              "  <tbody>\n",
              "    <tr>\n",
              "      <th>count</th>\n",
              "      <td>2214788</td>\n",
              "      <td>2214788</td>\n",
              "      <td>2196790</td>\n",
              "      <td>2196790</td>\n",
              "      <td>2196790</td>\n",
              "      <td>2196790</td>\n",
              "    </tr>\n",
              "    <tr>\n",
              "      <th>unique</th>\n",
              "      <td>71354</td>\n",
              "      <td>57989</td>\n",
              "      <td>306</td>\n",
              "      <td>24</td>\n",
              "      <td>4</td>\n",
              "      <td>33</td>\n",
              "    </tr>\n",
              "    <tr>\n",
              "      <th>top</th>\n",
              "      <td>7793100111563</td>\n",
              "      <td>Gaseosa Sprite</td>\n",
              "      <td>LA PLATA</td>\n",
              "      <td>AR-B</td>\n",
              "      <td>Centro</td>\n",
              "      <td>INC S.A.</td>\n",
              "    </tr>\n",
              "    <tr>\n",
              "      <th>freq</th>\n",
              "      <td>545</td>\n",
              "      <td>1379</td>\n",
              "      <td>161996</td>\n",
              "      <td>767427</td>\n",
              "      <td>1202057</td>\n",
              "      <td>556040</td>\n",
              "    </tr>\n",
              "  </tbody>\n",
              "</table>\n",
              "</div>"
            ],
            "text/plain": [
              "          producto_id   nombre_sin_um localidad provincia   region  \\\n",
              "count         2214788         2214788   2196790   2196790  2196790   \n",
              "unique          71354           57989       306        24        4   \n",
              "top     7793100111563  Gaseosa Sprite  LA PLATA      AR-B   Centro   \n",
              "freq              545            1379    161996    767427  1202057   \n",
              "\n",
              "       comercioRazonSocial  \n",
              "count              2196790  \n",
              "unique                  33  \n",
              "top               INC S.A.  \n",
              "freq                556040  "
            ]
          },
          "metadata": {
            "tags": []
          },
          "execution_count": 18
        }
      ]
    },
    {
      "cell_type": "code",
      "metadata": {
        "id": "jVE_22vbLPLU",
        "colab_type": "code",
        "colab": {},
        "outputId": "67be15ee-e94f-45b7-a690-9cd413e411c2"
      },
      "source": [
        "pd.value_counts(datasetNew['region'])"
      ],
      "execution_count": null,
      "outputs": [
        {
          "output_type": "execute_result",
          "data": {
            "text/plain": [
              "Centro          1202057\n",
              "Norte Grande     412417\n",
              "Patagonia        400122\n",
              "Cuyo             182194\n",
              "Name: region, dtype: int64"
            ]
          },
          "metadata": {
            "tags": []
          },
          "execution_count": 19
        }
      ]
    },
    {
      "cell_type": "code",
      "metadata": {
        "id": "NYy63FIhLPLZ",
        "colab_type": "code",
        "colab": {},
        "outputId": "4adca38c-fa83-4ced-8193-2c346704d1c4"
      },
      "source": [
        "pd.value_counts(datasetNew['nombre_sin_um'])"
      ],
      "execution_count": null,
      "outputs": [
        {
          "output_type": "execute_result",
          "data": {
            "text/plain": [
              "Gaseosa Sprite                                  1379\n",
              "Cacao en Polvo Instantaneo Nesquik              1278\n",
              "Coca Cola                                       1272\n",
              "Shampoo Ceramidas Sedal                         1271\n",
              "Agua Mineral sin Gas Villavicencio              1246\n",
              "                                                ... \n",
              "Pure de Tomate Sabor Ajo Jettro                    1\n",
              "Almohaditas Rellenas con Chocolate Chocolino       1\n",
              "Caramelos Miel y Menta Arcor                       1\n",
              "Polvo Limpiador Brillador Ode                      1\n",
              "Jabon Antibacterial Limpieza Profunda Protex       1\n",
              "Name: nombre_sin_um, Length: 57989, dtype: int64"
            ]
          },
          "metadata": {
            "tags": []
          },
          "execution_count": 31
        }
      ]
    },
    {
      "cell_type": "code",
      "metadata": {
        "id": "jHguCqUILPLe",
        "colab_type": "code",
        "colab": {},
        "outputId": "60bd86d4-6cfe-4526-9fbf-6879f759b00b"
      },
      "source": [
        "pd.value_counts(datasetNew['nom_provincia'])"
      ],
      "execution_count": null,
      "outputs": [
        {
          "output_type": "execute_result",
          "data": {
            "text/plain": [
              "Provincia de Buenos Aires          767427\n",
              "Córdoba                            174414\n",
              "Neuquén                            126637\n",
              "Salta                              111214\n",
              "Santa Fe                            96423\n",
              "Mendoza                             94500\n",
              "Río Negro                           94496\n",
              "Tucumán                             89773\n",
              "Santa Cruz                          70159\n",
              "Ciudad Autónoma de Buenos Aires     66896\n",
              "Chubut                              64386\n",
              "San Luis                            58472\n",
              "Entre Ríos                          58318\n",
              "Corrientes                          47230\n",
              "Jujuy                               45877\n",
              "Tierra del Fuego                    44444\n",
              "La Pampa                            38579\n",
              "Catamarca                           35495\n",
              "Misiones                            31423\n",
              "San Juan                            21354\n",
              "Chaco                               20105\n",
              "Formosa                             18181\n",
              "Santiago del Estero                 13119\n",
              "La Rioja                             7868\n",
              "Name: nom_provincia, dtype: int64"
            ]
          },
          "metadata": {
            "tags": []
          },
          "execution_count": 73
        }
      ]
    },
    {
      "cell_type": "markdown",
      "metadata": {
        "id": "rt5zpFlcLPLk",
        "colab_type": "text"
      },
      "source": [
        "Relaciones interesantes entre variables - Principales conclusiones y posibilidad de futuros aportes"
      ]
    },
    {
      "cell_type": "markdown",
      "metadata": {
        "id": "GRLZaC6GLPLl",
        "colab_type": "text"
      },
      "source": [
        "**REVISAR contar el count distinct de las sucursales por provincia**"
      ]
    },
    {
      "cell_type": "code",
      "metadata": {
        "id": "0J2vjUSQLPLm",
        "colab_type": "code",
        "colab": {},
        "outputId": "7e0e6a5f-8114-4811-889a-6e6bea12782d"
      },
      "source": [
        "pd.value_counts(datasetNew['comercioRazonSocial'])"
      ],
      "execution_count": null,
      "outputs": [
        {
          "output_type": "execute_result",
          "data": {
            "text/plain": [
              "INC S.A.                                                                                 556040\n",
              "Jumbo Retail Argentina S.A.                                                              251254\n",
              "Wal Mart Argentina S.R.L.                                                                223040\n",
              "S.A. Importadora y Exportadora de la Patagonia                                           182213\n",
              "Libertad S.A                                                                             118502\n",
              "Coto Centro Integral de Comercialización S.A.                                             91029\n",
              "Alberdi S.A.                                                                              85356\n",
              "ARNALDO P. APPELLA S.A.                                                                   75516\n",
              "SUPERMERCADO TUTI 2 S.A.                                                                  75513\n",
              "Autoservicio La Amistad Cooperativa de Trabajo Limitada                                   69276\n",
              "Cooperativa Obrera Limitada de Consumo y Vivienda                                         65189\n",
              "Almacenes Pampas S.A.                                                                     44809\n",
              "Almacenes de Marca S.A.                                                                   44808\n",
              "Supermercado El Nene S.A.                                                                 44804\n",
              "Cyre S.A.                                                                                 41030\n",
              "Cooperativa Agrícola Ganadera e Industrial de Patagones y Viedma LTA.                     39560\n",
              "Asociación Mutual Socios y Adherentes de la Cooperativa Agrícola de Capitán Sarmiento     23829\n",
              "California S.A.                                                                           21265\n",
              "DIA Argentina S.A                                                                         20781\n",
              "Aiello Supermercados S.A.                                                                 19912\n",
              "La Agricola Regional Cooperativa Limitada                                                 18272\n",
              "SUPERCLC S.A.                                                                             18123\n",
              "Miguel Becerra S.A.                                                                       16352\n",
              "Dinosaurio S.A.                                                                           14666\n",
              "Supermercados Toledo S.A.                                                                 12111\n",
              "Josimar S.A.                                                                              10187\n",
              "Farmacity S.A.                                                                             4127\n",
              "Mariano S.A.                                                                               3284\n",
              "Millan S.A.                                                                                2236\n",
              "Pan American Energy LLC Argentina                                                          1398\n",
              "Deheza S.A.I.C.F. e I.                                                                     1377\n",
              "Estación Lima S.A.                                                                          748\n",
              "Operadora de Estaciones de Servicios S.A.                                                   183\n",
              "Name: comercioRazonSocial, dtype: int64"
            ]
          },
          "metadata": {
            "tags": []
          },
          "execution_count": 22
        }
      ]
    },
    {
      "cell_type": "markdown",
      "metadata": {
        "id": "JD-bsOMvLPLs",
        "colab_type": "text"
      },
      "source": [
        "**d- Distribución de precios condicionada a variables categóricas**"
      ]
    },
    {
      "cell_type": "code",
      "metadata": {
        "id": "41tas2X-LPLt",
        "colab_type": "code",
        "colab": {},
        "outputId": "83b33c66-b653-464a-f18e-a15ef5f8a761"
      },
      "source": [
        "plot = pd.crosstab(index=datasetNew['region'],\n",
        "            columns=datasetNew['precio'].median()\n",
        "                  ).apply(lambda r: r/r.sum() *100,\n",
        "                          axis=0).plot(kind='bar', stacked=True)"
      ],
      "execution_count": null,
      "outputs": [
        {
          "output_type": "display_data",
          "data": {
            "image/png": "[encoded data removed]",
            "text/plain": [
              "<Figure size 432x288 with 1 Axes>"
            ]
          },
          "metadata": {
            "tags": []
          }
        }
      ]
    },
    {
      "cell_type": "markdown",
      "metadata": {
        "id": "lTK1olZOLPL0",
        "colab_type": "text"
      },
      "source": [
        "**REVISAR agregar grafica por fecha**"
      ]
    },
    {
      "cell_type": "markdown",
      "metadata": {
        "id": "b9llQ4nfLPL1",
        "colab_type": "text"
      },
      "source": [
        "**d- distribución de variables condicionadas**"
      ]
    },
    {
      "cell_type": "code",
      "metadata": {
        "id": "8ZDe0NxaLPL1",
        "colab_type": "code",
        "colab": {},
        "outputId": "fc6c3a4a-2b6a-4c2b-e59f-31d722e98fe3"
      },
      "source": [
        "plt.figure(figsize=(10,6))\n",
        "g = sns.catplot(x=\"fecha\", y=\"precio\", col=\"region\", col_wrap=3,\n",
        "                    data=datasetNew, kind=\"bar\", height=2.5, aspect=1.5, color='dodgerblue', margin_titles=False) \n",
        "plt.xticks(rotation=45)\n",
        "\n",
        "plt.show()"
      ],
      "execution_count": null,
      "outputs": [
        {
          "output_type": "display_data",
          "data": {
            "text/plain": [
              "<Figure size 720x432 with 0 Axes>"
            ]
          },
          "metadata": {
            "tags": []
          }
        },
        {
          "output_type": "display_data",
          "data": {
            "image/png": "[encoded data removed]",
            "text/plain": [
              "<Figure size 810x360 with 4 Axes>"
            ]
          },
          "metadata": {
            "tags": []
          }
        }
      ]
    },
    {
      "cell_type": "markdown",
      "metadata": {
        "id": "WMvksE_xLPL5",
        "colab_type": "text"
      },
      "source": [
        "**Identificación de un bien númerico**"
      ]
    },
    {
      "cell_type": "markdown",
      "metadata": {
        "id": "w-eepGt1LPL6",
        "colab_type": "text"
      },
      "source": [
        "A fin de poder tener una comparativa de precios relativos procederemos a identificar un producto que se encuentre en todas las regiones "
      ]
    },
    {
      "cell_type": "code",
      "metadata": {
        "id": "Kxgf7dYFLPL7",
        "colab_type": "code",
        "colab": {},
        "outputId": "c6384256-491d-4a62-9e6e-96396e982fe5"
      },
      "source": [
        "pd.Series(datasetNew[datasetNew.nombre_sin_um=='Coca Cola'].region.unique())"
      ],
      "execution_count": null,
      "outputs": [
        {
          "output_type": "execute_result",
          "data": {
            "text/plain": [
              "0            Cuyo\n",
              "1          Centro\n",
              "2    Norte Grande\n",
              "3       Patagonia\n",
              "4             NaN\n",
              "dtype: object"
            ]
          },
          "metadata": {
            "tags": []
          },
          "execution_count": 40
        }
      ]
    },
    {
      "cell_type": "code",
      "metadata": {
        "id": "vhwvAP64LPMB",
        "colab_type": "code",
        "colab": {},
        "outputId": "7affba33-1e41-45e3-db5f-05225f2d0e23"
      },
      "source": [
        "#datasetNew[(datasetNew.nombre_sin_um=='Coca Cola') & (datasetNew.sucursal_id=='10-1-29')]\n",
        "datasetNew[(datasetNew.producto_id=='7790895000430') & (datasetNew.region=='Cuyo')]"
      ],
      "execution_count": null,
      "outputs": [
        {
          "output_type": "execute_result",
          "data": {
            "text/html": [
              "<div>\n",
              "<style scoped>\n",
              "    .dataframe tbody tr th:only-of-type {\n",
              "        vertical-align: middle;\n",
              "    }\n",
              "\n",
              "    .dataframe tbody tr th {\n",
              "        vertical-align: top;\n",
              "    }\n",
              "\n",
              "    .dataframe thead th {\n",
              "        text-align: right;\n",
              "    }\n",
              "</style>\n",
              "<table border=\"1\" class=\"dataframe\">\n",
              "  <thead>\n",
              "    <tr style=\"text-align: right;\">\n",
              "      <th></th>\n",
              "      <th>fecha</th>\n",
              "      <th>sucursal_id</th>\n",
              "      <th>producto_id</th>\n",
              "      <th>nombre_sin_um</th>\n",
              "      <th>localidad</th>\n",
              "      <th>nom_provincia</th>\n",
              "      <th>region</th>\n",
              "      <th>comercioRazonSocial</th>\n",
              "      <th>presentacion</th>\n",
              "      <th>precio</th>\n",
              "    </tr>\n",
              "  </thead>\n",
              "  <tbody>\n",
              "    <tr>\n",
              "      <th>205183</th>\n",
              "      <td>20200412</td>\n",
              "      <td>10-1-29</td>\n",
              "      <td>7790895000430</td>\n",
              "      <td>Coca Cola</td>\n",
              "      <td>Mendoza</td>\n",
              "      <td>Mendoza</td>\n",
              "      <td>Cuyo</td>\n",
              "      <td>INC S.A.</td>\n",
              "      <td>1.5 lt</td>\n",
              "      <td>100.0</td>\n",
              "    </tr>\n",
              "    <tr>\n",
              "      <th>205188</th>\n",
              "      <td>20200412</td>\n",
              "      <td>10-2-286</td>\n",
              "      <td>7790895000430</td>\n",
              "      <td>Coca Cola</td>\n",
              "      <td>Tupungato</td>\n",
              "      <td>Mendoza</td>\n",
              "      <td>Cuyo</td>\n",
              "      <td>INC S.A.</td>\n",
              "      <td>1.5 lt</td>\n",
              "      <td>100.0</td>\n",
              "    </tr>\n",
              "    <tr>\n",
              "      <th>205190</th>\n",
              "      <td>20200412</td>\n",
              "      <td>11-2-1015</td>\n",
              "      <td>7790895000430</td>\n",
              "      <td>Coca Cola</td>\n",
              "      <td>MAIPU</td>\n",
              "      <td>Mendoza</td>\n",
              "      <td>Cuyo</td>\n",
              "      <td>Wal Mart Argentina S.R.L.</td>\n",
              "      <td>1.5 lt</td>\n",
              "      <td>100.0</td>\n",
              "    </tr>\n",
              "    <tr>\n",
              "      <th>205198</th>\n",
              "      <td>20200412</td>\n",
              "      <td>11-5-3613</td>\n",
              "      <td>7790895000430</td>\n",
              "      <td>Coca Cola</td>\n",
              "      <td>VILLANUEVA</td>\n",
              "      <td>Mendoza</td>\n",
              "      <td>Cuyo</td>\n",
              "      <td>Wal Mart Argentina S.R.L.</td>\n",
              "      <td>1.5 lt</td>\n",
              "      <td>100.0</td>\n",
              "    </tr>\n",
              "    <tr>\n",
              "      <th>205200</th>\n",
              "      <td>20200412</td>\n",
              "      <td>12-1-209</td>\n",
              "      <td>7790895000430</td>\n",
              "      <td>Coca Cola</td>\n",
              "      <td>Mendoza</td>\n",
              "      <td>Mendoza</td>\n",
              "      <td>Cuyo</td>\n",
              "      <td>Coto Centro Integral de Comercialización S.A.</td>\n",
              "      <td>1.5 lt</td>\n",
              "      <td>100.0</td>\n",
              "    </tr>\n",
              "    <tr>\n",
              "      <th>205208</th>\n",
              "      <td>20200412</td>\n",
              "      <td>16-1-1402</td>\n",
              "      <td>7790895000430</td>\n",
              "      <td>Coca Cola</td>\n",
              "      <td>Godoy Cruz</td>\n",
              "      <td>Mendoza</td>\n",
              "      <td>Cuyo</td>\n",
              "      <td>Libertad S.A</td>\n",
              "      <td>1.5 lt</td>\n",
              "      <td>100.0</td>\n",
              "    </tr>\n",
              "    <tr>\n",
              "      <th>205210</th>\n",
              "      <td>20200412</td>\n",
              "      <td>18-1-6</td>\n",
              "      <td>7790895000430</td>\n",
              "      <td>Coca Cola</td>\n",
              "      <td>Juana Koslay</td>\n",
              "      <td>San Luis</td>\n",
              "      <td>Cuyo</td>\n",
              "      <td>Aiello Supermercados S.A.</td>\n",
              "      <td>1.5 lt</td>\n",
              "      <td>100.0</td>\n",
              "    </tr>\n",
              "    <tr>\n",
              "      <th>205238</th>\n",
              "      <td>20200412</td>\n",
              "      <td>9-1-868</td>\n",
              "      <td>7790895000430</td>\n",
              "      <td>Coca Cola</td>\n",
              "      <td>SAN RAFAEL</td>\n",
              "      <td>Mendoza</td>\n",
              "      <td>Cuyo</td>\n",
              "      <td>Jumbo Retail Argentina S.A.</td>\n",
              "      <td>1.5 lt</td>\n",
              "      <td>100.0</td>\n",
              "    </tr>\n",
              "    <tr>\n",
              "      <th>205242</th>\n",
              "      <td>20200412</td>\n",
              "      <td>9-3-5222</td>\n",
              "      <td>7790895000430</td>\n",
              "      <td>Coca Cola</td>\n",
              "      <td>GODOY CRUZ</td>\n",
              "      <td>Mendoza</td>\n",
              "      <td>Cuyo</td>\n",
              "      <td>Jumbo Retail Argentina S.A.</td>\n",
              "      <td>1.5 lt</td>\n",
              "      <td>100.0</td>\n",
              "    </tr>\n",
              "    <tr>\n",
              "      <th>672090</th>\n",
              "      <td>20200419</td>\n",
              "      <td>18-1-5</td>\n",
              "      <td>7790895000430</td>\n",
              "      <td>Coca Cola</td>\n",
              "      <td>San Luis</td>\n",
              "      <td>San Luis</td>\n",
              "      <td>Cuyo</td>\n",
              "      <td>Aiello Supermercados S.A.</td>\n",
              "      <td>1.5 lt</td>\n",
              "      <td>100.0</td>\n",
              "    </tr>\n",
              "    <tr>\n",
              "      <th>1138959</th>\n",
              "      <td>20200426</td>\n",
              "      <td>18-1-6</td>\n",
              "      <td>7790895000430</td>\n",
              "      <td>Coca Cola</td>\n",
              "      <td>Juana Koslay</td>\n",
              "      <td>San Luis</td>\n",
              "      <td>Cuyo</td>\n",
              "      <td>Aiello Supermercados S.A.</td>\n",
              "      <td>1.5 lt</td>\n",
              "      <td>100.0</td>\n",
              "    </tr>\n",
              "    <tr>\n",
              "      <th>1138962</th>\n",
              "      <td>20200426</td>\n",
              "      <td>19-1-02697</td>\n",
              "      <td>7790895000430</td>\n",
              "      <td>Coca Cola</td>\n",
              "      <td>USPALLATA</td>\n",
              "      <td>Mendoza</td>\n",
              "      <td>Cuyo</td>\n",
              "      <td>Operadora de Estaciones de Servicios S.A.</td>\n",
              "      <td>1.5 lt</td>\n",
              "      <td>129.0</td>\n",
              "    </tr>\n",
              "    <tr>\n",
              "      <th>1582861</th>\n",
              "      <td>20200502</td>\n",
              "      <td>10-1-235</td>\n",
              "      <td>7790895000430</td>\n",
              "      <td>Coca Cola</td>\n",
              "      <td>Villa Mercedes</td>\n",
              "      <td>San Luis</td>\n",
              "      <td>Cuyo</td>\n",
              "      <td>INC S.A.</td>\n",
              "      <td>1.5 lt</td>\n",
              "      <td>100.0</td>\n",
              "    </tr>\n",
              "    <tr>\n",
              "      <th>1582863</th>\n",
              "      <td>20200502</td>\n",
              "      <td>10-2-137</td>\n",
              "      <td>7790895000430</td>\n",
              "      <td>Coca Cola</td>\n",
              "      <td>San Luis</td>\n",
              "      <td>San Luis</td>\n",
              "      <td>Cuyo</td>\n",
              "      <td>INC S.A.</td>\n",
              "      <td>1.5 lt</td>\n",
              "      <td>100.0</td>\n",
              "    </tr>\n",
              "    <tr>\n",
              "      <th>1582870</th>\n",
              "      <td>20200502</td>\n",
              "      <td>16-1-1402</td>\n",
              "      <td>7790895000430</td>\n",
              "      <td>Coca Cola</td>\n",
              "      <td>Godoy Cruz</td>\n",
              "      <td>Mendoza</td>\n",
              "      <td>Cuyo</td>\n",
              "      <td>Libertad S.A</td>\n",
              "      <td>1.5 lt</td>\n",
              "      <td>100.0</td>\n",
              "    </tr>\n",
              "    <tr>\n",
              "      <th>1582905</th>\n",
              "      <td>20200502</td>\n",
              "      <td>9-1-860</td>\n",
              "      <td>7790895000430</td>\n",
              "      <td>Coca Cola</td>\n",
              "      <td>SAN LUIS</td>\n",
              "      <td>San Luis</td>\n",
              "      <td>Cuyo</td>\n",
              "      <td>Jumbo Retail Argentina S.A.</td>\n",
              "      <td>1.5 lt</td>\n",
              "      <td>100.0</td>\n",
              "    </tr>\n",
              "    <tr>\n",
              "      <th>1582909</th>\n",
              "      <td>20200502</td>\n",
              "      <td>9-3-5222</td>\n",
              "      <td>7790895000430</td>\n",
              "      <td>Coca Cola</td>\n",
              "      <td>GODOY CRUZ</td>\n",
              "      <td>Mendoza</td>\n",
              "      <td>Cuyo</td>\n",
              "      <td>Jumbo Retail Argentina S.A.</td>\n",
              "      <td>1.5 lt</td>\n",
              "      <td>100.0</td>\n",
              "    </tr>\n",
              "    <tr>\n",
              "      <th>1987272</th>\n",
              "      <td>20200518</td>\n",
              "      <td>11-5-3613</td>\n",
              "      <td>7790895000430</td>\n",
              "      <td>Coca Cola</td>\n",
              "      <td>VILLANUEVA</td>\n",
              "      <td>Mendoza</td>\n",
              "      <td>Cuyo</td>\n",
              "      <td>Wal Mart Argentina S.R.L.</td>\n",
              "      <td>1.5 lt</td>\n",
              "      <td>100.0</td>\n",
              "    </tr>\n",
              "    <tr>\n",
              "      <th>1987273</th>\n",
              "      <td>20200518</td>\n",
              "      <td>12-1-209</td>\n",
              "      <td>7790895000430</td>\n",
              "      <td>Coca Cola</td>\n",
              "      <td>Mendoza</td>\n",
              "      <td>Mendoza</td>\n",
              "      <td>Cuyo</td>\n",
              "      <td>Coto Centro Integral de Comercialización S.A.</td>\n",
              "      <td>1.5 lt</td>\n",
              "      <td>100.0</td>\n",
              "    </tr>\n",
              "    <tr>\n",
              "      <th>1987281</th>\n",
              "      <td>20200518</td>\n",
              "      <td>16-1-1402</td>\n",
              "      <td>7790895000430</td>\n",
              "      <td>Coca Cola</td>\n",
              "      <td>Godoy Cruz</td>\n",
              "      <td>Mendoza</td>\n",
              "      <td>Cuyo</td>\n",
              "      <td>Libertad S.A</td>\n",
              "      <td>1.5 lt</td>\n",
              "      <td>100.0</td>\n",
              "    </tr>\n",
              "  </tbody>\n",
              "</table>\n",
              "</div>"
            ],
            "text/plain": [
              "            fecha sucursal_id    producto_id nombre_sin_um       localidad  \\\n",
              "205183   20200412     10-1-29  7790895000430     Coca Cola         Mendoza   \n",
              "205188   20200412    10-2-286  7790895000430     Coca Cola       Tupungato   \n",
              "205190   20200412   11-2-1015  7790895000430     Coca Cola           MAIPU   \n",
              "205198   20200412   11-5-3613  7790895000430     Coca Cola      VILLANUEVA   \n",
              "205200   20200412    12-1-209  7790895000430     Coca Cola         Mendoza   \n",
              "205208   20200412   16-1-1402  7790895000430     Coca Cola      Godoy Cruz   \n",
              "205210   20200412      18-1-6  7790895000430     Coca Cola    Juana Koslay   \n",
              "205238   20200412     9-1-868  7790895000430     Coca Cola      SAN RAFAEL   \n",
              "205242   20200412    9-3-5222  7790895000430     Coca Cola      GODOY CRUZ   \n",
              "672090   20200419      18-1-5  7790895000430     Coca Cola        San Luis   \n",
              "1138959  20200426      18-1-6  7790895000430     Coca Cola    Juana Koslay   \n",
              "1138962  20200426  19-1-02697  7790895000430     Coca Cola       USPALLATA   \n",
              "1582861  20200502    10-1-235  7790895000430     Coca Cola  Villa Mercedes   \n",
              "1582863  20200502    10-2-137  7790895000430     Coca Cola        San Luis   \n",
              "1582870  20200502   16-1-1402  7790895000430     Coca Cola      Godoy Cruz   \n",
              "1582905  20200502     9-1-860  7790895000430     Coca Cola        SAN LUIS   \n",
              "1582909  20200502    9-3-5222  7790895000430     Coca Cola      GODOY CRUZ   \n",
              "1987272  20200518   11-5-3613  7790895000430     Coca Cola      VILLANUEVA   \n",
              "1987273  20200518    12-1-209  7790895000430     Coca Cola         Mendoza   \n",
              "1987281  20200518   16-1-1402  7790895000430     Coca Cola      Godoy Cruz   \n",
              "\n",
              "        nom_provincia region                            comercioRazonSocial  \\\n",
              "205183        Mendoza   Cuyo                                       INC S.A.   \n",
              "205188        Mendoza   Cuyo                                       INC S.A.   \n",
              "205190        Mendoza   Cuyo                      Wal Mart Argentina S.R.L.   \n",
              "205198        Mendoza   Cuyo                      Wal Mart Argentina S.R.L.   \n",
              "205200        Mendoza   Cuyo  Coto Centro Integral de Comercialización S.A.   \n",
              "205208        Mendoza   Cuyo                                   Libertad S.A   \n",
              "205210       San Luis   Cuyo                      Aiello Supermercados S.A.   \n",
              "205238        Mendoza   Cuyo                    Jumbo Retail Argentina S.A.   \n",
              "205242        Mendoza   Cuyo                    Jumbo Retail Argentina S.A.   \n",
              "672090       San Luis   Cuyo                      Aiello Supermercados S.A.   \n",
              "1138959      San Luis   Cuyo                      Aiello Supermercados S.A.   \n",
              "1138962       Mendoza   Cuyo      Operadora de Estaciones de Servicios S.A.   \n",
              "1582861      San Luis   Cuyo                                       INC S.A.   \n",
              "1582863      San Luis   Cuyo                                       INC S.A.   \n",
              "1582870       Mendoza   Cuyo                                   Libertad S.A   \n",
              "1582905      San Luis   Cuyo                    Jumbo Retail Argentina S.A.   \n",
              "1582909       Mendoza   Cuyo                    Jumbo Retail Argentina S.A.   \n",
              "1987272       Mendoza   Cuyo                      Wal Mart Argentina S.R.L.   \n",
              "1987273       Mendoza   Cuyo  Coto Centro Integral de Comercialización S.A.   \n",
              "1987281       Mendoza   Cuyo                                   Libertad S.A   \n",
              "\n",
              "        presentacion  precio  \n",
              "205183        1.5 lt   100.0  \n",
              "205188        1.5 lt   100.0  \n",
              "205190        1.5 lt   100.0  \n",
              "205198        1.5 lt   100.0  \n",
              "205200        1.5 lt   100.0  \n",
              "205208        1.5 lt   100.0  \n",
              "205210        1.5 lt   100.0  \n",
              "205238        1.5 lt   100.0  \n",
              "205242        1.5 lt   100.0  \n",
              "672090        1.5 lt   100.0  \n",
              "1138959       1.5 lt   100.0  \n",
              "1138962       1.5 lt   129.0  \n",
              "1582861       1.5 lt   100.0  \n",
              "1582863       1.5 lt   100.0  \n",
              "1582870       1.5 lt   100.0  \n",
              "1582905       1.5 lt   100.0  \n",
              "1582909       1.5 lt   100.0  \n",
              "1987272       1.5 lt   100.0  \n",
              "1987273       1.5 lt   100.0  \n",
              "1987281       1.5 lt   100.0  "
            ]
          },
          "metadata": {
            "tags": []
          },
          "execution_count": 91
        }
      ]
    },
    {
      "cell_type": "code",
      "metadata": {
        "id": "ERYoph3GLPMF",
        "colab_type": "code",
        "colab": {},
        "outputId": "127a2f36-0341-4ec2-b2b8-e01353103869"
      },
      "source": [
        "bin_numerico=datasetNew[(datasetNew.producto_id=='7790895000430') & (datasetNew.region=='Cuyo')].median()\n",
        "bien_numerico"
      ],
      "execution_count": null,
      "outputs": [
        {
          "output_type": "execute_result",
          "data": {
            "text/plain": [
              "100.0"
            ]
          },
          "metadata": {
            "tags": []
          },
          "execution_count": 93
        }
      ]
    },
    {
      "cell_type": "code",
      "metadata": {
        "id": "mtSYSr8DLPMJ",
        "colab_type": "code",
        "colab": {},
        "outputId": "dc086eb3-8e70-435a-a30c-36128dd120ca"
      },
      "source": [
        "bien_numerico=datasetNew[(datasetNew['producto_id']=='7790895000430') & (datasetNew.sucursal_id=='10-1-29')].precio.max()\n",
        "#datasetNew=datasetNew.assign(precio_relativo=datasetNew.precio/bien_numerico)\n",
        "#datasetNew.sample(5)\n",
        "bien_numerico"
      ],
      "execution_count": null,
      "outputs": [
        {
          "output_type": "execute_result",
          "data": {
            "text/plain": [
              "100.0"
            ]
          },
          "metadata": {
            "tags": []
          },
          "execution_count": 82
        }
      ]
    },
    {
      "cell_type": "code",
      "metadata": {
        "id": "4b71BD6BLPMN",
        "colab_type": "code",
        "colab": {}
      },
      "source": [
        ""
      ],
      "execution_count": null,
      "outputs": []
    }
  ]
}