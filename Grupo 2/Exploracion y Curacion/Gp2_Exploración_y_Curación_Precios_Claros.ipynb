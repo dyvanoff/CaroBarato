{
  "nbformat": 4,
  "nbformat_minor": 0,
  "metadata": {
    "kernelspec": {
      "display_name": "Python 3",
      "language": "python",
      "name": "python3"
    },
    "language_info": {
      "codemirror_mode": {
        "name": "ipython",
        "version": 3
      },
      "file_extension": ".py",
      "mimetype": "text/x-python",
      "name": "python",
      "nbconvert_exporter": "python",
      "pygments_lexer": "ipython3",
      "version": "3.6.4"
    },
    "colab": {
      "name": "Gp2_Exploración y Curación - Precios Claros.ipynb",
      "provenance": [],
      "collapsed_sections": []
    }
  },
  "cells": [
    {
      "cell_type": "markdown",
      "metadata": {
        "id": "8LikpQdkTIrl"
      },
      "source": [
        "<center>\n",
        "<h4>Diplomatura en CDAAyA 2020 - FaMAF - UNC</h4>\n",
        "<h1>¿Caro o Barato? Análisis de Precios de Almacen en un Contexto Inflacionario</h1>\n",
        "<h3>Exploración y Curación</h3>\n",
        "</center>\n",
        "</left>\n",
        "<h4>Sofía Luján y Julieta Bergamasco</h4>\n",
        "</left>"
      ]
    },
    {
      "cell_type": "markdown",
      "metadata": {
        "id": "6X6V6t7fTqYa"
      },
      "source": [
        "__[Proyecto para Mentoría](https://sites.google.com/view/mentorias2020-diplodatos/caro-o-barato-an%C3%A1lisis-de-precios-de-almac%C3%A9n-en-un-contexto-inflacionari?authuser=0)__\n"
      ]
    },
    {
      "cell_type": "markdown",
      "metadata": {
        "id": "9VnVIUouTIrm"
      },
      "source": [
        "### Introducción\n",
        "\n",
        "En la siguiente notebook, se presentará la consigna a seguir para el segundo práctico de la materia Exploración y Curación. El objetivo consiste en identificar e implementar los pasos necesarios para la limpieza de la base de datos, así como también analizar cruces de datos con mayor profundidad y validando el sentido lógico. Para ello, comenzaremos con las importaciones pertinentes."
      ]
    },
    {
      "cell_type": "code",
      "metadata": {
        "id": "HrvMuaw6PLl8"
      },
      "source": [
        ""
      ],
      "execution_count": null,
      "outputs": []
    },
    {
      "cell_type": "markdown",
      "metadata": {
        "id": "C6oU52COTIrn"
      },
      "source": [
        "### Importaciones"
      ]
    },
    {
      "cell_type": "code",
      "metadata": {
        "id": "_1R-vjwDXOxx"
      },
      "source": [
        "##from google.colab import drive\n",
        "##drive.mount('/content/drive')"
      ],
      "execution_count": null,
      "outputs": []
    },
    {
      "cell_type": "code",
      "metadata": {
        "id": "3H0TW11rTIrn"
      },
      "source": [
        "# Importación de las librerías necesarias\n",
        "import numpy as np\n",
        "import pandas as pd\n",
        "from io import StringIO\n",
        "# Puede que nos sirvan también\n",
        "import matplotlib as mpl\n",
        "mpl.get_cachedir()\n",
        "import matplotlib.pyplot as plt\n",
        "%matplotlib inline\n",
        "import seaborn as sns\n",
        "import plotly.express as px\n",
        "import re"
      ],
      "execution_count": null,
      "outputs": []
    },
    {
      "cell_type": "code",
      "metadata": {
        "id": "OQiPfBqOTIrr"
      },
      "source": [
        "pd.set_option('display.max_columns', 150)\n",
        "pd.set_option('display.max_rows', 150)\n",
        "pd.set_option('max_colwidth', 151)"
      ],
      "execution_count": null,
      "outputs": []
    },
    {
      "cell_type": "markdown",
      "metadata": {
        "id": "jrCz8uIrTIru"
      },
      "source": [
        "## Consigna para Curación y Exploración del Dataset"
      ]
    },
    {
      "cell_type": "markdown",
      "metadata": {
        "id": "3Jq6BWLWTIru"
      },
      "source": [
        "### I. Rutina de Curación\n",
        "\n",
        "Inicialmente, con el objetivo de preparar los datos que alimentarán futuros modelos de aprendizaje automático (ML), se propone seguir la siguiente __[checklist](https://dimewiki.worldbank.org/wiki/Checklist:_Data_Cleaning)__ para la limpieza de los datos de nuestro proyecto. Esta _checklist_ es la misma que utilizaron en el primer práctico de la materia y nos será de utilidad como guía para curar el dataset. A modo de ayuda, **en esta notebook encontrarán una especie de template** que sigue la _checklist_ y que deberán ir completando. **Cada decisión tomada deberá quedar registrada de manera explícita y clara.**\n",
        "\n",
        "A los fines de realizar este práctico, se utilizará el dataset original. Es decir, por un lado, los 5 archivos de precios (que sí podemos unirlos para hacer la limpieza, ya que tienen la misma estructura), y, por otro lado, el txt de sucursales y el txt de productos. Cerca del final del procesamiento, se realizará el mismo join aplicado para obtener el dataset completo, con la misma estructura que el que utilizaron en el práctico de A&V. Además, se crearán nuevas features cuando lo consideren pertinente.\n",
        "\n",
        "Recuerden que la ciencia de datos es un **proceso circular y continuo, no lineal**. Es decir, si los datos requieren de mayor procesamiento para satisfacer las necesidades de algoritmos de ML (cualesquiera de ellos), vamos a volver a la etapa inicial para, por ejemplo, crear nuevas features, tomar decisiones diferentes sobre valores faltantes o valores atípicos (outliers), descartar features, entre otras."
      ]
    },
    {
      "cell_type": "markdown",
      "metadata": {
        "id": "gPc0q2Q-CWdC"
      },
      "source": [
        ""
      ]
    },
    {
      "cell_type": "markdown",
      "metadata": {
        "id": "d2F-du9PTIrv"
      },
      "source": [
        "II. Análisis en Profundidad del Contenido\n",
        "\n",
        "Una vez aplicada la _Checklist_, lo que vamos a hacer es profundizar aún más el análisis y tomar decisiones que se consideren pertinentes, si es que no lo han hecho aún en el desarrollo del primer apartado. Por supuesto, se deberán registrar todas las decisiones que tomen al respecto.\n",
        "\n",
        "Al finalizar con el práctico, las preguntas o consignas listadas a continuación deberán quedar respondidas, mientras que si ya lo hicieron durante el desarrollo de la _checklist_, el objetivo es que se replanteen las decisiones tomadas al respecto:\n",
        "\n",
        "1. Todas las variables tienen el tipo apropiado? Analizar las features con tipo `Objeto`. Qué decisiones tomarán al respecto?\n",
        "\n",
        "2. Todos los `producto_id` en el dataset de precios se encuentran en la entidad de productos? Tomamos decisiones al respecto?\n",
        "\n",
        "3. Todos los `sucursal_id` en el dataset de precios se encuentran en la entidad de sucursales? Tomamos decisiones al respecto?\n",
        "\n",
        "4. Cuántos precios reporta cada sucursal? Todas las sucursales reportan precios en todas las fechas?\n",
        "\n",
        "Gran parte (la mayoría) de las variables del dataset son categóricas y podemos trabajar muchas features antes de unir los datos.\n",
        "\n",
        "5. En el dataset de **productos**:\n",
        "\n",
        "    5.1. `presentacion`: a partir de esta característica, crear nuevas columnas que separen `cantidad` y `um`. Homogeneizar unidades de medida, al máximo posible, y crear nueva columna para indicar `um_homogenea` y el `factor` que sería necesario para homogeneizar el precio de esa presentación. A partir de `um_homogenea`, crear variables dummies (_Tip: Pueden usar pd.get_dummies()_).\n",
        "\n",
        "    5.2. `nombre`: crear una nueva columna con el `nombre_depurado`. Esto es, llevar todo a minúsculas, quitar signos de puntuación, quitar unidad de medida, identificar dígitos numéricos. Utilizando esta columna, `nombre_depurado`, tokenizar los nombres y obtener las palabras más fecuentes. Eliminar palabras muy frecuentes en nombres que no nos dicen nada (‘de’, ‘en’, ‘con’, ‘para’, ‘la’, ‘el’, ‘&’, etc.). Convertir las **n** palabras más frecuentes en dummies. **n** es una decisión que deberán adoptar (_Tip: Pueden usar Series.str.find()_). Evaluar la posibilidad de crear una dummy `otras_palabras`, para aquellos nombres que contienen palabras poco frecuentes no incluidas.\n",
        "\n",
        "    5.3. `marca`: obtener las **n** marcas más frecuentes y crear un nuevo campo 'marca_frecuente' que tenga la marca original si es de las más frecuentes y la categoría `OTRA` para aquellas menos frecuentes. Crear dummies a partir de este campo. _(Una opción viable podría ser unir el nombre con la marca en un campo y luego depurar las palabras duplicadas que queden en el nombre+marca. Cualquier otra técnica que se les ocurra puede ser válida)_\n",
        "\n",
        "6. En el dataset de **sucursales**:\n",
        "\n",
        "    6.1. `provincia` o `nom_provincia`: a partir de esta característica, crear las variables dummies correspondientes.\n",
        "\n",
        "    6.2. `tipoSucursal`: a partir de esta característica, crear las variables dummies correspondientes.\n",
        "\n",
        "    6.3. `banderaDescripcion`: a partir de esta característica, crear las variables dummies correspondientes. La misma descripción de sucursal tiene siempre el mismo tipo? En qué afecta esto?\n",
        "\n",
        "7. Unir los precios con las entidades de productos y sucursales para obtener un dataset unificado y limpio. A partir del `precio` y del `factor`, crear el `precio_homogeneo`. **Volver a analizar outliers.**\n",
        "\n",
        "8. Crear el `precio_relativo`, de acuerdo al producto seleccionado y la metodología implementada en el práctico de A&V.\n",
        "\n",
        "Esta lista es extensa e intenta abarcar todas las posibles irregularidades en los datos, pero puede no ser exhaustiva. **Cualquier análisis adicional de consistencia que deseen agregar porque lo consideran pertinente, será bienvenido y valorado.**\n",
        "\n",
        "Luego de pasar por todos los puntos de la _checklist_ propuesta y las consignas, deberán **almacenar en un nuevo archivo los datos resultantes luego de hacer los joins correspondientes**."
      ]
    },
    {
      "cell_type": "markdown",
      "metadata": {
        "id": "jExtswFRTIrw"
      },
      "source": [
        "### Entregables\n",
        "\n",
        "Los entregables de este práctico consisten en:\n",
        "- **Esta misma Notebook, pero con la _checklist_ aplicada y el análisis de contenido completo**, explicando las decisiones tomadas en cada etapa.\n",
        "- Además, deberán elaborar un **script** que contenga una función (o varias) para curar nuevos datos con la misma estructura.\n",
        "- Finalmente, resumir las principales decisiones y conclusiones en un **documento de texto** (como para ir completando el informe, que formará parte de la presentación final).\n",
        "\n",
        "**Fecha de Entrega: 27/07**"
      ]
    },
    {
      "cell_type": "markdown",
      "metadata": {
        "id": "E3YGAZniTIrw"
      },
      "source": [
        "# Resolución"
      ]
    },
    {
      "cell_type": "markdown",
      "metadata": {
        "id": "CLKQJwrUZjDP"
      },
      "source": [
        "## I. Rutina de Curación"
      ]
    },
    {
      "cell_type": "markdown",
      "metadata": {
        "id": "jADbSl0fTIrx"
      },
      "source": [
        "### 1. Importación de Datos"
      ]
    },
    {
      "cell_type": "markdown",
      "metadata": {
        "id": "1vzxWVFnZoFG"
      },
      "source": [
        "#### 1.1. Verificación de Inexistencia de Problemas en la Importación"
      ]
    },
    {
      "cell_type": "markdown",
      "metadata": {
        "id": "h4Ddif8hTIrx"
      },
      "source": [
        "Para comenzar, importamos los datos que vamos a procesar:"
      ]
    },
    {
      "cell_type": "code",
      "metadata": {
        "id": "BS7NH8b3lifA",
        "outputId": "382c1842-2bc1-4921-e9d8-ad4eb5259b09",
        "colab": {
          "base_uri": "https://localhost:8080/",
          "height": 191
        }
      },
      "source": [
        "# Por un lado, cargamos los precios y los unimos en un único dataframe\n",
        "\n",
        "\n",
        "precios_20200412_20200413 = pd.read_csv('https://raw.githubusercontent.com/solujan/mentoria_2020/master/raw_dataset/precios_20200412_20200413.csv')\n",
        "precios_20200419_20200419 = pd.read_csv('https://raw.githubusercontent.com/solujan/mentoria_2020/master/raw_dataset/precios_20200419_20200419.csv')\n",
        "precios_20200426_20200426 = pd.read_csv('https://raw.githubusercontent.com/solujan/mentoria_2020/master/raw_dataset/precios_20200426_20200426.csv')\n",
        "precios_20200502_20200503 = pd.read_csv('https://raw.githubusercontent.com/solujan/mentoria_2020/master/raw_dataset/precios_20200502_20200503.csv')\n",
        "precios_20200518_20200518 = pd.read_csv('https://raw.githubusercontent.com/solujan/mentoria_2020/master/raw_dataset/precios_20200518_20200518.csv')\n",
        "\n",
        "lista_df_px = [precios_20200412_20200413, precios_20200419_20200419, precios_20200426_20200426,\n",
        " precios_20200502_20200503, precios_20200518_20200518]\n",
        "fecha_px = ['20200412', '20200419', '20200426', '20200502', '20200518']\n",
        "\n",
        "precios = pd.DataFrame()\n",
        "for df, fecha in zip(lista_df_px, fecha_px):\n",
        "  df['fecha'] = fecha\n",
        "  precios = pd.concat([precios,df])\n",
        "\n",
        "precios.head()"
      ],
      "execution_count": null,
      "outputs": [
        {
          "output_type": "execute_result",
          "data": {
            "text/html": [
              "<div>\n",
              "<style scoped>\n",
              "    .dataframe tbody tr th:only-of-type {\n",
              "        vertical-align: middle;\n",
              "    }\n",
              "\n",
              "    .dataframe tbody tr th {\n",
              "        vertical-align: top;\n",
              "    }\n",
              "\n",
              "    .dataframe thead th {\n",
              "        text-align: right;\n",
              "    }\n",
              "</style>\n",
              "<table border=\"1\" class=\"dataframe\">\n",
              "  <thead>\n",
              "    <tr style=\"text-align: right;\">\n",
              "      <th></th>\n",
              "      <th>precio</th>\n",
              "      <th>producto_id</th>\n",
              "      <th>sucursal_id</th>\n",
              "      <th>fecha</th>\n",
              "    </tr>\n",
              "  </thead>\n",
              "  <tbody>\n",
              "    <tr>\n",
              "      <th>0</th>\n",
              "      <td>29.90</td>\n",
              "      <td>0000000001663</td>\n",
              "      <td>2-1-014</td>\n",
              "      <td>20200412</td>\n",
              "    </tr>\n",
              "    <tr>\n",
              "      <th>1</th>\n",
              "      <td>29.90</td>\n",
              "      <td>0000000002288</td>\n",
              "      <td>2-1-032</td>\n",
              "      <td>20200412</td>\n",
              "    </tr>\n",
              "    <tr>\n",
              "      <th>2</th>\n",
              "      <td>39.90</td>\n",
              "      <td>0000000002288</td>\n",
              "      <td>2-1-096</td>\n",
              "      <td>20200412</td>\n",
              "    </tr>\n",
              "    <tr>\n",
              "      <th>3</th>\n",
              "      <td>499.99</td>\n",
              "      <td>0000000205870</td>\n",
              "      <td>9-1-686</td>\n",
              "      <td>20200412</td>\n",
              "    </tr>\n",
              "    <tr>\n",
              "      <th>4</th>\n",
              "      <td>519.99</td>\n",
              "      <td>0000000205870</td>\n",
              "      <td>9-2-248</td>\n",
              "      <td>20200412</td>\n",
              "    </tr>\n",
              "  </tbody>\n",
              "</table>\n",
              "</div>"
            ],
            "text/plain": [
              "   precio    producto_id sucursal_id     fecha\n",
              "0   29.90  0000000001663     2-1-014  20200412\n",
              "1   29.90  0000000002288     2-1-032  20200412\n",
              "2   39.90  0000000002288     2-1-096  20200412\n",
              "3  499.99  0000000205870     9-1-686  20200412\n",
              "4  519.99  0000000205870     9-2-248  20200412"
            ]
          },
          "metadata": {
            "tags": []
          },
          "execution_count": 6
        }
      ]
    },
    {
      "cell_type": "code",
      "metadata": {
        "id": "3oHAwM4-nXeA"
      },
      "source": [
        "precios.shape"
      ],
      "execution_count": null,
      "outputs": []
    },
    {
      "cell_type": "code",
      "metadata": {
        "id": "mlouibKc71i5",
        "outputId": "189bd950-8df8-4fcc-973b-e1948ba50db9",
        "colab": {
          "base_uri": "https://localhost:8080/"
        }
      },
      "source": [
        "##Con esto compruebo que tengo la misma cantidad de registros en cada columna que  tengo 71723 productos, 5 fechas y 513 sucursales utilizadas en estas fechas.\n",
        "precios.describe(include=['object'])"
      ],
      "execution_count": null,
      "outputs": [
        {
          "output_type": "execute_result",
          "data": {
            "text/html": [
              "<div>\n",
              "<style scoped>\n",
              "    .dataframe tbody tr th:only-of-type {\n",
              "        vertical-align: middle;\n",
              "    }\n",
              "\n",
              "    .dataframe tbody tr th {\n",
              "        vertical-align: top;\n",
              "    }\n",
              "\n",
              "    .dataframe thead th {\n",
              "        text-align: right;\n",
              "    }\n",
              "</style>\n",
              "<table border=\"1\" class=\"dataframe\">\n",
              "  <thead>\n",
              "    <tr style=\"text-align: right;\">\n",
              "      <th></th>\n",
              "      <th>producto_id</th>\n",
              "      <th>sucursal_id</th>\n",
              "      <th>fecha</th>\n",
              "    </tr>\n",
              "  </thead>\n",
              "  <tbody>\n",
              "    <tr>\n",
              "      <th>count</th>\n",
              "      <td>2222418</td>\n",
              "      <td>2222418</td>\n",
              "      <td>2222418</td>\n",
              "    </tr>\n",
              "    <tr>\n",
              "      <th>unique</th>\n",
              "      <td>71723</td>\n",
              "      <td>513</td>\n",
              "      <td>5</td>\n",
              "    </tr>\n",
              "    <tr>\n",
              "      <th>top</th>\n",
              "      <td>7793100111563</td>\n",
              "      <td>49-1-2</td>\n",
              "      <td>20200426</td>\n",
              "    </tr>\n",
              "    <tr>\n",
              "      <th>freq</th>\n",
              "      <td>545</td>\n",
              "      <td>75516</td>\n",
              "      <td>478909</td>\n",
              "    </tr>\n",
              "  </tbody>\n",
              "</table>\n",
              "</div>"
            ],
            "text/plain": [
              "          producto_id sucursal_id     fecha\n",
              "count         2222418     2222418   2222418\n",
              "unique          71723         513         5\n",
              "top     7793100111563      49-1-2  20200426\n",
              "freq              545       75516    478909"
            ]
          },
          "metadata": {
            "tags": []
          },
          "execution_count": 366
        }
      ]
    },
    {
      "cell_type": "code",
      "metadata": {
        "id": "ibU2Ovmp8cbZ"
      },
      "source": [
        ""
      ],
      "execution_count": null,
      "outputs": []
    },
    {
      "cell_type": "code",
      "metadata": {
        "id": "_1dkVKshTIr2"
      },
      "source": [
        "# Cargamos los txt de productos y sucursales, para tener la información de cada campo\n",
        "producto_url = 'https://raw.githubusercontent.com/solujan/mentoria_2020/master/raw_dataset/productos.csv'\n",
        "productos = pd.read_csv(producto_url)\n",
        "sucursal_url = 'https://raw.githubusercontent.com/solujan/mentoria_2020/master/raw_dataset/sucursales.csv'\n",
        "sucursales = pd.read_csv(sucursal_url)"
      ],
      "execution_count": null,
      "outputs": []
    },
    {
      "cell_type": "code",
      "metadata": {
        "id": "iX2MuSH0mKNV"
      },
      "source": [
        "# A las sucursales, le agregamos la descripción de la provincia y la región\n",
        "provincia_txt = \"\"\"\n",
        "provincia\tnom_provincia\tregion\n",
        "AR-A\tSalta\tNorte Grande\n",
        "AR-B\tProvincia de Buenos Aires\tCentro\n",
        "AR-C\tCiudad Autónoma de Buenos Aires\tCentro\n",
        "AR-D\tSan Luis\tCuyo\n",
        "AR-E\tEntre Ríos\tCentro\n",
        "AR-F\tLa Rioja\tCuyo\n",
        "AR-G\tSantiago del Estero\tNorte Grande\n",
        "AR-H\tChaco\tNorte Grande\n",
        "AR-J\tSan Juan\tCuyo\n",
        "AR-K\tCatamarca\tNorte Grande\n",
        "AR-L\tLa Pampa\tCentro\n",
        "AR-M\tMendoza\tCuyo\n",
        "AR-N\tMisiones\tNorte Grande\n",
        "AR-P\tFormosa\tNorte Grande\n",
        "AR-Q\tNeuquén\tPatagonia\n",
        "AR-R\tRío Negro\tPatagonia\n",
        "AR-S\tSanta Fe\tCentro\n",
        "AR-T\tTucumán\tNorte Grande\n",
        "AR-U\tChubut\tPatagonia\n",
        "AR-V\tTierra del Fuego\tPatagonia\n",
        "AR-W\tCorrientes\tNorte Grande\n",
        "AR-X\tCórdoba\tCentro\n",
        "AR-Y\tJujuy\tNorte Grande\n",
        "AR-Z\tSanta Cruz\tPatagonia\n",
        "\"\"\"\n",
        "provincia_csv = StringIO(provincia_txt)\n",
        "entidad_provincia = pd.read_csv(provincia_csv, sep=('\\t'))\n",
        "sucursales = sucursales.merge(entidad_provincia, on = 'provincia')"
      ],
      "execution_count": null,
      "outputs": []
    },
    {
      "cell_type": "code",
      "metadata": {
        "id": "hPaJFAgNmw2W",
        "outputId": "3c7c6b0e-c30e-437c-deab-ae243374ea8d",
        "colab": {
          "base_uri": "https://localhost:8080/"
        }
      },
      "source": [
        "sucursales.head()"
      ],
      "execution_count": null,
      "outputs": [
        {
          "output_type": "execute_result",
          "data": {
            "text/html": [
              "<div>\n",
              "<style scoped>\n",
              "    .dataframe tbody tr th:only-of-type {\n",
              "        vertical-align: middle;\n",
              "    }\n",
              "\n",
              "    .dataframe tbody tr th {\n",
              "        vertical-align: top;\n",
              "    }\n",
              "\n",
              "    .dataframe thead th {\n",
              "        text-align: right;\n",
              "    }\n",
              "</style>\n",
              "<table border=\"1\" class=\"dataframe\">\n",
              "  <thead>\n",
              "    <tr style=\"text-align: right;\">\n",
              "      <th></th>\n",
              "      <th>id</th>\n",
              "      <th>comercioId</th>\n",
              "      <th>banderaId</th>\n",
              "      <th>banderaDescripcion</th>\n",
              "      <th>comercioRazonSocial</th>\n",
              "      <th>provincia</th>\n",
              "      <th>localidad</th>\n",
              "      <th>direccion</th>\n",
              "      <th>lat</th>\n",
              "      <th>lng</th>\n",
              "      <th>sucursalNombre</th>\n",
              "      <th>sucursalTipo</th>\n",
              "      <th>nom_provincia</th>\n",
              "      <th>region</th>\n",
              "    </tr>\n",
              "  </thead>\n",
              "  <tbody>\n",
              "    <tr>\n",
              "      <th>0</th>\n",
              "      <td>1-1-7</td>\n",
              "      <td>1</td>\n",
              "      <td>1</td>\n",
              "      <td>Super MAMI</td>\n",
              "      <td>Dinosaurio S.A.</td>\n",
              "      <td>AR-X</td>\n",
              "      <td>SALSIPUEDES</td>\n",
              "      <td>E53 1011 None</td>\n",
              "      <td>-31.126667</td>\n",
              "      <td>-64.295250</td>\n",
              "      <td>Super Mami 4</td>\n",
              "      <td>Hipermercado</td>\n",
              "      <td>Córdoba</td>\n",
              "      <td>Centro</td>\n",
              "    </tr>\n",
              "    <tr>\n",
              "      <th>1</th>\n",
              "      <td>10-1-24</td>\n",
              "      <td>10</td>\n",
              "      <td>1</td>\n",
              "      <td>Hipermercado Carrefour</td>\n",
              "      <td>INC S.A.</td>\n",
              "      <td>AR-X</td>\n",
              "      <td>Jardin Espinoza</td>\n",
              "      <td>Av. O'Higgins 3765</td>\n",
              "      <td>-31.455534</td>\n",
              "      <td>-64.166095</td>\n",
              "      <td>Córdoba Jardín</td>\n",
              "      <td>Hipermercado</td>\n",
              "      <td>Córdoba</td>\n",
              "      <td>Centro</td>\n",
              "    </tr>\n",
              "    <tr>\n",
              "      <th>2</th>\n",
              "      <td>10-1-50</td>\n",
              "      <td>10</td>\n",
              "      <td>1</td>\n",
              "      <td>Hipermercado Carrefour</td>\n",
              "      <td>INC S.A.</td>\n",
              "      <td>AR-X</td>\n",
              "      <td>Quintas de Arguello</td>\n",
              "      <td>Recta Martinolli 7850</td>\n",
              "      <td>-31.346646</td>\n",
              "      <td>-64.269297</td>\n",
              "      <td>Córdoba Recta Martinolli</td>\n",
              "      <td>Hipermercado</td>\n",
              "      <td>Córdoba</td>\n",
              "      <td>Centro</td>\n",
              "    </tr>\n",
              "    <tr>\n",
              "      <th>3</th>\n",
              "      <td>10-1-54</td>\n",
              "      <td>10</td>\n",
              "      <td>1</td>\n",
              "      <td>Hipermercado Carrefour</td>\n",
              "      <td>INC S.A.</td>\n",
              "      <td>AR-X</td>\n",
              "      <td>Villa Allende Lomas</td>\n",
              "      <td>Av. Río De Janeiro 1787</td>\n",
              "      <td>-31.300019</td>\n",
              "      <td>-64.276462</td>\n",
              "      <td>Córdoba Villa Allende</td>\n",
              "      <td>Hipermercado</td>\n",
              "      <td>Córdoba</td>\n",
              "      <td>Centro</td>\n",
              "    </tr>\n",
              "    <tr>\n",
              "      <th>4</th>\n",
              "      <td>10-1-9</td>\n",
              "      <td>10</td>\n",
              "      <td>1</td>\n",
              "      <td>Hipermercado Carrefour</td>\n",
              "      <td>INC S.A.</td>\n",
              "      <td>AR-X</td>\n",
              "      <td>Villa Urquiza</td>\n",
              "      <td>Av. Colón 4880</td>\n",
              "      <td>-31.393915</td>\n",
              "      <td>-64.242835</td>\n",
              "      <td>Córdoba Colon</td>\n",
              "      <td>Hipermercado</td>\n",
              "      <td>Córdoba</td>\n",
              "      <td>Centro</td>\n",
              "    </tr>\n",
              "  </tbody>\n",
              "</table>\n",
              "</div>"
            ],
            "text/plain": [
              "        id  comercioId  banderaId      banderaDescripcion comercioRazonSocial  \\\n",
              "0    1-1-7           1          1              Super MAMI     Dinosaurio S.A.   \n",
              "1  10-1-24          10          1  Hipermercado Carrefour            INC S.A.   \n",
              "2  10-1-50          10          1  Hipermercado Carrefour            INC S.A.   \n",
              "3  10-1-54          10          1  Hipermercado Carrefour            INC S.A.   \n",
              "4   10-1-9          10          1  Hipermercado Carrefour            INC S.A.   \n",
              "\n",
              "  provincia            localidad                direccion        lat  \\\n",
              "0      AR-X          SALSIPUEDES            E53 1011 None -31.126667   \n",
              "1      AR-X      Jardin Espinoza       Av. O'Higgins 3765 -31.455534   \n",
              "2      AR-X  Quintas de Arguello    Recta Martinolli 7850 -31.346646   \n",
              "3      AR-X  Villa Allende Lomas  Av. Río De Janeiro 1787 -31.300019   \n",
              "4      AR-X        Villa Urquiza           Av. Colón 4880 -31.393915   \n",
              "\n",
              "         lng            sucursalNombre  sucursalTipo nom_provincia  region  \n",
              "0 -64.295250              Super Mami 4  Hipermercado       Córdoba  Centro  \n",
              "1 -64.166095            Córdoba Jardín  Hipermercado       Córdoba  Centro  \n",
              "2 -64.269297  Córdoba Recta Martinolli  Hipermercado       Córdoba  Centro  \n",
              "3 -64.276462     Córdoba Villa Allende  Hipermercado       Córdoba  Centro  \n",
              "4 -64.242835             Córdoba Colon  Hipermercado       Córdoba  Centro  "
            ]
          },
          "metadata": {
            "tags": []
          },
          "execution_count": 369
        }
      ]
    },
    {
      "cell_type": "code",
      "metadata": {
        "id": "7bQFbMtmncet",
        "outputId": "134040c6-109e-4e0b-e61f-6a6e04f4c0d0",
        "colab": {
          "base_uri": "https://localhost:8080/"
        }
      },
      "source": [
        "sucursales.shape"
      ],
      "execution_count": null,
      "outputs": [
        {
          "output_type": "execute_result",
          "data": {
            "text/plain": [
              "(2333, 14)"
            ]
          },
          "metadata": {
            "tags": []
          },
          "execution_count": 370
        }
      ]
    },
    {
      "cell_type": "markdown",
      "metadata": {
        "id": "M-4wHvmaTIr-"
      },
      "source": [
        "Tomamos una muestra aleatoria para ver valores más dispersos."
      ]
    },
    {
      "cell_type": "markdown",
      "metadata": {
        "id": "3TjgXYHBDGaR"
      },
      "source": [
        "**set de datos de productos**"
      ]
    },
    {
      "cell_type": "code",
      "metadata": {
        "id": "7J524lEpDDAu",
        "outputId": "79a70af3-a00c-4990-9094-1cecfaf742e3",
        "colab": {
          "base_uri": "https://localhost:8080/"
        }
      },
      "source": [
        "productos.head()"
      ],
      "execution_count": null,
      "outputs": [
        {
          "output_type": "execute_result",
          "data": {
            "text/html": [
              "<div>\n",
              "<style scoped>\n",
              "    .dataframe tbody tr th:only-of-type {\n",
              "        vertical-align: middle;\n",
              "    }\n",
              "\n",
              "    .dataframe tbody tr th {\n",
              "        vertical-align: top;\n",
              "    }\n",
              "\n",
              "    .dataframe thead th {\n",
              "        text-align: right;\n",
              "    }\n",
              "</style>\n",
              "<table border=\"1\" class=\"dataframe\">\n",
              "  <thead>\n",
              "    <tr style=\"text-align: right;\">\n",
              "      <th></th>\n",
              "      <th>id</th>\n",
              "      <th>marca</th>\n",
              "      <th>nombre</th>\n",
              "      <th>presentacion</th>\n",
              "      <th>categoria1</th>\n",
              "      <th>categoria2</th>\n",
              "      <th>categoria3</th>\n",
              "    </tr>\n",
              "  </thead>\n",
              "  <tbody>\n",
              "    <tr>\n",
              "      <th>0</th>\n",
              "      <td>0000000001663</td>\n",
              "      <td>LA ANÓNIMA</td>\n",
              "      <td>Radicheta Atada La Anonima 1 Un</td>\n",
              "      <td>1.0 un</td>\n",
              "      <td>NaN</td>\n",
              "      <td>NaN</td>\n",
              "      <td>NaN</td>\n",
              "    </tr>\n",
              "    <tr>\n",
              "      <th>1</th>\n",
              "      <td>0000000002288</td>\n",
              "      <td>LA ANÓNIMA</td>\n",
              "      <td>Perejil Atado La Anonima 1 Un</td>\n",
              "      <td>1.0 un</td>\n",
              "      <td>NaN</td>\n",
              "      <td>NaN</td>\n",
              "      <td>NaN</td>\n",
              "    </tr>\n",
              "    <tr>\n",
              "      <th>2</th>\n",
              "      <td>0000000205870</td>\n",
              "      <td>SIN MARCA</td>\n",
              "      <td>Ojo de Bife 1 Kg</td>\n",
              "      <td>1.0 kg</td>\n",
              "      <td>NaN</td>\n",
              "      <td>NaN</td>\n",
              "      <td>NaN</td>\n",
              "    </tr>\n",
              "    <tr>\n",
              "      <th>3</th>\n",
              "      <td>0000000205894</td>\n",
              "      <td>SIN MARCA</td>\n",
              "      <td>Milanesa de Peceto Novillito 1 Kg</td>\n",
              "      <td>1.0 kg</td>\n",
              "      <td>NaN</td>\n",
              "      <td>NaN</td>\n",
              "      <td>NaN</td>\n",
              "    </tr>\n",
              "    <tr>\n",
              "      <th>4</th>\n",
              "      <td>0000000205955</td>\n",
              "      <td>SIN MARCA</td>\n",
              "      <td>Chiquizuela Novillito 1 Kg</td>\n",
              "      <td>1.0 kg</td>\n",
              "      <td>NaN</td>\n",
              "      <td>NaN</td>\n",
              "      <td>NaN</td>\n",
              "    </tr>\n",
              "  </tbody>\n",
              "</table>\n",
              "</div>"
            ],
            "text/plain": [
              "              id       marca                             nombre presentacion  \\\n",
              "0  0000000001663  LA ANÓNIMA    Radicheta Atada La Anonima 1 Un       1.0 un   \n",
              "1  0000000002288  LA ANÓNIMA      Perejil Atado La Anonima 1 Un       1.0 un   \n",
              "2  0000000205870   SIN MARCA                   Ojo de Bife 1 Kg       1.0 kg   \n",
              "3  0000000205894   SIN MARCA  Milanesa de Peceto Novillito 1 Kg       1.0 kg   \n",
              "4  0000000205955   SIN MARCA         Chiquizuela Novillito 1 Kg       1.0 kg   \n",
              "\n",
              "  categoria1 categoria2 categoria3  \n",
              "0        NaN        NaN        NaN  \n",
              "1        NaN        NaN        NaN  \n",
              "2        NaN        NaN        NaN  \n",
              "3        NaN        NaN        NaN  \n",
              "4        NaN        NaN        NaN  "
            ]
          },
          "metadata": {
            "tags": []
          },
          "execution_count": 371
        }
      ]
    },
    {
      "cell_type": "code",
      "metadata": {
        "id": "mEu7s2jJTIr-",
        "outputId": "3ce4b74d-b2eb-4393-c1de-b8b02bebf8c0",
        "colab": {
          "base_uri": "https://localhost:8080/"
        }
      },
      "source": [
        "# Fijar seed para asegurar reproducibilidad\n",
        "np.random.seed(0)\n",
        "productos.sample(5)"
      ],
      "execution_count": null,
      "outputs": [
        {
          "output_type": "execute_result",
          "data": {
            "text/html": [
              "<div>\n",
              "<style scoped>\n",
              "    .dataframe tbody tr th:only-of-type {\n",
              "        vertical-align: middle;\n",
              "    }\n",
              "\n",
              "    .dataframe tbody tr th {\n",
              "        vertical-align: top;\n",
              "    }\n",
              "\n",
              "    .dataframe thead th {\n",
              "        text-align: right;\n",
              "    }\n",
              "</style>\n",
              "<table border=\"1\" class=\"dataframe\">\n",
              "  <thead>\n",
              "    <tr style=\"text-align: right;\">\n",
              "      <th></th>\n",
              "      <th>id</th>\n",
              "      <th>marca</th>\n",
              "      <th>nombre</th>\n",
              "      <th>presentacion</th>\n",
              "      <th>categoria1</th>\n",
              "      <th>categoria2</th>\n",
              "      <th>categoria3</th>\n",
              "    </tr>\n",
              "  </thead>\n",
              "  <tbody>\n",
              "    <tr>\n",
              "      <th>4441</th>\n",
              "      <td>10-3-2302046000005</td>\n",
              "      <td>SIN MARCA</td>\n",
              "      <td>Picada Comun 1 Kg</td>\n",
              "      <td>1.0 kg</td>\n",
              "      <td>NaN</td>\n",
              "      <td>NaN</td>\n",
              "      <td>NaN</td>\n",
              "    </tr>\n",
              "    <tr>\n",
              "      <th>35358</th>\n",
              "      <td>7791351130906</td>\n",
              "      <td>EL PEONCITO</td>\n",
              "      <td>Mix Frutas Secas El Peoncito 250 Gr</td>\n",
              "      <td>250.0 gr</td>\n",
              "      <td>NaN</td>\n",
              "      <td>NaN</td>\n",
              "      <td>NaN</td>\n",
              "    </tr>\n",
              "    <tr>\n",
              "      <th>23477</th>\n",
              "      <td>7790360967824</td>\n",
              "      <td>SWIFT</td>\n",
              "      <td>Milanesa de Soja Prefrita Swift 4 Un</td>\n",
              "      <td>4.0 un</td>\n",
              "      <td>NaN</td>\n",
              "      <td>NaN</td>\n",
              "      <td>NaN</td>\n",
              "    </tr>\n",
              "    <tr>\n",
              "      <th>49260</th>\n",
              "      <td>7794980938240</td>\n",
              "      <td>YUSPE</td>\n",
              "      <td>Condimento para Arroz Yuspe 25 Gr</td>\n",
              "      <td>25.0 gr</td>\n",
              "      <td>NaN</td>\n",
              "      <td>NaN</td>\n",
              "      <td>NaN</td>\n",
              "    </tr>\n",
              "    <tr>\n",
              "      <th>4231</th>\n",
              "      <td>10-2-2308124000004</td>\n",
              "      <td>SIN MARCA</td>\n",
              "      <td>Papa Negra 1 Kg</td>\n",
              "      <td>1.0 kg</td>\n",
              "      <td>NaN</td>\n",
              "      <td>NaN</td>\n",
              "      <td>NaN</td>\n",
              "    </tr>\n",
              "  </tbody>\n",
              "</table>\n",
              "</div>"
            ],
            "text/plain": [
              "                       id        marca                                nombre  \\\n",
              "4441   10-3-2302046000005    SIN MARCA                     Picada Comun 1 Kg   \n",
              "35358       7791351130906  EL PEONCITO   Mix Frutas Secas El Peoncito 250 Gr   \n",
              "23477       7790360967824        SWIFT  Milanesa de Soja Prefrita Swift 4 Un   \n",
              "49260       7794980938240        YUSPE     Condimento para Arroz Yuspe 25 Gr   \n",
              "4231   10-2-2308124000004    SIN MARCA                       Papa Negra 1 Kg   \n",
              "\n",
              "      presentacion categoria1 categoria2 categoria3  \n",
              "4441        1.0 kg        NaN        NaN        NaN  \n",
              "35358     250.0 gr        NaN        NaN        NaN  \n",
              "23477       4.0 un        NaN        NaN        NaN  \n",
              "49260      25.0 gr        NaN        NaN        NaN  \n",
              "4231        1.0 kg        NaN        NaN        NaN  "
            ]
          },
          "metadata": {
            "tags": []
          },
          "execution_count": 372
        }
      ]
    },
    {
      "cell_type": "code",
      "metadata": {
        "id": "iqdJQelxB14A",
        "outputId": "3fc9c55f-7356-4969-ded1-bc57f4d8304c",
        "colab": {
          "base_uri": "https://localhost:8080/"
        }
      },
      "source": [
        "##Algunos id de productos tienen guiones y otros no. Hay que tenerlo en cuenta cuando se analice el dataset de precios.\n",
        "productos[productos['id'].str.contains('-')]"
      ],
      "execution_count": null,
      "outputs": [
        {
          "output_type": "execute_result",
          "data": {
            "text/html": [
              "<div>\n",
              "<style scoped>\n",
              "    .dataframe tbody tr th:only-of-type {\n",
              "        vertical-align: middle;\n",
              "    }\n",
              "\n",
              "    .dataframe tbody tr th {\n",
              "        vertical-align: top;\n",
              "    }\n",
              "\n",
              "    .dataframe thead th {\n",
              "        text-align: right;\n",
              "    }\n",
              "</style>\n",
              "<table border=\"1\" class=\"dataframe\">\n",
              "  <thead>\n",
              "    <tr style=\"text-align: right;\">\n",
              "      <th></th>\n",
              "      <th>id</th>\n",
              "      <th>marca</th>\n",
              "      <th>nombre</th>\n",
              "      <th>presentacion</th>\n",
              "      <th>categoria1</th>\n",
              "      <th>categoria2</th>\n",
              "      <th>categoria3</th>\n",
              "    </tr>\n",
              "  </thead>\n",
              "  <tbody>\n",
              "    <tr>\n",
              "      <th>1922</th>\n",
              "      <td>1-1-1500210000009</td>\n",
              "      <td>LA SERENÍSIMA</td>\n",
              "      <td>Queso Cremon Light La Serenisima 1 Kg</td>\n",
              "      <td>1.0 kg</td>\n",
              "      <td>NaN</td>\n",
              "      <td>NaN</td>\n",
              "      <td>NaN</td>\n",
              "    </tr>\n",
              "    <tr>\n",
              "      <th>1923</th>\n",
              "      <td>1-1-2270004000001</td>\n",
              "      <td>LA SERENÍSIMA</td>\n",
              "      <td>Queso Port Salut Fraccionado La Serenisima 1 Kg</td>\n",
              "      <td>1.0 kg</td>\n",
              "      <td>NaN</td>\n",
              "      <td>NaN</td>\n",
              "      <td>NaN</td>\n",
              "    </tr>\n",
              "    <tr>\n",
              "      <th>1924</th>\n",
              "      <td>1-1-2270005000000</td>\n",
              "      <td>LA SERENÍSIMA</td>\n",
              "      <td>Queso Port Salut con Probioticos Fraccionado La Serenisima 1 Kg</td>\n",
              "      <td>1.0 kg</td>\n",
              "      <td>NaN</td>\n",
              "      <td>NaN</td>\n",
              "      <td>NaN</td>\n",
              "    </tr>\n",
              "    <tr>\n",
              "      <th>1925</th>\n",
              "      <td>1-1-2270006000009</td>\n",
              "      <td>LA SERENÍSIMA</td>\n",
              "      <td>Queso Gouda con Vitamina A y D La Serenisima 1 Kg</td>\n",
              "      <td>1.0 kg</td>\n",
              "      <td>NaN</td>\n",
              "      <td>NaN</td>\n",
              "      <td>NaN</td>\n",
              "    </tr>\n",
              "    <tr>\n",
              "      <th>1926</th>\n",
              "      <td>1-1-2270008000007</td>\n",
              "      <td>LA SERENÍSIMA</td>\n",
              "      <td>Queso Mini Fynbo La Serenisima 1 Kg</td>\n",
              "      <td>1.0 kg</td>\n",
              "      <td>NaN</td>\n",
              "      <td>NaN</td>\n",
              "      <td>NaN</td>\n",
              "    </tr>\n",
              "    <tr>\n",
              "      <th>...</th>\n",
              "      <td>...</td>\n",
              "      <td>...</td>\n",
              "      <td>...</td>\n",
              "      <td>...</td>\n",
              "      <td>...</td>\n",
              "      <td>...</td>\n",
              "      <td>...</td>\n",
              "    </tr>\n",
              "    <tr>\n",
              "      <th>72012</th>\n",
              "      <td>9-3-0000000994002</td>\n",
              "      <td>SIN MARCA</td>\n",
              "      <td>Tapa de Asado Carne Vacuna en Bandeja 1 Kg</td>\n",
              "      <td>1.0 kg</td>\n",
              "      <td>NaN</td>\n",
              "      <td>NaN</td>\n",
              "      <td>NaN</td>\n",
              "    </tr>\n",
              "    <tr>\n",
              "      <th>72013</th>\n",
              "      <td>9-3-0000000995696</td>\n",
              "      <td>PAMPA CHEESE</td>\n",
              "      <td>Queso Mozzarella en Sobre Pampa Cheese 1 Kg</td>\n",
              "      <td>1.0 kg</td>\n",
              "      <td>NaN</td>\n",
              "      <td>NaN</td>\n",
              "      <td>NaN</td>\n",
              "    </tr>\n",
              "    <tr>\n",
              "      <th>72014</th>\n",
              "      <td>9-3-0000000997096</td>\n",
              "      <td>SIN MARCA</td>\n",
              "      <td>Alas de Pollo 1 Kg</td>\n",
              "      <td>1.0 kg</td>\n",
              "      <td>NaN</td>\n",
              "      <td>NaN</td>\n",
              "      <td>NaN</td>\n",
              "    </tr>\n",
              "    <tr>\n",
              "      <th>72015</th>\n",
              "      <td>9-3-0000000997126</td>\n",
              "      <td>SIN MARCA</td>\n",
              "      <td>Carne Comun Molida Novillo 1 Kg</td>\n",
              "      <td>1.0 kg</td>\n",
              "      <td>NaN</td>\n",
              "      <td>NaN</td>\n",
              "      <td>NaN</td>\n",
              "    </tr>\n",
              "    <tr>\n",
              "      <th>72016</th>\n",
              "      <td>9-3-0000000999137</td>\n",
              "      <td>LA HACIEDA BANDEJA</td>\n",
              "      <td>Asado Especial del Centro Congelado en Bandeja x 1 Kg</td>\n",
              "      <td>1.0 kg</td>\n",
              "      <td>NaN</td>\n",
              "      <td>NaN</td>\n",
              "      <td>NaN</td>\n",
              "    </tr>\n",
              "  </tbody>\n",
              "</table>\n",
              "<p>11488 rows × 7 columns</p>\n",
              "</div>"
            ],
            "text/plain": [
              "                      id               marca  \\\n",
              "1922   1-1-1500210000009       LA SERENÍSIMA   \n",
              "1923   1-1-2270004000001       LA SERENÍSIMA   \n",
              "1924   1-1-2270005000000       LA SERENÍSIMA   \n",
              "1925   1-1-2270006000009       LA SERENÍSIMA   \n",
              "1926   1-1-2270008000007       LA SERENÍSIMA   \n",
              "...                  ...                 ...   \n",
              "72012  9-3-0000000994002           SIN MARCA   \n",
              "72013  9-3-0000000995696        PAMPA CHEESE   \n",
              "72014  9-3-0000000997096           SIN MARCA   \n",
              "72015  9-3-0000000997126           SIN MARCA   \n",
              "72016  9-3-0000000999137  LA HACIEDA BANDEJA   \n",
              "\n",
              "                                                                nombre  \\\n",
              "1922                             Queso Cremon Light La Serenisima 1 Kg   \n",
              "1923                   Queso Port Salut Fraccionado La Serenisima 1 Kg   \n",
              "1924   Queso Port Salut con Probioticos Fraccionado La Serenisima 1 Kg   \n",
              "1925                 Queso Gouda con Vitamina A y D La Serenisima 1 Kg   \n",
              "1926                               Queso Mini Fynbo La Serenisima 1 Kg   \n",
              "...                                                                ...   \n",
              "72012                       Tapa de Asado Carne Vacuna en Bandeja 1 Kg   \n",
              "72013                      Queso Mozzarella en Sobre Pampa Cheese 1 Kg   \n",
              "72014                                               Alas de Pollo 1 Kg   \n",
              "72015                                  Carne Comun Molida Novillo 1 Kg   \n",
              "72016            Asado Especial del Centro Congelado en Bandeja x 1 Kg   \n",
              "\n",
              "      presentacion categoria1 categoria2 categoria3  \n",
              "1922        1.0 kg        NaN        NaN        NaN  \n",
              "1923        1.0 kg        NaN        NaN        NaN  \n",
              "1924        1.0 kg        NaN        NaN        NaN  \n",
              "1925        1.0 kg        NaN        NaN        NaN  \n",
              "1926        1.0 kg        NaN        NaN        NaN  \n",
              "...            ...        ...        ...        ...  \n",
              "72012       1.0 kg        NaN        NaN        NaN  \n",
              "72013       1.0 kg        NaN        NaN        NaN  \n",
              "72014       1.0 kg        NaN        NaN        NaN  \n",
              "72015       1.0 kg        NaN        NaN        NaN  \n",
              "72016       1.0 kg        NaN        NaN        NaN  \n",
              "\n",
              "[11488 rows x 7 columns]"
            ]
          },
          "metadata": {
            "tags": []
          },
          "execution_count": 373
        }
      ]
    },
    {
      "cell_type": "code",
      "metadata": {
        "id": "sL3D1H6BGgLc",
        "outputId": "652c9fcc-1503-4130-c2be-34fdb4f34c97",
        "colab": {
          "base_uri": "https://localhost:8080/"
        }
      },
      "source": [
        "##hay dos id que no tienen marca ni presentacion ni nada\n",
        "productos.describe(include=['object'])"
      ],
      "execution_count": null,
      "outputs": [
        {
          "output_type": "execute_result",
          "data": {
            "text/html": [
              "<div>\n",
              "<style scoped>\n",
              "    .dataframe tbody tr th:only-of-type {\n",
              "        vertical-align: middle;\n",
              "    }\n",
              "\n",
              "    .dataframe tbody tr th {\n",
              "        vertical-align: top;\n",
              "    }\n",
              "\n",
              "    .dataframe thead th {\n",
              "        text-align: right;\n",
              "    }\n",
              "</style>\n",
              "<table border=\"1\" class=\"dataframe\">\n",
              "  <thead>\n",
              "    <tr style=\"text-align: right;\">\n",
              "      <th></th>\n",
              "      <th>id</th>\n",
              "      <th>marca</th>\n",
              "      <th>nombre</th>\n",
              "      <th>presentacion</th>\n",
              "      <th>categoria1</th>\n",
              "      <th>categoria2</th>\n",
              "      <th>categoria3</th>\n",
              "    </tr>\n",
              "  </thead>\n",
              "  <tbody>\n",
              "    <tr>\n",
              "      <th>count</th>\n",
              "      <td>72038</td>\n",
              "      <td>72036</td>\n",
              "      <td>72036</td>\n",
              "      <td>72036</td>\n",
              "      <td>4</td>\n",
              "      <td>4</td>\n",
              "      <td>4</td>\n",
              "    </tr>\n",
              "    <tr>\n",
              "      <th>unique</th>\n",
              "      <td>72038</td>\n",
              "      <td>5653</td>\n",
              "      <td>63896</td>\n",
              "      <td>1168</td>\n",
              "      <td>3</td>\n",
              "      <td>3</td>\n",
              "      <td>4</td>\n",
              "    </tr>\n",
              "    <tr>\n",
              "      <th>top</th>\n",
              "      <td>7798127970056</td>\n",
              "      <td>SIN MARCA</td>\n",
              "      <td>Mollejas 1 Kg</td>\n",
              "      <td>1.0 kg</td>\n",
              "      <td>Almacén</td>\n",
              "      <td>Aceites</td>\n",
              "      <td>Acondicionadores</td>\n",
              "    </tr>\n",
              "    <tr>\n",
              "      <th>freq</th>\n",
              "      <td>1</td>\n",
              "      <td>8649</td>\n",
              "      <td>26</td>\n",
              "      <td>12894</td>\n",
              "      <td>2</td>\n",
              "      <td>2</td>\n",
              "      <td>1</td>\n",
              "    </tr>\n",
              "  </tbody>\n",
              "</table>\n",
              "</div>"
            ],
            "text/plain": [
              "                   id      marca         nombre presentacion categoria1  \\\n",
              "count           72038      72036          72036        72036          4   \n",
              "unique          72038       5653          63896         1168          3   \n",
              "top     7798127970056  SIN MARCA  Mollejas 1 Kg       1.0 kg    Almacén   \n",
              "freq                1       8649             26        12894          2   \n",
              "\n",
              "       categoria2        categoria3  \n",
              "count           4                 4  \n",
              "unique          3                 4  \n",
              "top       Aceites  Acondicionadores  \n",
              "freq            2                 1  "
            ]
          },
          "metadata": {
            "tags": []
          },
          "execution_count": 374
        }
      ]
    },
    {
      "cell_type": "markdown",
      "metadata": {
        "id": "sXN-xp_pDQdM"
      },
      "source": [
        "**set de datos de sucursales** "
      ]
    },
    {
      "cell_type": "code",
      "metadata": {
        "id": "Fd5D6frX6XMk",
        "outputId": "fe6f1ce7-de01-4fe4-fd9c-718c903ad77f",
        "colab": {
          "base_uri": "https://localhost:8080/"
        }
      },
      "source": [
        "np.random.seed(0)\n",
        "sucursales.sample(5)"
      ],
      "execution_count": null,
      "outputs": [
        {
          "output_type": "execute_result",
          "data": {
            "text/html": [
              "<div>\n",
              "<style scoped>\n",
              "    .dataframe tbody tr th:only-of-type {\n",
              "        vertical-align: middle;\n",
              "    }\n",
              "\n",
              "    .dataframe tbody tr th {\n",
              "        vertical-align: top;\n",
              "    }\n",
              "\n",
              "    .dataframe thead th {\n",
              "        text-align: right;\n",
              "    }\n",
              "</style>\n",
              "<table border=\"1\" class=\"dataframe\">\n",
              "  <thead>\n",
              "    <tr style=\"text-align: right;\">\n",
              "      <th></th>\n",
              "      <th>id</th>\n",
              "      <th>comercioId</th>\n",
              "      <th>banderaId</th>\n",
              "      <th>banderaDescripcion</th>\n",
              "      <th>comercioRazonSocial</th>\n",
              "      <th>provincia</th>\n",
              "      <th>localidad</th>\n",
              "      <th>direccion</th>\n",
              "      <th>lat</th>\n",
              "      <th>lng</th>\n",
              "      <th>sucursalNombre</th>\n",
              "      <th>sucursalTipo</th>\n",
              "      <th>nom_provincia</th>\n",
              "      <th>region</th>\n",
              "    </tr>\n",
              "  </thead>\n",
              "  <tbody>\n",
              "    <tr>\n",
              "      <th>1147</th>\n",
              "      <td>13-1-129</td>\n",
              "      <td>13</td>\n",
              "      <td>1</td>\n",
              "      <td>Cooperativa Obrera Limitada de Consumo y Vivienda</td>\n",
              "      <td>Cooperativa Obrera Limitada de Consumo y Vivienda</td>\n",
              "      <td>AR-Q</td>\n",
              "      <td>Las Lajas</td>\n",
              "      <td>Saavedra 360</td>\n",
              "      <td>-38.525522</td>\n",
              "      <td>-70.362694</td>\n",
              "      <td>Las Lajas</td>\n",
              "      <td>Supermercado</td>\n",
              "      <td>Neuquén</td>\n",
              "      <td>Patagonia</td>\n",
              "    </tr>\n",
              "    <tr>\n",
              "      <th>2324</th>\n",
              "      <td>11-2-1099</td>\n",
              "      <td>11</td>\n",
              "      <td>2</td>\n",
              "      <td>Changomas</td>\n",
              "      <td>Wal Mart Argentina S.R.L.</td>\n",
              "      <td>AR-N</td>\n",
              "      <td>POSADAS</td>\n",
              "      <td>Avenida Cabo De Hornos 4130</td>\n",
              "      <td>-27.425611</td>\n",
              "      <td>-55.933212</td>\n",
              "      <td>Posadas II</td>\n",
              "      <td>Hipermercado</td>\n",
              "      <td>Misiones</td>\n",
              "      <td>Norte Grande</td>\n",
              "    </tr>\n",
              "    <tr>\n",
              "      <th>655</th>\n",
              "      <td>15-1-62</td>\n",
              "      <td>15</td>\n",
              "      <td>1</td>\n",
              "      <td>Supermercados DIA</td>\n",
              "      <td>DIA Argentina S.A</td>\n",
              "      <td>AR-B</td>\n",
              "      <td>Monte Grande</td>\n",
              "      <td>Cl Vicente Lopez 844</td>\n",
              "      <td>-34.819809</td>\n",
              "      <td>-58.467399</td>\n",
              "      <td>62 - Monte Grande</td>\n",
              "      <td>Autoservicio</td>\n",
              "      <td>Provincia de Buenos Aires</td>\n",
              "      <td>Centro</td>\n",
              "    </tr>\n",
              "    <tr>\n",
              "      <th>868</th>\n",
              "      <td>9-1-51</td>\n",
              "      <td>9</td>\n",
              "      <td>1</td>\n",
              "      <td>Vea</td>\n",
              "      <td>Jumbo Retail Argentina S.A.</td>\n",
              "      <td>AR-B</td>\n",
              "      <td>NECOCHEA</td>\n",
              "      <td>Av. 59 Esq. Calle 38 1660</td>\n",
              "      <td>-38.561100</td>\n",
              "      <td>-58.730500</td>\n",
              "      <td>NECOCHEA</td>\n",
              "      <td>Supermercado</td>\n",
              "      <td>Provincia de Buenos Aires</td>\n",
              "      <td>Centro</td>\n",
              "    </tr>\n",
              "    <tr>\n",
              "      <th>1426</th>\n",
              "      <td>10-3-364</td>\n",
              "      <td>10</td>\n",
              "      <td>3</td>\n",
              "      <td>Express</td>\n",
              "      <td>INC S.A.</td>\n",
              "      <td>AR-C</td>\n",
              "      <td>Ciudad Autónoma de Buenos Aires</td>\n",
              "      <td>Ciudad De La Paz 353</td>\n",
              "      <td>-34.573878</td>\n",
              "      <td>-58.442051</td>\n",
              "      <td>Ciudad de la Paz 353</td>\n",
              "      <td>Autoservicio</td>\n",
              "      <td>Ciudad Autónoma de Buenos Aires</td>\n",
              "      <td>Centro</td>\n",
              "    </tr>\n",
              "  </tbody>\n",
              "</table>\n",
              "</div>"
            ],
            "text/plain": [
              "             id  comercioId  banderaId  \\\n",
              "1147   13-1-129          13          1   \n",
              "2324  11-2-1099          11          2   \n",
              "655     15-1-62          15          1   \n",
              "868      9-1-51           9          1   \n",
              "1426   10-3-364          10          3   \n",
              "\n",
              "                                     banderaDescripcion  \\\n",
              "1147  Cooperativa Obrera Limitada de Consumo y Vivienda   \n",
              "2324                                          Changomas   \n",
              "655                                   Supermercados DIA   \n",
              "868                                                 Vea   \n",
              "1426                                            Express   \n",
              "\n",
              "                                    comercioRazonSocial provincia  \\\n",
              "1147  Cooperativa Obrera Limitada de Consumo y Vivienda      AR-Q   \n",
              "2324                          Wal Mart Argentina S.R.L.      AR-N   \n",
              "655                                   DIA Argentina S.A      AR-B   \n",
              "868                         Jumbo Retail Argentina S.A.      AR-B   \n",
              "1426                                           INC S.A.      AR-C   \n",
              "\n",
              "                            localidad                    direccion        lat  \\\n",
              "1147                        Las Lajas                 Saavedra 360 -38.525522   \n",
              "2324                          POSADAS  Avenida Cabo De Hornos 4130 -27.425611   \n",
              "655                      Monte Grande         Cl Vicente Lopez 844 -34.819809   \n",
              "868                          NECOCHEA    Av. 59 Esq. Calle 38 1660 -38.561100   \n",
              "1426  Ciudad Autónoma de Buenos Aires         Ciudad De La Paz 353 -34.573878   \n",
              "\n",
              "            lng        sucursalNombre  sucursalTipo  \\\n",
              "1147 -70.362694             Las Lajas  Supermercado   \n",
              "2324 -55.933212            Posadas II  Hipermercado   \n",
              "655  -58.467399     62 - Monte Grande  Autoservicio   \n",
              "868  -58.730500              NECOCHEA  Supermercado   \n",
              "1426 -58.442051  Ciudad de la Paz 353  Autoservicio   \n",
              "\n",
              "                        nom_provincia        region  \n",
              "1147                          Neuquén     Patagonia  \n",
              "2324                         Misiones  Norte Grande  \n",
              "655         Provincia de Buenos Aires        Centro  \n",
              "868         Provincia de Buenos Aires        Centro  \n",
              "1426  Ciudad Autónoma de Buenos Aires        Centro  "
            ]
          },
          "metadata": {
            "tags": []
          },
          "execution_count": 375
        }
      ]
    },
    {
      "cell_type": "code",
      "metadata": {
        "id": "NEnRdz91CQ5x",
        "outputId": "f54fb0c4-5f1d-4810-ac9f-df73db2d0790",
        "colab": {
          "base_uri": "https://localhost:8080/"
        }
      },
      "source": [
        "##tengo 2333 casos unicos de id de sucursal\n",
        "sucursales.describe(include=['object'])"
      ],
      "execution_count": null,
      "outputs": [
        {
          "output_type": "execute_result",
          "data": {
            "text/html": [
              "<div>\n",
              "<style scoped>\n",
              "    .dataframe tbody tr th:only-of-type {\n",
              "        vertical-align: middle;\n",
              "    }\n",
              "\n",
              "    .dataframe tbody tr th {\n",
              "        vertical-align: top;\n",
              "    }\n",
              "\n",
              "    .dataframe thead th {\n",
              "        text-align: right;\n",
              "    }\n",
              "</style>\n",
              "<table border=\"1\" class=\"dataframe\">\n",
              "  <thead>\n",
              "    <tr style=\"text-align: right;\">\n",
              "      <th></th>\n",
              "      <th>id</th>\n",
              "      <th>banderaDescripcion</th>\n",
              "      <th>comercioRazonSocial</th>\n",
              "      <th>provincia</th>\n",
              "      <th>localidad</th>\n",
              "      <th>direccion</th>\n",
              "      <th>sucursalNombre</th>\n",
              "      <th>sucursalTipo</th>\n",
              "      <th>nom_provincia</th>\n",
              "      <th>region</th>\n",
              "    </tr>\n",
              "  </thead>\n",
              "  <tbody>\n",
              "    <tr>\n",
              "      <th>count</th>\n",
              "      <td>2333</td>\n",
              "      <td>2333</td>\n",
              "      <td>2333</td>\n",
              "      <td>2333</td>\n",
              "      <td>2333</td>\n",
              "      <td>2333</td>\n",
              "      <td>2333</td>\n",
              "      <td>2333</td>\n",
              "      <td>2333</td>\n",
              "      <td>2333</td>\n",
              "    </tr>\n",
              "    <tr>\n",
              "      <th>unique</th>\n",
              "      <td>2333</td>\n",
              "      <td>45</td>\n",
              "      <td>34</td>\n",
              "      <td>24</td>\n",
              "      <td>674</td>\n",
              "      <td>2331</td>\n",
              "      <td>2241</td>\n",
              "      <td>4</td>\n",
              "      <td>24</td>\n",
              "      <td>4</td>\n",
              "    </tr>\n",
              "    <tr>\n",
              "      <th>top</th>\n",
              "      <td>15-1-190</td>\n",
              "      <td>Supermercados DIA</td>\n",
              "      <td>DIA Argentina S.A</td>\n",
              "      <td>AR-C</td>\n",
              "      <td>Capital Federal</td>\n",
              "      <td>Sarmiento 0</td>\n",
              "      <td>JOSIMAR</td>\n",
              "      <td>Autoservicio</td>\n",
              "      <td>Ciudad Autónoma de Buenos Aires</td>\n",
              "      <td>Centro</td>\n",
              "    </tr>\n",
              "    <tr>\n",
              "      <th>freq</th>\n",
              "      <td>1</td>\n",
              "      <td>644</td>\n",
              "      <td>644</td>\n",
              "      <td>816</td>\n",
              "      <td>350</td>\n",
              "      <td>3</td>\n",
              "      <td>8</td>\n",
              "      <td>1052</td>\n",
              "      <td>816</td>\n",
              "      <td>1873</td>\n",
              "    </tr>\n",
              "  </tbody>\n",
              "</table>\n",
              "</div>"
            ],
            "text/plain": [
              "              id banderaDescripcion comercioRazonSocial provincia  \\\n",
              "count       2333               2333                2333      2333   \n",
              "unique      2333                 45                  34        24   \n",
              "top     15-1-190  Supermercados DIA   DIA Argentina S.A      AR-C   \n",
              "freq           1                644                 644       816   \n",
              "\n",
              "              localidad    direccion sucursalNombre  sucursalTipo  \\\n",
              "count              2333         2333           2333          2333   \n",
              "unique              674         2331           2241             4   \n",
              "top     Capital Federal  Sarmiento 0        JOSIMAR  Autoservicio   \n",
              "freq                350            3              8          1052   \n",
              "\n",
              "                          nom_provincia  region  \n",
              "count                              2333    2333  \n",
              "unique                               24       4  \n",
              "top     Ciudad Autónoma de Buenos Aires  Centro  \n",
              "freq                                816    1873  "
            ]
          },
          "metadata": {
            "tags": []
          },
          "execution_count": 376
        }
      ]
    },
    {
      "cell_type": "markdown",
      "metadata": {
        "id": "D7IPcVYIDbRE"
      },
      "source": [
        "**set de datos de precios** "
      ]
    },
    {
      "cell_type": "code",
      "metadata": {
        "id": "xM5Slrum6XmG",
        "outputId": "cfaf56dc-e96d-487e-ae4b-1799ad7381b7",
        "colab": {
          "base_uri": "https://localhost:8080/"
        }
      },
      "source": [
        "np.random.seed(0)\n",
        "precios.sample(5)"
      ],
      "execution_count": null,
      "outputs": [
        {
          "output_type": "execute_result",
          "data": {
            "text/html": [
              "<div>\n",
              "<style scoped>\n",
              "    .dataframe tbody tr th:only-of-type {\n",
              "        vertical-align: middle;\n",
              "    }\n",
              "\n",
              "    .dataframe tbody tr th {\n",
              "        vertical-align: top;\n",
              "    }\n",
              "\n",
              "    .dataframe thead th {\n",
              "        text-align: right;\n",
              "    }\n",
              "</style>\n",
              "<table border=\"1\" class=\"dataframe\">\n",
              "  <thead>\n",
              "    <tr style=\"text-align: right;\">\n",
              "      <th></th>\n",
              "      <th>precio</th>\n",
              "      <th>producto_id</th>\n",
              "      <th>sucursal_id</th>\n",
              "      <th>fecha</th>\n",
              "    </tr>\n",
              "  </thead>\n",
              "  <tbody>\n",
              "    <tr>\n",
              "      <th>20284</th>\n",
              "      <td>42.90</td>\n",
              "      <td>2920177000000</td>\n",
              "      <td>10-1-33</td>\n",
              "      <td>20200419</td>\n",
              "    </tr>\n",
              "    <tr>\n",
              "      <th>10867</th>\n",
              "      <td>279.99</td>\n",
              "      <td>0754697468949</td>\n",
              "      <td>12-1-215</td>\n",
              "      <td>20200419</td>\n",
              "    </tr>\n",
              "    <tr>\n",
              "      <th>321817</th>\n",
              "      <td>219.00</td>\n",
              "      <td>7793008015987</td>\n",
              "      <td>50-1-2</td>\n",
              "      <td>20200412</td>\n",
              "    </tr>\n",
              "    <tr>\n",
              "      <th>202918</th>\n",
              "      <td>66.00</td>\n",
              "      <td>7790895009846</td>\n",
              "      <td>10-3-442</td>\n",
              "      <td>20200419</td>\n",
              "    </tr>\n",
              "    <tr>\n",
              "      <th>41595</th>\n",
              "      <td>349.00</td>\n",
              "      <td>7506195196694</td>\n",
              "      <td>10-1-235</td>\n",
              "      <td>20200502</td>\n",
              "    </tr>\n",
              "  </tbody>\n",
              "</table>\n",
              "</div>"
            ],
            "text/plain": [
              "        precio    producto_id sucursal_id     fecha\n",
              "20284    42.90  2920177000000     10-1-33  20200419\n",
              "10867   279.99  0754697468949    12-1-215  20200419\n",
              "321817  219.00  7793008015987      50-1-2  20200412\n",
              "202918   66.00  7790895009846    10-3-442  20200419\n",
              "41595   349.00  7506195196694    10-1-235  20200502"
            ]
          },
          "metadata": {
            "tags": []
          },
          "execution_count": 377
        }
      ]
    },
    {
      "cell_type": "code",
      "metadata": {
        "id": "06dsvZSdDhX1",
        "outputId": "b260229c-2a3b-4f66-854b-cc20ac4f7f27",
        "colab": {
          "base_uri": "https://localhost:8080/"
        }
      },
      "source": [
        "##de los 2333 casos que hay en el dataset de sucursales se reportan 513\n",
        "precios.describe(include=['object'])"
      ],
      "execution_count": null,
      "outputs": [
        {
          "output_type": "execute_result",
          "data": {
            "text/html": [
              "<div>\n",
              "<style scoped>\n",
              "    .dataframe tbody tr th:only-of-type {\n",
              "        vertical-align: middle;\n",
              "    }\n",
              "\n",
              "    .dataframe tbody tr th {\n",
              "        vertical-align: top;\n",
              "    }\n",
              "\n",
              "    .dataframe thead th {\n",
              "        text-align: right;\n",
              "    }\n",
              "</style>\n",
              "<table border=\"1\" class=\"dataframe\">\n",
              "  <thead>\n",
              "    <tr style=\"text-align: right;\">\n",
              "      <th></th>\n",
              "      <th>producto_id</th>\n",
              "      <th>sucursal_id</th>\n",
              "      <th>fecha</th>\n",
              "    </tr>\n",
              "  </thead>\n",
              "  <tbody>\n",
              "    <tr>\n",
              "      <th>count</th>\n",
              "      <td>2222418</td>\n",
              "      <td>2222418</td>\n",
              "      <td>2222418</td>\n",
              "    </tr>\n",
              "    <tr>\n",
              "      <th>unique</th>\n",
              "      <td>71723</td>\n",
              "      <td>513</td>\n",
              "      <td>5</td>\n",
              "    </tr>\n",
              "    <tr>\n",
              "      <th>top</th>\n",
              "      <td>7793100111563</td>\n",
              "      <td>49-1-2</td>\n",
              "      <td>20200426</td>\n",
              "    </tr>\n",
              "    <tr>\n",
              "      <th>freq</th>\n",
              "      <td>545</td>\n",
              "      <td>75516</td>\n",
              "      <td>478909</td>\n",
              "    </tr>\n",
              "  </tbody>\n",
              "</table>\n",
              "</div>"
            ],
            "text/plain": [
              "          producto_id sucursal_id     fecha\n",
              "count         2222418     2222418   2222418\n",
              "unique          71723         513         5\n",
              "top     7793100111563      49-1-2  20200426\n",
              "freq              545       75516    478909"
            ]
          },
          "metadata": {
            "tags": []
          },
          "execution_count": 378
        }
      ]
    },
    {
      "cell_type": "code",
      "metadata": {
        "id": "vcLOUvEiAv4s",
        "outputId": "07bf82a7-2677-484d-d159-c3bd311b3d40",
        "colab": {
          "base_uri": "https://localhost:8080/"
        }
      },
      "source": [
        "##hay 64306 registros con este formato en productos_id\n",
        "precios[precios['producto_id'].str.contains('-')]"
      ],
      "execution_count": null,
      "outputs": [
        {
          "output_type": "execute_result",
          "data": {
            "text/html": [
              "<div>\n",
              "<style scoped>\n",
              "    .dataframe tbody tr th:only-of-type {\n",
              "        vertical-align: middle;\n",
              "    }\n",
              "\n",
              "    .dataframe tbody tr th {\n",
              "        vertical-align: top;\n",
              "    }\n",
              "\n",
              "    .dataframe thead th {\n",
              "        text-align: right;\n",
              "    }\n",
              "</style>\n",
              "<table border=\"1\" class=\"dataframe\">\n",
              "  <thead>\n",
              "    <tr style=\"text-align: right;\">\n",
              "      <th></th>\n",
              "      <th>precio</th>\n",
              "      <th>producto_id</th>\n",
              "      <th>sucursal_id</th>\n",
              "      <th>fecha</th>\n",
              "    </tr>\n",
              "  </thead>\n",
              "  <tbody>\n",
              "    <tr>\n",
              "      <th>11540</th>\n",
              "      <td>59.00</td>\n",
              "      <td>10-1-2300073000005</td>\n",
              "      <td>10-1-25</td>\n",
              "      <td>20200412</td>\n",
              "    </tr>\n",
              "    <tr>\n",
              "      <th>11541</th>\n",
              "      <td>7.49</td>\n",
              "      <td>10-1-2300073000005</td>\n",
              "      <td>10-1-48</td>\n",
              "      <td>20200412</td>\n",
              "    </tr>\n",
              "    <tr>\n",
              "      <th>11542</th>\n",
              "      <td>59.00</td>\n",
              "      <td>10-1-2300075000003</td>\n",
              "      <td>10-1-25</td>\n",
              "      <td>20200412</td>\n",
              "    </tr>\n",
              "    <tr>\n",
              "      <th>11543</th>\n",
              "      <td>279.90</td>\n",
              "      <td>10-1-2300160000000</td>\n",
              "      <td>10-1-8</td>\n",
              "      <td>20200412</td>\n",
              "    </tr>\n",
              "    <tr>\n",
              "      <th>11544</th>\n",
              "      <td>1274.00</td>\n",
              "      <td>10-1-2300175000002</td>\n",
              "      <td>10-1-6</td>\n",
              "      <td>20200412</td>\n",
              "    </tr>\n",
              "    <tr>\n",
              "      <th>...</th>\n",
              "      <td>...</td>\n",
              "      <td>...</td>\n",
              "      <td>...</td>\n",
              "      <td>...</td>\n",
              "    </tr>\n",
              "    <tr>\n",
              "      <th>414957</th>\n",
              "      <td>409.00</td>\n",
              "      <td>9-3-0000000994002</td>\n",
              "      <td>9-3-5222</td>\n",
              "      <td>20200518</td>\n",
              "    </tr>\n",
              "    <tr>\n",
              "      <th>414958</th>\n",
              "      <td>509.00</td>\n",
              "      <td>9-3-0000000995696</td>\n",
              "      <td>9-3-5205</td>\n",
              "      <td>20200518</td>\n",
              "    </tr>\n",
              "    <tr>\n",
              "      <th>414959</th>\n",
              "      <td>114.99</td>\n",
              "      <td>9-3-0000000997096</td>\n",
              "      <td>9-3-5251</td>\n",
              "      <td>20200518</td>\n",
              "    </tr>\n",
              "    <tr>\n",
              "      <th>414960</th>\n",
              "      <td>219.00</td>\n",
              "      <td>9-3-0000000997126</td>\n",
              "      <td>9-3-5222</td>\n",
              "      <td>20200518</td>\n",
              "    </tr>\n",
              "    <tr>\n",
              "      <th>414961</th>\n",
              "      <td>349.99</td>\n",
              "      <td>9-3-0000000999137</td>\n",
              "      <td>9-3-5205</td>\n",
              "      <td>20200518</td>\n",
              "    </tr>\n",
              "  </tbody>\n",
              "</table>\n",
              "<p>64306 rows × 4 columns</p>\n",
              "</div>"
            ],
            "text/plain": [
              "         precio         producto_id sucursal_id     fecha\n",
              "11540     59.00  10-1-2300073000005     10-1-25  20200412\n",
              "11541      7.49  10-1-2300073000005     10-1-48  20200412\n",
              "11542     59.00  10-1-2300075000003     10-1-25  20200412\n",
              "11543    279.90  10-1-2300160000000      10-1-8  20200412\n",
              "11544   1274.00  10-1-2300175000002      10-1-6  20200412\n",
              "...         ...                 ...         ...       ...\n",
              "414957   409.00   9-3-0000000994002    9-3-5222  20200518\n",
              "414958   509.00   9-3-0000000995696    9-3-5205  20200518\n",
              "414959   114.99   9-3-0000000997096    9-3-5251  20200518\n",
              "414960   219.00   9-3-0000000997126    9-3-5222  20200518\n",
              "414961   349.99   9-3-0000000999137    9-3-5205  20200518\n",
              "\n",
              "[64306 rows x 4 columns]"
            ]
          },
          "metadata": {
            "tags": []
          },
          "execution_count": 379
        }
      ]
    },
    {
      "cell_type": "markdown",
      "metadata": {
        "id": "a_b_sL8jTIsC"
      },
      "source": [
        "Veamos los tipos de datos que tenemos"
      ]
    },
    {
      "cell_type": "code",
      "metadata": {
        "id": "8IBp2DNhTIsC",
        "outputId": "a66b951e-74f7-4535-8678-43b44fedb7ea",
        "colab": {
          "base_uri": "https://localhost:8080/"
        }
      },
      "source": [
        "precios.dtypes"
      ],
      "execution_count": null,
      "outputs": [
        {
          "output_type": "execute_result",
          "data": {
            "text/plain": [
              "precio         float64\n",
              "producto_id     object\n",
              "sucursal_id     object\n",
              "fecha           object\n",
              "dtype: object"
            ]
          },
          "metadata": {
            "tags": []
          },
          "execution_count": 380
        }
      ]
    },
    {
      "cell_type": "code",
      "metadata": {
        "id": "FmimVh9WnC-z",
        "outputId": "b066ea57-c61c-4e31-c12e-90d557b473bd",
        "colab": {
          "base_uri": "https://localhost:8080/"
        }
      },
      "source": [
        "sucursales.dtypes"
      ],
      "execution_count": null,
      "outputs": [
        {
          "output_type": "execute_result",
          "data": {
            "text/plain": [
              "id                      object\n",
              "comercioId               int64\n",
              "banderaId                int64\n",
              "banderaDescripcion      object\n",
              "comercioRazonSocial     object\n",
              "provincia               object\n",
              "localidad               object\n",
              "direccion               object\n",
              "lat                    float64\n",
              "lng                    float64\n",
              "sucursalNombre          object\n",
              "sucursalTipo            object\n",
              "nom_provincia           object\n",
              "region                  object\n",
              "dtype: object"
            ]
          },
          "metadata": {
            "tags": []
          },
          "execution_count": 381
        }
      ]
    },
    {
      "cell_type": "code",
      "metadata": {
        "id": "YLVkIGC6nEQe",
        "outputId": "16794d1f-c935-4ded-a4f7-ce4f1acba66d",
        "colab": {
          "base_uri": "https://localhost:8080/"
        }
      },
      "source": [
        "productos.dtypes"
      ],
      "execution_count": null,
      "outputs": [
        {
          "output_type": "execute_result",
          "data": {
            "text/plain": [
              "id              object\n",
              "marca           object\n",
              "nombre          object\n",
              "presentacion    object\n",
              "categoria1      object\n",
              "categoria2      object\n",
              "categoria3      object\n",
              "dtype: object"
            ]
          },
          "metadata": {
            "tags": []
          },
          "execution_count": 382
        }
      ]
    },
    {
      "cell_type": "markdown",
      "metadata": {
        "id": "NRFTSvNtTIsF"
      },
      "source": [
        "Los datasets ya están **listos para trabajar!**"
      ]
    },
    {
      "cell_type": "markdown",
      "metadata": {
        "id": "f26HSnF_TIsG"
      },
      "source": [
        "#### 1.2. Asegurar la Existencia de IDs o Claves Únicas"
      ]
    },
    {
      "cell_type": "markdown",
      "metadata": {
        "id": "kEntzDe7TIsG"
      },
      "source": [
        "El siguiente paso implica chequear que no existen datos duplicados y que las claves, si existen, son únicas.\n",
        "\n",
        "Esto debemos hacerlo sobre las **entidades de sucursales y de productos**. Deberíamos tener un único id por producto o sucursal en estos ficheros, respectivamente. "
      ]
    },
    {
      "cell_type": "code",
      "metadata": {
        "id": "CqS8wtVlEXN0",
        "outputId": "f8447b6d-6a4b-4d45-df53-af68a1ec6e7e",
        "colab": {
          "base_uri": "https://localhost:8080/"
        }
      },
      "source": [
        "sucursales.shape"
      ],
      "execution_count": null,
      "outputs": [
        {
          "output_type": "execute_result",
          "data": {
            "text/plain": [
              "(2333, 14)"
            ]
          },
          "metadata": {
            "tags": []
          },
          "execution_count": 383
        }
      ]
    },
    {
      "cell_type": "code",
      "metadata": {
        "id": "V0U9cLNeIVRM",
        "outputId": "36bb8fdd-75f6-4df8-ebbe-1f395c021fb3",
        "colab": {
          "base_uri": "https://localhost:8080/"
        }
      },
      "source": [
        "##veo si hay duplicados en el archivo de sucursales\n",
        "sucursales[sucursales.duplicated()]"
      ],
      "execution_count": null,
      "outputs": [
        {
          "output_type": "execute_result",
          "data": {
            "text/html": [
              "<div>\n",
              "<style scoped>\n",
              "    .dataframe tbody tr th:only-of-type {\n",
              "        vertical-align: middle;\n",
              "    }\n",
              "\n",
              "    .dataframe tbody tr th {\n",
              "        vertical-align: top;\n",
              "    }\n",
              "\n",
              "    .dataframe thead th {\n",
              "        text-align: right;\n",
              "    }\n",
              "</style>\n",
              "<table border=\"1\" class=\"dataframe\">\n",
              "  <thead>\n",
              "    <tr style=\"text-align: right;\">\n",
              "      <th></th>\n",
              "      <th>id</th>\n",
              "      <th>comercioId</th>\n",
              "      <th>banderaId</th>\n",
              "      <th>banderaDescripcion</th>\n",
              "      <th>comercioRazonSocial</th>\n",
              "      <th>provincia</th>\n",
              "      <th>localidad</th>\n",
              "      <th>direccion</th>\n",
              "      <th>lat</th>\n",
              "      <th>lng</th>\n",
              "      <th>sucursalNombre</th>\n",
              "      <th>sucursalTipo</th>\n",
              "      <th>nom_provincia</th>\n",
              "      <th>region</th>\n",
              "    </tr>\n",
              "  </thead>\n",
              "  <tbody>\n",
              "  </tbody>\n",
              "</table>\n",
              "</div>"
            ],
            "text/plain": [
              "Empty DataFrame\n",
              "Columns: [id, comercioId, banderaId, banderaDescripcion, comercioRazonSocial, provincia, localidad, direccion, lat, lng, sucursalNombre, sucursalTipo, nom_provincia, region]\n",
              "Index: []"
            ]
          },
          "metadata": {
            "tags": []
          },
          "execution_count": 384
        }
      ]
    },
    {
      "cell_type": "code",
      "metadata": {
        "id": "PEjgVq-MDKQT",
        "outputId": "a5660062-b057-4c0e-9355-7f1d2f009541",
        "colab": {
          "base_uri": "https://localhost:8080/"
        }
      },
      "source": [
        "##no hay duplicados por id\n",
        "sucursales[sucursales.duplicated(subset=['id'], keep=False)].sort_values(['id'])"
      ],
      "execution_count": null,
      "outputs": [
        {
          "output_type": "execute_result",
          "data": {
            "text/html": [
              "<div>\n",
              "<style scoped>\n",
              "    .dataframe tbody tr th:only-of-type {\n",
              "        vertical-align: middle;\n",
              "    }\n",
              "\n",
              "    .dataframe tbody tr th {\n",
              "        vertical-align: top;\n",
              "    }\n",
              "\n",
              "    .dataframe thead th {\n",
              "        text-align: right;\n",
              "    }\n",
              "</style>\n",
              "<table border=\"1\" class=\"dataframe\">\n",
              "  <thead>\n",
              "    <tr style=\"text-align: right;\">\n",
              "      <th></th>\n",
              "      <th>id</th>\n",
              "      <th>comercioId</th>\n",
              "      <th>banderaId</th>\n",
              "      <th>banderaDescripcion</th>\n",
              "      <th>comercioRazonSocial</th>\n",
              "      <th>provincia</th>\n",
              "      <th>localidad</th>\n",
              "      <th>direccion</th>\n",
              "      <th>lat</th>\n",
              "      <th>lng</th>\n",
              "      <th>sucursalNombre</th>\n",
              "      <th>sucursalTipo</th>\n",
              "      <th>nom_provincia</th>\n",
              "      <th>region</th>\n",
              "    </tr>\n",
              "  </thead>\n",
              "  <tbody>\n",
              "  </tbody>\n",
              "</table>\n",
              "</div>"
            ],
            "text/plain": [
              "Empty DataFrame\n",
              "Columns: [id, comercioId, banderaId, banderaDescripcion, comercioRazonSocial, provincia, localidad, direccion, lat, lng, sucursalNombre, sucursalTipo, nom_provincia, region]\n",
              "Index: []"
            ]
          },
          "metadata": {
            "tags": []
          },
          "execution_count": 385
        }
      ]
    },
    {
      "cell_type": "code",
      "metadata": {
        "id": "GgMafpxMCytO",
        "outputId": "c67f4bb6-99a0-41e4-a884-8f128cf77bc6",
        "colab": {
          "base_uri": "https://localhost:8080/"
        }
      },
      "source": [
        "productos.shape"
      ],
      "execution_count": null,
      "outputs": [
        {
          "output_type": "execute_result",
          "data": {
            "text/plain": [
              "(72038, 7)"
            ]
          },
          "metadata": {
            "tags": []
          },
          "execution_count": 386
        }
      ]
    },
    {
      "cell_type": "code",
      "metadata": {
        "id": "8v1N5-3nIcmh",
        "outputId": "f71b1085-fc5d-4000-d70a-b3ef8e1257a5",
        "colab": {
          "base_uri": "https://localhost:8080/"
        }
      },
      "source": [
        "##veo si hay duplicados en el archivo de productos por su id\n",
        "\n",
        "productos[productos.duplicated()]"
      ],
      "execution_count": null,
      "outputs": [
        {
          "output_type": "execute_result",
          "data": {
            "text/html": [
              "<div>\n",
              "<style scoped>\n",
              "    .dataframe tbody tr th:only-of-type {\n",
              "        vertical-align: middle;\n",
              "    }\n",
              "\n",
              "    .dataframe tbody tr th {\n",
              "        vertical-align: top;\n",
              "    }\n",
              "\n",
              "    .dataframe thead th {\n",
              "        text-align: right;\n",
              "    }\n",
              "</style>\n",
              "<table border=\"1\" class=\"dataframe\">\n",
              "  <thead>\n",
              "    <tr style=\"text-align: right;\">\n",
              "      <th></th>\n",
              "      <th>id</th>\n",
              "      <th>marca</th>\n",
              "      <th>nombre</th>\n",
              "      <th>presentacion</th>\n",
              "      <th>categoria1</th>\n",
              "      <th>categoria2</th>\n",
              "      <th>categoria3</th>\n",
              "    </tr>\n",
              "  </thead>\n",
              "  <tbody>\n",
              "  </tbody>\n",
              "</table>\n",
              "</div>"
            ],
            "text/plain": [
              "Empty DataFrame\n",
              "Columns: [id, marca, nombre, presentacion, categoria1, categoria2, categoria3]\n",
              "Index: []"
            ]
          },
          "metadata": {
            "tags": []
          },
          "execution_count": 387
        }
      ]
    },
    {
      "cell_type": "code",
      "metadata": {
        "id": "9W0Uy-jlEWhB"
      },
      "source": [
        "##################\n",
        "###\n",
        "# Para el set de datos de precios no hay que tenerlo en cuenta porque se sobreentiende que hay duplicados\n",
        "###\n",
        "##################"
      ],
      "execution_count": null,
      "outputs": []
    },
    {
      "cell_type": "markdown",
      "metadata": {
        "id": "o1t3Z5PkTIsK"
      },
      "source": [
        "#### 1.3. Despersonalizar Datos y Guardarlos en un Nuevo Archivo"
      ]
    },
    {
      "cell_type": "markdown",
      "metadata": {
        "id": "PwluolSVTIsL"
      },
      "source": [
        "En este caso, no es necesario despersonalizar ningún dato, dado que los mismos no incluyen información sensible.\n",
        "En todo caso, nos interesan las sucursales y sus direcciones."
      ]
    },
    {
      "cell_type": "markdown",
      "metadata": {
        "id": "V75h0EOXTIsM"
      },
      "source": [
        "#### 1.4. Nunca Modificar los Datos Crudos u Originales"
      ]
    },
    {
      "cell_type": "markdown",
      "metadata": {
        "id": "Sz5y5-6PTIsN"
      },
      "source": [
        "Al finalizar la limpieza, deberán guardar el dataset resultante, para asegurarse de no modificar los datos originales."
      ]
    },
    {
      "cell_type": "markdown",
      "metadata": {
        "id": "JMoc9Qr-TIsN"
      },
      "source": [
        "### 2. Pasos de Limpieza Necesarios"
      ]
    },
    {
      "cell_type": "markdown",
      "metadata": {
        "id": "aIIOyG63ZvgV"
      },
      "source": [
        "#### 2.1. Etiquetas de Variables/Columnas y Problemas de Codificación/Encoding"
      ]
    },
    {
      "cell_type": "markdown",
      "metadata": {
        "id": "ti6tvwiUTIsO"
      },
      "source": [
        "Antes que nada, verificar el encoding de la fuente de datos, leyendo en crudo los primeros 100000 caracteres, por ejemplo:"
      ]
    },
    {
      "cell_type": "code",
      "metadata": {
        "id": "EHXasMKtTIsP"
      },
      "source": [
        "import chardet"
      ],
      "execution_count": null,
      "outputs": []
    },
    {
      "cell_type": "code",
      "metadata": {
        "scrolled": true,
        "id": "OHbErHCpTIsS",
        "outputId": "b79b949a-af6d-4c9a-81b0-311f8b6601db",
        "colab": {
          "base_uri": "https://localhost:8080/"
        }
      },
      "source": [
        "import requests\n",
        "rawdata = requests.get(producto_url)\n",
        "result = chardet.detect(rawdata.content[:100000])\n",
        "result"
      ],
      "execution_count": null,
      "outputs": [
        {
          "output_type": "execute_result",
          "data": {
            "text/plain": [
              "{'confidence': 0.99, 'encoding': 'utf-8', 'language': ''}"
            ]
          },
          "metadata": {
            "tags": []
          },
          "execution_count": 390
        }
      ]
    },
    {
      "cell_type": "markdown",
      "metadata": {
        "id": "7PRFsIXbTIsW"
      },
      "source": [
        "Analizar los nombres de columnas, utilizando por ejemplo `df.columns.str.extract(r'^(\\w+)$')`."
      ]
    },
    {
      "cell_type": "code",
      "metadata": {
        "scrolled": false,
        "id": "J5Z6ury9TIsX",
        "outputId": "82ac739e-2f4a-4bc7-c5a0-f37fd3089535",
        "colab": {
          "base_uri": "https://localhost:8080/"
        }
      },
      "source": [
        "precios.columns.values"
      ],
      "execution_count": null,
      "outputs": [
        {
          "output_type": "execute_result",
          "data": {
            "text/plain": [
              "array(['precio', 'producto_id', 'sucursal_id', 'fecha'], dtype=object)"
            ]
          },
          "metadata": {
            "tags": []
          },
          "execution_count": 391
        }
      ]
    },
    {
      "cell_type": "code",
      "metadata": {
        "id": "Zm-94RLQLFoY",
        "outputId": "e31480dd-09a7-4ae4-efd2-4c4938e043c9",
        "colab": {
          "base_uri": "https://localhost:8080/"
        }
      },
      "source": [
        "precios.columns.str.extract(r'^(\\w+)$')"
      ],
      "execution_count": null,
      "outputs": [
        {
          "output_type": "execute_result",
          "data": {
            "text/html": [
              "<div>\n",
              "<style scoped>\n",
              "    .dataframe tbody tr th:only-of-type {\n",
              "        vertical-align: middle;\n",
              "    }\n",
              "\n",
              "    .dataframe tbody tr th {\n",
              "        vertical-align: top;\n",
              "    }\n",
              "\n",
              "    .dataframe thead th {\n",
              "        text-align: right;\n",
              "    }\n",
              "</style>\n",
              "<table border=\"1\" class=\"dataframe\">\n",
              "  <thead>\n",
              "    <tr style=\"text-align: right;\">\n",
              "      <th></th>\n",
              "      <th>0</th>\n",
              "    </tr>\n",
              "  </thead>\n",
              "  <tbody>\n",
              "    <tr>\n",
              "      <th>0</th>\n",
              "      <td>precio</td>\n",
              "    </tr>\n",
              "    <tr>\n",
              "      <th>1</th>\n",
              "      <td>producto_id</td>\n",
              "    </tr>\n",
              "    <tr>\n",
              "      <th>2</th>\n",
              "      <td>sucursal_id</td>\n",
              "    </tr>\n",
              "    <tr>\n",
              "      <th>3</th>\n",
              "      <td>fecha</td>\n",
              "    </tr>\n",
              "  </tbody>\n",
              "</table>\n",
              "</div>"
            ],
            "text/plain": [
              "             0\n",
              "0       precio\n",
              "1  producto_id\n",
              "2  sucursal_id\n",
              "3        fecha"
            ]
          },
          "metadata": {
            "tags": []
          },
          "execution_count": 392
        }
      ]
    },
    {
      "cell_type": "code",
      "metadata": {
        "id": "mUZgs5e6o5PW",
        "outputId": "d38847bb-7098-4147-caeb-02851249f732",
        "colab": {
          "base_uri": "https://localhost:8080/"
        }
      },
      "source": [
        "productos.columns.values"
      ],
      "execution_count": null,
      "outputs": [
        {
          "output_type": "execute_result",
          "data": {
            "text/plain": [
              "array(['id', 'marca', 'nombre', 'presentacion', 'categoria1',\n",
              "       'categoria2', 'categoria3'], dtype=object)"
            ]
          },
          "metadata": {
            "tags": []
          },
          "execution_count": 393
        }
      ]
    },
    {
      "cell_type": "code",
      "metadata": {
        "id": "DR1cRnriLMLi",
        "outputId": "b68b045b-7a7d-41a6-d4d0-d1bca0c9b61c",
        "colab": {
          "base_uri": "https://localhost:8080/"
        }
      },
      "source": [
        "productos.columns.str.extract(r'^(\\w+)$')"
      ],
      "execution_count": null,
      "outputs": [
        {
          "output_type": "execute_result",
          "data": {
            "text/html": [
              "<div>\n",
              "<style scoped>\n",
              "    .dataframe tbody tr th:only-of-type {\n",
              "        vertical-align: middle;\n",
              "    }\n",
              "\n",
              "    .dataframe tbody tr th {\n",
              "        vertical-align: top;\n",
              "    }\n",
              "\n",
              "    .dataframe thead th {\n",
              "        text-align: right;\n",
              "    }\n",
              "</style>\n",
              "<table border=\"1\" class=\"dataframe\">\n",
              "  <thead>\n",
              "    <tr style=\"text-align: right;\">\n",
              "      <th></th>\n",
              "      <th>0</th>\n",
              "    </tr>\n",
              "  </thead>\n",
              "  <tbody>\n",
              "    <tr>\n",
              "      <th>0</th>\n",
              "      <td>id</td>\n",
              "    </tr>\n",
              "    <tr>\n",
              "      <th>1</th>\n",
              "      <td>marca</td>\n",
              "    </tr>\n",
              "    <tr>\n",
              "      <th>2</th>\n",
              "      <td>nombre</td>\n",
              "    </tr>\n",
              "    <tr>\n",
              "      <th>3</th>\n",
              "      <td>presentacion</td>\n",
              "    </tr>\n",
              "    <tr>\n",
              "      <th>4</th>\n",
              "      <td>categoria1</td>\n",
              "    </tr>\n",
              "    <tr>\n",
              "      <th>5</th>\n",
              "      <td>categoria2</td>\n",
              "    </tr>\n",
              "    <tr>\n",
              "      <th>6</th>\n",
              "      <td>categoria3</td>\n",
              "    </tr>\n",
              "  </tbody>\n",
              "</table>\n",
              "</div>"
            ],
            "text/plain": [
              "              0\n",
              "0            id\n",
              "1         marca\n",
              "2        nombre\n",
              "3  presentacion\n",
              "4    categoria1\n",
              "5    categoria2\n",
              "6    categoria3"
            ]
          },
          "metadata": {
            "tags": []
          },
          "execution_count": 394
        }
      ]
    },
    {
      "cell_type": "code",
      "metadata": {
        "id": "ouEYaFEYo85n",
        "outputId": "be4a3bc2-db86-4be1-b329-3655550db956",
        "colab": {
          "base_uri": "https://localhost:8080/"
        }
      },
      "source": [
        "sucursales.columns.values"
      ],
      "execution_count": null,
      "outputs": [
        {
          "output_type": "execute_result",
          "data": {
            "text/plain": [
              "array(['id', 'comercioId', 'banderaId', 'banderaDescripcion',\n",
              "       'comercioRazonSocial', 'provincia', 'localidad', 'direccion',\n",
              "       'lat', 'lng', 'sucursalNombre', 'sucursalTipo', 'nom_provincia',\n",
              "       'region'], dtype=object)"
            ]
          },
          "metadata": {
            "tags": []
          },
          "execution_count": 395
        }
      ]
    },
    {
      "cell_type": "code",
      "metadata": {
        "id": "l1W3h6ufLQXn",
        "outputId": "2b5b739d-26e4-4017-a074-9c60e2cda061",
        "colab": {
          "base_uri": "https://localhost:8080/"
        }
      },
      "source": [
        "sucursales.columns.str.extract(r'^(\\w+)$')"
      ],
      "execution_count": null,
      "outputs": [
        {
          "output_type": "execute_result",
          "data": {
            "text/html": [
              "<div>\n",
              "<style scoped>\n",
              "    .dataframe tbody tr th:only-of-type {\n",
              "        vertical-align: middle;\n",
              "    }\n",
              "\n",
              "    .dataframe tbody tr th {\n",
              "        vertical-align: top;\n",
              "    }\n",
              "\n",
              "    .dataframe thead th {\n",
              "        text-align: right;\n",
              "    }\n",
              "</style>\n",
              "<table border=\"1\" class=\"dataframe\">\n",
              "  <thead>\n",
              "    <tr style=\"text-align: right;\">\n",
              "      <th></th>\n",
              "      <th>0</th>\n",
              "    </tr>\n",
              "  </thead>\n",
              "  <tbody>\n",
              "    <tr>\n",
              "      <th>0</th>\n",
              "      <td>id</td>\n",
              "    </tr>\n",
              "    <tr>\n",
              "      <th>1</th>\n",
              "      <td>comercioId</td>\n",
              "    </tr>\n",
              "    <tr>\n",
              "      <th>2</th>\n",
              "      <td>banderaId</td>\n",
              "    </tr>\n",
              "    <tr>\n",
              "      <th>3</th>\n",
              "      <td>banderaDescripcion</td>\n",
              "    </tr>\n",
              "    <tr>\n",
              "      <th>4</th>\n",
              "      <td>comercioRazonSocial</td>\n",
              "    </tr>\n",
              "    <tr>\n",
              "      <th>5</th>\n",
              "      <td>provincia</td>\n",
              "    </tr>\n",
              "    <tr>\n",
              "      <th>6</th>\n",
              "      <td>localidad</td>\n",
              "    </tr>\n",
              "    <tr>\n",
              "      <th>7</th>\n",
              "      <td>direccion</td>\n",
              "    </tr>\n",
              "    <tr>\n",
              "      <th>8</th>\n",
              "      <td>lat</td>\n",
              "    </tr>\n",
              "    <tr>\n",
              "      <th>9</th>\n",
              "      <td>lng</td>\n",
              "    </tr>\n",
              "    <tr>\n",
              "      <th>10</th>\n",
              "      <td>sucursalNombre</td>\n",
              "    </tr>\n",
              "    <tr>\n",
              "      <th>11</th>\n",
              "      <td>sucursalTipo</td>\n",
              "    </tr>\n",
              "    <tr>\n",
              "      <th>12</th>\n",
              "      <td>nom_provincia</td>\n",
              "    </tr>\n",
              "    <tr>\n",
              "      <th>13</th>\n",
              "      <td>region</td>\n",
              "    </tr>\n",
              "  </tbody>\n",
              "</table>\n",
              "</div>"
            ],
            "text/plain": [
              "                      0\n",
              "0                    id\n",
              "1            comercioId\n",
              "2             banderaId\n",
              "3    banderaDescripcion\n",
              "4   comercioRazonSocial\n",
              "5             provincia\n",
              "6             localidad\n",
              "7             direccion\n",
              "8                   lat\n",
              "9                   lng\n",
              "10       sucursalNombre\n",
              "11         sucursalTipo\n",
              "12        nom_provincia\n",
              "13               region"
            ]
          },
          "metadata": {
            "tags": []
          },
          "execution_count": 396
        }
      ]
    },
    {
      "cell_type": "markdown",
      "metadata": {
        "id": "RiqckRGVTIsb"
      },
      "source": [
        "#### 2.2. Tratamiento de Valores Faltantes"
      ]
    },
    {
      "cell_type": "markdown",
      "metadata": {
        "id": "PD1ZIWxbTIsb"
      },
      "source": [
        "Para analizar los valores faltantes, primero deberán saber cuántos existen por campo y cuánto representan del total. Por ejemplo, para el dataset de precios:"
      ]
    },
    {
      "cell_type": "markdown",
      "metadata": {
        "id": "CdFOqO3qRIQs"
      },
      "source": [
        "**set de datos de precios**"
      ]
    },
    {
      "cell_type": "code",
      "metadata": {
        "id": "38ny8TeKOCYR",
        "outputId": "b151a8e2-4c6c-46c1-83e3-c680995862eb",
        "colab": {
          "base_uri": "https://localhost:8080/"
        }
      },
      "source": [
        "precios.head()"
      ],
      "execution_count": null,
      "outputs": [
        {
          "output_type": "execute_result",
          "data": {
            "text/html": [
              "<div>\n",
              "<style scoped>\n",
              "    .dataframe tbody tr th:only-of-type {\n",
              "        vertical-align: middle;\n",
              "    }\n",
              "\n",
              "    .dataframe tbody tr th {\n",
              "        vertical-align: top;\n",
              "    }\n",
              "\n",
              "    .dataframe thead th {\n",
              "        text-align: right;\n",
              "    }\n",
              "</style>\n",
              "<table border=\"1\" class=\"dataframe\">\n",
              "  <thead>\n",
              "    <tr style=\"text-align: right;\">\n",
              "      <th></th>\n",
              "      <th>precio</th>\n",
              "      <th>producto_id</th>\n",
              "      <th>sucursal_id</th>\n",
              "      <th>fecha</th>\n",
              "    </tr>\n",
              "  </thead>\n",
              "  <tbody>\n",
              "    <tr>\n",
              "      <th>0</th>\n",
              "      <td>29.90</td>\n",
              "      <td>0000000001663</td>\n",
              "      <td>2-1-014</td>\n",
              "      <td>20200412</td>\n",
              "    </tr>\n",
              "    <tr>\n",
              "      <th>1</th>\n",
              "      <td>29.90</td>\n",
              "      <td>0000000002288</td>\n",
              "      <td>2-1-032</td>\n",
              "      <td>20200412</td>\n",
              "    </tr>\n",
              "    <tr>\n",
              "      <th>2</th>\n",
              "      <td>39.90</td>\n",
              "      <td>0000000002288</td>\n",
              "      <td>2-1-096</td>\n",
              "      <td>20200412</td>\n",
              "    </tr>\n",
              "    <tr>\n",
              "      <th>3</th>\n",
              "      <td>499.99</td>\n",
              "      <td>0000000205870</td>\n",
              "      <td>9-1-686</td>\n",
              "      <td>20200412</td>\n",
              "    </tr>\n",
              "    <tr>\n",
              "      <th>4</th>\n",
              "      <td>519.99</td>\n",
              "      <td>0000000205870</td>\n",
              "      <td>9-2-248</td>\n",
              "      <td>20200412</td>\n",
              "    </tr>\n",
              "  </tbody>\n",
              "</table>\n",
              "</div>"
            ],
            "text/plain": [
              "   precio    producto_id sucursal_id     fecha\n",
              "0   29.90  0000000001663     2-1-014  20200412\n",
              "1   29.90  0000000002288     2-1-032  20200412\n",
              "2   39.90  0000000002288     2-1-096  20200412\n",
              "3  499.99  0000000205870     9-1-686  20200412\n",
              "4  519.99  0000000205870     9-2-248  20200412"
            ]
          },
          "metadata": {
            "tags": []
          },
          "execution_count": 397
        }
      ]
    },
    {
      "cell_type": "code",
      "metadata": {
        "id": "z3F80M1mUx1d",
        "outputId": "1be3c1e7-f08d-4ecd-9f5a-8be094311e95",
        "colab": {
          "base_uri": "https://localhost:8080/"
        }
      },
      "source": [
        "precios.isnull().sum()"
      ],
      "execution_count": null,
      "outputs": [
        {
          "output_type": "execute_result",
          "data": {
            "text/plain": [
              "precio         7623\n",
              "producto_id       0\n",
              "sucursal_id       0\n",
              "fecha             0\n",
              "dtype: int64"
            ]
          },
          "metadata": {
            "tags": []
          },
          "execution_count": 398
        }
      ]
    },
    {
      "cell_type": "code",
      "metadata": {
        "id": "Sq1sq986TIsc",
        "outputId": "b6964b95-c6b0-48a0-8d1f-48d5d6665281",
        "colab": {
          "base_uri": "https://localhost:8080/"
        }
      },
      "source": [
        "precios_valores_faltantes = pd.DataFrame([precios.isnull().sum(),\n",
        "                                   precios.isnull().sum()/len(precios)]).transpose().rename(\n",
        "    columns = {0:'Cantidad_NaN',1:'Porcentaje_Nan_s_Total'})\n",
        "\n",
        "precios_valores_faltantes.loc[precios_valores_faltantes['Cantidad_NaN']>0].style.format({'Porcentaje_Nan_s_Total':\"{:.2%}\"})"
      ],
      "execution_count": null,
      "outputs": [
        {
          "output_type": "execute_result",
          "data": {
            "text/html": [
              "<style  type=\"text/css\" >\n",
              "</style><table id=\"T_06cbbaa6_e1a4_11ea_91cf_0242ac1c0002\" ><thead>    <tr>        <th class=\"blank level0\" ></th>        <th class=\"col_heading level0 col0\" >Cantidad_NaN</th>        <th class=\"col_heading level0 col1\" >Porcentaje_Nan_s_Total</th>    </tr></thead><tbody>\n",
              "                <tr>\n",
              "                        <th id=\"T_06cbbaa6_e1a4_11ea_91cf_0242ac1c0002level0_row0\" class=\"row_heading level0 row0\" >precio</th>\n",
              "                        <td id=\"T_06cbbaa6_e1a4_11ea_91cf_0242ac1c0002row0_col0\" class=\"data row0 col0\" >7623.000000</td>\n",
              "                        <td id=\"T_06cbbaa6_e1a4_11ea_91cf_0242ac1c0002row0_col1\" class=\"data row0 col1\" >0.34%</td>\n",
              "            </tr>\n",
              "    </tbody></table>"
            ],
            "text/plain": [
              "<pandas.io.formats.style.Styler at 0x7f4b33a55358>"
            ]
          },
          "metadata": {
            "tags": []
          },
          "execution_count": 399
        }
      ]
    },
    {
      "cell_type": "code",
      "metadata": {
        "id": "lD6zBREsODYH",
        "outputId": "ca55bf8d-e1ee-4f4f-b399-f11d54ded3af",
        "colab": {
          "base_uri": "https://localhost:8080/"
        }
      },
      "source": [
        "##Cuáles son los id de productos que vienen sin precio?\n",
        "precios['producto_id'][precios.precio.isnull()].value_counts(dropna=False).reset_index()\\\n",
        "    .rename(columns={'index':'productos', 'cantidad':'cantidad'}, inplace=False)"
      ],
      "execution_count": null,
      "outputs": [
        {
          "output_type": "execute_result",
          "data": {
            "text/html": [
              "<div>\n",
              "<style scoped>\n",
              "    .dataframe tbody tr th:only-of-type {\n",
              "        vertical-align: middle;\n",
              "    }\n",
              "\n",
              "    .dataframe tbody tr th {\n",
              "        vertical-align: top;\n",
              "    }\n",
              "\n",
              "    .dataframe thead th {\n",
              "        text-align: right;\n",
              "    }\n",
              "</style>\n",
              "<table border=\"1\" class=\"dataframe\">\n",
              "  <thead>\n",
              "    <tr style=\"text-align: right;\">\n",
              "      <th></th>\n",
              "      <th>productos</th>\n",
              "      <th>producto_id</th>\n",
              "    </tr>\n",
              "  </thead>\n",
              "  <tbody>\n",
              "    <tr>\n",
              "      <th>0</th>\n",
              "      <td>7891024034095</td>\n",
              "      <td>4</td>\n",
              "    </tr>\n",
              "    <tr>\n",
              "      <th>1</th>\n",
              "      <td>7791113003783</td>\n",
              "      <td>4</td>\n",
              "    </tr>\n",
              "    <tr>\n",
              "      <th>2</th>\n",
              "      <td>7622300841461</td>\n",
              "      <td>4</td>\n",
              "    </tr>\n",
              "    <tr>\n",
              "      <th>3</th>\n",
              "      <td>65-1-0000000008151</td>\n",
              "      <td>4</td>\n",
              "    </tr>\n",
              "    <tr>\n",
              "      <th>4</th>\n",
              "      <td>7791293038391</td>\n",
              "      <td>4</td>\n",
              "    </tr>\n",
              "    <tr>\n",
              "      <th>...</th>\n",
              "      <td>...</td>\n",
              "      <td>...</td>\n",
              "    </tr>\n",
              "    <tr>\n",
              "      <th>2268</th>\n",
              "      <td>7500435011303</td>\n",
              "      <td>1</td>\n",
              "    </tr>\n",
              "    <tr>\n",
              "      <th>2269</th>\n",
              "      <td>7891150045316</td>\n",
              "      <td>1</td>\n",
              "    </tr>\n",
              "    <tr>\n",
              "      <th>2270</th>\n",
              "      <td>7791600192044</td>\n",
              "      <td>1</td>\n",
              "    </tr>\n",
              "    <tr>\n",
              "      <th>2271</th>\n",
              "      <td>7500435020091</td>\n",
              "      <td>1</td>\n",
              "    </tr>\n",
              "    <tr>\n",
              "      <th>2272</th>\n",
              "      <td>7891150053090</td>\n",
              "      <td>1</td>\n",
              "    </tr>\n",
              "  </tbody>\n",
              "</table>\n",
              "<p>2273 rows × 2 columns</p>\n",
              "</div>"
            ],
            "text/plain": [
              "               productos  producto_id\n",
              "0          7891024034095            4\n",
              "1          7791113003783            4\n",
              "2          7622300841461            4\n",
              "3     65-1-0000000008151            4\n",
              "4          7791293038391            4\n",
              "...                  ...          ...\n",
              "2268       7500435011303            1\n",
              "2269       7891150045316            1\n",
              "2270       7791600192044            1\n",
              "2271       7500435020091            1\n",
              "2272       7891150053090            1\n",
              "\n",
              "[2273 rows x 2 columns]"
            ]
          },
          "metadata": {
            "tags": []
          },
          "execution_count": 400
        }
      ]
    },
    {
      "cell_type": "code",
      "metadata": {
        "id": "QaAaDTiwNzGZ",
        "outputId": "350aaa5e-b5a8-4d62-9388-cf9b75b5a7d4",
        "colab": {
          "base_uri": "https://localhost:8080/"
        }
      },
      "source": [
        "##Para qué sucursales ocurre? \n",
        "precios['sucursal_id'][precios.precio.isnull()].value_counts(dropna=False).reset_index()\\\n",
        "    .rename(columns={'index':'Sucursal', 'sucursal_id':'cantidad'}, inplace=False)"
      ],
      "execution_count": null,
      "outputs": [
        {
          "output_type": "execute_result",
          "data": {
            "text/html": [
              "<div>\n",
              "<style scoped>\n",
              "    .dataframe tbody tr th:only-of-type {\n",
              "        vertical-align: middle;\n",
              "    }\n",
              "\n",
              "    .dataframe tbody tr th {\n",
              "        vertical-align: top;\n",
              "    }\n",
              "\n",
              "    .dataframe thead th {\n",
              "        text-align: right;\n",
              "    }\n",
              "</style>\n",
              "<table border=\"1\" class=\"dataframe\">\n",
              "  <thead>\n",
              "    <tr style=\"text-align: right;\">\n",
              "      <th></th>\n",
              "      <th>Sucursal</th>\n",
              "      <th>cantidad</th>\n",
              "    </tr>\n",
              "  </thead>\n",
              "  <tbody>\n",
              "    <tr>\n",
              "      <th>0</th>\n",
              "      <td>65-1-328</td>\n",
              "      <td>3546</td>\n",
              "    </tr>\n",
              "    <tr>\n",
              "      <th>1</th>\n",
              "      <td>65-1-317</td>\n",
              "      <td>2001</td>\n",
              "    </tr>\n",
              "    <tr>\n",
              "      <th>2</th>\n",
              "      <td>65-1-341</td>\n",
              "      <td>1929</td>\n",
              "    </tr>\n",
              "    <tr>\n",
              "      <th>3</th>\n",
              "      <td>65-1-337</td>\n",
              "      <td>146</td>\n",
              "    </tr>\n",
              "    <tr>\n",
              "      <th>4</th>\n",
              "      <td>65-1-315</td>\n",
              "      <td>1</td>\n",
              "    </tr>\n",
              "  </tbody>\n",
              "</table>\n",
              "</div>"
            ],
            "text/plain": [
              "   Sucursal  cantidad\n",
              "0  65-1-328      3546\n",
              "1  65-1-317      2001\n",
              "2  65-1-341      1929\n",
              "3  65-1-337       146\n",
              "4  65-1-315         1"
            ]
          },
          "metadata": {
            "tags": []
          },
          "execution_count": 401
        }
      ]
    },
    {
      "cell_type": "code",
      "metadata": {
        "id": "JaAugYVfOTdx",
        "outputId": "e291d2ac-a7bc-426f-a6e5-02b534cadf84",
        "colab": {
          "base_uri": "https://localhost:8080/"
        }
      },
      "source": [
        "###Para qué fecha?\n",
        "precios['fecha'][precios.precio.isnull()].value_counts(dropna=False).reset_index()\\\n",
        "    .rename(columns={'index':'fecha', 'p':'cantidad'}, inplace=False)"
      ],
      "execution_count": null,
      "outputs": [
        {
          "output_type": "execute_result",
          "data": {
            "text/html": [
              "<div>\n",
              "<style scoped>\n",
              "    .dataframe tbody tr th:only-of-type {\n",
              "        vertical-align: middle;\n",
              "    }\n",
              "\n",
              "    .dataframe tbody tr th {\n",
              "        vertical-align: top;\n",
              "    }\n",
              "\n",
              "    .dataframe thead th {\n",
              "        text-align: right;\n",
              "    }\n",
              "</style>\n",
              "<table border=\"1\" class=\"dataframe\">\n",
              "  <thead>\n",
              "    <tr style=\"text-align: right;\">\n",
              "      <th></th>\n",
              "      <th>fecha</th>\n",
              "      <th>fecha</th>\n",
              "    </tr>\n",
              "  </thead>\n",
              "  <tbody>\n",
              "    <tr>\n",
              "      <th>0</th>\n",
              "      <td>20200502</td>\n",
              "      <td>2124</td>\n",
              "    </tr>\n",
              "    <tr>\n",
              "      <th>1</th>\n",
              "      <td>20200518</td>\n",
              "      <td>1956</td>\n",
              "    </tr>\n",
              "    <tr>\n",
              "      <th>2</th>\n",
              "      <td>20200419</td>\n",
              "      <td>1807</td>\n",
              "    </tr>\n",
              "    <tr>\n",
              "      <th>3</th>\n",
              "      <td>20200426</td>\n",
              "      <td>1736</td>\n",
              "    </tr>\n",
              "  </tbody>\n",
              "</table>\n",
              "</div>"
            ],
            "text/plain": [
              "      fecha  fecha\n",
              "0  20200502   2124\n",
              "1  20200518   1956\n",
              "2  20200419   1807\n",
              "3  20200426   1736"
            ]
          },
          "metadata": {
            "tags": []
          },
          "execution_count": 402
        }
      ]
    },
    {
      "cell_type": "code",
      "metadata": {
        "id": "7-tYzKoHNnHL",
        "outputId": "ffd2d676-2584-4207-c075-2999f8f98f7c",
        "colab": {
          "base_uri": "https://localhost:8080/"
        }
      },
      "source": [
        "##armo un dataset con los faltantes para ver si tienen la ota informacion para saber si saco todo el registro o puedo imputarlo\n",
        "precios[precios.precio.isnull()]"
      ],
      "execution_count": null,
      "outputs": [
        {
          "output_type": "execute_result",
          "data": {
            "text/html": [
              "<div>\n",
              "<style scoped>\n",
              "    .dataframe tbody tr th:only-of-type {\n",
              "        vertical-align: middle;\n",
              "    }\n",
              "\n",
              "    .dataframe tbody tr th {\n",
              "        vertical-align: top;\n",
              "    }\n",
              "\n",
              "    .dataframe thead th {\n",
              "        text-align: right;\n",
              "    }\n",
              "</style>\n",
              "<table border=\"1\" class=\"dataframe\">\n",
              "  <thead>\n",
              "    <tr style=\"text-align: right;\">\n",
              "      <th></th>\n",
              "      <th>precio</th>\n",
              "      <th>producto_id</th>\n",
              "      <th>sucursal_id</th>\n",
              "      <th>fecha</th>\n",
              "    </tr>\n",
              "  </thead>\n",
              "  <tbody>\n",
              "    <tr>\n",
              "      <th>10045</th>\n",
              "      <td>NaN</td>\n",
              "      <td>0643131504438</td>\n",
              "      <td>65-1-341</td>\n",
              "      <td>20200419</td>\n",
              "    </tr>\n",
              "    <tr>\n",
              "      <th>10426</th>\n",
              "      <td>NaN</td>\n",
              "      <td>0655257738062</td>\n",
              "      <td>65-1-341</td>\n",
              "      <td>20200419</td>\n",
              "    </tr>\n",
              "    <tr>\n",
              "      <th>10427</th>\n",
              "      <td>NaN</td>\n",
              "      <td>0655257738246</td>\n",
              "      <td>65-1-341</td>\n",
              "      <td>20200419</td>\n",
              "    </tr>\n",
              "    <tr>\n",
              "      <th>20608</th>\n",
              "      <td>NaN</td>\n",
              "      <td>3014260014445</td>\n",
              "      <td>65-1-341</td>\n",
              "      <td>20200419</td>\n",
              "    </tr>\n",
              "    <tr>\n",
              "      <th>20640</th>\n",
              "      <td>NaN</td>\n",
              "      <td>3014260019723</td>\n",
              "      <td>65-1-341</td>\n",
              "      <td>20200419</td>\n",
              "    </tr>\n",
              "    <tr>\n",
              "      <th>...</th>\n",
              "      <td>...</td>\n",
              "      <td>...</td>\n",
              "      <td>...</td>\n",
              "      <td>...</td>\n",
              "    </tr>\n",
              "    <tr>\n",
              "      <th>409770</th>\n",
              "      <td>NaN</td>\n",
              "      <td>8004200128702</td>\n",
              "      <td>65-1-328</td>\n",
              "      <td>20200518</td>\n",
              "    </tr>\n",
              "    <tr>\n",
              "      <th>409811</th>\n",
              "      <td>NaN</td>\n",
              "      <td>8004200128801</td>\n",
              "      <td>65-1-328</td>\n",
              "      <td>20200518</td>\n",
              "    </tr>\n",
              "    <tr>\n",
              "      <th>409851</th>\n",
              "      <td>NaN</td>\n",
              "      <td>8004200128900</td>\n",
              "      <td>65-1-328</td>\n",
              "      <td>20200518</td>\n",
              "    </tr>\n",
              "    <tr>\n",
              "      <th>409879</th>\n",
              "      <td>NaN</td>\n",
              "      <td>8004200129006</td>\n",
              "      <td>65-1-328</td>\n",
              "      <td>20200518</td>\n",
              "    </tr>\n",
              "    <tr>\n",
              "      <th>412256</th>\n",
              "      <td>NaN</td>\n",
              "      <td>8710447226971</td>\n",
              "      <td>65-1-328</td>\n",
              "      <td>20200518</td>\n",
              "    </tr>\n",
              "  </tbody>\n",
              "</table>\n",
              "<p>7623 rows × 4 columns</p>\n",
              "</div>"
            ],
            "text/plain": [
              "        precio    producto_id sucursal_id     fecha\n",
              "10045      NaN  0643131504438    65-1-341  20200419\n",
              "10426      NaN  0655257738062    65-1-341  20200419\n",
              "10427      NaN  0655257738246    65-1-341  20200419\n",
              "20608      NaN  3014260014445    65-1-341  20200419\n",
              "20640      NaN  3014260019723    65-1-341  20200419\n",
              "...        ...            ...         ...       ...\n",
              "409770     NaN  8004200128702    65-1-328  20200518\n",
              "409811     NaN  8004200128801    65-1-328  20200518\n",
              "409851     NaN  8004200128900    65-1-328  20200518\n",
              "409879     NaN  8004200129006    65-1-328  20200518\n",
              "412256     NaN  8710447226971    65-1-328  20200518\n",
              "\n",
              "[7623 rows x 4 columns]"
            ]
          },
          "metadata": {
            "tags": []
          },
          "execution_count": 403
        }
      ]
    },
    {
      "cell_type": "markdown",
      "metadata": {
        "id": "T2E4sVad0WVK"
      },
      "source": [
        "* Cuáles son los id de productos que vienen sin precio?\n",
        "* Para qué sucursales ocurre? Para qué fecha?\n",
        "* Se podría calcular o agregar los valores faltantes en precio?"
      ]
    },
    {
      "cell_type": "markdown",
      "metadata": {
        "id": "vF58y6rLF13V"
      },
      "source": [
        "***S e ha decidido eliminar estos registros con precios perdidos porque si bien podrian ser reemplazados por la media de los precios de un producto similar o el precio promedio segun la fecha, tipo de surcursal, entre otros, esto generaria distorsiones en nuestro analisis.***"
      ]
    },
    {
      "cell_type": "code",
      "metadata": {
        "id": "U8oSO85nQC7H"
      },
      "source": [
        "precios_limpios = precios.copy()"
      ],
      "execution_count": null,
      "outputs": []
    },
    {
      "cell_type": "code",
      "metadata": {
        "id": "5MHX9wL_KvU6"
      },
      "source": [
        "precios_limpios = precios_limpios[precios_limpios.precio.notna()].copy()"
      ],
      "execution_count": null,
      "outputs": []
    },
    {
      "cell_type": "code",
      "metadata": {
        "id": "ixaG5ESuQUAg",
        "outputId": "7120ff5d-799a-4314-e1a4-352bd1244ff2",
        "colab": {
          "base_uri": "https://localhost:8080/"
        }
      },
      "source": [
        "precios.isnull().sum()"
      ],
      "execution_count": null,
      "outputs": [
        {
          "output_type": "execute_result",
          "data": {
            "text/plain": [
              "precio         7623\n",
              "producto_id       0\n",
              "sucursal_id       0\n",
              "fecha             0\n",
              "dtype: int64"
            ]
          },
          "metadata": {
            "tags": []
          },
          "execution_count": 406
        }
      ]
    },
    {
      "cell_type": "code",
      "metadata": {
        "id": "kkhxVroNK8Ra",
        "outputId": "59d392e6-8cb5-41a0-8e94-ff499c96f648",
        "colab": {
          "base_uri": "https://localhost:8080/"
        }
      },
      "source": [
        "precios_limpios.isnull().sum()"
      ],
      "execution_count": null,
      "outputs": [
        {
          "output_type": "execute_result",
          "data": {
            "text/plain": [
              "precio         0\n",
              "producto_id    0\n",
              "sucursal_id    0\n",
              "fecha          0\n",
              "dtype: int64"
            ]
          },
          "metadata": {
            "tags": []
          },
          "execution_count": 407
        }
      ]
    },
    {
      "cell_type": "code",
      "metadata": {
        "id": "36gN0xeRy7tZ"
      },
      "source": [
        "##precios[precios.producto_id=='8004200128801']"
      ],
      "execution_count": null,
      "outputs": []
    },
    {
      "cell_type": "code",
      "metadata": {
        "id": "LUm48oakx3jE"
      },
      "source": [
        "##productos[productos.id=='8004200129006']"
      ],
      "execution_count": null,
      "outputs": []
    },
    {
      "cell_type": "markdown",
      "metadata": {
        "id": "E6sJSPsZTZil"
      },
      "source": [
        "**set de datos de productos**"
      ]
    },
    {
      "cell_type": "code",
      "metadata": {
        "id": "NbeC5TW9VPPc",
        "outputId": "d51b9ee0-d78e-4a1c-c47e-69a5a167dd9a",
        "colab": {
          "base_uri": "https://localhost:8080/"
        }
      },
      "source": [
        "productos.isnull().sum()"
      ],
      "execution_count": null,
      "outputs": [
        {
          "output_type": "execute_result",
          "data": {
            "text/plain": [
              "id                  0\n",
              "marca               2\n",
              "nombre              2\n",
              "presentacion        2\n",
              "categoria1      72034\n",
              "categoria2      72034\n",
              "categoria3      72034\n",
              "dtype: int64"
            ]
          },
          "metadata": {
            "tags": []
          },
          "execution_count": 410
        }
      ]
    },
    {
      "cell_type": "code",
      "metadata": {
        "id": "O-f3Y-V0Q2j9",
        "outputId": "f4babb53-b5df-4861-fe06-297b9ecf0cd5",
        "colab": {
          "base_uri": "https://localhost:8080/"
        }
      },
      "source": [
        "producto_valores_faltantes = pd.DataFrame([productos.isnull().sum(),\n",
        "                                   productos.isnull().sum()/len(productos)]).transpose().rename(\n",
        "    columns = {0:'Cantidad_NaN',1:'Porcentaje_Nan_s_Total'})\n",
        "\n",
        "producto_valores_faltantes.loc[producto_valores_faltantes['Cantidad_NaN']>0].style.format({'Porcentaje_Nan_s_Total':\"{:.2%}\"})"
      ],
      "execution_count": null,
      "outputs": [
        {
          "output_type": "execute_result",
          "data": {
            "text/html": [
              "<style  type=\"text/css\" >\n",
              "</style><table id=\"T_0756f468_e1a4_11ea_91cf_0242ac1c0002\" ><thead>    <tr>        <th class=\"blank level0\" ></th>        <th class=\"col_heading level0 col0\" >Cantidad_NaN</th>        <th class=\"col_heading level0 col1\" >Porcentaje_Nan_s_Total</th>    </tr></thead><tbody>\n",
              "                <tr>\n",
              "                        <th id=\"T_0756f468_e1a4_11ea_91cf_0242ac1c0002level0_row0\" class=\"row_heading level0 row0\" >marca</th>\n",
              "                        <td id=\"T_0756f468_e1a4_11ea_91cf_0242ac1c0002row0_col0\" class=\"data row0 col0\" >2.000000</td>\n",
              "                        <td id=\"T_0756f468_e1a4_11ea_91cf_0242ac1c0002row0_col1\" class=\"data row0 col1\" >0.00%</td>\n",
              "            </tr>\n",
              "            <tr>\n",
              "                        <th id=\"T_0756f468_e1a4_11ea_91cf_0242ac1c0002level0_row1\" class=\"row_heading level0 row1\" >nombre</th>\n",
              "                        <td id=\"T_0756f468_e1a4_11ea_91cf_0242ac1c0002row1_col0\" class=\"data row1 col0\" >2.000000</td>\n",
              "                        <td id=\"T_0756f468_e1a4_11ea_91cf_0242ac1c0002row1_col1\" class=\"data row1 col1\" >0.00%</td>\n",
              "            </tr>\n",
              "            <tr>\n",
              "                        <th id=\"T_0756f468_e1a4_11ea_91cf_0242ac1c0002level0_row2\" class=\"row_heading level0 row2\" >presentacion</th>\n",
              "                        <td id=\"T_0756f468_e1a4_11ea_91cf_0242ac1c0002row2_col0\" class=\"data row2 col0\" >2.000000</td>\n",
              "                        <td id=\"T_0756f468_e1a4_11ea_91cf_0242ac1c0002row2_col1\" class=\"data row2 col1\" >0.00%</td>\n",
              "            </tr>\n",
              "            <tr>\n",
              "                        <th id=\"T_0756f468_e1a4_11ea_91cf_0242ac1c0002level0_row3\" class=\"row_heading level0 row3\" >categoria1</th>\n",
              "                        <td id=\"T_0756f468_e1a4_11ea_91cf_0242ac1c0002row3_col0\" class=\"data row3 col0\" >72034.000000</td>\n",
              "                        <td id=\"T_0756f468_e1a4_11ea_91cf_0242ac1c0002row3_col1\" class=\"data row3 col1\" >99.99%</td>\n",
              "            </tr>\n",
              "            <tr>\n",
              "                        <th id=\"T_0756f468_e1a4_11ea_91cf_0242ac1c0002level0_row4\" class=\"row_heading level0 row4\" >categoria2</th>\n",
              "                        <td id=\"T_0756f468_e1a4_11ea_91cf_0242ac1c0002row4_col0\" class=\"data row4 col0\" >72034.000000</td>\n",
              "                        <td id=\"T_0756f468_e1a4_11ea_91cf_0242ac1c0002row4_col1\" class=\"data row4 col1\" >99.99%</td>\n",
              "            </tr>\n",
              "            <tr>\n",
              "                        <th id=\"T_0756f468_e1a4_11ea_91cf_0242ac1c0002level0_row5\" class=\"row_heading level0 row5\" >categoria3</th>\n",
              "                        <td id=\"T_0756f468_e1a4_11ea_91cf_0242ac1c0002row5_col0\" class=\"data row5 col0\" >72034.000000</td>\n",
              "                        <td id=\"T_0756f468_e1a4_11ea_91cf_0242ac1c0002row5_col1\" class=\"data row5 col1\" >99.99%</td>\n",
              "            </tr>\n",
              "    </tbody></table>"
            ],
            "text/plain": [
              "<pandas.io.formats.style.Styler at 0x7f4b3525a4a8>"
            ]
          },
          "metadata": {
            "tags": []
          },
          "execution_count": 411
        }
      ]
    },
    {
      "cell_type": "code",
      "metadata": {
        "id": "JO7R9mZJWBpx",
        "outputId": "bc0d20d1-36ad-498c-c2b9-d2419fe4be5c",
        "colab": {
          "base_uri": "https://localhost:8080/"
        }
      },
      "source": [
        "##cuales son estos productos\n",
        "#dataset\n",
        "#dataset.marca\n",
        "#dataset['marca']\n",
        "#lista_de_variables = ['marca', 'nombre','presentacion']\n",
        "#dataset[  lista_de_variables                  ]\n",
        "#dataset[  ['marca', 'nombre','presentacion']  ]\n",
        "productos[productos.marca.isnull()]"
      ],
      "execution_count": null,
      "outputs": [
        {
          "output_type": "execute_result",
          "data": {
            "text/html": [
              "<div>\n",
              "<style scoped>\n",
              "    .dataframe tbody tr th:only-of-type {\n",
              "        vertical-align: middle;\n",
              "    }\n",
              "\n",
              "    .dataframe tbody tr th {\n",
              "        vertical-align: top;\n",
              "    }\n",
              "\n",
              "    .dataframe thead th {\n",
              "        text-align: right;\n",
              "    }\n",
              "</style>\n",
              "<table border=\"1\" class=\"dataframe\">\n",
              "  <thead>\n",
              "    <tr style=\"text-align: right;\">\n",
              "      <th></th>\n",
              "      <th>id</th>\n",
              "      <th>marca</th>\n",
              "      <th>nombre</th>\n",
              "      <th>presentacion</th>\n",
              "      <th>categoria1</th>\n",
              "      <th>categoria2</th>\n",
              "      <th>categoria3</th>\n",
              "    </tr>\n",
              "  </thead>\n",
              "  <tbody>\n",
              "    <tr>\n",
              "      <th>53619</th>\n",
              "      <td>7798024299045</td>\n",
              "      <td>NaN</td>\n",
              "      <td>NaN</td>\n",
              "      <td>NaN</td>\n",
              "      <td>Almacén</td>\n",
              "      <td>Aceites</td>\n",
              "      <td>Aerosol</td>\n",
              "    </tr>\n",
              "    <tr>\n",
              "      <th>55798</th>\n",
              "      <td>7798061190213</td>\n",
              "      <td>NaN</td>\n",
              "      <td>NaN</td>\n",
              "      <td>NaN</td>\n",
              "      <td>Almacén</td>\n",
              "      <td>Aceites</td>\n",
              "      <td>Oliva</td>\n",
              "    </tr>\n",
              "  </tbody>\n",
              "</table>\n",
              "</div>"
            ],
            "text/plain": [
              "                  id marca nombre presentacion categoria1 categoria2  \\\n",
              "53619  7798024299045   NaN    NaN          NaN    Almacén    Aceites   \n",
              "55798  7798061190213   NaN    NaN          NaN    Almacén    Aceites   \n",
              "\n",
              "      categoria3  \n",
              "53619    Aerosol  \n",
              "55798      Oliva  "
            ]
          },
          "metadata": {
            "tags": []
          },
          "execution_count": 412
        }
      ]
    },
    {
      "cell_type": "code",
      "metadata": {
        "id": "P6zyLmzaTemT"
      },
      "source": [
        "##preguntar porque me trae cosas distintas?\n",
        "#productos[productos.isnull()].sum()"
      ],
      "execution_count": null,
      "outputs": []
    },
    {
      "cell_type": "code",
      "metadata": {
        "id": "yXkp-I9pVhFH",
        "outputId": "f682c4d7-90da-445f-f12f-db8c029694a3",
        "colab": {
          "base_uri": "https://localhost:8080/"
        }
      },
      "source": [
        "##los busco en los precios por si estan reportados\n",
        "##preguntar como puedo hacer la busqueda a la vez\n",
        "\n",
        "precios[precios.producto_id=='7798024299045']"
      ],
      "execution_count": null,
      "outputs": [
        {
          "output_type": "execute_result",
          "data": {
            "text/html": [
              "<div>\n",
              "<style scoped>\n",
              "    .dataframe tbody tr th:only-of-type {\n",
              "        vertical-align: middle;\n",
              "    }\n",
              "\n",
              "    .dataframe tbody tr th {\n",
              "        vertical-align: top;\n",
              "    }\n",
              "\n",
              "    .dataframe thead th {\n",
              "        text-align: right;\n",
              "    }\n",
              "</style>\n",
              "<table border=\"1\" class=\"dataframe\">\n",
              "  <thead>\n",
              "    <tr style=\"text-align: right;\">\n",
              "      <th></th>\n",
              "      <th>precio</th>\n",
              "      <th>producto_id</th>\n",
              "      <th>sucursal_id</th>\n",
              "      <th>fecha</th>\n",
              "    </tr>\n",
              "  </thead>\n",
              "  <tbody>\n",
              "  </tbody>\n",
              "</table>\n",
              "</div>"
            ],
            "text/plain": [
              "Empty DataFrame\n",
              "Columns: [precio, producto_id, sucursal_id, fecha]\n",
              "Index: []"
            ]
          },
          "metadata": {
            "tags": []
          },
          "execution_count": 414
        }
      ]
    },
    {
      "cell_type": "code",
      "metadata": {
        "id": "E5rNaukaX3Rv",
        "outputId": "3205d69f-0602-42c9-e7e6-a11d31af44a9",
        "colab": {
          "base_uri": "https://localhost:8080/"
        }
      },
      "source": [
        "precios[precios.producto_id=='7798061190213']"
      ],
      "execution_count": null,
      "outputs": [
        {
          "output_type": "execute_result",
          "data": {
            "text/html": [
              "<div>\n",
              "<style scoped>\n",
              "    .dataframe tbody tr th:only-of-type {\n",
              "        vertical-align: middle;\n",
              "    }\n",
              "\n",
              "    .dataframe tbody tr th {\n",
              "        vertical-align: top;\n",
              "    }\n",
              "\n",
              "    .dataframe thead th {\n",
              "        text-align: right;\n",
              "    }\n",
              "</style>\n",
              "<table border=\"1\" class=\"dataframe\">\n",
              "  <thead>\n",
              "    <tr style=\"text-align: right;\">\n",
              "      <th></th>\n",
              "      <th>precio</th>\n",
              "      <th>producto_id</th>\n",
              "      <th>sucursal_id</th>\n",
              "      <th>fecha</th>\n",
              "    </tr>\n",
              "  </thead>\n",
              "  <tbody>\n",
              "  </tbody>\n",
              "</table>\n",
              "</div>"
            ],
            "text/plain": [
              "Empty DataFrame\n",
              "Columns: [precio, producto_id, sucursal_id, fecha]\n",
              "Index: []"
            ]
          },
          "metadata": {
            "tags": []
          },
          "execution_count": 415
        }
      ]
    },
    {
      "cell_type": "code",
      "metadata": {
        "id": "J7X0qF5IN9Rs"
      },
      "source": [
        "productos_limpios = productos.copy()"
      ],
      "execution_count": null,
      "outputs": []
    },
    {
      "cell_type": "code",
      "metadata": {
        "id": "R2Tf4t0sIzb9"
      },
      "source": [
        "## si bien en los set de datos de precios no se reportan si se agregan mas fechasp puede que si por eso lo mejor es eliminarlos\n",
        "productos_limpios = productos_limpios[productos_limpios.marca.notna()].copy()"
      ],
      "execution_count": null,
      "outputs": []
    },
    {
      "cell_type": "code",
      "metadata": {
        "id": "mNpzAJBWOmuP",
        "outputId": "9481aa58-404f-4866-94dd-8f825fa3b4eb",
        "colab": {
          "base_uri": "https://localhost:8080/"
        }
      },
      "source": [
        "productos.isnull().sum()"
      ],
      "execution_count": null,
      "outputs": [
        {
          "output_type": "execute_result",
          "data": {
            "text/plain": [
              "id                  0\n",
              "marca               2\n",
              "nombre              2\n",
              "presentacion        2\n",
              "categoria1      72034\n",
              "categoria2      72034\n",
              "categoria3      72034\n",
              "dtype: int64"
            ]
          },
          "metadata": {
            "tags": []
          },
          "execution_count": 418
        }
      ]
    },
    {
      "cell_type": "code",
      "metadata": {
        "id": "2lOXnGY5MONP",
        "outputId": "62fd02ff-721f-4064-a3b5-25eee37a226f",
        "colab": {
          "base_uri": "https://localhost:8080/"
        }
      },
      "source": [
        "productos_limpios.isnull().sum()"
      ],
      "execution_count": null,
      "outputs": [
        {
          "output_type": "execute_result",
          "data": {
            "text/plain": [
              "id                  0\n",
              "marca               0\n",
              "nombre              0\n",
              "presentacion        0\n",
              "categoria1      72034\n",
              "categoria2      72034\n",
              "categoria3      72034\n",
              "dtype: int64"
            ]
          },
          "metadata": {
            "tags": []
          },
          "execution_count": 419
        }
      ]
    },
    {
      "cell_type": "markdown",
      "metadata": {
        "id": "pablXGpoX80A"
      },
      "source": [
        "**dataset de sucursales**"
      ]
    },
    {
      "cell_type": "code",
      "metadata": {
        "id": "eyfSeb5BTi5J",
        "outputId": "62c5ea72-34f5-4e2d-d4ce-d1cb12f0c633",
        "colab": {
          "base_uri": "https://localhost:8080/"
        }
      },
      "source": [
        "sucursales.isnull().sum()"
      ],
      "execution_count": null,
      "outputs": [
        {
          "output_type": "execute_result",
          "data": {
            "text/plain": [
              "id                     0\n",
              "comercioId             0\n",
              "banderaId              0\n",
              "banderaDescripcion     0\n",
              "comercioRazonSocial    0\n",
              "provincia              0\n",
              "localidad              0\n",
              "direccion              0\n",
              "lat                    0\n",
              "lng                    0\n",
              "sucursalNombre         0\n",
              "sucursalTipo           0\n",
              "nom_provincia          0\n",
              "region                 0\n",
              "dtype: int64"
            ]
          },
          "metadata": {
            "tags": []
          },
          "execution_count": 420
        }
      ]
    },
    {
      "cell_type": "markdown",
      "metadata": {
        "id": "5getAAMXTIsf"
      },
      "source": [
        "#### 2.3. Codificación de Variables Categóricas"
      ]
    },
    {
      "cell_type": "markdown",
      "metadata": {
        "id": "OPu27TM6TIsg"
      },
      "source": [
        "Aplica? Me parece que si, hay varias variables que se pueden codificar."
      ]
    },
    {
      "cell_type": "markdown",
      "metadata": {
        "id": "kT2x6IyTUD56"
      },
      "source": [
        "**DESDE ACA MIS SET DE DATOS SON LOS QUE DICEN LIMPIOS**"
      ]
    },
    {
      "cell_type": "markdown",
      "metadata": {
        "id": "eVi1KipIbaAj"
      },
      "source": [
        "**SET DE DATOS PRECIOS**"
      ]
    },
    {
      "cell_type": "code",
      "metadata": {
        "id": "qLkblHfZTIsg",
        "outputId": "09b3ab52-72d0-42f6-f79e-b7f0f7d2b3aa",
        "colab": {
          "base_uri": "https://localhost:8080/"
        }
      },
      "source": [
        "##la unica variable que se puede codificar es la fecha\n",
        "precios_limpios.dtypes"
      ],
      "execution_count": null,
      "outputs": [
        {
          "output_type": "execute_result",
          "data": {
            "text/plain": [
              "precio         float64\n",
              "producto_id     object\n",
              "sucursal_id     object\n",
              "fecha           object\n",
              "dtype: object"
            ]
          },
          "metadata": {
            "tags": []
          },
          "execution_count": 421
        }
      ]
    },
    {
      "cell_type": "code",
      "metadata": {
        "id": "BD5BMU6ReyTR"
      },
      "source": [
        "# Agrego esa columna en un nuevo dataset para no hacer cagada\n",
        "##precios_limpios = precios.copy()"
      ],
      "execution_count": null,
      "outputs": []
    },
    {
      "cell_type": "code",
      "metadata": {
        "id": "bzUoEfF4bjy4"
      },
      "source": [
        "from sklearn import preprocessing"
      ],
      "execution_count": null,
      "outputs": []
    },
    {
      "cell_type": "code",
      "metadata": {
        "id": "0Yx6lxysboGP",
        "outputId": "46461c17-6307-486b-90d8-1587b235daf8",
        "colab": {
          "base_uri": "https://localhost:8080/"
        }
      },
      "source": [
        "column='fecha'\n",
        "# Create a label (category) encoder object\n",
        "nvo = preprocessing.LabelEncoder()\n",
        "# Fit the encoder to the pandas column\n",
        "nvo.fit(precios_limpios[column])"
      ],
      "execution_count": null,
      "outputs": [
        {
          "output_type": "execute_result",
          "data": {
            "text/plain": [
              "LabelEncoder()"
            ]
          },
          "metadata": {
            "tags": []
          },
          "execution_count": 424
        }
      ]
    },
    {
      "cell_type": "code",
      "metadata": {
        "id": "AdD3V7XFdqA6",
        "outputId": "27cc7d88-d623-4fec-c3f5-679d4cd3688e",
        "colab": {
          "base_uri": "https://localhost:8080/"
        }
      },
      "source": [
        "dict(zip(nvo.classes_,nvo.transform(nvo.classes_)))"
      ],
      "execution_count": null,
      "outputs": [
        {
          "output_type": "execute_result",
          "data": {
            "text/plain": [
              "{'20200412': 0, '20200419': 1, '20200426': 2, '20200502': 3, '20200518': 4}"
            ]
          },
          "metadata": {
            "tags": []
          },
          "execution_count": 425
        }
      ]
    },
    {
      "cell_type": "code",
      "metadata": {
        "id": "kfVERK4CgGXq",
        "outputId": "ceb779cf-af90-4165-beb6-5ccd28af6d40",
        "colab": {
          "base_uri": "https://localhost:8080/"
        }
      },
      "source": [
        "precios_limpios.head()"
      ],
      "execution_count": null,
      "outputs": [
        {
          "output_type": "execute_result",
          "data": {
            "text/html": [
              "<div>\n",
              "<style scoped>\n",
              "    .dataframe tbody tr th:only-of-type {\n",
              "        vertical-align: middle;\n",
              "    }\n",
              "\n",
              "    .dataframe tbody tr th {\n",
              "        vertical-align: top;\n",
              "    }\n",
              "\n",
              "    .dataframe thead th {\n",
              "        text-align: right;\n",
              "    }\n",
              "</style>\n",
              "<table border=\"1\" class=\"dataframe\">\n",
              "  <thead>\n",
              "    <tr style=\"text-align: right;\">\n",
              "      <th></th>\n",
              "      <th>precio</th>\n",
              "      <th>producto_id</th>\n",
              "      <th>sucursal_id</th>\n",
              "      <th>fecha</th>\n",
              "    </tr>\n",
              "  </thead>\n",
              "  <tbody>\n",
              "    <tr>\n",
              "      <th>0</th>\n",
              "      <td>29.90</td>\n",
              "      <td>0000000001663</td>\n",
              "      <td>2-1-014</td>\n",
              "      <td>20200412</td>\n",
              "    </tr>\n",
              "    <tr>\n",
              "      <th>1</th>\n",
              "      <td>29.90</td>\n",
              "      <td>0000000002288</td>\n",
              "      <td>2-1-032</td>\n",
              "      <td>20200412</td>\n",
              "    </tr>\n",
              "    <tr>\n",
              "      <th>2</th>\n",
              "      <td>39.90</td>\n",
              "      <td>0000000002288</td>\n",
              "      <td>2-1-096</td>\n",
              "      <td>20200412</td>\n",
              "    </tr>\n",
              "    <tr>\n",
              "      <th>3</th>\n",
              "      <td>499.99</td>\n",
              "      <td>0000000205870</td>\n",
              "      <td>9-1-686</td>\n",
              "      <td>20200412</td>\n",
              "    </tr>\n",
              "    <tr>\n",
              "      <th>4</th>\n",
              "      <td>519.99</td>\n",
              "      <td>0000000205870</td>\n",
              "      <td>9-2-248</td>\n",
              "      <td>20200412</td>\n",
              "    </tr>\n",
              "  </tbody>\n",
              "</table>\n",
              "</div>"
            ],
            "text/plain": [
              "   precio    producto_id sucursal_id     fecha\n",
              "0   29.90  0000000001663     2-1-014  20200412\n",
              "1   29.90  0000000002288     2-1-032  20200412\n",
              "2   39.90  0000000002288     2-1-096  20200412\n",
              "3  499.99  0000000205870     9-1-686  20200412\n",
              "4  519.99  0000000205870     9-2-248  20200412"
            ]
          },
          "metadata": {
            "tags": []
          },
          "execution_count": 426
        }
      ]
    },
    {
      "cell_type": "code",
      "metadata": {
        "id": "R0ZY9CG7eIEm",
        "outputId": "52581641-32b1-4439-d0e2-87990277aad7",
        "colab": {
          "base_uri": "https://localhost:8080/"
        }
      },
      "source": [
        "precios_limpios[column] = nvo.transform(precios_limpios[column]) \n",
        "precios_limpios.head()"
      ],
      "execution_count": null,
      "outputs": [
        {
          "output_type": "execute_result",
          "data": {
            "text/html": [
              "<div>\n",
              "<style scoped>\n",
              "    .dataframe tbody tr th:only-of-type {\n",
              "        vertical-align: middle;\n",
              "    }\n",
              "\n",
              "    .dataframe tbody tr th {\n",
              "        vertical-align: top;\n",
              "    }\n",
              "\n",
              "    .dataframe thead th {\n",
              "        text-align: right;\n",
              "    }\n",
              "</style>\n",
              "<table border=\"1\" class=\"dataframe\">\n",
              "  <thead>\n",
              "    <tr style=\"text-align: right;\">\n",
              "      <th></th>\n",
              "      <th>precio</th>\n",
              "      <th>producto_id</th>\n",
              "      <th>sucursal_id</th>\n",
              "      <th>fecha</th>\n",
              "    </tr>\n",
              "  </thead>\n",
              "  <tbody>\n",
              "    <tr>\n",
              "      <th>0</th>\n",
              "      <td>29.90</td>\n",
              "      <td>0000000001663</td>\n",
              "      <td>2-1-014</td>\n",
              "      <td>0</td>\n",
              "    </tr>\n",
              "    <tr>\n",
              "      <th>1</th>\n",
              "      <td>29.90</td>\n",
              "      <td>0000000002288</td>\n",
              "      <td>2-1-032</td>\n",
              "      <td>0</td>\n",
              "    </tr>\n",
              "    <tr>\n",
              "      <th>2</th>\n",
              "      <td>39.90</td>\n",
              "      <td>0000000002288</td>\n",
              "      <td>2-1-096</td>\n",
              "      <td>0</td>\n",
              "    </tr>\n",
              "    <tr>\n",
              "      <th>3</th>\n",
              "      <td>499.99</td>\n",
              "      <td>0000000205870</td>\n",
              "      <td>9-1-686</td>\n",
              "      <td>0</td>\n",
              "    </tr>\n",
              "    <tr>\n",
              "      <th>4</th>\n",
              "      <td>519.99</td>\n",
              "      <td>0000000205870</td>\n",
              "      <td>9-2-248</td>\n",
              "      <td>0</td>\n",
              "    </tr>\n",
              "  </tbody>\n",
              "</table>\n",
              "</div>"
            ],
            "text/plain": [
              "   precio    producto_id sucursal_id  fecha\n",
              "0   29.90  0000000001663     2-1-014      0\n",
              "1   29.90  0000000002288     2-1-032      0\n",
              "2   39.90  0000000002288     2-1-096      0\n",
              "3  499.99  0000000205870     9-1-686      0\n",
              "4  519.99  0000000205870     9-2-248      0"
            ]
          },
          "metadata": {
            "tags": []
          },
          "execution_count": 427
        }
      ]
    },
    {
      "cell_type": "code",
      "metadata": {
        "id": "1aqu7vs9fymK",
        "outputId": "a6ee42cb-71d4-44d7-cf7b-39aead108230",
        "colab": {
          "base_uri": "https://localhost:8080/"
        }
      },
      "source": [
        "# Reversing encoding\n",
        "precios_limpios[column] = nvo.inverse_transform(precios_limpios[column]) \n",
        "precios_limpios.head()"
      ],
      "execution_count": null,
      "outputs": [
        {
          "output_type": "execute_result",
          "data": {
            "text/html": [
              "<div>\n",
              "<style scoped>\n",
              "    .dataframe tbody tr th:only-of-type {\n",
              "        vertical-align: middle;\n",
              "    }\n",
              "\n",
              "    .dataframe tbody tr th {\n",
              "        vertical-align: top;\n",
              "    }\n",
              "\n",
              "    .dataframe thead th {\n",
              "        text-align: right;\n",
              "    }\n",
              "</style>\n",
              "<table border=\"1\" class=\"dataframe\">\n",
              "  <thead>\n",
              "    <tr style=\"text-align: right;\">\n",
              "      <th></th>\n",
              "      <th>precio</th>\n",
              "      <th>producto_id</th>\n",
              "      <th>sucursal_id</th>\n",
              "      <th>fecha</th>\n",
              "    </tr>\n",
              "  </thead>\n",
              "  <tbody>\n",
              "    <tr>\n",
              "      <th>0</th>\n",
              "      <td>29.90</td>\n",
              "      <td>0000000001663</td>\n",
              "      <td>2-1-014</td>\n",
              "      <td>20200412</td>\n",
              "    </tr>\n",
              "    <tr>\n",
              "      <th>1</th>\n",
              "      <td>29.90</td>\n",
              "      <td>0000000002288</td>\n",
              "      <td>2-1-032</td>\n",
              "      <td>20200412</td>\n",
              "    </tr>\n",
              "    <tr>\n",
              "      <th>2</th>\n",
              "      <td>39.90</td>\n",
              "      <td>0000000002288</td>\n",
              "      <td>2-1-096</td>\n",
              "      <td>20200412</td>\n",
              "    </tr>\n",
              "    <tr>\n",
              "      <th>3</th>\n",
              "      <td>499.99</td>\n",
              "      <td>0000000205870</td>\n",
              "      <td>9-1-686</td>\n",
              "      <td>20200412</td>\n",
              "    </tr>\n",
              "    <tr>\n",
              "      <th>4</th>\n",
              "      <td>519.99</td>\n",
              "      <td>0000000205870</td>\n",
              "      <td>9-2-248</td>\n",
              "      <td>20200412</td>\n",
              "    </tr>\n",
              "  </tbody>\n",
              "</table>\n",
              "</div>"
            ],
            "text/plain": [
              "   precio    producto_id sucursal_id     fecha\n",
              "0   29.90  0000000001663     2-1-014  20200412\n",
              "1   29.90  0000000002288     2-1-032  20200412\n",
              "2   39.90  0000000002288     2-1-096  20200412\n",
              "3  499.99  0000000205870     9-1-686  20200412\n",
              "4  519.99  0000000205870     9-2-248  20200412"
            ]
          },
          "metadata": {
            "tags": []
          },
          "execution_count": 428
        }
      ]
    },
    {
      "cell_type": "markdown",
      "metadata": {
        "id": "mz07Ocu4iQSv"
      },
      "source": [
        "**SET DE DATOS PRODUCTOS**"
      ]
    },
    {
      "cell_type": "code",
      "metadata": {
        "id": "7UMrGCR7Z0HN",
        "outputId": "86923fc3-adcb-4179-a67c-c4b828847f9f",
        "colab": {
          "base_uri": "https://localhost:8080/"
        }
      },
      "source": [
        "productos_limpios.dtypes"
      ],
      "execution_count": null,
      "outputs": [
        {
          "output_type": "execute_result",
          "data": {
            "text/plain": [
              "id              object\n",
              "marca           object\n",
              "nombre          object\n",
              "presentacion    object\n",
              "categoria1      object\n",
              "categoria2      object\n",
              "categoria3      object\n",
              "dtype: object"
            ]
          },
          "metadata": {
            "tags": []
          },
          "execution_count": 429
        }
      ]
    },
    {
      "cell_type": "code",
      "metadata": {
        "id": "dEFfHNVS5ONM",
        "outputId": "d16b0e97-b3e4-4e5f-9565-6d76a06e5184",
        "colab": {
          "base_uri": "https://localhost:8080/"
        }
      },
      "source": [
        "###No encuentro que podemos recodificar aca porque en realidad podria ser marcas, pero hay muchas.\n",
        "productos_limpios.head()"
      ],
      "execution_count": null,
      "outputs": [
        {
          "output_type": "execute_result",
          "data": {
            "text/html": [
              "<div>\n",
              "<style scoped>\n",
              "    .dataframe tbody tr th:only-of-type {\n",
              "        vertical-align: middle;\n",
              "    }\n",
              "\n",
              "    .dataframe tbody tr th {\n",
              "        vertical-align: top;\n",
              "    }\n",
              "\n",
              "    .dataframe thead th {\n",
              "        text-align: right;\n",
              "    }\n",
              "</style>\n",
              "<table border=\"1\" class=\"dataframe\">\n",
              "  <thead>\n",
              "    <tr style=\"text-align: right;\">\n",
              "      <th></th>\n",
              "      <th>id</th>\n",
              "      <th>marca</th>\n",
              "      <th>nombre</th>\n",
              "      <th>presentacion</th>\n",
              "      <th>categoria1</th>\n",
              "      <th>categoria2</th>\n",
              "      <th>categoria3</th>\n",
              "    </tr>\n",
              "  </thead>\n",
              "  <tbody>\n",
              "    <tr>\n",
              "      <th>0</th>\n",
              "      <td>0000000001663</td>\n",
              "      <td>LA ANÓNIMA</td>\n",
              "      <td>Radicheta Atada La Anonima 1 Un</td>\n",
              "      <td>1.0 un</td>\n",
              "      <td>NaN</td>\n",
              "      <td>NaN</td>\n",
              "      <td>NaN</td>\n",
              "    </tr>\n",
              "    <tr>\n",
              "      <th>1</th>\n",
              "      <td>0000000002288</td>\n",
              "      <td>LA ANÓNIMA</td>\n",
              "      <td>Perejil Atado La Anonima 1 Un</td>\n",
              "      <td>1.0 un</td>\n",
              "      <td>NaN</td>\n",
              "      <td>NaN</td>\n",
              "      <td>NaN</td>\n",
              "    </tr>\n",
              "    <tr>\n",
              "      <th>2</th>\n",
              "      <td>0000000205870</td>\n",
              "      <td>SIN MARCA</td>\n",
              "      <td>Ojo de Bife 1 Kg</td>\n",
              "      <td>1.0 kg</td>\n",
              "      <td>NaN</td>\n",
              "      <td>NaN</td>\n",
              "      <td>NaN</td>\n",
              "    </tr>\n",
              "    <tr>\n",
              "      <th>3</th>\n",
              "      <td>0000000205894</td>\n",
              "      <td>SIN MARCA</td>\n",
              "      <td>Milanesa de Peceto Novillito 1 Kg</td>\n",
              "      <td>1.0 kg</td>\n",
              "      <td>NaN</td>\n",
              "      <td>NaN</td>\n",
              "      <td>NaN</td>\n",
              "    </tr>\n",
              "    <tr>\n",
              "      <th>4</th>\n",
              "      <td>0000000205955</td>\n",
              "      <td>SIN MARCA</td>\n",
              "      <td>Chiquizuela Novillito 1 Kg</td>\n",
              "      <td>1.0 kg</td>\n",
              "      <td>NaN</td>\n",
              "      <td>NaN</td>\n",
              "      <td>NaN</td>\n",
              "    </tr>\n",
              "  </tbody>\n",
              "</table>\n",
              "</div>"
            ],
            "text/plain": [
              "              id       marca                             nombre presentacion  \\\n",
              "0  0000000001663  LA ANÓNIMA    Radicheta Atada La Anonima 1 Un       1.0 un   \n",
              "1  0000000002288  LA ANÓNIMA      Perejil Atado La Anonima 1 Un       1.0 un   \n",
              "2  0000000205870   SIN MARCA                   Ojo de Bife 1 Kg       1.0 kg   \n",
              "3  0000000205894   SIN MARCA  Milanesa de Peceto Novillito 1 Kg       1.0 kg   \n",
              "4  0000000205955   SIN MARCA         Chiquizuela Novillito 1 Kg       1.0 kg   \n",
              "\n",
              "  categoria1 categoria2 categoria3  \n",
              "0        NaN        NaN        NaN  \n",
              "1        NaN        NaN        NaN  \n",
              "2        NaN        NaN        NaN  \n",
              "3        NaN        NaN        NaN  \n",
              "4        NaN        NaN        NaN  "
            ]
          },
          "metadata": {
            "tags": []
          },
          "execution_count": 430
        }
      ]
    },
    {
      "cell_type": "markdown",
      "metadata": {
        "id": "m5ZYKuaC5hv-"
      },
      "source": [
        "**SET DE DATOS sucursales**"
      ]
    },
    {
      "cell_type": "code",
      "metadata": {
        "id": "Oixx2jABV315"
      },
      "source": [
        "sucursales_limpios= sucursales.copy()"
      ],
      "execution_count": null,
      "outputs": []
    },
    {
      "cell_type": "code",
      "metadata": {
        "id": "0_D-MP235k89",
        "outputId": "5000d606-89bc-4e2b-9dc0-32256bdcced1",
        "colab": {
          "base_uri": "https://localhost:8080/"
        }
      },
      "source": [
        "## Las variables que puedo recodificar son nom_provincia, region, sucursal tipo\n",
        "sucursales_limpios.head()"
      ],
      "execution_count": null,
      "outputs": [
        {
          "output_type": "execute_result",
          "data": {
            "text/html": [
              "<div>\n",
              "<style scoped>\n",
              "    .dataframe tbody tr th:only-of-type {\n",
              "        vertical-align: middle;\n",
              "    }\n",
              "\n",
              "    .dataframe tbody tr th {\n",
              "        vertical-align: top;\n",
              "    }\n",
              "\n",
              "    .dataframe thead th {\n",
              "        text-align: right;\n",
              "    }\n",
              "</style>\n",
              "<table border=\"1\" class=\"dataframe\">\n",
              "  <thead>\n",
              "    <tr style=\"text-align: right;\">\n",
              "      <th></th>\n",
              "      <th>id</th>\n",
              "      <th>comercioId</th>\n",
              "      <th>banderaId</th>\n",
              "      <th>banderaDescripcion</th>\n",
              "      <th>comercioRazonSocial</th>\n",
              "      <th>provincia</th>\n",
              "      <th>localidad</th>\n",
              "      <th>direccion</th>\n",
              "      <th>lat</th>\n",
              "      <th>lng</th>\n",
              "      <th>sucursalNombre</th>\n",
              "      <th>sucursalTipo</th>\n",
              "      <th>nom_provincia</th>\n",
              "      <th>region</th>\n",
              "    </tr>\n",
              "  </thead>\n",
              "  <tbody>\n",
              "    <tr>\n",
              "      <th>0</th>\n",
              "      <td>1-1-7</td>\n",
              "      <td>1</td>\n",
              "      <td>1</td>\n",
              "      <td>Super MAMI</td>\n",
              "      <td>Dinosaurio S.A.</td>\n",
              "      <td>AR-X</td>\n",
              "      <td>SALSIPUEDES</td>\n",
              "      <td>E53 1011 None</td>\n",
              "      <td>-31.126667</td>\n",
              "      <td>-64.295250</td>\n",
              "      <td>Super Mami 4</td>\n",
              "      <td>Hipermercado</td>\n",
              "      <td>Córdoba</td>\n",
              "      <td>Centro</td>\n",
              "    </tr>\n",
              "    <tr>\n",
              "      <th>1</th>\n",
              "      <td>10-1-24</td>\n",
              "      <td>10</td>\n",
              "      <td>1</td>\n",
              "      <td>Hipermercado Carrefour</td>\n",
              "      <td>INC S.A.</td>\n",
              "      <td>AR-X</td>\n",
              "      <td>Jardin Espinoza</td>\n",
              "      <td>Av. O'Higgins 3765</td>\n",
              "      <td>-31.455534</td>\n",
              "      <td>-64.166095</td>\n",
              "      <td>Córdoba Jardín</td>\n",
              "      <td>Hipermercado</td>\n",
              "      <td>Córdoba</td>\n",
              "      <td>Centro</td>\n",
              "    </tr>\n",
              "    <tr>\n",
              "      <th>2</th>\n",
              "      <td>10-1-50</td>\n",
              "      <td>10</td>\n",
              "      <td>1</td>\n",
              "      <td>Hipermercado Carrefour</td>\n",
              "      <td>INC S.A.</td>\n",
              "      <td>AR-X</td>\n",
              "      <td>Quintas de Arguello</td>\n",
              "      <td>Recta Martinolli 7850</td>\n",
              "      <td>-31.346646</td>\n",
              "      <td>-64.269297</td>\n",
              "      <td>Córdoba Recta Martinolli</td>\n",
              "      <td>Hipermercado</td>\n",
              "      <td>Córdoba</td>\n",
              "      <td>Centro</td>\n",
              "    </tr>\n",
              "    <tr>\n",
              "      <th>3</th>\n",
              "      <td>10-1-54</td>\n",
              "      <td>10</td>\n",
              "      <td>1</td>\n",
              "      <td>Hipermercado Carrefour</td>\n",
              "      <td>INC S.A.</td>\n",
              "      <td>AR-X</td>\n",
              "      <td>Villa Allende Lomas</td>\n",
              "      <td>Av. Río De Janeiro 1787</td>\n",
              "      <td>-31.300019</td>\n",
              "      <td>-64.276462</td>\n",
              "      <td>Córdoba Villa Allende</td>\n",
              "      <td>Hipermercado</td>\n",
              "      <td>Córdoba</td>\n",
              "      <td>Centro</td>\n",
              "    </tr>\n",
              "    <tr>\n",
              "      <th>4</th>\n",
              "      <td>10-1-9</td>\n",
              "      <td>10</td>\n",
              "      <td>1</td>\n",
              "      <td>Hipermercado Carrefour</td>\n",
              "      <td>INC S.A.</td>\n",
              "      <td>AR-X</td>\n",
              "      <td>Villa Urquiza</td>\n",
              "      <td>Av. Colón 4880</td>\n",
              "      <td>-31.393915</td>\n",
              "      <td>-64.242835</td>\n",
              "      <td>Córdoba Colon</td>\n",
              "      <td>Hipermercado</td>\n",
              "      <td>Córdoba</td>\n",
              "      <td>Centro</td>\n",
              "    </tr>\n",
              "  </tbody>\n",
              "</table>\n",
              "</div>"
            ],
            "text/plain": [
              "        id  comercioId  banderaId      banderaDescripcion comercioRazonSocial  \\\n",
              "0    1-1-7           1          1              Super MAMI     Dinosaurio S.A.   \n",
              "1  10-1-24          10          1  Hipermercado Carrefour            INC S.A.   \n",
              "2  10-1-50          10          1  Hipermercado Carrefour            INC S.A.   \n",
              "3  10-1-54          10          1  Hipermercado Carrefour            INC S.A.   \n",
              "4   10-1-9          10          1  Hipermercado Carrefour            INC S.A.   \n",
              "\n",
              "  provincia            localidad                direccion        lat  \\\n",
              "0      AR-X          SALSIPUEDES            E53 1011 None -31.126667   \n",
              "1      AR-X      Jardin Espinoza       Av. O'Higgins 3765 -31.455534   \n",
              "2      AR-X  Quintas de Arguello    Recta Martinolli 7850 -31.346646   \n",
              "3      AR-X  Villa Allende Lomas  Av. Río De Janeiro 1787 -31.300019   \n",
              "4      AR-X        Villa Urquiza           Av. Colón 4880 -31.393915   \n",
              "\n",
              "         lng            sucursalNombre  sucursalTipo nom_provincia  region  \n",
              "0 -64.295250              Super Mami 4  Hipermercado       Córdoba  Centro  \n",
              "1 -64.166095            Córdoba Jardín  Hipermercado       Córdoba  Centro  \n",
              "2 -64.269297  Córdoba Recta Martinolli  Hipermercado       Córdoba  Centro  \n",
              "3 -64.276462     Córdoba Villa Allende  Hipermercado       Córdoba  Centro  \n",
              "4 -64.242835             Córdoba Colon  Hipermercado       Córdoba  Centro  "
            ]
          },
          "metadata": {
            "tags": []
          },
          "execution_count": 432
        }
      ]
    },
    {
      "cell_type": "code",
      "metadata": {
        "id": "BP40TbzT53tT",
        "outputId": "edba2300-a168-4be2-c742-c57da98c1df0",
        "colab": {
          "base_uri": "https://localhost:8080/"
        }
      },
      "source": [
        "column='nom_provincia'\n",
        "# Create a label (category) encoder object\n",
        "n_prov = preprocessing.LabelEncoder()\n",
        "# Fit the encoder to the pandas column\n",
        "n_prov.fit(sucursales_limpios[column])"
      ],
      "execution_count": null,
      "outputs": [
        {
          "output_type": "execute_result",
          "data": {
            "text/plain": [
              "LabelEncoder()"
            ]
          },
          "metadata": {
            "tags": []
          },
          "execution_count": 433
        }
      ]
    },
    {
      "cell_type": "code",
      "metadata": {
        "id": "hWdHoAt8534m",
        "outputId": "a20fd4d8-2e17-485e-945f-ad097e4d5027",
        "colab": {
          "base_uri": "https://localhost:8080/"
        }
      },
      "source": [
        "dict(zip(n_prov.classes_,n_prov.transform(n_prov.classes_)))"
      ],
      "execution_count": null,
      "outputs": [
        {
          "output_type": "execute_result",
          "data": {
            "text/plain": [
              "{'Catamarca': 0,\n",
              " 'Chaco': 1,\n",
              " 'Chubut': 2,\n",
              " 'Ciudad Autónoma de Buenos Aires': 3,\n",
              " 'Corrientes': 4,\n",
              " 'Córdoba': 5,\n",
              " 'Entre Ríos': 6,\n",
              " 'Formosa': 7,\n",
              " 'Jujuy': 8,\n",
              " 'La Pampa': 9,\n",
              " 'La Rioja': 10,\n",
              " 'Mendoza': 11,\n",
              " 'Misiones': 12,\n",
              " 'Neuquén': 13,\n",
              " 'Provincia de Buenos Aires': 14,\n",
              " 'Río Negro': 15,\n",
              " 'Salta': 16,\n",
              " 'San Juan': 17,\n",
              " 'San Luis': 18,\n",
              " 'Santa Cruz': 19,\n",
              " 'Santa Fe': 20,\n",
              " 'Santiago del Estero': 21,\n",
              " 'Tierra del Fuego': 22,\n",
              " 'Tucumán': 23}"
            ]
          },
          "metadata": {
            "tags": []
          },
          "execution_count": 434
        }
      ]
    },
    {
      "cell_type": "code",
      "metadata": {
        "id": "NWVSoDm054EH",
        "outputId": "0493a211-25ac-4ba2-d27d-90203e27765f",
        "colab": {
          "base_uri": "https://localhost:8080/"
        }
      },
      "source": [
        "sucursales_limpios[column] = n_prov.transform(sucursales_limpios[column]) \n",
        "sucursales_limpios.head()"
      ],
      "execution_count": null,
      "outputs": [
        {
          "output_type": "execute_result",
          "data": {
            "text/html": [
              "<div>\n",
              "<style scoped>\n",
              "    .dataframe tbody tr th:only-of-type {\n",
              "        vertical-align: middle;\n",
              "    }\n",
              "\n",
              "    .dataframe tbody tr th {\n",
              "        vertical-align: top;\n",
              "    }\n",
              "\n",
              "    .dataframe thead th {\n",
              "        text-align: right;\n",
              "    }\n",
              "</style>\n",
              "<table border=\"1\" class=\"dataframe\">\n",
              "  <thead>\n",
              "    <tr style=\"text-align: right;\">\n",
              "      <th></th>\n",
              "      <th>id</th>\n",
              "      <th>comercioId</th>\n",
              "      <th>banderaId</th>\n",
              "      <th>banderaDescripcion</th>\n",
              "      <th>comercioRazonSocial</th>\n",
              "      <th>provincia</th>\n",
              "      <th>localidad</th>\n",
              "      <th>direccion</th>\n",
              "      <th>lat</th>\n",
              "      <th>lng</th>\n",
              "      <th>sucursalNombre</th>\n",
              "      <th>sucursalTipo</th>\n",
              "      <th>nom_provincia</th>\n",
              "      <th>region</th>\n",
              "    </tr>\n",
              "  </thead>\n",
              "  <tbody>\n",
              "    <tr>\n",
              "      <th>0</th>\n",
              "      <td>1-1-7</td>\n",
              "      <td>1</td>\n",
              "      <td>1</td>\n",
              "      <td>Super MAMI</td>\n",
              "      <td>Dinosaurio S.A.</td>\n",
              "      <td>AR-X</td>\n",
              "      <td>SALSIPUEDES</td>\n",
              "      <td>E53 1011 None</td>\n",
              "      <td>-31.126667</td>\n",
              "      <td>-64.295250</td>\n",
              "      <td>Super Mami 4</td>\n",
              "      <td>Hipermercado</td>\n",
              "      <td>5</td>\n",
              "      <td>Centro</td>\n",
              "    </tr>\n",
              "    <tr>\n",
              "      <th>1</th>\n",
              "      <td>10-1-24</td>\n",
              "      <td>10</td>\n",
              "      <td>1</td>\n",
              "      <td>Hipermercado Carrefour</td>\n",
              "      <td>INC S.A.</td>\n",
              "      <td>AR-X</td>\n",
              "      <td>Jardin Espinoza</td>\n",
              "      <td>Av. O'Higgins 3765</td>\n",
              "      <td>-31.455534</td>\n",
              "      <td>-64.166095</td>\n",
              "      <td>Córdoba Jardín</td>\n",
              "      <td>Hipermercado</td>\n",
              "      <td>5</td>\n",
              "      <td>Centro</td>\n",
              "    </tr>\n",
              "    <tr>\n",
              "      <th>2</th>\n",
              "      <td>10-1-50</td>\n",
              "      <td>10</td>\n",
              "      <td>1</td>\n",
              "      <td>Hipermercado Carrefour</td>\n",
              "      <td>INC S.A.</td>\n",
              "      <td>AR-X</td>\n",
              "      <td>Quintas de Arguello</td>\n",
              "      <td>Recta Martinolli 7850</td>\n",
              "      <td>-31.346646</td>\n",
              "      <td>-64.269297</td>\n",
              "      <td>Córdoba Recta Martinolli</td>\n",
              "      <td>Hipermercado</td>\n",
              "      <td>5</td>\n",
              "      <td>Centro</td>\n",
              "    </tr>\n",
              "    <tr>\n",
              "      <th>3</th>\n",
              "      <td>10-1-54</td>\n",
              "      <td>10</td>\n",
              "      <td>1</td>\n",
              "      <td>Hipermercado Carrefour</td>\n",
              "      <td>INC S.A.</td>\n",
              "      <td>AR-X</td>\n",
              "      <td>Villa Allende Lomas</td>\n",
              "      <td>Av. Río De Janeiro 1787</td>\n",
              "      <td>-31.300019</td>\n",
              "      <td>-64.276462</td>\n",
              "      <td>Córdoba Villa Allende</td>\n",
              "      <td>Hipermercado</td>\n",
              "      <td>5</td>\n",
              "      <td>Centro</td>\n",
              "    </tr>\n",
              "    <tr>\n",
              "      <th>4</th>\n",
              "      <td>10-1-9</td>\n",
              "      <td>10</td>\n",
              "      <td>1</td>\n",
              "      <td>Hipermercado Carrefour</td>\n",
              "      <td>INC S.A.</td>\n",
              "      <td>AR-X</td>\n",
              "      <td>Villa Urquiza</td>\n",
              "      <td>Av. Colón 4880</td>\n",
              "      <td>-31.393915</td>\n",
              "      <td>-64.242835</td>\n",
              "      <td>Córdoba Colon</td>\n",
              "      <td>Hipermercado</td>\n",
              "      <td>5</td>\n",
              "      <td>Centro</td>\n",
              "    </tr>\n",
              "  </tbody>\n",
              "</table>\n",
              "</div>"
            ],
            "text/plain": [
              "        id  comercioId  banderaId      banderaDescripcion comercioRazonSocial  \\\n",
              "0    1-1-7           1          1              Super MAMI     Dinosaurio S.A.   \n",
              "1  10-1-24          10          1  Hipermercado Carrefour            INC S.A.   \n",
              "2  10-1-50          10          1  Hipermercado Carrefour            INC S.A.   \n",
              "3  10-1-54          10          1  Hipermercado Carrefour            INC S.A.   \n",
              "4   10-1-9          10          1  Hipermercado Carrefour            INC S.A.   \n",
              "\n",
              "  provincia            localidad                direccion        lat  \\\n",
              "0      AR-X          SALSIPUEDES            E53 1011 None -31.126667   \n",
              "1      AR-X      Jardin Espinoza       Av. O'Higgins 3765 -31.455534   \n",
              "2      AR-X  Quintas de Arguello    Recta Martinolli 7850 -31.346646   \n",
              "3      AR-X  Villa Allende Lomas  Av. Río De Janeiro 1787 -31.300019   \n",
              "4      AR-X        Villa Urquiza           Av. Colón 4880 -31.393915   \n",
              "\n",
              "         lng            sucursalNombre  sucursalTipo  nom_provincia  region  \n",
              "0 -64.295250              Super Mami 4  Hipermercado              5  Centro  \n",
              "1 -64.166095            Córdoba Jardín  Hipermercado              5  Centro  \n",
              "2 -64.269297  Córdoba Recta Martinolli  Hipermercado              5  Centro  \n",
              "3 -64.276462     Córdoba Villa Allende  Hipermercado              5  Centro  \n",
              "4 -64.242835             Córdoba Colon  Hipermercado              5  Centro  "
            ]
          },
          "metadata": {
            "tags": []
          },
          "execution_count": 435
        }
      ]
    },
    {
      "cell_type": "code",
      "metadata": {
        "id": "_K5todyG53-4"
      },
      "source": [
        "# Reversing encoding\n",
        "##sucursales_limpios[column] = nvo.inverse_transform(sucursales_limpios[column]) \n",
        "##sucursales_limpios.head()"
      ],
      "execution_count": null,
      "outputs": []
    },
    {
      "cell_type": "markdown",
      "metadata": {
        "id": "TVUYv3_37UXj"
      },
      "source": [
        "sucursal tipo"
      ]
    },
    {
      "cell_type": "code",
      "metadata": {
        "id": "d7-OoN2J7SdM",
        "outputId": "72a2629c-0e15-4ac3-e0b4-d93995db9ee3",
        "colab": {
          "base_uri": "https://localhost:8080/"
        }
      },
      "source": [
        "column2='sucursalTipo'\n",
        "# Create a label (category) encoder object\n",
        "n_suc = preprocessing.LabelEncoder()\n",
        "# Fit the encoder to the pandas column\n",
        "n_suc.fit(sucursales_limpios[column2])"
      ],
      "execution_count": null,
      "outputs": [
        {
          "output_type": "execute_result",
          "data": {
            "text/plain": [
              "LabelEncoder()"
            ]
          },
          "metadata": {
            "tags": []
          },
          "execution_count": 437
        }
      ]
    },
    {
      "cell_type": "code",
      "metadata": {
        "id": "n7O-kuaI8Au8",
        "outputId": "2ba35f32-8470-4e64-a6d4-0517191d276d",
        "colab": {
          "base_uri": "https://localhost:8080/"
        }
      },
      "source": [
        "dict(zip(n_suc.classes_,n_suc.transform(n_suc.classes_)))"
      ],
      "execution_count": null,
      "outputs": [
        {
          "output_type": "execute_result",
          "data": {
            "text/plain": [
              "{'Autoservicio': 0, 'Hipermercado': 1, 'Minorista': 2, 'Supermercado': 3}"
            ]
          },
          "metadata": {
            "tags": []
          },
          "execution_count": 438
        }
      ]
    },
    {
      "cell_type": "code",
      "metadata": {
        "id": "NgwyiSVS8Cov"
      },
      "source": [
        "sucursales_limpios[column2] = n_suc.transform(sucursales_limpios[column2]) \n"
      ],
      "execution_count": null,
      "outputs": []
    },
    {
      "cell_type": "code",
      "metadata": {
        "id": "x3qxdZQKGvHE",
        "outputId": "4d1f770b-8bba-4c40-b02b-1e37d6e34a86",
        "colab": {
          "base_uri": "https://localhost:8080/"
        }
      },
      "source": [
        "sucursales_limpios.head()"
      ],
      "execution_count": null,
      "outputs": [
        {
          "output_type": "execute_result",
          "data": {
            "text/html": [
              "<div>\n",
              "<style scoped>\n",
              "    .dataframe tbody tr th:only-of-type {\n",
              "        vertical-align: middle;\n",
              "    }\n",
              "\n",
              "    .dataframe tbody tr th {\n",
              "        vertical-align: top;\n",
              "    }\n",
              "\n",
              "    .dataframe thead th {\n",
              "        text-align: right;\n",
              "    }\n",
              "</style>\n",
              "<table border=\"1\" class=\"dataframe\">\n",
              "  <thead>\n",
              "    <tr style=\"text-align: right;\">\n",
              "      <th></th>\n",
              "      <th>id</th>\n",
              "      <th>comercioId</th>\n",
              "      <th>banderaId</th>\n",
              "      <th>banderaDescripcion</th>\n",
              "      <th>comercioRazonSocial</th>\n",
              "      <th>provincia</th>\n",
              "      <th>localidad</th>\n",
              "      <th>direccion</th>\n",
              "      <th>lat</th>\n",
              "      <th>lng</th>\n",
              "      <th>sucursalNombre</th>\n",
              "      <th>sucursalTipo</th>\n",
              "      <th>nom_provincia</th>\n",
              "      <th>region</th>\n",
              "    </tr>\n",
              "  </thead>\n",
              "  <tbody>\n",
              "    <tr>\n",
              "      <th>0</th>\n",
              "      <td>1-1-7</td>\n",
              "      <td>1</td>\n",
              "      <td>1</td>\n",
              "      <td>Super MAMI</td>\n",
              "      <td>Dinosaurio S.A.</td>\n",
              "      <td>AR-X</td>\n",
              "      <td>SALSIPUEDES</td>\n",
              "      <td>E53 1011 None</td>\n",
              "      <td>-31.126667</td>\n",
              "      <td>-64.295250</td>\n",
              "      <td>Super Mami 4</td>\n",
              "      <td>1</td>\n",
              "      <td>5</td>\n",
              "      <td>Centro</td>\n",
              "    </tr>\n",
              "    <tr>\n",
              "      <th>1</th>\n",
              "      <td>10-1-24</td>\n",
              "      <td>10</td>\n",
              "      <td>1</td>\n",
              "      <td>Hipermercado Carrefour</td>\n",
              "      <td>INC S.A.</td>\n",
              "      <td>AR-X</td>\n",
              "      <td>Jardin Espinoza</td>\n",
              "      <td>Av. O'Higgins 3765</td>\n",
              "      <td>-31.455534</td>\n",
              "      <td>-64.166095</td>\n",
              "      <td>Córdoba Jardín</td>\n",
              "      <td>1</td>\n",
              "      <td>5</td>\n",
              "      <td>Centro</td>\n",
              "    </tr>\n",
              "    <tr>\n",
              "      <th>2</th>\n",
              "      <td>10-1-50</td>\n",
              "      <td>10</td>\n",
              "      <td>1</td>\n",
              "      <td>Hipermercado Carrefour</td>\n",
              "      <td>INC S.A.</td>\n",
              "      <td>AR-X</td>\n",
              "      <td>Quintas de Arguello</td>\n",
              "      <td>Recta Martinolli 7850</td>\n",
              "      <td>-31.346646</td>\n",
              "      <td>-64.269297</td>\n",
              "      <td>Córdoba Recta Martinolli</td>\n",
              "      <td>1</td>\n",
              "      <td>5</td>\n",
              "      <td>Centro</td>\n",
              "    </tr>\n",
              "    <tr>\n",
              "      <th>3</th>\n",
              "      <td>10-1-54</td>\n",
              "      <td>10</td>\n",
              "      <td>1</td>\n",
              "      <td>Hipermercado Carrefour</td>\n",
              "      <td>INC S.A.</td>\n",
              "      <td>AR-X</td>\n",
              "      <td>Villa Allende Lomas</td>\n",
              "      <td>Av. Río De Janeiro 1787</td>\n",
              "      <td>-31.300019</td>\n",
              "      <td>-64.276462</td>\n",
              "      <td>Córdoba Villa Allende</td>\n",
              "      <td>1</td>\n",
              "      <td>5</td>\n",
              "      <td>Centro</td>\n",
              "    </tr>\n",
              "    <tr>\n",
              "      <th>4</th>\n",
              "      <td>10-1-9</td>\n",
              "      <td>10</td>\n",
              "      <td>1</td>\n",
              "      <td>Hipermercado Carrefour</td>\n",
              "      <td>INC S.A.</td>\n",
              "      <td>AR-X</td>\n",
              "      <td>Villa Urquiza</td>\n",
              "      <td>Av. Colón 4880</td>\n",
              "      <td>-31.393915</td>\n",
              "      <td>-64.242835</td>\n",
              "      <td>Córdoba Colon</td>\n",
              "      <td>1</td>\n",
              "      <td>5</td>\n",
              "      <td>Centro</td>\n",
              "    </tr>\n",
              "  </tbody>\n",
              "</table>\n",
              "</div>"
            ],
            "text/plain": [
              "        id  comercioId  banderaId      banderaDescripcion comercioRazonSocial  \\\n",
              "0    1-1-7           1          1              Super MAMI     Dinosaurio S.A.   \n",
              "1  10-1-24          10          1  Hipermercado Carrefour            INC S.A.   \n",
              "2  10-1-50          10          1  Hipermercado Carrefour            INC S.A.   \n",
              "3  10-1-54          10          1  Hipermercado Carrefour            INC S.A.   \n",
              "4   10-1-9          10          1  Hipermercado Carrefour            INC S.A.   \n",
              "\n",
              "  provincia            localidad                direccion        lat  \\\n",
              "0      AR-X          SALSIPUEDES            E53 1011 None -31.126667   \n",
              "1      AR-X      Jardin Espinoza       Av. O'Higgins 3765 -31.455534   \n",
              "2      AR-X  Quintas de Arguello    Recta Martinolli 7850 -31.346646   \n",
              "3      AR-X  Villa Allende Lomas  Av. Río De Janeiro 1787 -31.300019   \n",
              "4      AR-X        Villa Urquiza           Av. Colón 4880 -31.393915   \n",
              "\n",
              "         lng            sucursalNombre  sucursalTipo  nom_provincia  region  \n",
              "0 -64.295250              Super Mami 4             1              5  Centro  \n",
              "1 -64.166095            Córdoba Jardín             1              5  Centro  \n",
              "2 -64.269297  Córdoba Recta Martinolli             1              5  Centro  \n",
              "3 -64.276462     Córdoba Villa Allende             1              5  Centro  \n",
              "4 -64.242835             Córdoba Colon             1              5  Centro  "
            ]
          },
          "metadata": {
            "tags": []
          },
          "execution_count": 440
        }
      ]
    },
    {
      "cell_type": "code",
      "metadata": {
        "id": "kTno-s5RdSPg"
      },
      "source": [
        ""
      ],
      "execution_count": null,
      "outputs": []
    },
    {
      "cell_type": "markdown",
      "metadata": {
        "id": "jhfSLBQPGzfF"
      },
      "source": [
        "region"
      ]
    },
    {
      "cell_type": "code",
      "metadata": {
        "id": "zUGkoLkxG7c0",
        "outputId": "ea4caf41-c738-4254-92e3-cee8f6dfa44d",
        "colab": {
          "base_uri": "https://localhost:8080/"
        }
      },
      "source": [
        "column3='region'\n",
        "# Create a label (category) encoder object\n",
        "n_reg = preprocessing.LabelEncoder()\n",
        "# Fit the encoder to the pandas column\n",
        "n_reg.fit(sucursales_limpios[column3])"
      ],
      "execution_count": null,
      "outputs": [
        {
          "output_type": "execute_result",
          "data": {
            "text/plain": [
              "LabelEncoder()"
            ]
          },
          "metadata": {
            "tags": []
          },
          "execution_count": 441
        }
      ]
    },
    {
      "cell_type": "code",
      "metadata": {
        "id": "4VzkLEQnG7ZT",
        "outputId": "0775f317-7c45-4dcf-d59b-f8920b92b7a9",
        "colab": {
          "base_uri": "https://localhost:8080/"
        }
      },
      "source": [
        "dict(zip(n_reg.classes_,n_reg.transform(n_reg.classes_)))"
      ],
      "execution_count": null,
      "outputs": [
        {
          "output_type": "execute_result",
          "data": {
            "text/plain": [
              "{'Centro': 0, 'Cuyo': 1, 'Norte Grande': 2, 'Patagonia': 3}"
            ]
          },
          "metadata": {
            "tags": []
          },
          "execution_count": 442
        }
      ]
    },
    {
      "cell_type": "code",
      "metadata": {
        "id": "2mWyW1fgG7Vz"
      },
      "source": [
        "sucursales_limpios[column3] = n_reg.transform(sucursales_limpios[column3]) "
      ],
      "execution_count": null,
      "outputs": []
    },
    {
      "cell_type": "code",
      "metadata": {
        "id": "fO3lLttYG7Sw",
        "outputId": "9faa6146-4ca5-42a5-ec32-2ff5e8cf19f9",
        "colab": {
          "base_uri": "https://localhost:8080/"
        }
      },
      "source": [
        "sucursales_limpios.head()"
      ],
      "execution_count": null,
      "outputs": [
        {
          "output_type": "execute_result",
          "data": {
            "text/html": [
              "<div>\n",
              "<style scoped>\n",
              "    .dataframe tbody tr th:only-of-type {\n",
              "        vertical-align: middle;\n",
              "    }\n",
              "\n",
              "    .dataframe tbody tr th {\n",
              "        vertical-align: top;\n",
              "    }\n",
              "\n",
              "    .dataframe thead th {\n",
              "        text-align: right;\n",
              "    }\n",
              "</style>\n",
              "<table border=\"1\" class=\"dataframe\">\n",
              "  <thead>\n",
              "    <tr style=\"text-align: right;\">\n",
              "      <th></th>\n",
              "      <th>id</th>\n",
              "      <th>comercioId</th>\n",
              "      <th>banderaId</th>\n",
              "      <th>banderaDescripcion</th>\n",
              "      <th>comercioRazonSocial</th>\n",
              "      <th>provincia</th>\n",
              "      <th>localidad</th>\n",
              "      <th>direccion</th>\n",
              "      <th>lat</th>\n",
              "      <th>lng</th>\n",
              "      <th>sucursalNombre</th>\n",
              "      <th>sucursalTipo</th>\n",
              "      <th>nom_provincia</th>\n",
              "      <th>region</th>\n",
              "    </tr>\n",
              "  </thead>\n",
              "  <tbody>\n",
              "    <tr>\n",
              "      <th>0</th>\n",
              "      <td>1-1-7</td>\n",
              "      <td>1</td>\n",
              "      <td>1</td>\n",
              "      <td>Super MAMI</td>\n",
              "      <td>Dinosaurio S.A.</td>\n",
              "      <td>AR-X</td>\n",
              "      <td>SALSIPUEDES</td>\n",
              "      <td>E53 1011 None</td>\n",
              "      <td>-31.126667</td>\n",
              "      <td>-64.295250</td>\n",
              "      <td>Super Mami 4</td>\n",
              "      <td>1</td>\n",
              "      <td>5</td>\n",
              "      <td>0</td>\n",
              "    </tr>\n",
              "    <tr>\n",
              "      <th>1</th>\n",
              "      <td>10-1-24</td>\n",
              "      <td>10</td>\n",
              "      <td>1</td>\n",
              "      <td>Hipermercado Carrefour</td>\n",
              "      <td>INC S.A.</td>\n",
              "      <td>AR-X</td>\n",
              "      <td>Jardin Espinoza</td>\n",
              "      <td>Av. O'Higgins 3765</td>\n",
              "      <td>-31.455534</td>\n",
              "      <td>-64.166095</td>\n",
              "      <td>Córdoba Jardín</td>\n",
              "      <td>1</td>\n",
              "      <td>5</td>\n",
              "      <td>0</td>\n",
              "    </tr>\n",
              "    <tr>\n",
              "      <th>2</th>\n",
              "      <td>10-1-50</td>\n",
              "      <td>10</td>\n",
              "      <td>1</td>\n",
              "      <td>Hipermercado Carrefour</td>\n",
              "      <td>INC S.A.</td>\n",
              "      <td>AR-X</td>\n",
              "      <td>Quintas de Arguello</td>\n",
              "      <td>Recta Martinolli 7850</td>\n",
              "      <td>-31.346646</td>\n",
              "      <td>-64.269297</td>\n",
              "      <td>Córdoba Recta Martinolli</td>\n",
              "      <td>1</td>\n",
              "      <td>5</td>\n",
              "      <td>0</td>\n",
              "    </tr>\n",
              "    <tr>\n",
              "      <th>3</th>\n",
              "      <td>10-1-54</td>\n",
              "      <td>10</td>\n",
              "      <td>1</td>\n",
              "      <td>Hipermercado Carrefour</td>\n",
              "      <td>INC S.A.</td>\n",
              "      <td>AR-X</td>\n",
              "      <td>Villa Allende Lomas</td>\n",
              "      <td>Av. Río De Janeiro 1787</td>\n",
              "      <td>-31.300019</td>\n",
              "      <td>-64.276462</td>\n",
              "      <td>Córdoba Villa Allende</td>\n",
              "      <td>1</td>\n",
              "      <td>5</td>\n",
              "      <td>0</td>\n",
              "    </tr>\n",
              "    <tr>\n",
              "      <th>4</th>\n",
              "      <td>10-1-9</td>\n",
              "      <td>10</td>\n",
              "      <td>1</td>\n",
              "      <td>Hipermercado Carrefour</td>\n",
              "      <td>INC S.A.</td>\n",
              "      <td>AR-X</td>\n",
              "      <td>Villa Urquiza</td>\n",
              "      <td>Av. Colón 4880</td>\n",
              "      <td>-31.393915</td>\n",
              "      <td>-64.242835</td>\n",
              "      <td>Córdoba Colon</td>\n",
              "      <td>1</td>\n",
              "      <td>5</td>\n",
              "      <td>0</td>\n",
              "    </tr>\n",
              "  </tbody>\n",
              "</table>\n",
              "</div>"
            ],
            "text/plain": [
              "        id  comercioId  banderaId      banderaDescripcion comercioRazonSocial  \\\n",
              "0    1-1-7           1          1              Super MAMI     Dinosaurio S.A.   \n",
              "1  10-1-24          10          1  Hipermercado Carrefour            INC S.A.   \n",
              "2  10-1-50          10          1  Hipermercado Carrefour            INC S.A.   \n",
              "3  10-1-54          10          1  Hipermercado Carrefour            INC S.A.   \n",
              "4   10-1-9          10          1  Hipermercado Carrefour            INC S.A.   \n",
              "\n",
              "  provincia            localidad                direccion        lat  \\\n",
              "0      AR-X          SALSIPUEDES            E53 1011 None -31.126667   \n",
              "1      AR-X      Jardin Espinoza       Av. O'Higgins 3765 -31.455534   \n",
              "2      AR-X  Quintas de Arguello    Recta Martinolli 7850 -31.346646   \n",
              "3      AR-X  Villa Allende Lomas  Av. Río De Janeiro 1787 -31.300019   \n",
              "4      AR-X        Villa Urquiza           Av. Colón 4880 -31.393915   \n",
              "\n",
              "         lng            sucursalNombre  sucursalTipo  nom_provincia  region  \n",
              "0 -64.295250              Super Mami 4             1              5       0  \n",
              "1 -64.166095            Córdoba Jardín             1              5       0  \n",
              "2 -64.269297  Córdoba Recta Martinolli             1              5       0  \n",
              "3 -64.276462     Córdoba Villa Allende             1              5       0  \n",
              "4 -64.242835             Córdoba Colon             1              5       0  "
            ]
          },
          "metadata": {
            "tags": []
          },
          "execution_count": 444
        }
      ]
    },
    {
      "cell_type": "code",
      "metadata": {
        "id": "YcHdHw1YbPkT",
        "outputId": "a3568b76-3235-4a78-c417-7dbcfb065d5c",
        "colab": {
          "base_uri": "https://localhost:8080/"
        }
      },
      "source": [
        "# Reversing encoding\n",
        "sucursales_limpios[column] = n_prov.inverse_transform(sucursales_limpios[column])\n",
        "sucursales_limpios[column2] = n_suc.inverse_transform(sucursales_limpios[column2]) \n",
        "sucursales_limpios[column3] = n_reg.inverse_transform(sucursales_limpios[column3]) \n",
        "sucursales_limpios.head()\n",
        "#####se revierte el codigo porque en la parte dos del trabajo vamos a necesitar estas variables para la creacion de dummys"
      ],
      "execution_count": null,
      "outputs": [
        {
          "output_type": "execute_result",
          "data": {
            "text/html": [
              "<div>\n",
              "<style scoped>\n",
              "    .dataframe tbody tr th:only-of-type {\n",
              "        vertical-align: middle;\n",
              "    }\n",
              "\n",
              "    .dataframe tbody tr th {\n",
              "        vertical-align: top;\n",
              "    }\n",
              "\n",
              "    .dataframe thead th {\n",
              "        text-align: right;\n",
              "    }\n",
              "</style>\n",
              "<table border=\"1\" class=\"dataframe\">\n",
              "  <thead>\n",
              "    <tr style=\"text-align: right;\">\n",
              "      <th></th>\n",
              "      <th>id</th>\n",
              "      <th>comercioId</th>\n",
              "      <th>banderaId</th>\n",
              "      <th>banderaDescripcion</th>\n",
              "      <th>comercioRazonSocial</th>\n",
              "      <th>provincia</th>\n",
              "      <th>localidad</th>\n",
              "      <th>direccion</th>\n",
              "      <th>lat</th>\n",
              "      <th>lng</th>\n",
              "      <th>sucursalNombre</th>\n",
              "      <th>sucursalTipo</th>\n",
              "      <th>nom_provincia</th>\n",
              "      <th>region</th>\n",
              "    </tr>\n",
              "  </thead>\n",
              "  <tbody>\n",
              "    <tr>\n",
              "      <th>0</th>\n",
              "      <td>1-1-7</td>\n",
              "      <td>1</td>\n",
              "      <td>1</td>\n",
              "      <td>Super MAMI</td>\n",
              "      <td>Dinosaurio S.A.</td>\n",
              "      <td>AR-X</td>\n",
              "      <td>SALSIPUEDES</td>\n",
              "      <td>E53 1011 None</td>\n",
              "      <td>-31.126667</td>\n",
              "      <td>-64.295250</td>\n",
              "      <td>Super Mami 4</td>\n",
              "      <td>Hipermercado</td>\n",
              "      <td>Córdoba</td>\n",
              "      <td>Centro</td>\n",
              "    </tr>\n",
              "    <tr>\n",
              "      <th>1</th>\n",
              "      <td>10-1-24</td>\n",
              "      <td>10</td>\n",
              "      <td>1</td>\n",
              "      <td>Hipermercado Carrefour</td>\n",
              "      <td>INC S.A.</td>\n",
              "      <td>AR-X</td>\n",
              "      <td>Jardin Espinoza</td>\n",
              "      <td>Av. O'Higgins 3765</td>\n",
              "      <td>-31.455534</td>\n",
              "      <td>-64.166095</td>\n",
              "      <td>Córdoba Jardín</td>\n",
              "      <td>Hipermercado</td>\n",
              "      <td>Córdoba</td>\n",
              "      <td>Centro</td>\n",
              "    </tr>\n",
              "    <tr>\n",
              "      <th>2</th>\n",
              "      <td>10-1-50</td>\n",
              "      <td>10</td>\n",
              "      <td>1</td>\n",
              "      <td>Hipermercado Carrefour</td>\n",
              "      <td>INC S.A.</td>\n",
              "      <td>AR-X</td>\n",
              "      <td>Quintas de Arguello</td>\n",
              "      <td>Recta Martinolli 7850</td>\n",
              "      <td>-31.346646</td>\n",
              "      <td>-64.269297</td>\n",
              "      <td>Córdoba Recta Martinolli</td>\n",
              "      <td>Hipermercado</td>\n",
              "      <td>Córdoba</td>\n",
              "      <td>Centro</td>\n",
              "    </tr>\n",
              "    <tr>\n",
              "      <th>3</th>\n",
              "      <td>10-1-54</td>\n",
              "      <td>10</td>\n",
              "      <td>1</td>\n",
              "      <td>Hipermercado Carrefour</td>\n",
              "      <td>INC S.A.</td>\n",
              "      <td>AR-X</td>\n",
              "      <td>Villa Allende Lomas</td>\n",
              "      <td>Av. Río De Janeiro 1787</td>\n",
              "      <td>-31.300019</td>\n",
              "      <td>-64.276462</td>\n",
              "      <td>Córdoba Villa Allende</td>\n",
              "      <td>Hipermercado</td>\n",
              "      <td>Córdoba</td>\n",
              "      <td>Centro</td>\n",
              "    </tr>\n",
              "    <tr>\n",
              "      <th>4</th>\n",
              "      <td>10-1-9</td>\n",
              "      <td>10</td>\n",
              "      <td>1</td>\n",
              "      <td>Hipermercado Carrefour</td>\n",
              "      <td>INC S.A.</td>\n",
              "      <td>AR-X</td>\n",
              "      <td>Villa Urquiza</td>\n",
              "      <td>Av. Colón 4880</td>\n",
              "      <td>-31.393915</td>\n",
              "      <td>-64.242835</td>\n",
              "      <td>Córdoba Colon</td>\n",
              "      <td>Hipermercado</td>\n",
              "      <td>Córdoba</td>\n",
              "      <td>Centro</td>\n",
              "    </tr>\n",
              "  </tbody>\n",
              "</table>\n",
              "</div>"
            ],
            "text/plain": [
              "        id  comercioId  banderaId      banderaDescripcion comercioRazonSocial  \\\n",
              "0    1-1-7           1          1              Super MAMI     Dinosaurio S.A.   \n",
              "1  10-1-24          10          1  Hipermercado Carrefour            INC S.A.   \n",
              "2  10-1-50          10          1  Hipermercado Carrefour            INC S.A.   \n",
              "3  10-1-54          10          1  Hipermercado Carrefour            INC S.A.   \n",
              "4   10-1-9          10          1  Hipermercado Carrefour            INC S.A.   \n",
              "\n",
              "  provincia            localidad                direccion        lat  \\\n",
              "0      AR-X          SALSIPUEDES            E53 1011 None -31.126667   \n",
              "1      AR-X      Jardin Espinoza       Av. O'Higgins 3765 -31.455534   \n",
              "2      AR-X  Quintas de Arguello    Recta Martinolli 7850 -31.346646   \n",
              "3      AR-X  Villa Allende Lomas  Av. Río De Janeiro 1787 -31.300019   \n",
              "4      AR-X        Villa Urquiza           Av. Colón 4880 -31.393915   \n",
              "\n",
              "         lng            sucursalNombre  sucursalTipo nom_provincia  region  \n",
              "0 -64.295250              Super Mami 4  Hipermercado       Córdoba  Centro  \n",
              "1 -64.166095            Córdoba Jardín  Hipermercado       Córdoba  Centro  \n",
              "2 -64.269297  Córdoba Recta Martinolli  Hipermercado       Córdoba  Centro  \n",
              "3 -64.276462     Córdoba Villa Allende  Hipermercado       Córdoba  Centro  \n",
              "4 -64.242835             Córdoba Colon  Hipermercado       Córdoba  Centro  "
            ]
          },
          "metadata": {
            "tags": []
          },
          "execution_count": 445
        }
      ]
    },
    {
      "cell_type": "markdown",
      "metadata": {
        "id": "wX-8NuvuSLv3"
      },
      "source": [
        "**Si bien se puede codificar las variables categoricas en nuestro caso especial no seran necesarias ya que se realizaran dummys de las variables nombre-marca, tiposucursal, entre otras.**"
      ]
    },
    {
      "cell_type": "markdown",
      "metadata": {
        "id": "oe319hajTIsk"
      },
      "source": [
        "#### 2.4. No Cambiar los Nombres de las Variables de la Fuente de Origen"
      ]
    },
    {
      "cell_type": "markdown",
      "metadata": {
        "id": "U8y5l5FlTIso"
      },
      "source": [
        "#### 2.5. Verificación de Consistencia de Datos"
      ]
    },
    {
      "cell_type": "markdown",
      "metadata": {
        "id": "sAZYzoNiTIso"
      },
      "source": [
        "Este es el paso más analítico, en donde se deben aplicar reglas de integridad."
      ]
    },
    {
      "cell_type": "markdown",
      "metadata": {
        "id": "gaHGTkNHBFhn"
      },
      "source": [
        "Problema inconsistencia 1"
      ]
    },
    {
      "cell_type": "code",
      "metadata": {
        "id": "mihgTGiyTIsp",
        "outputId": "ea08e7eb-d81f-480d-9575-508d41afd137",
        "colab": {
          "base_uri": "https://localhost:8080/"
        }
      },
      "source": [
        "##hay productos que tienen el mismo nombre, marca y presentacion y tienen id unicos?.. estara bien?\n",
        "##hay 12195 casos que tienen id distintos pero hacen referencia al mismo producto \n",
        "productos_duplicados=productos[productos.duplicated(subset=['nombre','marca','presentacion'], keep=False)].sort_values(['nombre'])\n",
        "productos_duplicados"
      ],
      "execution_count": null,
      "outputs": [
        {
          "output_type": "execute_result",
          "data": {
            "text/html": [
              "<div>\n",
              "<style scoped>\n",
              "    .dataframe tbody tr th:only-of-type {\n",
              "        vertical-align: middle;\n",
              "    }\n",
              "\n",
              "    .dataframe tbody tr th {\n",
              "        vertical-align: top;\n",
              "    }\n",
              "\n",
              "    .dataframe thead th {\n",
              "        text-align: right;\n",
              "    }\n",
              "</style>\n",
              "<table border=\"1\" class=\"dataframe\">\n",
              "  <thead>\n",
              "    <tr style=\"text-align: right;\">\n",
              "      <th></th>\n",
              "      <th>id</th>\n",
              "      <th>marca</th>\n",
              "      <th>nombre</th>\n",
              "      <th>presentacion</th>\n",
              "      <th>categoria1</th>\n",
              "      <th>categoria2</th>\n",
              "      <th>categoria3</th>\n",
              "    </tr>\n",
              "  </thead>\n",
              "  <tbody>\n",
              "    <tr>\n",
              "      <th>65826</th>\n",
              "      <td>7798239332742</td>\n",
              "      <td>PATAGONIA CANDLES</td>\n",
              "      <td>Aceite Aromatizante Organic Spa 12 Ml</td>\n",
              "      <td>12.0 ml</td>\n",
              "      <td>NaN</td>\n",
              "      <td>NaN</td>\n",
              "      <td>NaN</td>\n",
              "    </tr>\n",
              "    <tr>\n",
              "      <th>59548</th>\n",
              "      <td>7798112160493</td>\n",
              "      <td>PATAGONIA CANDLES</td>\n",
              "      <td>Aceite Aromatizante Organic Spa 12 Ml</td>\n",
              "      <td>12.0 ml</td>\n",
              "      <td>NaN</td>\n",
              "      <td>NaN</td>\n",
              "      <td>NaN</td>\n",
              "    </tr>\n",
              "    <tr>\n",
              "      <th>32970</th>\n",
              "      <td>7791274000751</td>\n",
              "      <td>COCOA BEACH</td>\n",
              "      <td>Aceite Bronceador Cocoa Beach 250 Ml</td>\n",
              "      <td>250.0 ml</td>\n",
              "      <td>NaN</td>\n",
              "      <td>NaN</td>\n",
              "      <td>NaN</td>\n",
              "    </tr>\n",
              "    <tr>\n",
              "      <th>33156</th>\n",
              "      <td>7791274190216</td>\n",
              "      <td>COCOA BEACH</td>\n",
              "      <td>Aceite Bronceador Cocoa Beach 250 Ml</td>\n",
              "      <td>250.0 ml</td>\n",
              "      <td>NaN</td>\n",
              "      <td>NaN</td>\n",
              "      <td>NaN</td>\n",
              "    </tr>\n",
              "    <tr>\n",
              "      <th>18921</th>\n",
              "      <td>7790070229731</td>\n",
              "      <td>COCINERO</td>\n",
              "      <td>Aceite Mezcla Cocinero 1.5 Lt</td>\n",
              "      <td>1.5 lt</td>\n",
              "      <td>NaN</td>\n",
              "      <td>NaN</td>\n",
              "      <td>NaN</td>\n",
              "    </tr>\n",
              "    <tr>\n",
              "      <th>...</th>\n",
              "      <td>...</td>\n",
              "      <td>...</td>\n",
              "      <td>...</td>\n",
              "      <td>...</td>\n",
              "      <td>...</td>\n",
              "      <td>...</td>\n",
              "      <td>...</td>\n",
              "    </tr>\n",
              "    <tr>\n",
              "      <th>3434</th>\n",
              "      <td>10-2-2300075000003</td>\n",
              "      <td>SIN MARCA</td>\n",
              "      <td>Zapallo Tasty 1 Kg</td>\n",
              "      <td>1.0 kg</td>\n",
              "      <td>NaN</td>\n",
              "      <td>NaN</td>\n",
              "      <td>NaN</td>\n",
              "    </tr>\n",
              "    <tr>\n",
              "      <th>2290</th>\n",
              "      <td>10-1-2300075000003</td>\n",
              "      <td>SIN MARCA</td>\n",
              "      <td>Zapallo Tasty 1 Kg</td>\n",
              "      <td>1.0 kg</td>\n",
              "      <td>NaN</td>\n",
              "      <td>NaN</td>\n",
              "      <td>NaN</td>\n",
              "    </tr>\n",
              "    <tr>\n",
              "      <th>5358</th>\n",
              "      <td>12-1-2053152000006</td>\n",
              "      <td>SIN MARCA</td>\n",
              "      <td>Zapallo Tasty 1 Kg</td>\n",
              "      <td>1.0 kg</td>\n",
              "      <td>NaN</td>\n",
              "      <td>NaN</td>\n",
              "      <td>NaN</td>\n",
              "    </tr>\n",
              "    <tr>\n",
              "      <th>53619</th>\n",
              "      <td>7798024299045</td>\n",
              "      <td>NaN</td>\n",
              "      <td>NaN</td>\n",
              "      <td>NaN</td>\n",
              "      <td>Almacén</td>\n",
              "      <td>Aceites</td>\n",
              "      <td>Aerosol</td>\n",
              "    </tr>\n",
              "    <tr>\n",
              "      <th>55798</th>\n",
              "      <td>7798061190213</td>\n",
              "      <td>NaN</td>\n",
              "      <td>NaN</td>\n",
              "      <td>NaN</td>\n",
              "      <td>Almacén</td>\n",
              "      <td>Aceites</td>\n",
              "      <td>Oliva</td>\n",
              "    </tr>\n",
              "  </tbody>\n",
              "</table>\n",
              "<p>12195 rows × 7 columns</p>\n",
              "</div>"
            ],
            "text/plain": [
              "                       id              marca  \\\n",
              "65826       7798239332742  PATAGONIA CANDLES   \n",
              "59548       7798112160493  PATAGONIA CANDLES   \n",
              "32970       7791274000751        COCOA BEACH   \n",
              "33156       7791274190216        COCOA BEACH   \n",
              "18921       7790070229731           COCINERO   \n",
              "...                   ...                ...   \n",
              "3434   10-2-2300075000003          SIN MARCA   \n",
              "2290   10-1-2300075000003          SIN MARCA   \n",
              "5358   12-1-2053152000006          SIN MARCA   \n",
              "53619       7798024299045                NaN   \n",
              "55798       7798061190213                NaN   \n",
              "\n",
              "                                      nombre presentacion categoria1  \\\n",
              "65826  Aceite Aromatizante Organic Spa 12 Ml      12.0 ml        NaN   \n",
              "59548  Aceite Aromatizante Organic Spa 12 Ml      12.0 ml        NaN   \n",
              "32970   Aceite Bronceador Cocoa Beach 250 Ml     250.0 ml        NaN   \n",
              "33156   Aceite Bronceador Cocoa Beach 250 Ml     250.0 ml        NaN   \n",
              "18921          Aceite Mezcla Cocinero 1.5 Lt       1.5 lt        NaN   \n",
              "...                                      ...          ...        ...   \n",
              "3434                      Zapallo Tasty 1 Kg       1.0 kg        NaN   \n",
              "2290                      Zapallo Tasty 1 Kg       1.0 kg        NaN   \n",
              "5358                      Zapallo Tasty 1 Kg       1.0 kg        NaN   \n",
              "53619                                    NaN          NaN    Almacén   \n",
              "55798                                    NaN          NaN    Almacén   \n",
              "\n",
              "      categoria2 categoria3  \n",
              "65826        NaN        NaN  \n",
              "59548        NaN        NaN  \n",
              "32970        NaN        NaN  \n",
              "33156        NaN        NaN  \n",
              "18921        NaN        NaN  \n",
              "...          ...        ...  \n",
              "3434         NaN        NaN  \n",
              "2290         NaN        NaN  \n",
              "5358         NaN        NaN  \n",
              "53619    Aceites    Aerosol  \n",
              "55798    Aceites      Oliva  \n",
              "\n",
              "[12195 rows x 7 columns]"
            ]
          },
          "metadata": {
            "tags": []
          },
          "execution_count": 446
        }
      ]
    },
    {
      "cell_type": "code",
      "metadata": {
        "id": "jFwrU_nSoeMJ",
        "outputId": "0e1f4ef7-7f74-4389-c836-68c1abfe0154",
        "colab": {
          "base_uri": "https://localhost:8080/"
        }
      },
      "source": [
        "## Veamos como podemos identificar la cantidad de productos \"unicos\" que se encuentran repetidos:\n",
        "prod_grp_dup = productos_limpios[['id', 'nombre','marca','presentacion']].groupby(['nombre','marca','presentacion']).count().reset_index()\n",
        "prod_grp_dup[prod_grp_dup['id'] > 1]\n",
        "# Podemos ver que tenemos 4404 productos que, a pesar de tener igual nombre, marca y presentacion, su ID es diferente."
      ],
      "execution_count": null,
      "outputs": [
        {
          "output_type": "execute_result",
          "data": {
            "text/html": [
              "<div>\n",
              "<style scoped>\n",
              "    .dataframe tbody tr th:only-of-type {\n",
              "        vertical-align: middle;\n",
              "    }\n",
              "\n",
              "    .dataframe tbody tr th {\n",
              "        vertical-align: top;\n",
              "    }\n",
              "\n",
              "    .dataframe thead th {\n",
              "        text-align: right;\n",
              "    }\n",
              "</style>\n",
              "<table border=\"1\" class=\"dataframe\">\n",
              "  <thead>\n",
              "    <tr style=\"text-align: right;\">\n",
              "      <th></th>\n",
              "      <th>nombre</th>\n",
              "      <th>marca</th>\n",
              "      <th>presentacion</th>\n",
              "      <th>id</th>\n",
              "    </tr>\n",
              "  </thead>\n",
              "  <tbody>\n",
              "    <tr>\n",
              "      <th>18</th>\n",
              "      <td>Aceite Aromatizante Organic Spa 12 Ml</td>\n",
              "      <td>PATAGONIA CANDLES</td>\n",
              "      <td>12.0 ml</td>\n",
              "      <td>2</td>\n",
              "    </tr>\n",
              "    <tr>\n",
              "      <th>25</th>\n",
              "      <td>Aceite Bronceador Cocoa Beach 250 Ml</td>\n",
              "      <td>COCOA BEACH</td>\n",
              "      <td>250.0 ml</td>\n",
              "      <td>2</td>\n",
              "    </tr>\n",
              "    <tr>\n",
              "      <th>47</th>\n",
              "      <td>Aceite Mezcla Cocinero 1.5 Lt</td>\n",
              "      <td>COCINERO</td>\n",
              "      <td>1.5 lt</td>\n",
              "      <td>2</td>\n",
              "    </tr>\n",
              "    <tr>\n",
              "      <th>62</th>\n",
              "      <td>Aceite Mezcla Grano de Oro 1.5 Lt</td>\n",
              "      <td>GRANO DE ORO</td>\n",
              "      <td>1.5 lt</td>\n",
              "      <td>2</td>\n",
              "    </tr>\n",
              "    <tr>\n",
              "      <th>75</th>\n",
              "      <td>Aceite Mezcla Oliva y Girasol Lira 1 Lt</td>\n",
              "      <td>LIRA</td>\n",
              "      <td>1.0 lt</td>\n",
              "      <td>2</td>\n",
              "    </tr>\n",
              "    <tr>\n",
              "      <th>...</th>\n",
              "      <td>...</td>\n",
              "      <td>...</td>\n",
              "      <td>...</td>\n",
              "      <td>...</td>\n",
              "    </tr>\n",
              "    <tr>\n",
              "      <th>64204</th>\n",
              "      <td>Zapallo Kuki 1 Kg</td>\n",
              "      <td>SIN MARCA</td>\n",
              "      <td>1.0 kg</td>\n",
              "      <td>2</td>\n",
              "    </tr>\n",
              "    <tr>\n",
              "      <th>64206</th>\n",
              "      <td>Zapallo Largo 1 Kg</td>\n",
              "      <td>SIN MARCA</td>\n",
              "      <td>1.0 kg</td>\n",
              "      <td>3</td>\n",
              "    </tr>\n",
              "    <tr>\n",
              "      <th>64208</th>\n",
              "      <td>Zapallo Ondeone 1 Kg</td>\n",
              "      <td>SIN MARCA</td>\n",
              "      <td>1.0 kg</td>\n",
              "      <td>2</td>\n",
              "    </tr>\n",
              "    <tr>\n",
              "      <th>64211</th>\n",
              "      <td>Zapallo Plomo 1 Kg</td>\n",
              "      <td>SIN MARCA</td>\n",
              "      <td>1.0 kg</td>\n",
              "      <td>2</td>\n",
              "    </tr>\n",
              "    <tr>\n",
              "      <th>64215</th>\n",
              "      <td>Zapallo Tasty 1 Kg</td>\n",
              "      <td>SIN MARCA</td>\n",
              "      <td>1.0 kg</td>\n",
              "      <td>3</td>\n",
              "    </tr>\n",
              "  </tbody>\n",
              "</table>\n",
              "<p>4404 rows × 4 columns</p>\n",
              "</div>"
            ],
            "text/plain": [
              "                                        nombre              marca  \\\n",
              "18       Aceite Aromatizante Organic Spa 12 Ml  PATAGONIA CANDLES   \n",
              "25        Aceite Bronceador Cocoa Beach 250 Ml        COCOA BEACH   \n",
              "47               Aceite Mezcla Cocinero 1.5 Lt           COCINERO   \n",
              "62           Aceite Mezcla Grano de Oro 1.5 Lt       GRANO DE ORO   \n",
              "75     Aceite Mezcla Oliva y Girasol Lira 1 Lt               LIRA   \n",
              "...                                        ...                ...   \n",
              "64204                        Zapallo Kuki 1 Kg          SIN MARCA   \n",
              "64206                       Zapallo Largo 1 Kg          SIN MARCA   \n",
              "64208                     Zapallo Ondeone 1 Kg          SIN MARCA   \n",
              "64211                       Zapallo Plomo 1 Kg          SIN MARCA   \n",
              "64215                       Zapallo Tasty 1 Kg          SIN MARCA   \n",
              "\n",
              "      presentacion  id  \n",
              "18         12.0 ml   2  \n",
              "25        250.0 ml   2  \n",
              "47          1.5 lt   2  \n",
              "62          1.5 lt   2  \n",
              "75          1.0 lt   2  \n",
              "...            ...  ..  \n",
              "64204       1.0 kg   2  \n",
              "64206       1.0 kg   3  \n",
              "64208       1.0 kg   2  \n",
              "64211       1.0 kg   2  \n",
              "64215       1.0 kg   3  \n",
              "\n",
              "[4404 rows x 4 columns]"
            ]
          },
          "metadata": {
            "tags": []
          },
          "execution_count": 447
        }
      ]
    },
    {
      "cell_type": "markdown",
      "metadata": {
        "id": "vfjA66qzpxEw"
      },
      "source": [
        "**--:** Creamos una nueva columna columna que almacenará un ID de referencia. En el caso de los productos sin duplicados, el ID de referencia seria igual que el ID del producto. Y en el caso de los productos duplicados, el ID de referencia será el aquel ID de menor valor dentro de todos los ID que se hayan duplicado."
      ]
    },
    {
      "cell_type": "code",
      "metadata": {
        "id": "lmqCjjg982jh"
      },
      "source": [
        "# Esto lo saqué de Google. Aca primero generamos un dataframe que nos trae por cada (nombre, marca, presentacion) la lista de id.\n",
        "# Luego a este nuevo dataframe se lo transforma en lista por lo tanto nos quedar un objeto como el siguiente:\n",
        "# [('Zapallo Tasty 1 Kg', 'SIN MARCA', '1.0 kg'), '10-2-2300075000003']\n",
        "# [('Zapallo Tasty 1 Kg', 'SIN MARCA', '1.0 kg'), '10-2-2300075000003']\n",
        "# [('Zapallo Tasty 1 Kg', 'SIN MARCA', '1.0 kg'), '10-2-2300075000003']]\n",
        "#\n",
        "# Y finalmente con el to_dict() lo deja mas o menos asi:\n",
        "#{ ('Zapallo Tasty 1 Kg', 'SIN MARCA', '1.0 kg'): ['10-2-2300075000003',\n",
        "#                                                   '10-2-2300075000003',\n",
        "#                                                   '10-2-2300075000003']}\n",
        "#\n",
        "diccionario = productos_limpios.groupby(['nombre','marca','presentacion'])['id'].apply(lambda x: x.tolist()).to_dict()"
      ],
      "execution_count": null,
      "outputs": []
    },
    {
      "cell_type": "code",
      "metadata": {
        "id": "nzlte0IQLozq"
      },
      "source": [
        "    \n",
        "# Lo que hacemos ahora es recorrer las filas del dataset con:\n",
        "#     for idx, producto in produproductos_limpios.iterrows()\n",
        "# luego buscamos en el diccionario la lista de ID para un producto con:\n",
        "#     diccionario.get((producto.nombre, producto.marca, producto.presentacion))\n",
        "#\n",
        "# y por ultima tomamos el primer valor que nos devuelve la lista ordenada:\n",
        "#      sorted(diccionario.get.....)[0]\n",
        "#\n",
        "# Como toda la sentencia esta entre corchetes [sorted....] lo que devuelve es una lista (para mas info buscar 'list comprehension python')\n",
        "# con los ID de referencia y esa lista, asi como viene, la guarda en una nueva columna.\n",
        "#\n",
        "productos_limpios['id_referencia'] = [sorted(diccionario.get((producto.nombre, producto.marca, producto.presentacion)))[0] for idx, producto in productos_limpios.iterrows()]"
      ],
      "execution_count": null,
      "outputs": []
    },
    {
      "cell_type": "code",
      "metadata": {
        "id": "ZxZfkivhLEeO",
        "outputId": "8f6659a0-6765-4cdb-d4a3-6498e0fe1826",
        "colab": {
          "base_uri": "https://localhost:8080/"
        }
      },
      "source": [
        "# Listamos aquellos \"productos repetidos con ID distinto\" para corroborar que el id_referencia fue asignado correcamente....\n",
        "productos_limpios[productos_limpios.duplicated(subset=['nombre','marca','presentacion'], keep=False)].sort_values(['nombre'])"
      ],
      "execution_count": null,
      "outputs": [
        {
          "output_type": "execute_result",
          "data": {
            "text/html": [
              "<div>\n",
              "<style scoped>\n",
              "    .dataframe tbody tr th:only-of-type {\n",
              "        vertical-align: middle;\n",
              "    }\n",
              "\n",
              "    .dataframe tbody tr th {\n",
              "        vertical-align: top;\n",
              "    }\n",
              "\n",
              "    .dataframe thead th {\n",
              "        text-align: right;\n",
              "    }\n",
              "</style>\n",
              "<table border=\"1\" class=\"dataframe\">\n",
              "  <thead>\n",
              "    <tr style=\"text-align: right;\">\n",
              "      <th></th>\n",
              "      <th>id</th>\n",
              "      <th>marca</th>\n",
              "      <th>nombre</th>\n",
              "      <th>presentacion</th>\n",
              "      <th>categoria1</th>\n",
              "      <th>categoria2</th>\n",
              "      <th>categoria3</th>\n",
              "      <th>id_referencia</th>\n",
              "    </tr>\n",
              "  </thead>\n",
              "  <tbody>\n",
              "    <tr>\n",
              "      <th>65826</th>\n",
              "      <td>7798239332742</td>\n",
              "      <td>PATAGONIA CANDLES</td>\n",
              "      <td>Aceite Aromatizante Organic Spa 12 Ml</td>\n",
              "      <td>12.0 ml</td>\n",
              "      <td>NaN</td>\n",
              "      <td>NaN</td>\n",
              "      <td>NaN</td>\n",
              "      <td>7798112160493</td>\n",
              "    </tr>\n",
              "    <tr>\n",
              "      <th>59548</th>\n",
              "      <td>7798112160493</td>\n",
              "      <td>PATAGONIA CANDLES</td>\n",
              "      <td>Aceite Aromatizante Organic Spa 12 Ml</td>\n",
              "      <td>12.0 ml</td>\n",
              "      <td>NaN</td>\n",
              "      <td>NaN</td>\n",
              "      <td>NaN</td>\n",
              "      <td>7798112160493</td>\n",
              "    </tr>\n",
              "    <tr>\n",
              "      <th>32970</th>\n",
              "      <td>7791274000751</td>\n",
              "      <td>COCOA BEACH</td>\n",
              "      <td>Aceite Bronceador Cocoa Beach 250 Ml</td>\n",
              "      <td>250.0 ml</td>\n",
              "      <td>NaN</td>\n",
              "      <td>NaN</td>\n",
              "      <td>NaN</td>\n",
              "      <td>7791274000751</td>\n",
              "    </tr>\n",
              "    <tr>\n",
              "      <th>33156</th>\n",
              "      <td>7791274190216</td>\n",
              "      <td>COCOA BEACH</td>\n",
              "      <td>Aceite Bronceador Cocoa Beach 250 Ml</td>\n",
              "      <td>250.0 ml</td>\n",
              "      <td>NaN</td>\n",
              "      <td>NaN</td>\n",
              "      <td>NaN</td>\n",
              "      <td>7791274000751</td>\n",
              "    </tr>\n",
              "    <tr>\n",
              "      <th>18921</th>\n",
              "      <td>7790070229731</td>\n",
              "      <td>COCINERO</td>\n",
              "      <td>Aceite Mezcla Cocinero 1.5 Lt</td>\n",
              "      <td>1.5 lt</td>\n",
              "      <td>NaN</td>\n",
              "      <td>NaN</td>\n",
              "      <td>NaN</td>\n",
              "      <td>7790070225023</td>\n",
              "    </tr>\n",
              "    <tr>\n",
              "      <th>...</th>\n",
              "      <td>...</td>\n",
              "      <td>...</td>\n",
              "      <td>...</td>\n",
              "      <td>...</td>\n",
              "      <td>...</td>\n",
              "      <td>...</td>\n",
              "      <td>...</td>\n",
              "      <td>...</td>\n",
              "    </tr>\n",
              "    <tr>\n",
              "      <th>3343</th>\n",
              "      <td>10-1-2326951000004</td>\n",
              "      <td>SIN MARCA</td>\n",
              "      <td>Zapallo Plomo 1 Kg</td>\n",
              "      <td>1.0 kg</td>\n",
              "      <td>NaN</td>\n",
              "      <td>NaN</td>\n",
              "      <td>NaN</td>\n",
              "      <td>10-1-2326951000004</td>\n",
              "    </tr>\n",
              "    <tr>\n",
              "      <th>4348</th>\n",
              "      <td>10-2-2326951000004</td>\n",
              "      <td>SIN MARCA</td>\n",
              "      <td>Zapallo Plomo 1 Kg</td>\n",
              "      <td>1.0 kg</td>\n",
              "      <td>NaN</td>\n",
              "      <td>NaN</td>\n",
              "      <td>NaN</td>\n",
              "      <td>10-1-2326951000004</td>\n",
              "    </tr>\n",
              "    <tr>\n",
              "      <th>3434</th>\n",
              "      <td>10-2-2300075000003</td>\n",
              "      <td>SIN MARCA</td>\n",
              "      <td>Zapallo Tasty 1 Kg</td>\n",
              "      <td>1.0 kg</td>\n",
              "      <td>NaN</td>\n",
              "      <td>NaN</td>\n",
              "      <td>NaN</td>\n",
              "      <td>10-1-2300075000003</td>\n",
              "    </tr>\n",
              "    <tr>\n",
              "      <th>2290</th>\n",
              "      <td>10-1-2300075000003</td>\n",
              "      <td>SIN MARCA</td>\n",
              "      <td>Zapallo Tasty 1 Kg</td>\n",
              "      <td>1.0 kg</td>\n",
              "      <td>NaN</td>\n",
              "      <td>NaN</td>\n",
              "      <td>NaN</td>\n",
              "      <td>10-1-2300075000003</td>\n",
              "    </tr>\n",
              "    <tr>\n",
              "      <th>5358</th>\n",
              "      <td>12-1-2053152000006</td>\n",
              "      <td>SIN MARCA</td>\n",
              "      <td>Zapallo Tasty 1 Kg</td>\n",
              "      <td>1.0 kg</td>\n",
              "      <td>NaN</td>\n",
              "      <td>NaN</td>\n",
              "      <td>NaN</td>\n",
              "      <td>10-1-2300075000003</td>\n",
              "    </tr>\n",
              "  </tbody>\n",
              "</table>\n",
              "<p>12193 rows × 8 columns</p>\n",
              "</div>"
            ],
            "text/plain": [
              "                       id              marca  \\\n",
              "65826       7798239332742  PATAGONIA CANDLES   \n",
              "59548       7798112160493  PATAGONIA CANDLES   \n",
              "32970       7791274000751        COCOA BEACH   \n",
              "33156       7791274190216        COCOA BEACH   \n",
              "18921       7790070229731           COCINERO   \n",
              "...                   ...                ...   \n",
              "3343   10-1-2326951000004          SIN MARCA   \n",
              "4348   10-2-2326951000004          SIN MARCA   \n",
              "3434   10-2-2300075000003          SIN MARCA   \n",
              "2290   10-1-2300075000003          SIN MARCA   \n",
              "5358   12-1-2053152000006          SIN MARCA   \n",
              "\n",
              "                                      nombre presentacion categoria1  \\\n",
              "65826  Aceite Aromatizante Organic Spa 12 Ml      12.0 ml        NaN   \n",
              "59548  Aceite Aromatizante Organic Spa 12 Ml      12.0 ml        NaN   \n",
              "32970   Aceite Bronceador Cocoa Beach 250 Ml     250.0 ml        NaN   \n",
              "33156   Aceite Bronceador Cocoa Beach 250 Ml     250.0 ml        NaN   \n",
              "18921          Aceite Mezcla Cocinero 1.5 Lt       1.5 lt        NaN   \n",
              "...                                      ...          ...        ...   \n",
              "3343                      Zapallo Plomo 1 Kg       1.0 kg        NaN   \n",
              "4348                      Zapallo Plomo 1 Kg       1.0 kg        NaN   \n",
              "3434                      Zapallo Tasty 1 Kg       1.0 kg        NaN   \n",
              "2290                      Zapallo Tasty 1 Kg       1.0 kg        NaN   \n",
              "5358                      Zapallo Tasty 1 Kg       1.0 kg        NaN   \n",
              "\n",
              "      categoria2 categoria3       id_referencia  \n",
              "65826        NaN        NaN       7798112160493  \n",
              "59548        NaN        NaN       7798112160493  \n",
              "32970        NaN        NaN       7791274000751  \n",
              "33156        NaN        NaN       7791274000751  \n",
              "18921        NaN        NaN       7790070225023  \n",
              "...          ...        ...                 ...  \n",
              "3343         NaN        NaN  10-1-2326951000004  \n",
              "4348         NaN        NaN  10-1-2326951000004  \n",
              "3434         NaN        NaN  10-1-2300075000003  \n",
              "2290         NaN        NaN  10-1-2300075000003  \n",
              "5358         NaN        NaN  10-1-2300075000003  \n",
              "\n",
              "[12193 rows x 8 columns]"
            ]
          },
          "metadata": {
            "tags": []
          },
          "execution_count": 450
        }
      ]
    },
    {
      "cell_type": "code",
      "metadata": {
        "id": "AZ6njQJDX2h4",
        "outputId": "f984a9de-f594-4f04-8b4f-d34bf6f1443a",
        "colab": {
          "base_uri": "https://localhost:8080/"
        }
      },
      "source": [
        "# Podemos ver para el producto \"PATAGONIA CANDLES\",\t\"Aceite Aromatizante Organic Spa 12 Ml\" cuyos ID son [7798239332742, 7798112160493]\n",
        "# Ambos ID son utilizados, por lo tanto esto refuerza la necesidad de contar con el ID de Referencia\n",
        "\n",
        "precios_limpios[precios_limpios.producto_id=='7798239332742']"
      ],
      "execution_count": null,
      "outputs": [
        {
          "output_type": "execute_result",
          "data": {
            "text/html": [
              "<div>\n",
              "<style scoped>\n",
              "    .dataframe tbody tr th:only-of-type {\n",
              "        vertical-align: middle;\n",
              "    }\n",
              "\n",
              "    .dataframe tbody tr th {\n",
              "        vertical-align: top;\n",
              "    }\n",
              "\n",
              "    .dataframe thead th {\n",
              "        text-align: right;\n",
              "    }\n",
              "</style>\n",
              "<table border=\"1\" class=\"dataframe\">\n",
              "  <thead>\n",
              "    <tr style=\"text-align: right;\">\n",
              "      <th></th>\n",
              "      <th>precio</th>\n",
              "      <th>producto_id</th>\n",
              "      <th>sucursal_id</th>\n",
              "      <th>fecha</th>\n",
              "    </tr>\n",
              "  </thead>\n",
              "  <tbody>\n",
              "    <tr>\n",
              "      <th>447179</th>\n",
              "      <td>121.55</td>\n",
              "      <td>7798239332742</td>\n",
              "      <td>20-1-1</td>\n",
              "      <td>20200426</td>\n",
              "    </tr>\n",
              "    <tr>\n",
              "      <th>371188</th>\n",
              "      <td>121.55</td>\n",
              "      <td>7798239332742</td>\n",
              "      <td>20-1-1</td>\n",
              "      <td>20200502</td>\n",
              "    </tr>\n",
              "  </tbody>\n",
              "</table>\n",
              "</div>"
            ],
            "text/plain": [
              "        precio    producto_id sucursal_id     fecha\n",
              "447179  121.55  7798239332742      20-1-1  20200426\n",
              "371188  121.55  7798239332742      20-1-1  20200502"
            ]
          },
          "metadata": {
            "tags": []
          },
          "execution_count": 451
        }
      ]
    },
    {
      "cell_type": "code",
      "metadata": {
        "id": "vVh6t6XaZzb1",
        "outputId": "cdf464ca-80ac-4130-d712-fa6100efb322",
        "colab": {
          "base_uri": "https://localhost:8080/"
        }
      },
      "source": [
        "precios_limpios[precios_limpios.producto_id=='7798112160493']"
      ],
      "execution_count": null,
      "outputs": [
        {
          "output_type": "execute_result",
          "data": {
            "text/html": [
              "<div>\n",
              "<style scoped>\n",
              "    .dataframe tbody tr th:only-of-type {\n",
              "        vertical-align: middle;\n",
              "    }\n",
              "\n",
              "    .dataframe tbody tr th {\n",
              "        vertical-align: top;\n",
              "    }\n",
              "\n",
              "    .dataframe thead th {\n",
              "        text-align: right;\n",
              "    }\n",
              "</style>\n",
              "<table border=\"1\" class=\"dataframe\">\n",
              "  <thead>\n",
              "    <tr style=\"text-align: right;\">\n",
              "      <th></th>\n",
              "      <th>precio</th>\n",
              "      <th>producto_id</th>\n",
              "      <th>sucursal_id</th>\n",
              "      <th>fecha</th>\n",
              "    </tr>\n",
              "  </thead>\n",
              "  <tbody>\n",
              "    <tr>\n",
              "      <th>423663</th>\n",
              "      <td>121.55</td>\n",
              "      <td>7798112160493</td>\n",
              "      <td>20-1-1</td>\n",
              "      <td>20200426</td>\n",
              "    </tr>\n",
              "    <tr>\n",
              "      <th>353266</th>\n",
              "      <td>121.55</td>\n",
              "      <td>7798112160493</td>\n",
              "      <td>20-1-1</td>\n",
              "      <td>20200502</td>\n",
              "    </tr>\n",
              "  </tbody>\n",
              "</table>\n",
              "</div>"
            ],
            "text/plain": [
              "        precio    producto_id sucursal_id     fecha\n",
              "423663  121.55  7798112160493      20-1-1  20200426\n",
              "353266  121.55  7798112160493      20-1-1  20200502"
            ]
          },
          "metadata": {
            "tags": []
          },
          "execution_count": 452
        }
      ]
    },
    {
      "cell_type": "code",
      "metadata": {
        "id": "wU_6KBbzwpVG",
        "outputId": "78f61df6-b993-4b28-91c8-5e79f041ca94",
        "colab": {
          "base_uri": "https://localhost:8080/"
        }
      },
      "source": [
        "##compruebo que los productos iguales tengan el mismo id de referencia\n",
        "productos_limpios[productos_limpios.duplicated(subset=['nombre','marca','presentacion'], keep=False)].sort_values(['nombre'])"
      ],
      "execution_count": null,
      "outputs": [
        {
          "output_type": "execute_result",
          "data": {
            "text/html": [
              "<div>\n",
              "<style scoped>\n",
              "    .dataframe tbody tr th:only-of-type {\n",
              "        vertical-align: middle;\n",
              "    }\n",
              "\n",
              "    .dataframe tbody tr th {\n",
              "        vertical-align: top;\n",
              "    }\n",
              "\n",
              "    .dataframe thead th {\n",
              "        text-align: right;\n",
              "    }\n",
              "</style>\n",
              "<table border=\"1\" class=\"dataframe\">\n",
              "  <thead>\n",
              "    <tr style=\"text-align: right;\">\n",
              "      <th></th>\n",
              "      <th>id</th>\n",
              "      <th>marca</th>\n",
              "      <th>nombre</th>\n",
              "      <th>presentacion</th>\n",
              "      <th>categoria1</th>\n",
              "      <th>categoria2</th>\n",
              "      <th>categoria3</th>\n",
              "      <th>id_referencia</th>\n",
              "    </tr>\n",
              "  </thead>\n",
              "  <tbody>\n",
              "    <tr>\n",
              "      <th>65826</th>\n",
              "      <td>7798239332742</td>\n",
              "      <td>PATAGONIA CANDLES</td>\n",
              "      <td>Aceite Aromatizante Organic Spa 12 Ml</td>\n",
              "      <td>12.0 ml</td>\n",
              "      <td>NaN</td>\n",
              "      <td>NaN</td>\n",
              "      <td>NaN</td>\n",
              "      <td>7798112160493</td>\n",
              "    </tr>\n",
              "    <tr>\n",
              "      <th>59548</th>\n",
              "      <td>7798112160493</td>\n",
              "      <td>PATAGONIA CANDLES</td>\n",
              "      <td>Aceite Aromatizante Organic Spa 12 Ml</td>\n",
              "      <td>12.0 ml</td>\n",
              "      <td>NaN</td>\n",
              "      <td>NaN</td>\n",
              "      <td>NaN</td>\n",
              "      <td>7798112160493</td>\n",
              "    </tr>\n",
              "    <tr>\n",
              "      <th>32970</th>\n",
              "      <td>7791274000751</td>\n",
              "      <td>COCOA BEACH</td>\n",
              "      <td>Aceite Bronceador Cocoa Beach 250 Ml</td>\n",
              "      <td>250.0 ml</td>\n",
              "      <td>NaN</td>\n",
              "      <td>NaN</td>\n",
              "      <td>NaN</td>\n",
              "      <td>7791274000751</td>\n",
              "    </tr>\n",
              "    <tr>\n",
              "      <th>33156</th>\n",
              "      <td>7791274190216</td>\n",
              "      <td>COCOA BEACH</td>\n",
              "      <td>Aceite Bronceador Cocoa Beach 250 Ml</td>\n",
              "      <td>250.0 ml</td>\n",
              "      <td>NaN</td>\n",
              "      <td>NaN</td>\n",
              "      <td>NaN</td>\n",
              "      <td>7791274000751</td>\n",
              "    </tr>\n",
              "    <tr>\n",
              "      <th>18921</th>\n",
              "      <td>7790070229731</td>\n",
              "      <td>COCINERO</td>\n",
              "      <td>Aceite Mezcla Cocinero 1.5 Lt</td>\n",
              "      <td>1.5 lt</td>\n",
              "      <td>NaN</td>\n",
              "      <td>NaN</td>\n",
              "      <td>NaN</td>\n",
              "      <td>7790070225023</td>\n",
              "    </tr>\n",
              "    <tr>\n",
              "      <th>...</th>\n",
              "      <td>...</td>\n",
              "      <td>...</td>\n",
              "      <td>...</td>\n",
              "      <td>...</td>\n",
              "      <td>...</td>\n",
              "      <td>...</td>\n",
              "      <td>...</td>\n",
              "      <td>...</td>\n",
              "    </tr>\n",
              "    <tr>\n",
              "      <th>3343</th>\n",
              "      <td>10-1-2326951000004</td>\n",
              "      <td>SIN MARCA</td>\n",
              "      <td>Zapallo Plomo 1 Kg</td>\n",
              "      <td>1.0 kg</td>\n",
              "      <td>NaN</td>\n",
              "      <td>NaN</td>\n",
              "      <td>NaN</td>\n",
              "      <td>10-1-2326951000004</td>\n",
              "    </tr>\n",
              "    <tr>\n",
              "      <th>4348</th>\n",
              "      <td>10-2-2326951000004</td>\n",
              "      <td>SIN MARCA</td>\n",
              "      <td>Zapallo Plomo 1 Kg</td>\n",
              "      <td>1.0 kg</td>\n",
              "      <td>NaN</td>\n",
              "      <td>NaN</td>\n",
              "      <td>NaN</td>\n",
              "      <td>10-1-2326951000004</td>\n",
              "    </tr>\n",
              "    <tr>\n",
              "      <th>3434</th>\n",
              "      <td>10-2-2300075000003</td>\n",
              "      <td>SIN MARCA</td>\n",
              "      <td>Zapallo Tasty 1 Kg</td>\n",
              "      <td>1.0 kg</td>\n",
              "      <td>NaN</td>\n",
              "      <td>NaN</td>\n",
              "      <td>NaN</td>\n",
              "      <td>10-1-2300075000003</td>\n",
              "    </tr>\n",
              "    <tr>\n",
              "      <th>2290</th>\n",
              "      <td>10-1-2300075000003</td>\n",
              "      <td>SIN MARCA</td>\n",
              "      <td>Zapallo Tasty 1 Kg</td>\n",
              "      <td>1.0 kg</td>\n",
              "      <td>NaN</td>\n",
              "      <td>NaN</td>\n",
              "      <td>NaN</td>\n",
              "      <td>10-1-2300075000003</td>\n",
              "    </tr>\n",
              "    <tr>\n",
              "      <th>5358</th>\n",
              "      <td>12-1-2053152000006</td>\n",
              "      <td>SIN MARCA</td>\n",
              "      <td>Zapallo Tasty 1 Kg</td>\n",
              "      <td>1.0 kg</td>\n",
              "      <td>NaN</td>\n",
              "      <td>NaN</td>\n",
              "      <td>NaN</td>\n",
              "      <td>10-1-2300075000003</td>\n",
              "    </tr>\n",
              "  </tbody>\n",
              "</table>\n",
              "<p>12193 rows × 8 columns</p>\n",
              "</div>"
            ],
            "text/plain": [
              "                       id              marca  \\\n",
              "65826       7798239332742  PATAGONIA CANDLES   \n",
              "59548       7798112160493  PATAGONIA CANDLES   \n",
              "32970       7791274000751        COCOA BEACH   \n",
              "33156       7791274190216        COCOA BEACH   \n",
              "18921       7790070229731           COCINERO   \n",
              "...                   ...                ...   \n",
              "3343   10-1-2326951000004          SIN MARCA   \n",
              "4348   10-2-2326951000004          SIN MARCA   \n",
              "3434   10-2-2300075000003          SIN MARCA   \n",
              "2290   10-1-2300075000003          SIN MARCA   \n",
              "5358   12-1-2053152000006          SIN MARCA   \n",
              "\n",
              "                                      nombre presentacion categoria1  \\\n",
              "65826  Aceite Aromatizante Organic Spa 12 Ml      12.0 ml        NaN   \n",
              "59548  Aceite Aromatizante Organic Spa 12 Ml      12.0 ml        NaN   \n",
              "32970   Aceite Bronceador Cocoa Beach 250 Ml     250.0 ml        NaN   \n",
              "33156   Aceite Bronceador Cocoa Beach 250 Ml     250.0 ml        NaN   \n",
              "18921          Aceite Mezcla Cocinero 1.5 Lt       1.5 lt        NaN   \n",
              "...                                      ...          ...        ...   \n",
              "3343                      Zapallo Plomo 1 Kg       1.0 kg        NaN   \n",
              "4348                      Zapallo Plomo 1 Kg       1.0 kg        NaN   \n",
              "3434                      Zapallo Tasty 1 Kg       1.0 kg        NaN   \n",
              "2290                      Zapallo Tasty 1 Kg       1.0 kg        NaN   \n",
              "5358                      Zapallo Tasty 1 Kg       1.0 kg        NaN   \n",
              "\n",
              "      categoria2 categoria3       id_referencia  \n",
              "65826        NaN        NaN       7798112160493  \n",
              "59548        NaN        NaN       7798112160493  \n",
              "32970        NaN        NaN       7791274000751  \n",
              "33156        NaN        NaN       7791274000751  \n",
              "18921        NaN        NaN       7790070225023  \n",
              "...          ...        ...                 ...  \n",
              "3343         NaN        NaN  10-1-2326951000004  \n",
              "4348         NaN        NaN  10-1-2326951000004  \n",
              "3434         NaN        NaN  10-1-2300075000003  \n",
              "2290         NaN        NaN  10-1-2300075000003  \n",
              "5358         NaN        NaN  10-1-2300075000003  \n",
              "\n",
              "[12193 rows x 8 columns]"
            ]
          },
          "metadata": {
            "tags": []
          },
          "execution_count": 453
        }
      ]
    },
    {
      "cell_type": "code",
      "metadata": {
        "id": "26Q-5g7SwecM"
      },
      "source": [
        ""
      ],
      "execution_count": null,
      "outputs": []
    },
    {
      "cell_type": "markdown",
      "metadata": {
        "id": "njFVxYiJcpAL"
      },
      "source": [
        "**SET DE DATOS SUCURSALES**"
      ]
    },
    {
      "cell_type": "code",
      "metadata": {
        "id": "_VyBDJ4NDVND"
      },
      "source": [
        "## De los analisis anteriores concluimos que no hay inconsistencias en este dataset\n"
      ],
      "execution_count": null,
      "outputs": []
    },
    {
      "cell_type": "markdown",
      "metadata": {
        "id": "F6kAIgsicup4"
      },
      "source": [
        "**SET DE DATOS DE PRECIOS**"
      ]
    },
    {
      "cell_type": "code",
      "metadata": {
        "id": "Hah5IQHNjbZO",
        "outputId": "8af58df4-25e5-4eca-f88e-bd462aa57f46",
        "colab": {
          "base_uri": "https://localhost:8080/"
        }
      },
      "source": [
        "precios.head()"
      ],
      "execution_count": null,
      "outputs": [
        {
          "output_type": "execute_result",
          "data": {
            "text/html": [
              "<div>\n",
              "<style scoped>\n",
              "    .dataframe tbody tr th:only-of-type {\n",
              "        vertical-align: middle;\n",
              "    }\n",
              "\n",
              "    .dataframe tbody tr th {\n",
              "        vertical-align: top;\n",
              "    }\n",
              "\n",
              "    .dataframe thead th {\n",
              "        text-align: right;\n",
              "    }\n",
              "</style>\n",
              "<table border=\"1\" class=\"dataframe\">\n",
              "  <thead>\n",
              "    <tr style=\"text-align: right;\">\n",
              "      <th></th>\n",
              "      <th>precio</th>\n",
              "      <th>producto_id</th>\n",
              "      <th>sucursal_id</th>\n",
              "      <th>fecha</th>\n",
              "    </tr>\n",
              "  </thead>\n",
              "  <tbody>\n",
              "    <tr>\n",
              "      <th>0</th>\n",
              "      <td>29.90</td>\n",
              "      <td>0000000001663</td>\n",
              "      <td>2-1-014</td>\n",
              "      <td>20200412</td>\n",
              "    </tr>\n",
              "    <tr>\n",
              "      <th>1</th>\n",
              "      <td>29.90</td>\n",
              "      <td>0000000002288</td>\n",
              "      <td>2-1-032</td>\n",
              "      <td>20200412</td>\n",
              "    </tr>\n",
              "    <tr>\n",
              "      <th>2</th>\n",
              "      <td>39.90</td>\n",
              "      <td>0000000002288</td>\n",
              "      <td>2-1-096</td>\n",
              "      <td>20200412</td>\n",
              "    </tr>\n",
              "    <tr>\n",
              "      <th>3</th>\n",
              "      <td>499.99</td>\n",
              "      <td>0000000205870</td>\n",
              "      <td>9-1-686</td>\n",
              "      <td>20200412</td>\n",
              "    </tr>\n",
              "    <tr>\n",
              "      <th>4</th>\n",
              "      <td>519.99</td>\n",
              "      <td>0000000205870</td>\n",
              "      <td>9-2-248</td>\n",
              "      <td>20200412</td>\n",
              "    </tr>\n",
              "  </tbody>\n",
              "</table>\n",
              "</div>"
            ],
            "text/plain": [
              "   precio    producto_id sucursal_id     fecha\n",
              "0   29.90  0000000001663     2-1-014  20200412\n",
              "1   29.90  0000000002288     2-1-032  20200412\n",
              "2   39.90  0000000002288     2-1-096  20200412\n",
              "3  499.99  0000000205870     9-1-686  20200412\n",
              "4  519.99  0000000205870     9-2-248  20200412"
            ]
          },
          "metadata": {
            "tags": []
          },
          "execution_count": 455
        }
      ]
    },
    {
      "cell_type": "code",
      "metadata": {
        "id": "87EON_hOjUAr",
        "outputId": "edfef0af-6b41-497b-d75b-94b8c5d7a6ad",
        "colab": {
          "base_uri": "https://localhost:8080/"
        }
      },
      "source": [
        "precios[precios.duplicated(subset=['producto_id','fecha', 'sucursal_id'], keep=False)].sort_values(['producto_id']).sample(7)\n",
        "###puede ser que para la misma fecha producto y sucursal haya dos precios?..\n",
        "######obervar que siempre hay problema para la misma fecha, la misma sucursal para un grupo de 15 productosss###"
      ],
      "execution_count": null,
      "outputs": [
        {
          "output_type": "execute_result",
          "data": {
            "text/html": [
              "<div>\n",
              "<style scoped>\n",
              "    .dataframe tbody tr th:only-of-type {\n",
              "        vertical-align: middle;\n",
              "    }\n",
              "\n",
              "    .dataframe tbody tr th {\n",
              "        vertical-align: top;\n",
              "    }\n",
              "\n",
              "    .dataframe thead th {\n",
              "        text-align: right;\n",
              "    }\n",
              "</style>\n",
              "<table border=\"1\" class=\"dataframe\">\n",
              "  <thead>\n",
              "    <tr style=\"text-align: right;\">\n",
              "      <th></th>\n",
              "      <th>precio</th>\n",
              "      <th>producto_id</th>\n",
              "      <th>sucursal_id</th>\n",
              "      <th>fecha</th>\n",
              "    </tr>\n",
              "  </thead>\n",
              "  <tbody>\n",
              "    <tr>\n",
              "      <th>277935</th>\n",
              "      <td>79.99</td>\n",
              "      <td>7791819000123</td>\n",
              "      <td>16-1-2702</td>\n",
              "      <td>20200419</td>\n",
              "    </tr>\n",
              "    <tr>\n",
              "      <th>277957</th>\n",
              "      <td>79.99</td>\n",
              "      <td>7791819000406</td>\n",
              "      <td>16-1-2702</td>\n",
              "      <td>20200419</td>\n",
              "    </tr>\n",
              "    <tr>\n",
              "      <th>435814</th>\n",
              "      <td>210.95</td>\n",
              "      <td>7891010568757</td>\n",
              "      <td>16-1-2702</td>\n",
              "      <td>20200419</td>\n",
              "    </tr>\n",
              "    <tr>\n",
              "      <th>435813</th>\n",
              "      <td>192.00</td>\n",
              "      <td>7891010568757</td>\n",
              "      <td>16-1-2702</td>\n",
              "      <td>20200419</td>\n",
              "    </tr>\n",
              "    <tr>\n",
              "      <th>277969</th>\n",
              "      <td>69.99</td>\n",
              "      <td>7791819000765</td>\n",
              "      <td>16-1-2702</td>\n",
              "      <td>20200419</td>\n",
              "    </tr>\n",
              "    <tr>\n",
              "      <th>152239</th>\n",
              "      <td>43.65</td>\n",
              "      <td>7790503001996</td>\n",
              "      <td>16-1-2702</td>\n",
              "      <td>20200419</td>\n",
              "    </tr>\n",
              "    <tr>\n",
              "      <th>277934</th>\n",
              "      <td>69.99</td>\n",
              "      <td>7791819000123</td>\n",
              "      <td>16-1-2702</td>\n",
              "      <td>20200419</td>\n",
              "    </tr>\n",
              "  </tbody>\n",
              "</table>\n",
              "</div>"
            ],
            "text/plain": [
              "        precio    producto_id sucursal_id     fecha\n",
              "277935   79.99  7791819000123   16-1-2702  20200419\n",
              "277957   79.99  7791819000406   16-1-2702  20200419\n",
              "435814  210.95  7891010568757   16-1-2702  20200419\n",
              "435813  192.00  7891010568757   16-1-2702  20200419\n",
              "277969   69.99  7791819000765   16-1-2702  20200419\n",
              "152239   43.65  7790503001996   16-1-2702  20200419\n",
              "277934   69.99  7791819000123   16-1-2702  20200419"
            ]
          },
          "metadata": {
            "tags": []
          },
          "execution_count": 456
        }
      ]
    },
    {
      "cell_type": "code",
      "metadata": {
        "id": "wBwQvAZlkdGx",
        "outputId": "75719181-eb03-4550-b734-263d7c60a0f6",
        "colab": {
          "base_uri": "https://localhost:8080/"
        }
      },
      "source": [
        "###revisar sucursal 16-1-2702\n",
        "sucursales_limpios[sucursales_limpios.id=='16-1-2702']"
      ],
      "execution_count": null,
      "outputs": [
        {
          "output_type": "execute_result",
          "data": {
            "text/html": [
              "<div>\n",
              "<style scoped>\n",
              "    .dataframe tbody tr th:only-of-type {\n",
              "        vertical-align: middle;\n",
              "    }\n",
              "\n",
              "    .dataframe tbody tr th {\n",
              "        vertical-align: top;\n",
              "    }\n",
              "\n",
              "    .dataframe thead th {\n",
              "        text-align: right;\n",
              "    }\n",
              "</style>\n",
              "<table border=\"1\" class=\"dataframe\">\n",
              "  <thead>\n",
              "    <tr style=\"text-align: right;\">\n",
              "      <th></th>\n",
              "      <th>id</th>\n",
              "      <th>comercioId</th>\n",
              "      <th>banderaId</th>\n",
              "      <th>banderaDescripcion</th>\n",
              "      <th>comercioRazonSocial</th>\n",
              "      <th>provincia</th>\n",
              "      <th>localidad</th>\n",
              "      <th>direccion</th>\n",
              "      <th>lat</th>\n",
              "      <th>lng</th>\n",
              "      <th>sucursalNombre</th>\n",
              "      <th>sucursalTipo</th>\n",
              "      <th>nom_provincia</th>\n",
              "      <th>region</th>\n",
              "    </tr>\n",
              "  </thead>\n",
              "  <tbody>\n",
              "    <tr>\n",
              "      <th>1293</th>\n",
              "      <td>16-1-2702</td>\n",
              "      <td>16</td>\n",
              "      <td>1</td>\n",
              "      <td>Hipermercado Libertad</td>\n",
              "      <td>Libertad S.A</td>\n",
              "      <td>AR-S</td>\n",
              "      <td>Rafaela</td>\n",
              "      <td>Colectora Conscripto Zurbriggen 865</td>\n",
              "      <td>-31.2422</td>\n",
              "      <td>-61.506122</td>\n",
              "      <td>Hipermercado Rafaela - Santa Fé</td>\n",
              "      <td>Hipermercado</td>\n",
              "      <td>Santa Fe</td>\n",
              "      <td>Centro</td>\n",
              "    </tr>\n",
              "  </tbody>\n",
              "</table>\n",
              "</div>"
            ],
            "text/plain": [
              "             id  comercioId  banderaId     banderaDescripcion  \\\n",
              "1293  16-1-2702          16          1  Hipermercado Libertad   \n",
              "\n",
              "     comercioRazonSocial provincia localidad  \\\n",
              "1293        Libertad S.A      AR-S   Rafaela   \n",
              "\n",
              "                                direccion      lat        lng  \\\n",
              "1293  Colectora Conscripto Zurbriggen 865 -31.2422 -61.506122   \n",
              "\n",
              "                       sucursalNombre  sucursalTipo nom_provincia  region  \n",
              "1293  Hipermercado Rafaela - Santa Fé  Hipermercado      Santa Fe  Centro  "
            ]
          },
          "metadata": {
            "tags": []
          },
          "execution_count": 457
        }
      ]
    },
    {
      "cell_type": "code",
      "metadata": {
        "id": "wPOGu1kjAu6-"
      },
      "source": [
        "##EN UNA PRIMERA INSTANCIA NOS IBAMOS A QUEDAR CON EL PRECIO QUE SE ENCUENTRA MAS CERCA DE MEDIA CALCULADA POR PRODUCTO, FECHA Y SUCURSAl.\n",
        "#Esta forma de calculo no soluciona el inconveniente porque existen casos que ambos precios estan a la misma distancia del promedio.\n",
        "# Por lo tanto, decidimos obtener el promedio por producto y fecha y quedarnos con aquel producto cuya diferencia con la media es menor."
      ],
      "execution_count": null,
      "outputs": []
    },
    {
      "cell_type": "code",
      "metadata": {
        "id": "rsYxy6UDbMQs"
      },
      "source": [
        "precio_mean_std = precios_limpios.groupby(['producto_id','fecha']).agg(precio_mean=('precio', 'mean'), \n",
        "                                                                       precio_std=('precio', lambda x: np.std(x)))\n",
        "                                                               #   new_column_name=(target_colum, operation)"
      ],
      "execution_count": null,
      "outputs": []
    },
    {
      "cell_type": "code",
      "metadata": {
        "id": "fkgGS1lIV0pf",
        "outputId": "0b612b0b-6750-4188-d5e2-8067a02d0d76",
        "colab": {
          "base_uri": "https://localhost:8080/"
        }
      },
      "source": [
        "precio_mean_std"
      ],
      "execution_count": null,
      "outputs": [
        {
          "output_type": "execute_result",
          "data": {
            "text/html": [
              "<div>\n",
              "<style scoped>\n",
              "    .dataframe tbody tr th:only-of-type {\n",
              "        vertical-align: middle;\n",
              "    }\n",
              "\n",
              "    .dataframe tbody tr th {\n",
              "        vertical-align: top;\n",
              "    }\n",
              "\n",
              "    .dataframe thead th {\n",
              "        text-align: right;\n",
              "    }\n",
              "</style>\n",
              "<table border=\"1\" class=\"dataframe\">\n",
              "  <thead>\n",
              "    <tr style=\"text-align: right;\">\n",
              "      <th></th>\n",
              "      <th></th>\n",
              "      <th>precio_mean</th>\n",
              "      <th>precio_std</th>\n",
              "    </tr>\n",
              "    <tr>\n",
              "      <th>producto_id</th>\n",
              "      <th>fecha</th>\n",
              "      <th></th>\n",
              "      <th></th>\n",
              "    </tr>\n",
              "  </thead>\n",
              "  <tbody>\n",
              "    <tr>\n",
              "      <th>0000000001663</th>\n",
              "      <th>20200412</th>\n",
              "      <td>29.900000</td>\n",
              "      <td>0.000000</td>\n",
              "    </tr>\n",
              "    <tr>\n",
              "      <th rowspan=\"4\" valign=\"top\">0000000002288</th>\n",
              "      <th>20200412</th>\n",
              "      <td>34.900000</td>\n",
              "      <td>5.000000</td>\n",
              "    </tr>\n",
              "    <tr>\n",
              "      <th>20200419</th>\n",
              "      <td>34.900000</td>\n",
              "      <td>5.000000</td>\n",
              "    </tr>\n",
              "    <tr>\n",
              "      <th>20200426</th>\n",
              "      <td>36.566667</td>\n",
              "      <td>4.714045</td>\n",
              "    </tr>\n",
              "    <tr>\n",
              "      <th>20200502</th>\n",
              "      <td>34.900000</td>\n",
              "      <td>5.000000</td>\n",
              "    </tr>\n",
              "    <tr>\n",
              "      <th>...</th>\n",
              "      <th>...</th>\n",
              "      <td>...</td>\n",
              "      <td>...</td>\n",
              "    </tr>\n",
              "    <tr>\n",
              "      <th rowspan=\"5\" valign=\"top\">9990385651946</th>\n",
              "      <th>20200412</th>\n",
              "      <td>198.900000</td>\n",
              "      <td>0.000000</td>\n",
              "    </tr>\n",
              "    <tr>\n",
              "      <th>20200419</th>\n",
              "      <td>198.900000</td>\n",
              "      <td>0.000000</td>\n",
              "    </tr>\n",
              "    <tr>\n",
              "      <th>20200426</th>\n",
              "      <td>198.900000</td>\n",
              "      <td>0.000000</td>\n",
              "    </tr>\n",
              "    <tr>\n",
              "      <th>20200502</th>\n",
              "      <td>198.900000</td>\n",
              "      <td>0.000000</td>\n",
              "    </tr>\n",
              "    <tr>\n",
              "      <th>20200518</th>\n",
              "      <td>198.900000</td>\n",
              "      <td>0.000000</td>\n",
              "    </tr>\n",
              "  </tbody>\n",
              "</table>\n",
              "<p>314550 rows × 2 columns</p>\n",
              "</div>"
            ],
            "text/plain": [
              "                        precio_mean  precio_std\n",
              "producto_id   fecha                            \n",
              "0000000001663 20200412    29.900000    0.000000\n",
              "0000000002288 20200412    34.900000    5.000000\n",
              "              20200419    34.900000    5.000000\n",
              "              20200426    36.566667    4.714045\n",
              "              20200502    34.900000    5.000000\n",
              "...                             ...         ...\n",
              "9990385651946 20200412   198.900000    0.000000\n",
              "              20200419   198.900000    0.000000\n",
              "              20200426   198.900000    0.000000\n",
              "              20200502   198.900000    0.000000\n",
              "              20200518   198.900000    0.000000\n",
              "\n",
              "[314550 rows x 2 columns]"
            ]
          },
          "metadata": {
            "tags": []
          },
          "execution_count": 460
        }
      ]
    },
    {
      "cell_type": "code",
      "metadata": {
        "id": "DpZLIY2Plcp-"
      },
      "source": [
        "# Hacemos un merge considerando los dos dataframe de interes:\n",
        "# precios_limpios, que seria el dataframe de la Izquierda\n",
        "# precio_mean_std, que seria el dataframe de la Derecha\n",
        "# en el merge le decimos que una \"las columnas productos_id y fecha del dataframe de la izquierda con el index del dataframe de la derecha\"\n",
        "precios_limpios = pd.merge(precios_limpios, precio_mean_std, left_on=['producto_id', 'fecha'], right_index=True)"
      ],
      "execution_count": null,
      "outputs": []
    },
    {
      "cell_type": "code",
      "metadata": {
        "id": "K0tVJuE-ufhQ"
      },
      "source": [
        "precios_limpios['precio_mean_diff'] = abs(precios_limpios['precio'] - precios_limpios['precio_mean'])"
      ],
      "execution_count": null,
      "outputs": []
    },
    {
      "cell_type": "code",
      "metadata": {
        "id": "cXwECrXZhc9O",
        "outputId": "cb9ebb2a-7a0c-41f3-fdd9-8f8242a30317",
        "colab": {
          "base_uri": "https://localhost:8080/"
        }
      },
      "source": [
        "precios_limpios[['precio','precio_mean','precio_mean_diff']][precios_limpios.precio_mean_diff > 0].sample(3)"
      ],
      "execution_count": null,
      "outputs": [
        {
          "output_type": "execute_result",
          "data": {
            "text/html": [
              "<div>\n",
              "<style scoped>\n",
              "    .dataframe tbody tr th:only-of-type {\n",
              "        vertical-align: middle;\n",
              "    }\n",
              "\n",
              "    .dataframe tbody tr th {\n",
              "        vertical-align: top;\n",
              "    }\n",
              "\n",
              "    .dataframe thead th {\n",
              "        text-align: right;\n",
              "    }\n",
              "</style>\n",
              "<table border=\"1\" class=\"dataframe\">\n",
              "  <thead>\n",
              "    <tr style=\"text-align: right;\">\n",
              "      <th></th>\n",
              "      <th>precio</th>\n",
              "      <th>precio_mean</th>\n",
              "      <th>precio_mean_diff</th>\n",
              "    </tr>\n",
              "  </thead>\n",
              "  <tbody>\n",
              "    <tr>\n",
              "      <th>326418</th>\n",
              "      <td>80.0</td>\n",
              "      <td>81.09225</td>\n",
              "      <td>1.09225</td>\n",
              "    </tr>\n",
              "    <tr>\n",
              "      <th>222396</th>\n",
              "      <td>119.9</td>\n",
              "      <td>105.90000</td>\n",
              "      <td>14.00000</td>\n",
              "    </tr>\n",
              "    <tr>\n",
              "      <th>68770</th>\n",
              "      <td>134.0</td>\n",
              "      <td>150.58050</td>\n",
              "      <td>16.58050</td>\n",
              "    </tr>\n",
              "  </tbody>\n",
              "</table>\n",
              "</div>"
            ],
            "text/plain": [
              "        precio  precio_mean  precio_mean_diff\n",
              "326418    80.0     81.09225           1.09225\n",
              "222396   119.9    105.90000          14.00000\n",
              "68770    134.0    150.58050          16.58050"
            ]
          },
          "metadata": {
            "tags": []
          },
          "execution_count": 463
        }
      ]
    },
    {
      "cell_type": "code",
      "metadata": {
        "id": "97ygZHdTo3HU"
      },
      "source": [
        " #Para acortar los tiempos de procesamiento vamos a utilizar solamente el subset de productos que cumplen con la inconsistencia\n",
        "precios_duplicados = precios_limpios[precios_limpios.duplicated(subset=['producto_id','fecha', 'sucursal_id'], keep=False)]"
      ],
      "execution_count": null,
      "outputs": []
    },
    {
      "cell_type": "code",
      "metadata": {
        "id": "D2ZnXOHyuJic",
        "outputId": "5c60ee0b-03b9-4425-a95e-adfa55453c97",
        "colab": {
          "base_uri": "https://localhost:8080/"
        }
      },
      "source": [
        "precios_duplicados"
      ],
      "execution_count": null,
      "outputs": [
        {
          "output_type": "execute_result",
          "data": {
            "text/html": [
              "<div>\n",
              "<style scoped>\n",
              "    .dataframe tbody tr th:only-of-type {\n",
              "        vertical-align: middle;\n",
              "    }\n",
              "\n",
              "    .dataframe tbody tr th {\n",
              "        vertical-align: top;\n",
              "    }\n",
              "\n",
              "    .dataframe thead th {\n",
              "        text-align: right;\n",
              "    }\n",
              "</style>\n",
              "<table border=\"1\" class=\"dataframe\">\n",
              "  <thead>\n",
              "    <tr style=\"text-align: right;\">\n",
              "      <th></th>\n",
              "      <th>precio</th>\n",
              "      <th>producto_id</th>\n",
              "      <th>sucursal_id</th>\n",
              "      <th>fecha</th>\n",
              "      <th>precio_mean</th>\n",
              "      <th>precio_std</th>\n",
              "      <th>precio_mean_diff</th>\n",
              "    </tr>\n",
              "  </thead>\n",
              "  <tbody>\n",
              "    <tr>\n",
              "      <th>152238</th>\n",
              "      <td>41.57</td>\n",
              "      <td>7790503001996</td>\n",
              "      <td>16-1-2702</td>\n",
              "      <td>20200419</td>\n",
              "      <td>43.942222</td>\n",
              "      <td>3.348569</td>\n",
              "      <td>2.372222</td>\n",
              "    </tr>\n",
              "    <tr>\n",
              "      <th>152239</th>\n",
              "      <td>43.65</td>\n",
              "      <td>7790503001996</td>\n",
              "      <td>16-1-2702</td>\n",
              "      <td>20200419</td>\n",
              "      <td>43.942222</td>\n",
              "      <td>3.348569</td>\n",
              "      <td>0.292222</td>\n",
              "    </tr>\n",
              "    <tr>\n",
              "      <th>198300</th>\n",
              "      <td>182.92</td>\n",
              "      <td>7790802000027</td>\n",
              "      <td>16-1-2702</td>\n",
              "      <td>20200419</td>\n",
              "      <td>209.547500</td>\n",
              "      <td>12.332926</td>\n",
              "      <td>26.627500</td>\n",
              "    </tr>\n",
              "    <tr>\n",
              "      <th>198301</th>\n",
              "      <td>212.16</td>\n",
              "      <td>7790802000027</td>\n",
              "      <td>16-1-2702</td>\n",
              "      <td>20200419</td>\n",
              "      <td>209.547500</td>\n",
              "      <td>12.332926</td>\n",
              "      <td>2.612500</td>\n",
              "    </tr>\n",
              "    <tr>\n",
              "      <th>199085</th>\n",
              "      <td>57.99</td>\n",
              "      <td>7790828102491</td>\n",
              "      <td>16-1-2702</td>\n",
              "      <td>20200419</td>\n",
              "      <td>55.662692</td>\n",
              "      <td>10.824859</td>\n",
              "      <td>2.327308</td>\n",
              "    </tr>\n",
              "    <tr>\n",
              "      <th>199086</th>\n",
              "      <td>66.99</td>\n",
              "      <td>7790828102491</td>\n",
              "      <td>16-1-2702</td>\n",
              "      <td>20200419</td>\n",
              "      <td>55.662692</td>\n",
              "      <td>10.824859</td>\n",
              "      <td>11.327308</td>\n",
              "    </tr>\n",
              "    <tr>\n",
              "      <th>232460</th>\n",
              "      <td>66.95</td>\n",
              "      <td>7791290000674</td>\n",
              "      <td>16-1-2702</td>\n",
              "      <td>20200419</td>\n",
              "      <td>64.108167</td>\n",
              "      <td>5.814931</td>\n",
              "      <td>2.841833</td>\n",
              "    </tr>\n",
              "    <tr>\n",
              "      <th>232461</th>\n",
              "      <td>47.85</td>\n",
              "      <td>7791290000674</td>\n",
              "      <td>16-1-2702</td>\n",
              "      <td>20200419</td>\n",
              "      <td>64.108167</td>\n",
              "      <td>5.814931</td>\n",
              "      <td>16.258167</td>\n",
              "    </tr>\n",
              "    <tr>\n",
              "      <th>232546</th>\n",
              "      <td>66.95</td>\n",
              "      <td>7791290000735</td>\n",
              "      <td>16-1-2702</td>\n",
              "      <td>20200419</td>\n",
              "      <td>63.831026</td>\n",
              "      <td>6.091873</td>\n",
              "      <td>3.118974</td>\n",
              "    </tr>\n",
              "    <tr>\n",
              "      <th>232547</th>\n",
              "      <td>47.85</td>\n",
              "      <td>7791290000735</td>\n",
              "      <td>16-1-2702</td>\n",
              "      <td>20200419</td>\n",
              "      <td>63.831026</td>\n",
              "      <td>6.091873</td>\n",
              "      <td>15.981026</td>\n",
              "    </tr>\n",
              "    <tr>\n",
              "      <th>277928</th>\n",
              "      <td>69.99</td>\n",
              "      <td>7791819000116</td>\n",
              "      <td>16-1-2702</td>\n",
              "      <td>20200419</td>\n",
              "      <td>93.942500</td>\n",
              "      <td>19.726423</td>\n",
              "      <td>23.952500</td>\n",
              "    </tr>\n",
              "    <tr>\n",
              "      <th>277929</th>\n",
              "      <td>79.99</td>\n",
              "      <td>7791819000116</td>\n",
              "      <td>16-1-2702</td>\n",
              "      <td>20200419</td>\n",
              "      <td>93.942500</td>\n",
              "      <td>19.726423</td>\n",
              "      <td>13.952500</td>\n",
              "    </tr>\n",
              "    <tr>\n",
              "      <th>277934</th>\n",
              "      <td>69.99</td>\n",
              "      <td>7791819000123</td>\n",
              "      <td>16-1-2702</td>\n",
              "      <td>20200419</td>\n",
              "      <td>77.680000</td>\n",
              "      <td>20.913098</td>\n",
              "      <td>7.690000</td>\n",
              "    </tr>\n",
              "    <tr>\n",
              "      <th>277935</th>\n",
              "      <td>79.99</td>\n",
              "      <td>7791819000123</td>\n",
              "      <td>16-1-2702</td>\n",
              "      <td>20200419</td>\n",
              "      <td>77.680000</td>\n",
              "      <td>20.913098</td>\n",
              "      <td>2.310000</td>\n",
              "    </tr>\n",
              "    <tr>\n",
              "      <th>277940</th>\n",
              "      <td>69.99</td>\n",
              "      <td>7791819000246</td>\n",
              "      <td>16-1-2702</td>\n",
              "      <td>20200419</td>\n",
              "      <td>89.752000</td>\n",
              "      <td>19.533217</td>\n",
              "      <td>19.762000</td>\n",
              "    </tr>\n",
              "    <tr>\n",
              "      <th>277941</th>\n",
              "      <td>79.99</td>\n",
              "      <td>7791819000246</td>\n",
              "      <td>16-1-2702</td>\n",
              "      <td>20200419</td>\n",
              "      <td>89.752000</td>\n",
              "      <td>19.533217</td>\n",
              "      <td>9.762000</td>\n",
              "    </tr>\n",
              "    <tr>\n",
              "      <th>277956</th>\n",
              "      <td>69.99</td>\n",
              "      <td>7791819000406</td>\n",
              "      <td>16-1-2702</td>\n",
              "      <td>20200419</td>\n",
              "      <td>85.808571</td>\n",
              "      <td>19.590865</td>\n",
              "      <td>15.818571</td>\n",
              "    </tr>\n",
              "    <tr>\n",
              "      <th>277957</th>\n",
              "      <td>79.99</td>\n",
              "      <td>7791819000406</td>\n",
              "      <td>16-1-2702</td>\n",
              "      <td>20200419</td>\n",
              "      <td>85.808571</td>\n",
              "      <td>19.590865</td>\n",
              "      <td>5.818571</td>\n",
              "    </tr>\n",
              "    <tr>\n",
              "      <th>277969</th>\n",
              "      <td>69.99</td>\n",
              "      <td>7791819000765</td>\n",
              "      <td>16-1-2702</td>\n",
              "      <td>20200419</td>\n",
              "      <td>82.293333</td>\n",
              "      <td>19.007122</td>\n",
              "      <td>12.303333</td>\n",
              "    </tr>\n",
              "    <tr>\n",
              "      <th>277970</th>\n",
              "      <td>79.99</td>\n",
              "      <td>7791819000765</td>\n",
              "      <td>16-1-2702</td>\n",
              "      <td>20200419</td>\n",
              "      <td>82.293333</td>\n",
              "      <td>19.007122</td>\n",
              "      <td>2.303333</td>\n",
              "    </tr>\n",
              "    <tr>\n",
              "      <th>280368</th>\n",
              "      <td>45.85</td>\n",
              "      <td>7791866004211</td>\n",
              "      <td>16-1-2702</td>\n",
              "      <td>20200419</td>\n",
              "      <td>43.755156</td>\n",
              "      <td>4.389680</td>\n",
              "      <td>2.094844</td>\n",
              "    </tr>\n",
              "    <tr>\n",
              "      <th>280369</th>\n",
              "      <td>41.00</td>\n",
              "      <td>7791866004211</td>\n",
              "      <td>16-1-2702</td>\n",
              "      <td>20200419</td>\n",
              "      <td>43.755156</td>\n",
              "      <td>4.389680</td>\n",
              "      <td>2.755156</td>\n",
              "    </tr>\n",
              "    <tr>\n",
              "      <th>362890</th>\n",
              "      <td>68.99</td>\n",
              "      <td>7794820001936</td>\n",
              "      <td>16-1-2702</td>\n",
              "      <td>20200419</td>\n",
              "      <td>66.273125</td>\n",
              "      <td>5.454372</td>\n",
              "      <td>2.716875</td>\n",
              "    </tr>\n",
              "    <tr>\n",
              "      <th>362891</th>\n",
              "      <td>67.00</td>\n",
              "      <td>7794820001936</td>\n",
              "      <td>16-1-2702</td>\n",
              "      <td>20200419</td>\n",
              "      <td>66.273125</td>\n",
              "      <td>5.454372</td>\n",
              "      <td>0.726875</td>\n",
              "    </tr>\n",
              "    <tr>\n",
              "      <th>362921</th>\n",
              "      <td>68.99</td>\n",
              "      <td>7794820001943</td>\n",
              "      <td>16-1-2702</td>\n",
              "      <td>20200419</td>\n",
              "      <td>65.833529</td>\n",
              "      <td>4.450067</td>\n",
              "      <td>3.156471</td>\n",
              "    </tr>\n",
              "    <tr>\n",
              "      <th>362922</th>\n",
              "      <td>67.00</td>\n",
              "      <td>7794820001943</td>\n",
              "      <td>16-1-2702</td>\n",
              "      <td>20200419</td>\n",
              "      <td>65.833529</td>\n",
              "      <td>4.450067</td>\n",
              "      <td>1.166471</td>\n",
              "    </tr>\n",
              "    <tr>\n",
              "      <th>390234</th>\n",
              "      <td>205.95</td>\n",
              "      <td>7798062541397</td>\n",
              "      <td>16-1-2702</td>\n",
              "      <td>20200419</td>\n",
              "      <td>179.520208</td>\n",
              "      <td>24.367440</td>\n",
              "      <td>26.429792</td>\n",
              "    </tr>\n",
              "    <tr>\n",
              "      <th>390235</th>\n",
              "      <td>199.00</td>\n",
              "      <td>7798062541397</td>\n",
              "      <td>16-1-2702</td>\n",
              "      <td>20200419</td>\n",
              "      <td>179.520208</td>\n",
              "      <td>24.367440</td>\n",
              "      <td>19.479792</td>\n",
              "    </tr>\n",
              "    <tr>\n",
              "      <th>435813</th>\n",
              "      <td>192.00</td>\n",
              "      <td>7891010568757</td>\n",
              "      <td>16-1-2702</td>\n",
              "      <td>20200419</td>\n",
              "      <td>197.052742</td>\n",
              "      <td>20.187633</td>\n",
              "      <td>5.052742</td>\n",
              "    </tr>\n",
              "    <tr>\n",
              "      <th>435814</th>\n",
              "      <td>210.95</td>\n",
              "      <td>7891010568757</td>\n",
              "      <td>16-1-2702</td>\n",
              "      <td>20200419</td>\n",
              "      <td>197.052742</td>\n",
              "      <td>20.187633</td>\n",
              "      <td>13.897258</td>\n",
              "    </tr>\n",
              "  </tbody>\n",
              "</table>\n",
              "</div>"
            ],
            "text/plain": [
              "        precio    producto_id sucursal_id     fecha  precio_mean  precio_std  \\\n",
              "152238   41.57  7790503001996   16-1-2702  20200419    43.942222    3.348569   \n",
              "152239   43.65  7790503001996   16-1-2702  20200419    43.942222    3.348569   \n",
              "198300  182.92  7790802000027   16-1-2702  20200419   209.547500   12.332926   \n",
              "198301  212.16  7790802000027   16-1-2702  20200419   209.547500   12.332926   \n",
              "199085   57.99  7790828102491   16-1-2702  20200419    55.662692   10.824859   \n",
              "199086   66.99  7790828102491   16-1-2702  20200419    55.662692   10.824859   \n",
              "232460   66.95  7791290000674   16-1-2702  20200419    64.108167    5.814931   \n",
              "232461   47.85  7791290000674   16-1-2702  20200419    64.108167    5.814931   \n",
              "232546   66.95  7791290000735   16-1-2702  20200419    63.831026    6.091873   \n",
              "232547   47.85  7791290000735   16-1-2702  20200419    63.831026    6.091873   \n",
              "277928   69.99  7791819000116   16-1-2702  20200419    93.942500   19.726423   \n",
              "277929   79.99  7791819000116   16-1-2702  20200419    93.942500   19.726423   \n",
              "277934   69.99  7791819000123   16-1-2702  20200419    77.680000   20.913098   \n",
              "277935   79.99  7791819000123   16-1-2702  20200419    77.680000   20.913098   \n",
              "277940   69.99  7791819000246   16-1-2702  20200419    89.752000   19.533217   \n",
              "277941   79.99  7791819000246   16-1-2702  20200419    89.752000   19.533217   \n",
              "277956   69.99  7791819000406   16-1-2702  20200419    85.808571   19.590865   \n",
              "277957   79.99  7791819000406   16-1-2702  20200419    85.808571   19.590865   \n",
              "277969   69.99  7791819000765   16-1-2702  20200419    82.293333   19.007122   \n",
              "277970   79.99  7791819000765   16-1-2702  20200419    82.293333   19.007122   \n",
              "280368   45.85  7791866004211   16-1-2702  20200419    43.755156    4.389680   \n",
              "280369   41.00  7791866004211   16-1-2702  20200419    43.755156    4.389680   \n",
              "362890   68.99  7794820001936   16-1-2702  20200419    66.273125    5.454372   \n",
              "362891   67.00  7794820001936   16-1-2702  20200419    66.273125    5.454372   \n",
              "362921   68.99  7794820001943   16-1-2702  20200419    65.833529    4.450067   \n",
              "362922   67.00  7794820001943   16-1-2702  20200419    65.833529    4.450067   \n",
              "390234  205.95  7798062541397   16-1-2702  20200419   179.520208   24.367440   \n",
              "390235  199.00  7798062541397   16-1-2702  20200419   179.520208   24.367440   \n",
              "435813  192.00  7891010568757   16-1-2702  20200419   197.052742   20.187633   \n",
              "435814  210.95  7891010568757   16-1-2702  20200419   197.052742   20.187633   \n",
              "\n",
              "        precio_mean_diff  \n",
              "152238          2.372222  \n",
              "152239          0.292222  \n",
              "198300         26.627500  \n",
              "198301          2.612500  \n",
              "199085          2.327308  \n",
              "199086         11.327308  \n",
              "232460          2.841833  \n",
              "232461         16.258167  \n",
              "232546          3.118974  \n",
              "232547         15.981026  \n",
              "277928         23.952500  \n",
              "277929         13.952500  \n",
              "277934          7.690000  \n",
              "277935          2.310000  \n",
              "277940         19.762000  \n",
              "277941          9.762000  \n",
              "277956         15.818571  \n",
              "277957          5.818571  \n",
              "277969         12.303333  \n",
              "277970          2.303333  \n",
              "280368          2.094844  \n",
              "280369          2.755156  \n",
              "362890          2.716875  \n",
              "362891          0.726875  \n",
              "362921          3.156471  \n",
              "362922          1.166471  \n",
              "390234         26.429792  \n",
              "390235         19.479792  \n",
              "435813          5.052742  \n",
              "435814         13.897258  "
            ]
          },
          "metadata": {
            "tags": []
          },
          "execution_count": 465
        }
      ]
    },
    {
      "cell_type": "code",
      "metadata": {
        "id": "_9hL8a9pu5yS"
      },
      "source": [
        "# Armo un diccionario cuya clave es el ('producto_id','fecha') y el valor es una lista de 'precio_mean_diff'\n",
        "dict_precio_mean_diff = precios_duplicados.groupby(['producto_id','fecha'])['precio_mean_diff'].apply(lambda x: x.tolist()).to_dict()"
      ],
      "execution_count": null,
      "outputs": []
    },
    {
      "cell_type": "code",
      "metadata": {
        "id": "f6Jy3cYytL4O",
        "outputId": "d226519d-9a94-4575-f2ea-61335e3521e3",
        "colab": {
          "base_uri": "https://localhost:8080/"
        }
      },
      "source": [
        "dict_precio_mean_diff"
      ],
      "execution_count": null,
      "outputs": [
        {
          "output_type": "execute_result",
          "data": {
            "text/plain": [
              "{('7790503001996', '20200419'): [2.372222222222213, 0.2922222222222146],\n",
              " ('7790802000027', '20200419'): [26.627499999999998, 2.6125000000000114],\n",
              " ('7790828102491', '20200419'): [2.3273076923076914, 11.327307692307684],\n",
              " ('7791290000674', '20200419'): [2.8418333333333266, 16.258166666666675],\n",
              " ('7791290000735', '20200419'): [3.1189743589743273, 15.981025641025674],\n",
              " ('7791819000116', '20200419'): [23.9525, 13.9525],\n",
              " ('7791819000123', '20200419'): [7.689999999999998, 2.3100000000000023],\n",
              " ('7791819000246', '20200419'): [19.762, 9.762],\n",
              " ('7791819000406', '20200419'): [15.818571428571431, 5.818571428571431],\n",
              " ('7791819000765', '20200419'): [12.303333333333342, 2.3033333333333417],\n",
              " ('7791866004211', '20200419'): [2.0948437499999883, 2.755156250000013],\n",
              " ('7794820001936', '20200419'): [2.7168749999999875, 0.7268749999999926],\n",
              " ('7794820001943', '20200419'): [3.1564705882352797, 1.1664705882352848],\n",
              " ('7798062541397', '20200419'): [26.42979166666663, 19.479791666666642],\n",
              " ('7891010568757', '20200419'): [5.052741935483937, 13.897258064516052]}"
            ]
          },
          "metadata": {
            "tags": []
          },
          "execution_count": 467
        }
      ]
    },
    {
      "cell_type": "code",
      "metadata": {
        "id": "0sV8zhGw7ixN"
      },
      "source": [
        "# Recorre el diccionario y tomo el mayor valor de  la lista de diferencias entre medias\n",
        "# Luego creo un dataframe con estos valores\n",
        "def get_df_precios_a_borrar(dict_precio):\n",
        "  df = pd.DataFrame()\n",
        "  for idx, diff in dict_precio.items():\n",
        "    df = df.append({'producto_id':idx[0], 'fecha':idx[1], 'precio_mean_diff':max(diff)}, ignore_index=True)\n",
        "  return df"
      ],
      "execution_count": null,
      "outputs": []
    },
    {
      "cell_type": "code",
      "metadata": {
        "id": "JTmWOEQT_P7c",
        "outputId": "6f85cc25-cde8-47c0-b444-97a00fc65ce9",
        "colab": {
          "base_uri": "https://localhost:8080/"
        }
      },
      "source": [
        "df_precios_duplicados_borrar = get_df_precios_a_borrar(dict_precio_mean_diff)\n",
        "df_precios_duplicados_borrar"
      ],
      "execution_count": null,
      "outputs": [
        {
          "output_type": "execute_result",
          "data": {
            "text/html": [
              "<div>\n",
              "<style scoped>\n",
              "    .dataframe tbody tr th:only-of-type {\n",
              "        vertical-align: middle;\n",
              "    }\n",
              "\n",
              "    .dataframe tbody tr th {\n",
              "        vertical-align: top;\n",
              "    }\n",
              "\n",
              "    .dataframe thead th {\n",
              "        text-align: right;\n",
              "    }\n",
              "</style>\n",
              "<table border=\"1\" class=\"dataframe\">\n",
              "  <thead>\n",
              "    <tr style=\"text-align: right;\">\n",
              "      <th></th>\n",
              "      <th>fecha</th>\n",
              "      <th>precio_mean_diff</th>\n",
              "      <th>producto_id</th>\n",
              "    </tr>\n",
              "  </thead>\n",
              "  <tbody>\n",
              "    <tr>\n",
              "      <th>0</th>\n",
              "      <td>20200419</td>\n",
              "      <td>2.372222</td>\n",
              "      <td>7790503001996</td>\n",
              "    </tr>\n",
              "    <tr>\n",
              "      <th>1</th>\n",
              "      <td>20200419</td>\n",
              "      <td>26.627500</td>\n",
              "      <td>7790802000027</td>\n",
              "    </tr>\n",
              "    <tr>\n",
              "      <th>2</th>\n",
              "      <td>20200419</td>\n",
              "      <td>11.327308</td>\n",
              "      <td>7790828102491</td>\n",
              "    </tr>\n",
              "    <tr>\n",
              "      <th>3</th>\n",
              "      <td>20200419</td>\n",
              "      <td>16.258167</td>\n",
              "      <td>7791290000674</td>\n",
              "    </tr>\n",
              "    <tr>\n",
              "      <th>4</th>\n",
              "      <td>20200419</td>\n",
              "      <td>15.981026</td>\n",
              "      <td>7791290000735</td>\n",
              "    </tr>\n",
              "    <tr>\n",
              "      <th>5</th>\n",
              "      <td>20200419</td>\n",
              "      <td>23.952500</td>\n",
              "      <td>7791819000116</td>\n",
              "    </tr>\n",
              "    <tr>\n",
              "      <th>6</th>\n",
              "      <td>20200419</td>\n",
              "      <td>7.690000</td>\n",
              "      <td>7791819000123</td>\n",
              "    </tr>\n",
              "    <tr>\n",
              "      <th>7</th>\n",
              "      <td>20200419</td>\n",
              "      <td>19.762000</td>\n",
              "      <td>7791819000246</td>\n",
              "    </tr>\n",
              "    <tr>\n",
              "      <th>8</th>\n",
              "      <td>20200419</td>\n",
              "      <td>15.818571</td>\n",
              "      <td>7791819000406</td>\n",
              "    </tr>\n",
              "    <tr>\n",
              "      <th>9</th>\n",
              "      <td>20200419</td>\n",
              "      <td>12.303333</td>\n",
              "      <td>7791819000765</td>\n",
              "    </tr>\n",
              "    <tr>\n",
              "      <th>10</th>\n",
              "      <td>20200419</td>\n",
              "      <td>2.755156</td>\n",
              "      <td>7791866004211</td>\n",
              "    </tr>\n",
              "    <tr>\n",
              "      <th>11</th>\n",
              "      <td>20200419</td>\n",
              "      <td>2.716875</td>\n",
              "      <td>7794820001936</td>\n",
              "    </tr>\n",
              "    <tr>\n",
              "      <th>12</th>\n",
              "      <td>20200419</td>\n",
              "      <td>3.156471</td>\n",
              "      <td>7794820001943</td>\n",
              "    </tr>\n",
              "    <tr>\n",
              "      <th>13</th>\n",
              "      <td>20200419</td>\n",
              "      <td>26.429792</td>\n",
              "      <td>7798062541397</td>\n",
              "    </tr>\n",
              "    <tr>\n",
              "      <th>14</th>\n",
              "      <td>20200419</td>\n",
              "      <td>13.897258</td>\n",
              "      <td>7891010568757</td>\n",
              "    </tr>\n",
              "  </tbody>\n",
              "</table>\n",
              "</div>"
            ],
            "text/plain": [
              "       fecha  precio_mean_diff    producto_id\n",
              "0   20200419          2.372222  7790503001996\n",
              "1   20200419         26.627500  7790802000027\n",
              "2   20200419         11.327308  7790828102491\n",
              "3   20200419         16.258167  7791290000674\n",
              "4   20200419         15.981026  7791290000735\n",
              "5   20200419         23.952500  7791819000116\n",
              "6   20200419          7.690000  7791819000123\n",
              "7   20200419         19.762000  7791819000246\n",
              "8   20200419         15.818571  7791819000406\n",
              "9   20200419         12.303333  7791819000765\n",
              "10  20200419          2.755156  7791866004211\n",
              "11  20200419          2.716875  7794820001936\n",
              "12  20200419          3.156471  7794820001943\n",
              "13  20200419         26.429792  7798062541397\n",
              "14  20200419         13.897258  7891010568757"
            ]
          },
          "metadata": {
            "tags": []
          },
          "execution_count": 469
        }
      ]
    },
    {
      "cell_type": "code",
      "metadata": {
        "id": "TC6C85Rl_fIM"
      },
      "source": [
        "# Recorre el dataframe de precios duplicados y armo un filtro para detectar el registro\n",
        "# dentro del dataframe de precios limpios. Luego le digo que guarde todo los registros\n",
        "# que NO cumplan con el filtro.\n",
        "def drop_precios_duplicado(df_duplicados, df_precios):\n",
        "  for idx, row in df_duplicados.iterrows():\n",
        "    filtro = (df_precios.producto_id == row.producto_id) & \\\n",
        "              (df_precios.fecha == row.fecha) & \\\n",
        "              (df_precios.precio_mean_diff == row.precio_mean_diff)\n",
        "              \n",
        "    df_precios = df_precios[~filtro]\n",
        "\n",
        "  return df_precios"
      ],
      "execution_count": null,
      "outputs": []
    },
    {
      "cell_type": "code",
      "metadata": {
        "id": "4nHx1Rkj8use",
        "outputId": "b063a411-7493-4f06-aec2-87a119ab7356",
        "colab": {
          "base_uri": "https://localhost:8080/"
        }
      },
      "source": [
        "# Controlamos la cantidad de registros antes y despues de invocar a la funcion de limpieza.\n",
        "print(\"Antes Borrado:\", len(precios_limpios))\n",
        "precios_limpios = drop_precios_duplicado(df_precios_duplicados_borrar, precios_limpios)\n",
        "print(\"Despues Borrado:\", len(precios_limpios)) "
      ],
      "execution_count": null,
      "outputs": [
        {
          "output_type": "stream",
          "text": [
            "Antes Borrado: 2214795\n",
            "Despues Borrado: 2214780\n"
          ],
          "name": "stdout"
        }
      ]
    },
    {
      "cell_type": "code",
      "metadata": {
        "id": "nVW8n_sYK7Rj",
        "outputId": "35a57d7a-8c91-4611-b324-052c2295626e",
        "colab": {
          "base_uri": "https://localhost:8080/"
        }
      },
      "source": [
        "# Podemos ver que eliminó 15 registros, coincidente con la longitud del df_precios_duplicados:\n",
        "len(df_precios_duplicados_borrar)"
      ],
      "execution_count": null,
      "outputs": [
        {
          "output_type": "execute_result",
          "data": {
            "text/plain": [
              "15"
            ]
          },
          "metadata": {
            "tags": []
          },
          "execution_count": 472
        }
      ]
    },
    {
      "cell_type": "markdown",
      "metadata": {
        "id": "AMqydrD9BLMw"
      },
      "source": [
        "Problema inconsistencia 2"
      ]
    },
    {
      "cell_type": "code",
      "metadata": {
        "id": "hlHm4zYwpRYc",
        "outputId": "16a87496-cf3e-4ce1-c45f-b937b195d07d",
        "colab": {
          "base_uri": "https://localhost:8080/"
        }
      },
      "source": [
        "productos_limpios.head()"
      ],
      "execution_count": null,
      "outputs": [
        {
          "output_type": "execute_result",
          "data": {
            "text/html": [
              "<div>\n",
              "<style scoped>\n",
              "    .dataframe tbody tr th:only-of-type {\n",
              "        vertical-align: middle;\n",
              "    }\n",
              "\n",
              "    .dataframe tbody tr th {\n",
              "        vertical-align: top;\n",
              "    }\n",
              "\n",
              "    .dataframe thead th {\n",
              "        text-align: right;\n",
              "    }\n",
              "</style>\n",
              "<table border=\"1\" class=\"dataframe\">\n",
              "  <thead>\n",
              "    <tr style=\"text-align: right;\">\n",
              "      <th></th>\n",
              "      <th>id</th>\n",
              "      <th>marca</th>\n",
              "      <th>nombre</th>\n",
              "      <th>presentacion</th>\n",
              "      <th>categoria1</th>\n",
              "      <th>categoria2</th>\n",
              "      <th>categoria3</th>\n",
              "      <th>id_referencia</th>\n",
              "    </tr>\n",
              "  </thead>\n",
              "  <tbody>\n",
              "    <tr>\n",
              "      <th>0</th>\n",
              "      <td>0000000001663</td>\n",
              "      <td>LA ANÓNIMA</td>\n",
              "      <td>Radicheta Atada La Anonima 1 Un</td>\n",
              "      <td>1.0 un</td>\n",
              "      <td>NaN</td>\n",
              "      <td>NaN</td>\n",
              "      <td>NaN</td>\n",
              "      <td>0000000001663</td>\n",
              "    </tr>\n",
              "    <tr>\n",
              "      <th>1</th>\n",
              "      <td>0000000002288</td>\n",
              "      <td>LA ANÓNIMA</td>\n",
              "      <td>Perejil Atado La Anonima 1 Un</td>\n",
              "      <td>1.0 un</td>\n",
              "      <td>NaN</td>\n",
              "      <td>NaN</td>\n",
              "      <td>NaN</td>\n",
              "      <td>0000000002288</td>\n",
              "    </tr>\n",
              "    <tr>\n",
              "      <th>2</th>\n",
              "      <td>0000000205870</td>\n",
              "      <td>SIN MARCA</td>\n",
              "      <td>Ojo de Bife 1 Kg</td>\n",
              "      <td>1.0 kg</td>\n",
              "      <td>NaN</td>\n",
              "      <td>NaN</td>\n",
              "      <td>NaN</td>\n",
              "      <td>0000000205870</td>\n",
              "    </tr>\n",
              "    <tr>\n",
              "      <th>3</th>\n",
              "      <td>0000000205894</td>\n",
              "      <td>SIN MARCA</td>\n",
              "      <td>Milanesa de Peceto Novillito 1 Kg</td>\n",
              "      <td>1.0 kg</td>\n",
              "      <td>NaN</td>\n",
              "      <td>NaN</td>\n",
              "      <td>NaN</td>\n",
              "      <td>0000000205894</td>\n",
              "    </tr>\n",
              "    <tr>\n",
              "      <th>4</th>\n",
              "      <td>0000000205955</td>\n",
              "      <td>SIN MARCA</td>\n",
              "      <td>Chiquizuela Novillito 1 Kg</td>\n",
              "      <td>1.0 kg</td>\n",
              "      <td>NaN</td>\n",
              "      <td>NaN</td>\n",
              "      <td>NaN</td>\n",
              "      <td>0000000205955</td>\n",
              "    </tr>\n",
              "  </tbody>\n",
              "</table>\n",
              "</div>"
            ],
            "text/plain": [
              "              id       marca                             nombre presentacion  \\\n",
              "0  0000000001663  LA ANÓNIMA    Radicheta Atada La Anonima 1 Un       1.0 un   \n",
              "1  0000000002288  LA ANÓNIMA      Perejil Atado La Anonima 1 Un       1.0 un   \n",
              "2  0000000205870   SIN MARCA                   Ojo de Bife 1 Kg       1.0 kg   \n",
              "3  0000000205894   SIN MARCA  Milanesa de Peceto Novillito 1 Kg       1.0 kg   \n",
              "4  0000000205955   SIN MARCA         Chiquizuela Novillito 1 Kg       1.0 kg   \n",
              "\n",
              "  categoria1 categoria2 categoria3  id_referencia  \n",
              "0        NaN        NaN        NaN  0000000001663  \n",
              "1        NaN        NaN        NaN  0000000002288  \n",
              "2        NaN        NaN        NaN  0000000205870  \n",
              "3        NaN        NaN        NaN  0000000205894  \n",
              "4        NaN        NaN        NaN  0000000205955  "
            ]
          },
          "metadata": {
            "tags": []
          },
          "execution_count": 473
        }
      ]
    },
    {
      "cell_type": "code",
      "metadata": {
        "id": "EHAic7M2Bju5",
        "outputId": "99f9eec5-0860-47be-81ca-3d925eb4ce93",
        "colab": {
          "base_uri": "https://localhost:8080/"
        }
      },
      "source": [
        "##la presentacion no coincide siempre con la cantidad que hay en el nombre, ni unidad y cantidad\n",
        "\n",
        "productos_limpios[productos_limpios.id=='7796679007411']"
      ],
      "execution_count": null,
      "outputs": [
        {
          "output_type": "execute_result",
          "data": {
            "text/html": [
              "<div>\n",
              "<style scoped>\n",
              "    .dataframe tbody tr th:only-of-type {\n",
              "        vertical-align: middle;\n",
              "    }\n",
              "\n",
              "    .dataframe tbody tr th {\n",
              "        vertical-align: top;\n",
              "    }\n",
              "\n",
              "    .dataframe thead th {\n",
              "        text-align: right;\n",
              "    }\n",
              "</style>\n",
              "<table border=\"1\" class=\"dataframe\">\n",
              "  <thead>\n",
              "    <tr style=\"text-align: right;\">\n",
              "      <th></th>\n",
              "      <th>id</th>\n",
              "      <th>marca</th>\n",
              "      <th>nombre</th>\n",
              "      <th>presentacion</th>\n",
              "      <th>categoria1</th>\n",
              "      <th>categoria2</th>\n",
              "      <th>categoria3</th>\n",
              "      <th>id_referencia</th>\n",
              "    </tr>\n",
              "  </thead>\n",
              "  <tbody>\n",
              "    <tr>\n",
              "      <th>51054</th>\n",
              "      <td>7796679007411</td>\n",
              "      <td>SIN MARCA</td>\n",
              "      <td>Insecticidas Polillas Larvas Efecto 360 Cc</td>\n",
              "      <td>1.0 un</td>\n",
              "      <td>NaN</td>\n",
              "      <td>NaN</td>\n",
              "      <td>NaN</td>\n",
              "      <td>7796679007411</td>\n",
              "    </tr>\n",
              "  </tbody>\n",
              "</table>\n",
              "</div>"
            ],
            "text/plain": [
              "                  id      marca                                      nombre  \\\n",
              "51054  7796679007411  SIN MARCA  Insecticidas Polillas Larvas Efecto 360 Cc   \n",
              "\n",
              "      presentacion categoria1 categoria2 categoria3  id_referencia  \n",
              "51054       1.0 un        NaN        NaN        NaN  7796679007411  "
            ]
          },
          "metadata": {
            "tags": []
          },
          "execution_count": 474
        }
      ]
    },
    {
      "cell_type": "markdown",
      "metadata": {
        "id": "w8oeN5daqTkV"
      },
      "source": [
        "Frente a estos problemas, en la parte 2 del trabajo se realiza una depuracion."
      ]
    },
    {
      "cell_type": "markdown",
      "metadata": {
        "id": "OBMn5aMPTIsr"
      },
      "source": [
        "#### 2.6. Identificar y Documentar Valores Atípicos/Outliers"
      ]
    },
    {
      "cell_type": "code",
      "metadata": {
        "id": "OyMVO42tqhNG"
      },
      "source": [
        "##No estamos seguros si los precios outliers hay que sacarlos o no y cual es la mejor forma de detectarlos es por ello que se hicieron varias opciones."
      ],
      "execution_count": null,
      "outputs": []
    },
    {
      "cell_type": "code",
      "metadata": {
        "id": "Zr4yPGbDb7xs",
        "outputId": "4f883901-aca5-4e32-bd17-0375c4f12fa9",
        "colab": {
          "base_uri": "https://localhost:8080/"
        }
      },
      "source": [
        "precios_limpios"
      ],
      "execution_count": null,
      "outputs": [
        {
          "output_type": "execute_result",
          "data": {
            "text/html": [
              "<div>\n",
              "<style scoped>\n",
              "    .dataframe tbody tr th:only-of-type {\n",
              "        vertical-align: middle;\n",
              "    }\n",
              "\n",
              "    .dataframe tbody tr th {\n",
              "        vertical-align: top;\n",
              "    }\n",
              "\n",
              "    .dataframe thead th {\n",
              "        text-align: right;\n",
              "    }\n",
              "</style>\n",
              "<table border=\"1\" class=\"dataframe\">\n",
              "  <thead>\n",
              "    <tr style=\"text-align: right;\">\n",
              "      <th></th>\n",
              "      <th>precio</th>\n",
              "      <th>producto_id</th>\n",
              "      <th>sucursal_id</th>\n",
              "      <th>fecha</th>\n",
              "      <th>precio_mean</th>\n",
              "      <th>precio_std</th>\n",
              "      <th>precio_mean_diff</th>\n",
              "    </tr>\n",
              "  </thead>\n",
              "  <tbody>\n",
              "    <tr>\n",
              "      <th>0</th>\n",
              "      <td>29.90</td>\n",
              "      <td>0000000001663</td>\n",
              "      <td>2-1-014</td>\n",
              "      <td>20200412</td>\n",
              "      <td>29.90</td>\n",
              "      <td>0.000000</td>\n",
              "      <td>0.0</td>\n",
              "    </tr>\n",
              "    <tr>\n",
              "      <th>1</th>\n",
              "      <td>29.90</td>\n",
              "      <td>0000000002288</td>\n",
              "      <td>2-1-032</td>\n",
              "      <td>20200412</td>\n",
              "      <td>34.90</td>\n",
              "      <td>5.000000</td>\n",
              "      <td>5.0</td>\n",
              "    </tr>\n",
              "    <tr>\n",
              "      <th>2</th>\n",
              "      <td>39.90</td>\n",
              "      <td>0000000002288</td>\n",
              "      <td>2-1-096</td>\n",
              "      <td>20200412</td>\n",
              "      <td>34.90</td>\n",
              "      <td>5.000000</td>\n",
              "      <td>5.0</td>\n",
              "    </tr>\n",
              "    <tr>\n",
              "      <th>3</th>\n",
              "      <td>499.99</td>\n",
              "      <td>0000000205870</td>\n",
              "      <td>9-1-686</td>\n",
              "      <td>20200412</td>\n",
              "      <td>524.99</td>\n",
              "      <td>16.583124</td>\n",
              "      <td>25.0</td>\n",
              "    </tr>\n",
              "    <tr>\n",
              "      <th>4</th>\n",
              "      <td>519.99</td>\n",
              "      <td>0000000205870</td>\n",
              "      <td>9-2-248</td>\n",
              "      <td>20200412</td>\n",
              "      <td>524.99</td>\n",
              "      <td>16.583124</td>\n",
              "      <td>5.0</td>\n",
              "    </tr>\n",
              "    <tr>\n",
              "      <th>...</th>\n",
              "      <td>...</td>\n",
              "      <td>...</td>\n",
              "      <td>...</td>\n",
              "      <td>...</td>\n",
              "      <td>...</td>\n",
              "      <td>...</td>\n",
              "      <td>...</td>\n",
              "    </tr>\n",
              "    <tr>\n",
              "      <th>415096</th>\n",
              "      <td>149.99</td>\n",
              "      <td>9569753142128</td>\n",
              "      <td>25-1-1</td>\n",
              "      <td>20200518</td>\n",
              "      <td>149.99</td>\n",
              "      <td>0.000000</td>\n",
              "      <td>0.0</td>\n",
              "    </tr>\n",
              "    <tr>\n",
              "      <th>415097</th>\n",
              "      <td>34.99</td>\n",
              "      <td>9795403001143</td>\n",
              "      <td>25-1-1</td>\n",
              "      <td>20200518</td>\n",
              "      <td>34.99</td>\n",
              "      <td>0.000000</td>\n",
              "      <td>0.0</td>\n",
              "    </tr>\n",
              "    <tr>\n",
              "      <th>415098</th>\n",
              "      <td>312.50</td>\n",
              "      <td>9990385651922</td>\n",
              "      <td>5-1-4</td>\n",
              "      <td>20200518</td>\n",
              "      <td>312.50</td>\n",
              "      <td>0.000000</td>\n",
              "      <td>0.0</td>\n",
              "    </tr>\n",
              "    <tr>\n",
              "      <th>415099</th>\n",
              "      <td>312.50</td>\n",
              "      <td>9990385651939</td>\n",
              "      <td>5-1-4</td>\n",
              "      <td>20200518</td>\n",
              "      <td>312.50</td>\n",
              "      <td>0.000000</td>\n",
              "      <td>0.0</td>\n",
              "    </tr>\n",
              "    <tr>\n",
              "      <th>415100</th>\n",
              "      <td>198.90</td>\n",
              "      <td>9990385651946</td>\n",
              "      <td>5-1-4</td>\n",
              "      <td>20200518</td>\n",
              "      <td>198.90</td>\n",
              "      <td>0.000000</td>\n",
              "      <td>0.0</td>\n",
              "    </tr>\n",
              "  </tbody>\n",
              "</table>\n",
              "<p>2214780 rows × 7 columns</p>\n",
              "</div>"
            ],
            "text/plain": [
              "        precio    producto_id sucursal_id     fecha  precio_mean  precio_std  \\\n",
              "0        29.90  0000000001663     2-1-014  20200412        29.90    0.000000   \n",
              "1        29.90  0000000002288     2-1-032  20200412        34.90    5.000000   \n",
              "2        39.90  0000000002288     2-1-096  20200412        34.90    5.000000   \n",
              "3       499.99  0000000205870     9-1-686  20200412       524.99   16.583124   \n",
              "4       519.99  0000000205870     9-2-248  20200412       524.99   16.583124   \n",
              "...        ...            ...         ...       ...          ...         ...   \n",
              "415096  149.99  9569753142128      25-1-1  20200518       149.99    0.000000   \n",
              "415097   34.99  9795403001143      25-1-1  20200518        34.99    0.000000   \n",
              "415098  312.50  9990385651922       5-1-4  20200518       312.50    0.000000   \n",
              "415099  312.50  9990385651939       5-1-4  20200518       312.50    0.000000   \n",
              "415100  198.90  9990385651946       5-1-4  20200518       198.90    0.000000   \n",
              "\n",
              "        precio_mean_diff  \n",
              "0                    0.0  \n",
              "1                    5.0  \n",
              "2                    5.0  \n",
              "3                   25.0  \n",
              "4                    5.0  \n",
              "...                  ...  \n",
              "415096               0.0  \n",
              "415097               0.0  \n",
              "415098               0.0  \n",
              "415099               0.0  \n",
              "415100               0.0  \n",
              "\n",
              "[2214780 rows x 7 columns]"
            ]
          },
          "metadata": {
            "tags": []
          },
          "execution_count": 476
        }
      ]
    },
    {
      "cell_type": "code",
      "metadata": {
        "id": "8e8-cvq1DDl5"
      },
      "source": [
        "###OPCION1"
      ],
      "execution_count": null,
      "outputs": []
    },
    {
      "cell_type": "code",
      "metadata": {
        "id": "S5IVoEXDFSuT"
      },
      "source": [
        "# Ejemplo de Pandas Vectorization (llega al mismo resultado que lo de abajo pero demora 1 segundo)\n",
        "def is_outlier(precio, media, desvia):\n",
        "  precios_limpios.loc[precio > media + 3*desvia, 'resultado'] = 'extremo'\n",
        "  precios_limpios.loc[precio <= media + 3*desvia, 'resultado'] = 'normal'"
      ],
      "execution_count": null,
      "outputs": []
    },
    {
      "cell_type": "code",
      "metadata": {
        "id": "aRRkAduesS7A"
      },
      "source": [
        "#precios_limpios['clasificacion'] = precios_limpios.precio.apply( lambda x : 'normal' if x <= RI*1.5 else ('extremo' if x > RI*3 else 'atipico'))\n",
        "#precios_limpios['clasificacion'] = precios_limpios.apply(lambda x : 'extremo' \n",
        "#                                                         if \n",
        "#                                                          x['precio'] > x['precio_mean'] + 3*x['precio_std'] \n",
        "#                                                         else \n",
        "#                                                          'normal', axis=1)"
      ],
      "execution_count": null,
      "outputs": []
    },
    {
      "cell_type": "code",
      "metadata": {
        "id": "kSL4EBHgN1xX"
      },
      "source": [
        "is_outlier(precios_limpios['precio'], precios_limpios['precio_mean'], precios_limpios['precio_std'])"
      ],
      "execution_count": null,
      "outputs": []
    },
    {
      "cell_type": "code",
      "metadata": {
        "id": "g7NbbOprOIC9",
        "outputId": "685bd0c8-ab73-492d-836c-f9b66eb3afd1",
        "colab": {
          "base_uri": "https://localhost:8080/"
        }
      },
      "source": [
        "#precios_limpios[['clasificacion', 'resultado']].sample(50)\n",
        "precios_limpios['resultado'].sample(5)"
      ],
      "execution_count": null,
      "outputs": [
        {
          "output_type": "execute_result",
          "data": {
            "text/plain": [
              "219413    normal\n",
              "338131    normal\n",
              "164113    normal\n",
              "165634    normal\n",
              "35219     normal\n",
              "Name: resultado, dtype: object"
            ]
          },
          "metadata": {
            "tags": []
          },
          "execution_count": 481
        }
      ]
    },
    {
      "cell_type": "code",
      "metadata": {
        "id": "oS_Ft2H959E5",
        "outputId": "2b2cc853-f8e6-4881-aa04-b9647c7a5f35",
        "colab": {
          "base_uri": "https://localhost:8080/"
        }
      },
      "source": [
        "precios_limpios.head()"
      ],
      "execution_count": null,
      "outputs": [
        {
          "output_type": "execute_result",
          "data": {
            "text/html": [
              "<div>\n",
              "<style scoped>\n",
              "    .dataframe tbody tr th:only-of-type {\n",
              "        vertical-align: middle;\n",
              "    }\n",
              "\n",
              "    .dataframe tbody tr th {\n",
              "        vertical-align: top;\n",
              "    }\n",
              "\n",
              "    .dataframe thead th {\n",
              "        text-align: right;\n",
              "    }\n",
              "</style>\n",
              "<table border=\"1\" class=\"dataframe\">\n",
              "  <thead>\n",
              "    <tr style=\"text-align: right;\">\n",
              "      <th></th>\n",
              "      <th>precio</th>\n",
              "      <th>producto_id</th>\n",
              "      <th>sucursal_id</th>\n",
              "      <th>fecha</th>\n",
              "      <th>precio_mean</th>\n",
              "      <th>precio_std</th>\n",
              "      <th>precio_mean_diff</th>\n",
              "      <th>resultado</th>\n",
              "    </tr>\n",
              "  </thead>\n",
              "  <tbody>\n",
              "    <tr>\n",
              "      <th>0</th>\n",
              "      <td>29.90</td>\n",
              "      <td>0000000001663</td>\n",
              "      <td>2-1-014</td>\n",
              "      <td>20200412</td>\n",
              "      <td>29.90</td>\n",
              "      <td>0.000000</td>\n",
              "      <td>0.0</td>\n",
              "      <td>normal</td>\n",
              "    </tr>\n",
              "    <tr>\n",
              "      <th>1</th>\n",
              "      <td>29.90</td>\n",
              "      <td>0000000002288</td>\n",
              "      <td>2-1-032</td>\n",
              "      <td>20200412</td>\n",
              "      <td>34.90</td>\n",
              "      <td>5.000000</td>\n",
              "      <td>5.0</td>\n",
              "      <td>normal</td>\n",
              "    </tr>\n",
              "    <tr>\n",
              "      <th>2</th>\n",
              "      <td>39.90</td>\n",
              "      <td>0000000002288</td>\n",
              "      <td>2-1-096</td>\n",
              "      <td>20200412</td>\n",
              "      <td>34.90</td>\n",
              "      <td>5.000000</td>\n",
              "      <td>5.0</td>\n",
              "      <td>normal</td>\n",
              "    </tr>\n",
              "    <tr>\n",
              "      <th>3</th>\n",
              "      <td>499.99</td>\n",
              "      <td>0000000205870</td>\n",
              "      <td>9-1-686</td>\n",
              "      <td>20200412</td>\n",
              "      <td>524.99</td>\n",
              "      <td>16.583124</td>\n",
              "      <td>25.0</td>\n",
              "      <td>normal</td>\n",
              "    </tr>\n",
              "    <tr>\n",
              "      <th>4</th>\n",
              "      <td>519.99</td>\n",
              "      <td>0000000205870</td>\n",
              "      <td>9-2-248</td>\n",
              "      <td>20200412</td>\n",
              "      <td>524.99</td>\n",
              "      <td>16.583124</td>\n",
              "      <td>5.0</td>\n",
              "      <td>normal</td>\n",
              "    </tr>\n",
              "  </tbody>\n",
              "</table>\n",
              "</div>"
            ],
            "text/plain": [
              "   precio    producto_id sucursal_id     fecha  precio_mean  precio_std  \\\n",
              "0   29.90  0000000001663     2-1-014  20200412        29.90    0.000000   \n",
              "1   29.90  0000000002288     2-1-032  20200412        34.90    5.000000   \n",
              "2   39.90  0000000002288     2-1-096  20200412        34.90    5.000000   \n",
              "3  499.99  0000000205870     9-1-686  20200412       524.99   16.583124   \n",
              "4  519.99  0000000205870     9-2-248  20200412       524.99   16.583124   \n",
              "\n",
              "   precio_mean_diff resultado  \n",
              "0               0.0    normal  \n",
              "1               5.0    normal  \n",
              "2               5.0    normal  \n",
              "3              25.0    normal  \n",
              "4               5.0    normal  "
            ]
          },
          "metadata": {
            "tags": []
          },
          "execution_count": 482
        }
      ]
    },
    {
      "cell_type": "code",
      "metadata": {
        "id": "dnBN79vDtZOW"
      },
      "source": [
        "#precios_limpios['clasificacion'].value_counts(dropna=False)"
      ],
      "execution_count": null,
      "outputs": []
    },
    {
      "cell_type": "code",
      "metadata": {
        "id": "nds9VkHpcTyF",
        "outputId": "c094d338-1069-4391-d27a-6210e05b9645",
        "colab": {
          "base_uri": "https://localhost:8080/"
        }
      },
      "source": [
        "precios_limpios['resultado'].value_counts(dropna=False)"
      ],
      "execution_count": null,
      "outputs": [
        {
          "output_type": "execute_result",
          "data": {
            "text/plain": [
              "normal     2211603\n",
              "extremo       3177\n",
              "Name: resultado, dtype: int64"
            ]
          },
          "metadata": {
            "tags": []
          },
          "execution_count": 484
        }
      ]
    },
    {
      "cell_type": "code",
      "metadata": {
        "id": "4jYLF91He6QX",
        "outputId": "04c1825a-d35c-4d14-9d8b-3efd58b4decf",
        "colab": {
          "base_uri": "https://localhost:8080/"
        }
      },
      "source": [
        "##los precios que son mas outliers\n",
        "##0000075027513 desodorante original dove 50 gr\n",
        "##0000042300076 Crema Facial Cuidado Nivea 50 Ml\t\n",
        "\n",
        "\n",
        "precios_limpios[precios_limpios.resultado == 'extremo'].groupby(['producto_id']).agg(cantidad=('producto_id', 'count')).sort_values('cantidad', ascending=False)\n",
        "##precios_limpios[precios_limpios.clasificacion =='extremo'].groupby['producto_id','fecha'].agg()"
      ],
      "execution_count": null,
      "outputs": [
        {
          "output_type": "execute_result",
          "data": {
            "text/html": [
              "<div>\n",
              "<style scoped>\n",
              "    .dataframe tbody tr th:only-of-type {\n",
              "        vertical-align: middle;\n",
              "    }\n",
              "\n",
              "    .dataframe tbody tr th {\n",
              "        vertical-align: top;\n",
              "    }\n",
              "\n",
              "    .dataframe thead th {\n",
              "        text-align: right;\n",
              "    }\n",
              "</style>\n",
              "<table border=\"1\" class=\"dataframe\">\n",
              "  <thead>\n",
              "    <tr style=\"text-align: right;\">\n",
              "      <th></th>\n",
              "      <th>cantidad</th>\n",
              "    </tr>\n",
              "    <tr>\n",
              "      <th>producto_id</th>\n",
              "      <th></th>\n",
              "    </tr>\n",
              "  </thead>\n",
              "  <tbody>\n",
              "    <tr>\n",
              "      <th>7790010616799</th>\n",
              "      <td>21</td>\n",
              "    </tr>\n",
              "    <tr>\n",
              "      <th>7790520010414</th>\n",
              "      <td>19</td>\n",
              "    </tr>\n",
              "    <tr>\n",
              "      <th>7790250024132</th>\n",
              "      <td>19</td>\n",
              "    </tr>\n",
              "    <tr>\n",
              "      <th>7790010616805</th>\n",
              "      <td>16</td>\n",
              "    </tr>\n",
              "    <tr>\n",
              "      <th>7790070411839</th>\n",
              "      <td>16</td>\n",
              "    </tr>\n",
              "    <tr>\n",
              "      <th>...</th>\n",
              "      <td>...</td>\n",
              "    </tr>\n",
              "    <tr>\n",
              "      <th>7791337001879</th>\n",
              "      <td>1</td>\n",
              "    </tr>\n",
              "    <tr>\n",
              "      <th>7791337001862</th>\n",
              "      <td>1</td>\n",
              "    </tr>\n",
              "    <tr>\n",
              "      <th>7790072000093</th>\n",
              "      <td>1</td>\n",
              "    </tr>\n",
              "    <tr>\n",
              "      <th>7790077000432</th>\n",
              "      <td>1</td>\n",
              "    </tr>\n",
              "    <tr>\n",
              "      <th>7790742309105</th>\n",
              "      <td>1</td>\n",
              "    </tr>\n",
              "  </tbody>\n",
              "</table>\n",
              "<p>888 rows × 1 columns</p>\n",
              "</div>"
            ],
            "text/plain": [
              "               cantidad\n",
              "producto_id            \n",
              "7790010616799        21\n",
              "7790520010414        19\n",
              "7790250024132        19\n",
              "7790010616805        16\n",
              "7790070411839        16\n",
              "...                 ...\n",
              "7791337001879         1\n",
              "7791337001862         1\n",
              "7790072000093         1\n",
              "7790077000432         1\n",
              "7790742309105         1\n",
              "\n",
              "[888 rows x 1 columns]"
            ]
          },
          "metadata": {
            "tags": []
          },
          "execution_count": 485
        }
      ]
    },
    {
      "cell_type": "code",
      "metadata": {
        "id": "Kz6zd4s20YH3"
      },
      "source": [
        ""
      ],
      "execution_count": null,
      "outputs": []
    },
    {
      "cell_type": "code",
      "metadata": {
        "id": "pYjMtNp2kWYN",
        "outputId": "a385518c-24f5-4c4c-f728-10e6e74159f2",
        "colab": {
          "base_uri": "https://localhost:8080/"
        }
      },
      "source": [
        "##fechas con mas outliers\n",
        "precios_limpios[precios_limpios.resultado == 'extremo'].groupby(['fecha']).agg(cantidad=('producto_id', 'count'))\n",
        "##precios_limpios[precios_limpios.clasificacion =='extremo'].groupby['producto_id','fecha'].agg()"
      ],
      "execution_count": null,
      "outputs": [
        {
          "output_type": "execute_result",
          "data": {
            "text/html": [
              "<div>\n",
              "<style scoped>\n",
              "    .dataframe tbody tr th:only-of-type {\n",
              "        vertical-align: middle;\n",
              "    }\n",
              "\n",
              "    .dataframe tbody tr th {\n",
              "        vertical-align: top;\n",
              "    }\n",
              "\n",
              "    .dataframe thead th {\n",
              "        text-align: right;\n",
              "    }\n",
              "</style>\n",
              "<table border=\"1\" class=\"dataframe\">\n",
              "  <thead>\n",
              "    <tr style=\"text-align: right;\">\n",
              "      <th></th>\n",
              "      <th>cantidad</th>\n",
              "    </tr>\n",
              "    <tr>\n",
              "      <th>fecha</th>\n",
              "      <th></th>\n",
              "    </tr>\n",
              "  </thead>\n",
              "  <tbody>\n",
              "    <tr>\n",
              "      <th>20200412</th>\n",
              "      <td>661</td>\n",
              "    </tr>\n",
              "    <tr>\n",
              "      <th>20200419</th>\n",
              "      <td>716</td>\n",
              "    </tr>\n",
              "    <tr>\n",
              "      <th>20200426</th>\n",
              "      <td>793</td>\n",
              "    </tr>\n",
              "    <tr>\n",
              "      <th>20200502</th>\n",
              "      <td>490</td>\n",
              "    </tr>\n",
              "    <tr>\n",
              "      <th>20200518</th>\n",
              "      <td>517</td>\n",
              "    </tr>\n",
              "  </tbody>\n",
              "</table>\n",
              "</div>"
            ],
            "text/plain": [
              "          cantidad\n",
              "fecha             \n",
              "20200412       661\n",
              "20200419       716\n",
              "20200426       793\n",
              "20200502       490\n",
              "20200518       517"
            ]
          },
          "metadata": {
            "tags": []
          },
          "execution_count": 486
        }
      ]
    },
    {
      "cell_type": "code",
      "metadata": {
        "id": "FIVksYnhlTyZ",
        "outputId": "019df6f6-c81e-4e1e-b003-a6ce3cff8749",
        "colab": {
          "base_uri": "https://localhost:8080/"
        }
      },
      "source": [
        "# Podemos ver que el producto que mas veces fue considerado \"extremo\" (u outlier) en realidad tiene precios acorde a su variacion\n",
        "\n",
        "precios_limpios[(precios_limpios.producto_id == '7790010616799')]"
      ],
      "execution_count": null,
      "outputs": [
        {
          "output_type": "execute_result",
          "data": {
            "text/html": [
              "<div>\n",
              "<style scoped>\n",
              "    .dataframe tbody tr th:only-of-type {\n",
              "        vertical-align: middle;\n",
              "    }\n",
              "\n",
              "    .dataframe tbody tr th {\n",
              "        vertical-align: top;\n",
              "    }\n",
              "\n",
              "    .dataframe thead th {\n",
              "        text-align: right;\n",
              "    }\n",
              "</style>\n",
              "<table border=\"1\" class=\"dataframe\">\n",
              "  <thead>\n",
              "    <tr style=\"text-align: right;\">\n",
              "      <th></th>\n",
              "      <th>precio</th>\n",
              "      <th>producto_id</th>\n",
              "      <th>sucursal_id</th>\n",
              "      <th>fecha</th>\n",
              "      <th>precio_mean</th>\n",
              "      <th>precio_std</th>\n",
              "      <th>precio_mean_diff</th>\n",
              "      <th>resultado</th>\n",
              "    </tr>\n",
              "  </thead>\n",
              "  <tbody>\n",
              "    <tr>\n",
              "      <th>80643</th>\n",
              "      <td>356.0</td>\n",
              "      <td>7790010616799</td>\n",
              "      <td>10-1-112</td>\n",
              "      <td>20200412</td>\n",
              "      <td>354.497439</td>\n",
              "      <td>30.797280</td>\n",
              "      <td>1.502561</td>\n",
              "      <td>normal</td>\n",
              "    </tr>\n",
              "    <tr>\n",
              "      <th>80644</th>\n",
              "      <td>333.0</td>\n",
              "      <td>7790010616799</td>\n",
              "      <td>10-1-123</td>\n",
              "      <td>20200412</td>\n",
              "      <td>354.497439</td>\n",
              "      <td>30.797280</td>\n",
              "      <td>21.497439</td>\n",
              "      <td>normal</td>\n",
              "    </tr>\n",
              "    <tr>\n",
              "      <th>80645</th>\n",
              "      <td>324.0</td>\n",
              "      <td>7790010616799</td>\n",
              "      <td>10-1-142</td>\n",
              "      <td>20200412</td>\n",
              "      <td>354.497439</td>\n",
              "      <td>30.797280</td>\n",
              "      <td>30.497439</td>\n",
              "      <td>normal</td>\n",
              "    </tr>\n",
              "    <tr>\n",
              "      <th>80646</th>\n",
              "      <td>366.0</td>\n",
              "      <td>7790010616799</td>\n",
              "      <td>10-1-147</td>\n",
              "      <td>20200412</td>\n",
              "      <td>354.497439</td>\n",
              "      <td>30.797280</td>\n",
              "      <td>11.502561</td>\n",
              "      <td>normal</td>\n",
              "    </tr>\n",
              "    <tr>\n",
              "      <th>80647</th>\n",
              "      <td>318.0</td>\n",
              "      <td>7790010616799</td>\n",
              "      <td>10-1-178</td>\n",
              "      <td>20200412</td>\n",
              "      <td>354.497439</td>\n",
              "      <td>30.797280</td>\n",
              "      <td>36.497439</td>\n",
              "      <td>normal</td>\n",
              "    </tr>\n",
              "    <tr>\n",
              "      <th>...</th>\n",
              "      <td>...</td>\n",
              "      <td>...</td>\n",
              "      <td>...</td>\n",
              "      <td>...</td>\n",
              "      <td>...</td>\n",
              "      <td>...</td>\n",
              "      <td>...</td>\n",
              "      <td>...</td>\n",
              "    </tr>\n",
              "    <tr>\n",
              "      <th>69908</th>\n",
              "      <td>389.0</td>\n",
              "      <td>7790010616799</td>\n",
              "      <td>9-2-725</td>\n",
              "      <td>20200518</td>\n",
              "      <td>354.440704</td>\n",
              "      <td>32.425161</td>\n",
              "      <td>34.559296</td>\n",
              "      <td>normal</td>\n",
              "    </tr>\n",
              "    <tr>\n",
              "      <th>69909</th>\n",
              "      <td>349.0</td>\n",
              "      <td>7790010616799</td>\n",
              "      <td>9-2-953</td>\n",
              "      <td>20200518</td>\n",
              "      <td>354.440704</td>\n",
              "      <td>32.425161</td>\n",
              "      <td>5.440704</td>\n",
              "      <td>normal</td>\n",
              "    </tr>\n",
              "    <tr>\n",
              "      <th>69910</th>\n",
              "      <td>329.0</td>\n",
              "      <td>7790010616799</td>\n",
              "      <td>9-3-5205</td>\n",
              "      <td>20200518</td>\n",
              "      <td>354.440704</td>\n",
              "      <td>32.425161</td>\n",
              "      <td>25.440704</td>\n",
              "      <td>normal</td>\n",
              "    </tr>\n",
              "    <tr>\n",
              "      <th>69911</th>\n",
              "      <td>335.0</td>\n",
              "      <td>7790010616799</td>\n",
              "      <td>9-3-5251</td>\n",
              "      <td>20200518</td>\n",
              "      <td>354.440704</td>\n",
              "      <td>32.425161</td>\n",
              "      <td>19.440704</td>\n",
              "      <td>normal</td>\n",
              "    </tr>\n",
              "    <tr>\n",
              "      <th>69912</th>\n",
              "      <td>369.0</td>\n",
              "      <td>7790010616799</td>\n",
              "      <td>9-3-5277</td>\n",
              "      <td>20200518</td>\n",
              "      <td>354.440704</td>\n",
              "      <td>32.425161</td>\n",
              "      <td>14.559296</td>\n",
              "      <td>normal</td>\n",
              "    </tr>\n",
              "  </tbody>\n",
              "</table>\n",
              "<p>391 rows × 8 columns</p>\n",
              "</div>"
            ],
            "text/plain": [
              "       precio    producto_id sucursal_id     fecha  precio_mean  precio_std  \\\n",
              "80643   356.0  7790010616799    10-1-112  20200412   354.497439   30.797280   \n",
              "80644   333.0  7790010616799    10-1-123  20200412   354.497439   30.797280   \n",
              "80645   324.0  7790010616799    10-1-142  20200412   354.497439   30.797280   \n",
              "80646   366.0  7790010616799    10-1-147  20200412   354.497439   30.797280   \n",
              "80647   318.0  7790010616799    10-1-178  20200412   354.497439   30.797280   \n",
              "...       ...            ...         ...       ...          ...         ...   \n",
              "69908   389.0  7790010616799     9-2-725  20200518   354.440704   32.425161   \n",
              "69909   349.0  7790010616799     9-2-953  20200518   354.440704   32.425161   \n",
              "69910   329.0  7790010616799    9-3-5205  20200518   354.440704   32.425161   \n",
              "69911   335.0  7790010616799    9-3-5251  20200518   354.440704   32.425161   \n",
              "69912   369.0  7790010616799    9-3-5277  20200518   354.440704   32.425161   \n",
              "\n",
              "       precio_mean_diff resultado  \n",
              "80643          1.502561    normal  \n",
              "80644         21.497439    normal  \n",
              "80645         30.497439    normal  \n",
              "80646         11.502561    normal  \n",
              "80647         36.497439    normal  \n",
              "...                 ...       ...  \n",
              "69908         34.559296    normal  \n",
              "69909          5.440704    normal  \n",
              "69910         25.440704    normal  \n",
              "69911         19.440704    normal  \n",
              "69912         14.559296    normal  \n",
              "\n",
              "[391 rows x 8 columns]"
            ]
          },
          "metadata": {
            "tags": []
          },
          "execution_count": 487
        }
      ]
    },
    {
      "cell_type": "code",
      "metadata": {
        "id": "ianUPB0n1Yh7",
        "outputId": "60c9260d-fb5c-42a7-d1df-6e51b14ca300",
        "colab": {
          "base_uri": "https://localhost:8080/"
        }
      },
      "source": [
        "sns.distplot(precios_limpios['precio'][precios_limpios.producto_id == '7790010616799'])"
      ],
      "execution_count": null,
      "outputs": [
        {
          "output_type": "execute_result",
          "data": {
            "text/plain": [
              "<matplotlib.axes._subplots.AxesSubplot at 0x7f4b2b483470>"
            ]
          },
          "metadata": {
            "tags": []
          },
          "execution_count": 488
        },
        {
          "output_type": "display_data",
          "data": {
            "image/png": "[encoded data removed]",
            "text/plain": [
              "<Figure size 432x288 with 1 Axes>"
            ]
          },
          "metadata": {
            "tags": [],
            "needs_background": "light"
          }
        }
      ]
    },
    {
      "cell_type": "code",
      "metadata": {
        "id": "dMAI-FNS2Z_T",
        "outputId": "252bf6d1-d6e1-4fe7-b668-1f31f51c564b",
        "colab": {
          "base_uri": "https://localhost:8080/"
        }
      },
      "source": [
        "productos_limpios[productos_limpios.id == '7790010616799']"
      ],
      "execution_count": null,
      "outputs": [
        {
          "output_type": "execute_result",
          "data": {
            "text/html": [
              "<div>\n",
              "<style scoped>\n",
              "    .dataframe tbody tr th:only-of-type {\n",
              "        vertical-align: middle;\n",
              "    }\n",
              "\n",
              "    .dataframe tbody tr th {\n",
              "        vertical-align: top;\n",
              "    }\n",
              "\n",
              "    .dataframe thead th {\n",
              "        text-align: right;\n",
              "    }\n",
              "</style>\n",
              "<table border=\"1\" class=\"dataframe\">\n",
              "  <thead>\n",
              "    <tr style=\"text-align: right;\">\n",
              "      <th></th>\n",
              "      <th>id</th>\n",
              "      <th>marca</th>\n",
              "      <th>nombre</th>\n",
              "      <th>presentacion</th>\n",
              "      <th>categoria1</th>\n",
              "      <th>categoria2</th>\n",
              "      <th>categoria3</th>\n",
              "      <th>id_referencia</th>\n",
              "    </tr>\n",
              "  </thead>\n",
              "  <tbody>\n",
              "    <tr>\n",
              "      <th>17525</th>\n",
              "      <td>7790010616799</td>\n",
              "      <td>CAREFREE</td>\n",
              "      <td>Protectores Diarios Original sin Perfume Carefree 60 Un</td>\n",
              "      <td>60.0 un</td>\n",
              "      <td>NaN</td>\n",
              "      <td>NaN</td>\n",
              "      <td>NaN</td>\n",
              "      <td>7790010616799</td>\n",
              "    </tr>\n",
              "  </tbody>\n",
              "</table>\n",
              "</div>"
            ],
            "text/plain": [
              "                  id     marca  \\\n",
              "17525  7790010616799  CAREFREE   \n",
              "\n",
              "                                                        nombre presentacion  \\\n",
              "17525  Protectores Diarios Original sin Perfume Carefree 60 Un      60.0 un   \n",
              "\n",
              "      categoria1 categoria2 categoria3  id_referencia  \n",
              "17525        NaN        NaN        NaN  7790010616799  "
            ]
          },
          "metadata": {
            "tags": []
          },
          "execution_count": 489
        }
      ]
    },
    {
      "cell_type": "code",
      "metadata": {
        "id": "lXzYjqZ0DQb2"
      },
      "source": [
        "###OPCION2"
      ],
      "execution_count": null,
      "outputs": []
    },
    {
      "cell_type": "code",
      "metadata": {
        "id": "r3pxf0EdlOBY"
      },
      "source": [
        "# Definimos un nuevo criterio de outlier, considerando 2 veces la media (probamos con 3 y 4 y aun asi salieron los mismos productos.)\n",
        "def is_outlier(precio, media, desvia):\n",
        "  precios_limpios.loc[precio <= 3*media, 'resultado_nuevo'] = 'normal'\n",
        "  precios_limpios.loc[precio > 3*media, 'resultado_nuevo'] = 'extremo'\n",
        "  #precios_limpios.loc[(2*media <= precio) & (precio <= 2*media), 'resultado_nuevo'] = 'normal'"
      ],
      "execution_count": null,
      "outputs": []
    },
    {
      "cell_type": "code",
      "metadata": {
        "id": "0kEHuyfEnSMS"
      },
      "source": [
        "is_outlier(precios_limpios['precio'], precios_limpios['precio_mean'], precios_limpios['precio_std'])"
      ],
      "execution_count": null,
      "outputs": []
    },
    {
      "cell_type": "code",
      "metadata": {
        "id": "3CYKPITajSRk",
        "outputId": "3b9bf83d-d545-4673-c7ec-c0048bc36452",
        "colab": {
          "base_uri": "https://localhost:8080/"
        }
      },
      "source": [
        "precios_limpios[(precios_limpios.resultado_nuevo.str.contains('extremo'))]"
      ],
      "execution_count": null,
      "outputs": [
        {
          "output_type": "execute_result",
          "data": {
            "text/html": [
              "<div>\n",
              "<style scoped>\n",
              "    .dataframe tbody tr th:only-of-type {\n",
              "        vertical-align: middle;\n",
              "    }\n",
              "\n",
              "    .dataframe tbody tr th {\n",
              "        vertical-align: top;\n",
              "    }\n",
              "\n",
              "    .dataframe thead th {\n",
              "        text-align: right;\n",
              "    }\n",
              "</style>\n",
              "<table border=\"1\" class=\"dataframe\">\n",
              "  <thead>\n",
              "    <tr style=\"text-align: right;\">\n",
              "      <th></th>\n",
              "      <th>precio</th>\n",
              "      <th>producto_id</th>\n",
              "      <th>sucursal_id</th>\n",
              "      <th>fecha</th>\n",
              "      <th>precio_mean</th>\n",
              "      <th>precio_std</th>\n",
              "      <th>precio_mean_diff</th>\n",
              "      <th>resultado</th>\n",
              "      <th>resultado_nuevo</th>\n",
              "    </tr>\n",
              "  </thead>\n",
              "  <tbody>\n",
              "    <tr>\n",
              "      <th>1275</th>\n",
              "      <td>103.00</td>\n",
              "      <td>0000077900845</td>\n",
              "      <td>17-1-46</td>\n",
              "      <td>20200412</td>\n",
              "      <td>25.922187</td>\n",
              "      <td>14.185482</td>\n",
              "      <td>77.077812</td>\n",
              "      <td>extremo</td>\n",
              "      <td>extremo</td>\n",
              "    </tr>\n",
              "    <tr>\n",
              "      <th>68398</th>\n",
              "      <td>191.49</td>\n",
              "      <td>7622300759506</td>\n",
              "      <td>12-1-149</td>\n",
              "      <td>20200412</td>\n",
              "      <td>55.870000</td>\n",
              "      <td>55.704133</td>\n",
              "      <td>135.620000</td>\n",
              "      <td>normal</td>\n",
              "      <td>extremo</td>\n",
              "    </tr>\n",
              "    <tr>\n",
              "      <th>68399</th>\n",
              "      <td>202.99</td>\n",
              "      <td>7622300759506</td>\n",
              "      <td>12-1-185</td>\n",
              "      <td>20200412</td>\n",
              "      <td>55.870000</td>\n",
              "      <td>55.704133</td>\n",
              "      <td>147.120000</td>\n",
              "      <td>normal</td>\n",
              "      <td>extremo</td>\n",
              "    </tr>\n",
              "    <tr>\n",
              "      <th>86557</th>\n",
              "      <td>323.56</td>\n",
              "      <td>7790040174801</td>\n",
              "      <td>15-1-146</td>\n",
              "      <td>20200412</td>\n",
              "      <td>38.724706</td>\n",
              "      <td>34.970491</td>\n",
              "      <td>284.835294</td>\n",
              "      <td>extremo</td>\n",
              "      <td>extremo</td>\n",
              "    </tr>\n",
              "    <tr>\n",
              "      <th>306563</th>\n",
              "      <td>16995.89</td>\n",
              "      <td>7792389079939</td>\n",
              "      <td>6-1-6</td>\n",
              "      <td>20200412</td>\n",
              "      <td>1822.408000</td>\n",
              "      <td>5062.170147</td>\n",
              "      <td>15173.482000</td>\n",
              "      <td>normal</td>\n",
              "      <td>extremo</td>\n",
              "    </tr>\n",
              "    <tr>\n",
              "      <th>315759</th>\n",
              "      <td>759.00</td>\n",
              "      <td>7792860004412</td>\n",
              "      <td>10-1-25</td>\n",
              "      <td>20200412</td>\n",
              "      <td>190.480000</td>\n",
              "      <td>284.261643</td>\n",
              "      <td>568.520000</td>\n",
              "      <td>normal</td>\n",
              "      <td>extremo</td>\n",
              "    </tr>\n",
              "    <tr>\n",
              "      <th>67021</th>\n",
              "      <td>202.99</td>\n",
              "      <td>7622300759506</td>\n",
              "      <td>12-1-185</td>\n",
              "      <td>20200419</td>\n",
              "      <td>54.693529</td>\n",
              "      <td>52.159201</td>\n",
              "      <td>148.296471</td>\n",
              "      <td>normal</td>\n",
              "      <td>extremo</td>\n",
              "    </tr>\n",
              "    <tr>\n",
              "      <th>67022</th>\n",
              "      <td>191.49</td>\n",
              "      <td>7622300759506</td>\n",
              "      <td>12-1-99</td>\n",
              "      <td>20200419</td>\n",
              "      <td>54.693529</td>\n",
              "      <td>52.159201</td>\n",
              "      <td>136.796471</td>\n",
              "      <td>normal</td>\n",
              "      <td>extremo</td>\n",
              "    </tr>\n",
              "    <tr>\n",
              "      <th>297940</th>\n",
              "      <td>16995.89</td>\n",
              "      <td>7792389079939</td>\n",
              "      <td>6-1-4</td>\n",
              "      <td>20200419</td>\n",
              "      <td>1658.652727</td>\n",
              "      <td>4854.289600</td>\n",
              "      <td>15337.237273</td>\n",
              "      <td>extremo</td>\n",
              "      <td>extremo</td>\n",
              "    </tr>\n",
              "    <tr>\n",
              "      <th>306849</th>\n",
              "      <td>759.00</td>\n",
              "      <td>7792860004412</td>\n",
              "      <td>10-1-26</td>\n",
              "      <td>20200419</td>\n",
              "      <td>191.040000</td>\n",
              "      <td>283.983222</td>\n",
              "      <td>567.960000</td>\n",
              "      <td>normal</td>\n",
              "      <td>extremo</td>\n",
              "    </tr>\n",
              "    <tr>\n",
              "      <th>68852</th>\n",
              "      <td>191.49</td>\n",
              "      <td>7622300759506</td>\n",
              "      <td>12-1-165</td>\n",
              "      <td>20200426</td>\n",
              "      <td>54.422353</td>\n",
              "      <td>52.253545</td>\n",
              "      <td>137.067647</td>\n",
              "      <td>normal</td>\n",
              "      <td>extremo</td>\n",
              "    </tr>\n",
              "    <tr>\n",
              "      <th>68853</th>\n",
              "      <td>202.99</td>\n",
              "      <td>7622300759506</td>\n",
              "      <td>12-1-185</td>\n",
              "      <td>20200426</td>\n",
              "      <td>54.422353</td>\n",
              "      <td>52.253545</td>\n",
              "      <td>148.567647</td>\n",
              "      <td>normal</td>\n",
              "      <td>extremo</td>\n",
              "    </tr>\n",
              "    <tr>\n",
              "      <th>311437</th>\n",
              "      <td>16995.89</td>\n",
              "      <td>7792389079939</td>\n",
              "      <td>6-1-6</td>\n",
              "      <td>20200426</td>\n",
              "      <td>2595.111429</td>\n",
              "      <td>5883.682259</td>\n",
              "      <td>14400.778571</td>\n",
              "      <td>normal</td>\n",
              "      <td>extremo</td>\n",
              "    </tr>\n",
              "    <tr>\n",
              "      <th>320883</th>\n",
              "      <td>759.00</td>\n",
              "      <td>7792860004412</td>\n",
              "      <td>10-1-46</td>\n",
              "      <td>20200426</td>\n",
              "      <td>190.760000</td>\n",
              "      <td>284.123294</td>\n",
              "      <td>568.240000</td>\n",
              "      <td>normal</td>\n",
              "      <td>extremo</td>\n",
              "    </tr>\n",
              "    <tr>\n",
              "      <th>386258</th>\n",
              "      <td>450.00</td>\n",
              "      <td>7795697615172</td>\n",
              "      <td>1-1-7</td>\n",
              "      <td>20200426</td>\n",
              "      <td>115.865833</td>\n",
              "      <td>101.514902</td>\n",
              "      <td>334.134167</td>\n",
              "      <td>extremo</td>\n",
              "      <td>extremo</td>\n",
              "    </tr>\n",
              "    <tr>\n",
              "      <th>178128</th>\n",
              "      <td>329.95</td>\n",
              "      <td>7790895641336</td>\n",
              "      <td>22-1-11</td>\n",
              "      <td>20200502</td>\n",
              "      <td>79.226923</td>\n",
              "      <td>73.226326</td>\n",
              "      <td>250.723077</td>\n",
              "      <td>extremo</td>\n",
              "      <td>extremo</td>\n",
              "    </tr>\n",
              "    <tr>\n",
              "      <th>267916</th>\n",
              "      <td>759.00</td>\n",
              "      <td>7792860004412</td>\n",
              "      <td>10-1-26</td>\n",
              "      <td>20200502</td>\n",
              "      <td>226.075000</td>\n",
              "      <td>307.686256</td>\n",
              "      <td>532.925000</td>\n",
              "      <td>normal</td>\n",
              "      <td>extremo</td>\n",
              "    </tr>\n",
              "    <tr>\n",
              "      <th>322173</th>\n",
              "      <td>450.00</td>\n",
              "      <td>7795697615172</td>\n",
              "      <td>1-1-7</td>\n",
              "      <td>20200502</td>\n",
              "      <td>116.282500</td>\n",
              "      <td>101.397552</td>\n",
              "      <td>333.717500</td>\n",
              "      <td>extremo</td>\n",
              "      <td>extremo</td>\n",
              "    </tr>\n",
              "    <tr>\n",
              "      <th>184776</th>\n",
              "      <td>329.95</td>\n",
              "      <td>7790895641336</td>\n",
              "      <td>22-1-23</td>\n",
              "      <td>20200518</td>\n",
              "      <td>82.631818</td>\n",
              "      <td>78.778061</td>\n",
              "      <td>247.318182</td>\n",
              "      <td>extremo</td>\n",
              "      <td>extremo</td>\n",
              "    </tr>\n",
              "    <tr>\n",
              "      <th>277757</th>\n",
              "      <td>759.00</td>\n",
              "      <td>7792860004412</td>\n",
              "      <td>10-1-53</td>\n",
              "      <td>20200518</td>\n",
              "      <td>226.450000</td>\n",
              "      <td>307.471661</td>\n",
              "      <td>532.550000</td>\n",
              "      <td>normal</td>\n",
              "      <td>extremo</td>\n",
              "    </tr>\n",
              "  </tbody>\n",
              "</table>\n",
              "</div>"
            ],
            "text/plain": [
              "          precio    producto_id sucursal_id     fecha  precio_mean  \\\n",
              "1275      103.00  0000077900845     17-1-46  20200412    25.922187   \n",
              "68398     191.49  7622300759506    12-1-149  20200412    55.870000   \n",
              "68399     202.99  7622300759506    12-1-185  20200412    55.870000   \n",
              "86557     323.56  7790040174801    15-1-146  20200412    38.724706   \n",
              "306563  16995.89  7792389079939       6-1-6  20200412  1822.408000   \n",
              "315759    759.00  7792860004412     10-1-25  20200412   190.480000   \n",
              "67021     202.99  7622300759506    12-1-185  20200419    54.693529   \n",
              "67022     191.49  7622300759506     12-1-99  20200419    54.693529   \n",
              "297940  16995.89  7792389079939       6-1-4  20200419  1658.652727   \n",
              "306849    759.00  7792860004412     10-1-26  20200419   191.040000   \n",
              "68852     191.49  7622300759506    12-1-165  20200426    54.422353   \n",
              "68853     202.99  7622300759506    12-1-185  20200426    54.422353   \n",
              "311437  16995.89  7792389079939       6-1-6  20200426  2595.111429   \n",
              "320883    759.00  7792860004412     10-1-46  20200426   190.760000   \n",
              "386258    450.00  7795697615172       1-1-7  20200426   115.865833   \n",
              "178128    329.95  7790895641336     22-1-11  20200502    79.226923   \n",
              "267916    759.00  7792860004412     10-1-26  20200502   226.075000   \n",
              "322173    450.00  7795697615172       1-1-7  20200502   116.282500   \n",
              "184776    329.95  7790895641336     22-1-23  20200518    82.631818   \n",
              "277757    759.00  7792860004412     10-1-53  20200518   226.450000   \n",
              "\n",
              "         precio_std  precio_mean_diff resultado resultado_nuevo  \n",
              "1275      14.185482         77.077812   extremo         extremo  \n",
              "68398     55.704133        135.620000    normal         extremo  \n",
              "68399     55.704133        147.120000    normal         extremo  \n",
              "86557     34.970491        284.835294   extremo         extremo  \n",
              "306563  5062.170147      15173.482000    normal         extremo  \n",
              "315759   284.261643        568.520000    normal         extremo  \n",
              "67021     52.159201        148.296471    normal         extremo  \n",
              "67022     52.159201        136.796471    normal         extremo  \n",
              "297940  4854.289600      15337.237273   extremo         extremo  \n",
              "306849   283.983222        567.960000    normal         extremo  \n",
              "68852     52.253545        137.067647    normal         extremo  \n",
              "68853     52.253545        148.567647    normal         extremo  \n",
              "311437  5883.682259      14400.778571    normal         extremo  \n",
              "320883   284.123294        568.240000    normal         extremo  \n",
              "386258   101.514902        334.134167   extremo         extremo  \n",
              "178128    73.226326        250.723077   extremo         extremo  \n",
              "267916   307.686256        532.925000    normal         extremo  \n",
              "322173   101.397552        333.717500   extremo         extremo  \n",
              "184776    78.778061        247.318182   extremo         extremo  \n",
              "277757   307.471661        532.550000    normal         extremo  "
            ]
          },
          "metadata": {
            "tags": []
          },
          "execution_count": 493
        }
      ]
    },
    {
      "cell_type": "code",
      "metadata": {
        "id": "yxrI69itkx7E",
        "outputId": "443cddd6-08c2-4576-957c-77a353466da4",
        "colab": {
          "base_uri": "https://localhost:8080/"
        }
      },
      "source": [
        "filtro_productos_outliers = precios_limpios[(precios_limpios.resultado_nuevo == 'extremo')]['producto_id'].unique()\n",
        "productos_limpios[(productos_limpios.id.isin(filtro_productos_outliers))]"
      ],
      "execution_count": null,
      "outputs": [
        {
          "output_type": "execute_result",
          "data": {
            "text/html": [
              "<div>\n",
              "<style scoped>\n",
              "    .dataframe tbody tr th:only-of-type {\n",
              "        vertical-align: middle;\n",
              "    }\n",
              "\n",
              "    .dataframe tbody tr th {\n",
              "        vertical-align: top;\n",
              "    }\n",
              "\n",
              "    .dataframe thead th {\n",
              "        text-align: right;\n",
              "    }\n",
              "</style>\n",
              "<table border=\"1\" class=\"dataframe\">\n",
              "  <thead>\n",
              "    <tr style=\"text-align: right;\">\n",
              "      <th></th>\n",
              "      <th>id</th>\n",
              "      <th>marca</th>\n",
              "      <th>nombre</th>\n",
              "      <th>presentacion</th>\n",
              "      <th>categoria1</th>\n",
              "      <th>categoria2</th>\n",
              "      <th>categoria3</th>\n",
              "      <th>id_referencia</th>\n",
              "    </tr>\n",
              "  </thead>\n",
              "  <tbody>\n",
              "    <tr>\n",
              "      <th>139</th>\n",
              "      <td>0000077900845</td>\n",
              "      <td>TITA</td>\n",
              "      <td>Galletitas Bañadas en Chocolate Relleno Limon Terrabusi Tita 18 Gr</td>\n",
              "      <td>18.0 gr</td>\n",
              "      <td>NaN</td>\n",
              "      <td>NaN</td>\n",
              "      <td>NaN</td>\n",
              "      <td>0000077900845</td>\n",
              "    </tr>\n",
              "    <tr>\n",
              "      <th>16841</th>\n",
              "      <td>7622300759506</td>\n",
              "      <td>MILKA</td>\n",
              "      <td>Alfajor Mousse Leche Milka 42 Gr</td>\n",
              "      <td>42.0 gr</td>\n",
              "      <td>NaN</td>\n",
              "      <td>NaN</td>\n",
              "      <td>NaN</td>\n",
              "      <td>7622300759506</td>\n",
              "    </tr>\n",
              "    <tr>\n",
              "      <th>18270</th>\n",
              "      <td>7790040174801</td>\n",
              "      <td>MACUCAS</td>\n",
              "      <td>Galletitas Sabor Chocolate con Relleno de Vainilla Macucas 123 Gr</td>\n",
              "      <td>123.0 gr</td>\n",
              "      <td>NaN</td>\n",
              "      <td>NaN</td>\n",
              "      <td>NaN</td>\n",
              "      <td>7790040174801</td>\n",
              "    </tr>\n",
              "    <tr>\n",
              "      <th>29532</th>\n",
              "      <td>7790895641336</td>\n",
              "      <td>POWERADE</td>\n",
              "      <td>Bebida Isotonica Frutas Tropicales Powerade 500 Cc</td>\n",
              "      <td>500.0 cc</td>\n",
              "      <td>NaN</td>\n",
              "      <td>NaN</td>\n",
              "      <td>NaN</td>\n",
              "      <td>7790895641336</td>\n",
              "    </tr>\n",
              "    <tr>\n",
              "      <th>41013</th>\n",
              "      <td>7792389079939</td>\n",
              "      <td>X5</td>\n",
              "      <td>Espirales X5 4 Un</td>\n",
              "      <td>4.0 un</td>\n",
              "      <td>NaN</td>\n",
              "      <td>NaN</td>\n",
              "      <td>NaN</td>\n",
              "      <td>7792389079939</td>\n",
              "    </tr>\n",
              "    <tr>\n",
              "      <th>42280</th>\n",
              "      <td>7792860004412</td>\n",
              "      <td>BABY DOLL</td>\n",
              "      <td>Chupetin Baby Doll 18 Un</td>\n",
              "      <td>1.0 un</td>\n",
              "      <td>NaN</td>\n",
              "      <td>NaN</td>\n",
              "      <td>NaN</td>\n",
              "      <td>7792860004412</td>\n",
              "    </tr>\n",
              "    <tr>\n",
              "      <th>50101</th>\n",
              "      <td>7795697615172</td>\n",
              "      <td>MILLER</td>\n",
              "      <td>Cerveza Rubia en Lata Miller Lite 473 Cc</td>\n",
              "      <td>473.0 cc</td>\n",
              "      <td>NaN</td>\n",
              "      <td>NaN</td>\n",
              "      <td>NaN</td>\n",
              "      <td>7795697615172</td>\n",
              "    </tr>\n",
              "  </tbody>\n",
              "</table>\n",
              "</div>"
            ],
            "text/plain": [
              "                  id      marca  \\\n",
              "139    0000077900845       TITA   \n",
              "16841  7622300759506      MILKA   \n",
              "18270  7790040174801    MACUCAS   \n",
              "29532  7790895641336   POWERADE   \n",
              "41013  7792389079939         X5   \n",
              "42280  7792860004412  BABY DOLL   \n",
              "50101  7795697615172     MILLER   \n",
              "\n",
              "                                                                    nombre  \\\n",
              "139    Galletitas Bañadas en Chocolate Relleno Limon Terrabusi Tita 18 Gr   \n",
              "16841                                     Alfajor Mousse Leche Milka 42 Gr   \n",
              "18270    Galletitas Sabor Chocolate con Relleno de Vainilla Macucas 123 Gr   \n",
              "29532                   Bebida Isotonica Frutas Tropicales Powerade 500 Cc   \n",
              "41013                                                    Espirales X5 4 Un   \n",
              "42280                                             Chupetin Baby Doll 18 Un   \n",
              "50101                             Cerveza Rubia en Lata Miller Lite 473 Cc   \n",
              "\n",
              "      presentacion categoria1 categoria2 categoria3  id_referencia  \n",
              "139        18.0 gr        NaN        NaN        NaN  0000077900845  \n",
              "16841      42.0 gr        NaN        NaN        NaN  7622300759506  \n",
              "18270     123.0 gr        NaN        NaN        NaN  7790040174801  \n",
              "29532     500.0 cc        NaN        NaN        NaN  7790895641336  \n",
              "41013       4.0 un        NaN        NaN        NaN  7792389079939  \n",
              "42280       1.0 un        NaN        NaN        NaN  7792860004412  \n",
              "50101     473.0 cc        NaN        NaN        NaN  7795697615172  "
            ]
          },
          "metadata": {
            "tags": []
          },
          "execution_count": 494
        }
      ]
    },
    {
      "cell_type": "code",
      "metadata": {
        "id": "KhY1eF24sjfl",
        "outputId": "cc84c1f1-62b8-43fb-da15-360399406acd",
        "colab": {
          "base_uri": "https://localhost:8080/"
        }
      },
      "source": [
        "productos_limpios[(productos_limpios.id == '8711700045902')]"
      ],
      "execution_count": null,
      "outputs": [
        {
          "output_type": "execute_result",
          "data": {
            "text/html": [
              "<div>\n",
              "<style scoped>\n",
              "    .dataframe tbody tr th:only-of-type {\n",
              "        vertical-align: middle;\n",
              "    }\n",
              "\n",
              "    .dataframe tbody tr th {\n",
              "        vertical-align: top;\n",
              "    }\n",
              "\n",
              "    .dataframe thead th {\n",
              "        text-align: right;\n",
              "    }\n",
              "</style>\n",
              "<table border=\"1\" class=\"dataframe\">\n",
              "  <thead>\n",
              "    <tr style=\"text-align: right;\">\n",
              "      <th></th>\n",
              "      <th>id</th>\n",
              "      <th>marca</th>\n",
              "      <th>nombre</th>\n",
              "      <th>presentacion</th>\n",
              "      <th>categoria1</th>\n",
              "      <th>categoria2</th>\n",
              "      <th>categoria3</th>\n",
              "      <th>id_referencia</th>\n",
              "    </tr>\n",
              "  </thead>\n",
              "  <tbody>\n",
              "    <tr>\n",
              "      <th>69982</th>\n",
              "      <td>8711700045902</td>\n",
              "      <td>SUN</td>\n",
              "      <td>Abrillantador Liquido para Lavavajillas Sun Progress 500 Cc</td>\n",
              "      <td>500.0 cc</td>\n",
              "      <td>NaN</td>\n",
              "      <td>NaN</td>\n",
              "      <td>NaN</td>\n",
              "      <td>8711700045902</td>\n",
              "    </tr>\n",
              "  </tbody>\n",
              "</table>\n",
              "</div>"
            ],
            "text/plain": [
              "                  id marca  \\\n",
              "69982  8711700045902   SUN   \n",
              "\n",
              "                                                            nombre  \\\n",
              "69982  Abrillantador Liquido para Lavavajillas Sun Progress 500 Cc   \n",
              "\n",
              "      presentacion categoria1 categoria2 categoria3  id_referencia  \n",
              "69982     500.0 cc        NaN        NaN        NaN  8711700045902  "
            ]
          },
          "metadata": {
            "tags": []
          },
          "execution_count": 495
        }
      ]
    },
    {
      "cell_type": "code",
      "metadata": {
        "id": "uEPuGsdyswuY",
        "outputId": "6c74bc83-2c88-4a40-da8c-6f55579b85cd",
        "colab": {
          "base_uri": "https://localhost:8080/"
        }
      },
      "source": [
        "precios_limpios[precios_limpios.producto_id == '8711700045902']"
      ],
      "execution_count": null,
      "outputs": [
        {
          "output_type": "execute_result",
          "data": {
            "text/html": [
              "<div>\n",
              "<style scoped>\n",
              "    .dataframe tbody tr th:only-of-type {\n",
              "        vertical-align: middle;\n",
              "    }\n",
              "\n",
              "    .dataframe tbody tr th {\n",
              "        vertical-align: top;\n",
              "    }\n",
              "\n",
              "    .dataframe thead th {\n",
              "        text-align: right;\n",
              "    }\n",
              "</style>\n",
              "<table border=\"1\" class=\"dataframe\">\n",
              "  <thead>\n",
              "    <tr style=\"text-align: right;\">\n",
              "      <th></th>\n",
              "      <th>precio</th>\n",
              "      <th>producto_id</th>\n",
              "      <th>sucursal_id</th>\n",
              "      <th>fecha</th>\n",
              "      <th>precio_mean</th>\n",
              "      <th>precio_std</th>\n",
              "      <th>precio_mean_diff</th>\n",
              "      <th>resultado</th>\n",
              "      <th>resultado_nuevo</th>\n",
              "    </tr>\n",
              "  </thead>\n",
              "  <tbody>\n",
              "    <tr>\n",
              "      <th>475650</th>\n",
              "      <td>793.4</td>\n",
              "      <td>8711700045902</td>\n",
              "      <td>1-1-7</td>\n",
              "      <td>20200426</td>\n",
              "      <td>723.857115</td>\n",
              "      <td>127.623332</td>\n",
              "      <td>69.542885</td>\n",
              "      <td>normal</td>\n",
              "      <td>normal</td>\n",
              "    </tr>\n",
              "    <tr>\n",
              "      <th>475651</th>\n",
              "      <td>755.0</td>\n",
              "      <td>8711700045902</td>\n",
              "      <td>10-1-142</td>\n",
              "      <td>20200426</td>\n",
              "      <td>723.857115</td>\n",
              "      <td>127.623332</td>\n",
              "      <td>31.142885</td>\n",
              "      <td>normal</td>\n",
              "      <td>normal</td>\n",
              "    </tr>\n",
              "    <tr>\n",
              "      <th>475652</th>\n",
              "      <td>772.0</td>\n",
              "      <td>8711700045902</td>\n",
              "      <td>10-1-147</td>\n",
              "      <td>20200426</td>\n",
              "      <td>723.857115</td>\n",
              "      <td>127.623332</td>\n",
              "      <td>48.142885</td>\n",
              "      <td>normal</td>\n",
              "      <td>normal</td>\n",
              "    </tr>\n",
              "    <tr>\n",
              "      <th>475653</th>\n",
              "      <td>708.0</td>\n",
              "      <td>8711700045902</td>\n",
              "      <td>10-1-159</td>\n",
              "      <td>20200426</td>\n",
              "      <td>723.857115</td>\n",
              "      <td>127.623332</td>\n",
              "      <td>15.857115</td>\n",
              "      <td>normal</td>\n",
              "      <td>normal</td>\n",
              "    </tr>\n",
              "    <tr>\n",
              "      <th>475654</th>\n",
              "      <td>715.0</td>\n",
              "      <td>8711700045902</td>\n",
              "      <td>10-1-233</td>\n",
              "      <td>20200426</td>\n",
              "      <td>723.857115</td>\n",
              "      <td>127.623332</td>\n",
              "      <td>8.857115</td>\n",
              "      <td>normal</td>\n",
              "      <td>normal</td>\n",
              "    </tr>\n",
              "    <tr>\n",
              "      <th>...</th>\n",
              "      <td>...</td>\n",
              "      <td>...</td>\n",
              "      <td>...</td>\n",
              "      <td>...</td>\n",
              "      <td>...</td>\n",
              "      <td>...</td>\n",
              "      <td>...</td>\n",
              "      <td>...</td>\n",
              "      <td>...</td>\n",
              "    </tr>\n",
              "    <tr>\n",
              "      <th>412342</th>\n",
              "      <td>729.0</td>\n",
              "      <td>8711700045902</td>\n",
              "      <td>9-2-4</td>\n",
              "      <td>20200518</td>\n",
              "      <td>725.216909</td>\n",
              "      <td>143.047723</td>\n",
              "      <td>3.783091</td>\n",
              "      <td>normal</td>\n",
              "      <td>normal</td>\n",
              "    </tr>\n",
              "    <tr>\n",
              "      <th>412343</th>\n",
              "      <td>919.0</td>\n",
              "      <td>8711700045902</td>\n",
              "      <td>9-2-725</td>\n",
              "      <td>20200518</td>\n",
              "      <td>725.216909</td>\n",
              "      <td>143.047723</td>\n",
              "      <td>193.783091</td>\n",
              "      <td>normal</td>\n",
              "      <td>normal</td>\n",
              "    </tr>\n",
              "    <tr>\n",
              "      <th>412344</th>\n",
              "      <td>879.0</td>\n",
              "      <td>8711700045902</td>\n",
              "      <td>9-3-5222</td>\n",
              "      <td>20200518</td>\n",
              "      <td>725.216909</td>\n",
              "      <td>143.047723</td>\n",
              "      <td>153.783091</td>\n",
              "      <td>normal</td>\n",
              "      <td>normal</td>\n",
              "    </tr>\n",
              "    <tr>\n",
              "      <th>412345</th>\n",
              "      <td>919.0</td>\n",
              "      <td>8711700045902</td>\n",
              "      <td>9-3-5251</td>\n",
              "      <td>20200518</td>\n",
              "      <td>725.216909</td>\n",
              "      <td>143.047723</td>\n",
              "      <td>193.783091</td>\n",
              "      <td>normal</td>\n",
              "      <td>normal</td>\n",
              "    </tr>\n",
              "    <tr>\n",
              "      <th>412346</th>\n",
              "      <td>725.0</td>\n",
              "      <td>8711700045902</td>\n",
              "      <td>9-3-5277</td>\n",
              "      <td>20200518</td>\n",
              "      <td>725.216909</td>\n",
              "      <td>143.047723</td>\n",
              "      <td>0.216909</td>\n",
              "      <td>normal</td>\n",
              "      <td>normal</td>\n",
              "    </tr>\n",
              "  </tbody>\n",
              "</table>\n",
              "<p>164 rows × 9 columns</p>\n",
              "</div>"
            ],
            "text/plain": [
              "        precio    producto_id sucursal_id     fecha  precio_mean  precio_std  \\\n",
              "475650   793.4  8711700045902       1-1-7  20200426   723.857115  127.623332   \n",
              "475651   755.0  8711700045902    10-1-142  20200426   723.857115  127.623332   \n",
              "475652   772.0  8711700045902    10-1-147  20200426   723.857115  127.623332   \n",
              "475653   708.0  8711700045902    10-1-159  20200426   723.857115  127.623332   \n",
              "475654   715.0  8711700045902    10-1-233  20200426   723.857115  127.623332   \n",
              "...        ...            ...         ...       ...          ...         ...   \n",
              "412342   729.0  8711700045902       9-2-4  20200518   725.216909  143.047723   \n",
              "412343   919.0  8711700045902     9-2-725  20200518   725.216909  143.047723   \n",
              "412344   879.0  8711700045902    9-3-5222  20200518   725.216909  143.047723   \n",
              "412345   919.0  8711700045902    9-3-5251  20200518   725.216909  143.047723   \n",
              "412346   725.0  8711700045902    9-3-5277  20200518   725.216909  143.047723   \n",
              "\n",
              "        precio_mean_diff resultado resultado_nuevo  \n",
              "475650         69.542885    normal          normal  \n",
              "475651         31.142885    normal          normal  \n",
              "475652         48.142885    normal          normal  \n",
              "475653         15.857115    normal          normal  \n",
              "475654          8.857115    normal          normal  \n",
              "...                  ...       ...             ...  \n",
              "412342          3.783091    normal          normal  \n",
              "412343        193.783091    normal          normal  \n",
              "412344        153.783091    normal          normal  \n",
              "412345        193.783091    normal          normal  \n",
              "412346          0.216909    normal          normal  \n",
              "\n",
              "[164 rows x 9 columns]"
            ]
          },
          "metadata": {
            "tags": []
          },
          "execution_count": 496
        }
      ]
    },
    {
      "cell_type": "code",
      "metadata": {
        "id": "VeKVCtx0lx4M",
        "outputId": "4d53bce8-b46d-4ada-b402-082121b2e797",
        "colab": {
          "base_uri": "https://localhost:8080/"
        }
      },
      "source": [
        "precios_limpios['resultado_nuevo'].value_counts(dropna=False)"
      ],
      "execution_count": null,
      "outputs": [
        {
          "output_type": "execute_result",
          "data": {
            "text/plain": [
              "normal     2214760\n",
              "extremo         20\n",
              "Name: resultado_nuevo, dtype: int64"
            ]
          },
          "metadata": {
            "tags": []
          },
          "execution_count": 497
        }
      ]
    },
    {
      "cell_type": "code",
      "metadata": {
        "id": "zWHCcRTtDd4l"
      },
      "source": [
        "##OPCION3\n"
      ],
      "execution_count": null,
      "outputs": []
    },
    {
      "cell_type": "code",
      "metadata": {
        "id": "EpaH0v8rDgC7"
      },
      "source": [
        "def quantil_25(x):\n",
        "  return np.quantile(x, .25)\n",
        "def quantil_75(x):\n",
        "  return np.quantile(x, .75)\n",
        "\n",
        "precios_cuartiles=precios_limpios.groupby(['producto_id','fecha']).agg(cuartil_25=('precio',quantil_25),\n",
        "                                                                                                     cuartil_75=('precio',quantil_75))\n",
        "\n"
      ],
      "execution_count": null,
      "outputs": []
    },
    {
      "cell_type": "code",
      "metadata": {
        "id": "JlHmwnibDjE4"
      },
      "source": [
        "\n",
        "precios_limpios = pd.merge(precios_limpios, precios_cuartiles, left_on=['producto_id', 'fecha'], right_index=True)\n",
        "\n",
        "precios_limpios.head()"
      ],
      "execution_count": null,
      "outputs": []
    },
    {
      "cell_type": "code",
      "metadata": {
        "id": "KLVHylLFHAec"
      },
      "source": [
        "\n",
        "\n",
        "def is_outlier(precio, cuartil_25, cuartil_75):\n",
        "  precios_limpios.loc[precio > cuartil_75+(3*(cuartil_75-cuartil_25)), 'resultado_ri'] = 'extremo superior'\n",
        "  precios_limpios.loc[precio < cuartil_25-(3*(cuartil_75-cuartil_25)), 'resultado_ri'] = 'extremo inferior'\n",
        "  precios_limpios.loc[(cuartil_75+3*(cuartil_75-cuartil_25) >= precio) & (precio >= cuartil_25-3*(cuartil_75-cuartil_25)), 'resultado_ri'] = 'normal'\n",
        "  precios_limpios.loc[(cuartil_25==cuartil_75), 'resultado_ri'] = 'normal'"
      ],
      "execution_count": null,
      "outputs": []
    },
    {
      "cell_type": "code",
      "metadata": {
        "id": "LzsDIpFoDnLQ"
      },
      "source": [
        "is_outlier(precios_limpios['precio'], precios_limpios['cuartil_25'], precios_limpios['cuartil_75'])"
      ],
      "execution_count": null,
      "outputs": []
    },
    {
      "cell_type": "code",
      "metadata": {
        "id": "lRQVuxXzHD3U"
      },
      "source": [
        "precios_limpios['resultado_ri'].value_counts(dropna=False)"
      ],
      "execution_count": null,
      "outputs": []
    },
    {
      "cell_type": "code",
      "metadata": {
        "id": "5BewlFMXHHo5"
      },
      "source": [
        "precios_limpios[(precios_limpios.resultado_ri.str.contains('extremo'))]"
      ],
      "execution_count": null,
      "outputs": []
    },
    {
      "cell_type": "code",
      "metadata": {
        "id": "sawfrsTB7QZf"
      },
      "source": [
        "##OPCION4\n",
        "precios_limpios"
      ],
      "execution_count": null,
      "outputs": []
    },
    {
      "cell_type": "code",
      "metadata": {
        "id": "NjteVJgF7eWl"
      },
      "source": [
        "Precios_outliers = pd.merge(precios_limpios,sucursales_limpios,left_on='sucursal_id',right_on='id',how='left')"
      ],
      "execution_count": null,
      "outputs": []
    },
    {
      "cell_type": "code",
      "metadata": {
        "id": "7zS0-UXM8boA"
      },
      "source": [
        "Precios_outliers.head()"
      ],
      "execution_count": null,
      "outputs": []
    },
    {
      "cell_type": "code",
      "metadata": {
        "id": "R2I2hjpa9Gdr"
      },
      "source": [
        "Precios_outliers.columns"
      ],
      "execution_count": null,
      "outputs": []
    },
    {
      "cell_type": "code",
      "metadata": {
        "id": "RRkWH88b8koI"
      },
      "source": [
        "Precios_outliers=Precios_outliers.drop(['precio_mean',\n",
        "       'precio_std', 'precio_mean_diff',\n",
        "       'cuartil_25', 'cuartil_75', \n",
        "       'banderaId', 'banderaDescripcion', 'comercioRazonSocial',\n",
        "       'localidad', 'direccion', 'lat', 'lng', 'sucursalNombre',\n",
        "       'sucursalTipo', 'nom_provincia'], axis=1)"
      ],
      "execution_count": null,
      "outputs": []
    },
    {
      "cell_type": "code",
      "metadata": {
        "id": "M9LvO8gjF3El"
      },
      "source": [
        "########una vez que se unen los dataset es nenecario tomar la decision de eliminar todos los casos que no matcheen con la sucursal ni su ibucacion."
      ],
      "execution_count": null,
      "outputs": []
    },
    {
      "cell_type": "code",
      "metadata": {
        "id": "RRe0e7Nw9tLY"
      },
      "source": [
        "Precios_outliers.head()"
      ],
      "execution_count": null,
      "outputs": []
    },
    {
      "cell_type": "code",
      "metadata": {
        "id": "kux6he2oHy-P"
      },
      "source": [
        "#######lo saque de la notebook de las chicas para ver como une dos archivos. \n",
        "\n",
        "Precios_outliers[['id','sucursal_id']].isnull().sum()"
      ],
      "execution_count": null,
      "outputs": []
    },
    {
      "cell_type": "code",
      "metadata": {
        "id": "ss3dLXj8H3FJ"
      },
      "source": [
        "\n",
        "Precios_outliers[Precios_outliers.id.isnull()]['sucursal_id'].unique()\n"
      ],
      "execution_count": null,
      "outputs": []
    },
    {
      "cell_type": "code",
      "metadata": {
        "id": "S0j5r3iHIV3k"
      },
      "source": [
        ""
      ],
      "execution_count": null,
      "outputs": []
    },
    {
      "cell_type": "code",
      "metadata": {
        "id": "wnzxYi_xJJxb"
      },
      "source": [
        "\n"
      ],
      "execution_count": null,
      "outputs": []
    },
    {
      "cell_type": "code",
      "metadata": {
        "id": "XoT8I2dYkKOA"
      },
      "source": [
        "Precios_outliers = Precios_outliers[Precios_outliers.id.notna()]"
      ],
      "execution_count": null,
      "outputs": []
    },
    {
      "cell_type": "code",
      "metadata": {
        "id": "QOofjP-_Jbjj"
      },
      "source": [
        "Precios_outliers[['id','sucursal_id']].isnull().sum()"
      ],
      "execution_count": null,
      "outputs": []
    },
    {
      "cell_type": "code",
      "metadata": {
        "id": "ycwZjwPsJhO9"
      },
      "source": [
        "##Una vez eliminados aquellos casos que no matchean, es necesario revisar los outlier con el criterios del rango intercuartilico y calculando la media y el desvio"
      ],
      "execution_count": null,
      "outputs": []
    },
    {
      "cell_type": "code",
      "metadata": {
        "id": "9uvzMVZX7YCS"
      },
      "source": [
        "pr_mean_std = Precios_outliers.groupby(['producto_id','fecha','region']).agg(pr_mean=('precio', 'mean'), pr_std=('precio', lambda x: np.std(x)))\n"
      ],
      "execution_count": null,
      "outputs": []
    },
    {
      "cell_type": "code",
      "metadata": {
        "id": "0YGGPWg8Ltnj"
      },
      "source": [
        "pr_mean_std.head()"
      ],
      "execution_count": null,
      "outputs": []
    },
    {
      "cell_type": "code",
      "metadata": {
        "id": "AZ1ZJ4d_LtgJ"
      },
      "source": [
        "pr_cuartiles=Precios_outliers.groupby(['producto_id','fecha','region']).agg(cuartil_25=('precio',lambda x: np.quantile(x, .25)),\n",
        "                                                                            cuartil_75=('precio',lambda x: np.quantile(x, .75)))\n",
        "\n"
      ],
      "execution_count": null,
      "outputs": []
    },
    {
      "cell_type": "code",
      "metadata": {
        "id": "M_9fsGMlNR2h"
      },
      "source": [
        "pr_cuartiles.head()"
      ],
      "execution_count": null,
      "outputs": []
    },
    {
      "cell_type": "code",
      "metadata": {
        "id": "etpiixtdWvon"
      },
      "source": [
        "Precios_outliers = pd.merge(Precios_outliers,pr_mean_std,left_on=['producto_id', 'fecha','region'],right_on=['producto_id','fecha','region'],how='left')"
      ],
      "execution_count": null,
      "outputs": []
    },
    {
      "cell_type": "code",
      "metadata": {
        "id": "VXs6-ECIu2sS"
      },
      "source": [
        "#Precios_outliers=Precios_outliers.drop(['pr_mean_x',\n",
        " #      'pr_mean_y', 'pr_std_x',\n",
        "  #     'pr_std_y'], axis=1)"
      ],
      "execution_count": null,
      "outputs": []
    },
    {
      "cell_type": "code",
      "metadata": {
        "id": "6omUFTcevgek"
      },
      "source": [
        "Precios_outliers"
      ],
      "execution_count": null,
      "outputs": []
    },
    {
      "cell_type": "code",
      "metadata": {
        "id": "K73U-AuoXsmw"
      },
      "source": [
        "Precios_outliers = pd.merge(Precios_outliers,pr_cuartiles,left_on=['producto_id', 'fecha','region'],right_on=['producto_id','fecha','region'],how='left')"
      ],
      "execution_count": null,
      "outputs": []
    },
    {
      "cell_type": "code",
      "metadata": {
        "id": "jEkMiaBxYGzl"
      },
      "source": [
        "Precios_outliers"
      ],
      "execution_count": null,
      "outputs": []
    },
    {
      "cell_type": "code",
      "metadata": {
        "id": "Aa8wSN3cYvUT"
      },
      "source": [
        ""
      ],
      "execution_count": null,
      "outputs": []
    },
    {
      "cell_type": "code",
      "metadata": {
        "id": "BfJzTUmTZFf2"
      },
      "source": [
        "def is_outlier(precio, cuartil_25, cuartil_75):\n",
        "  Precios_outliers.loc[precio > cuartil_75+(3*(cuartil_75-cuartil_25)), 'rdo_ri_geo'] = 'extremo superior'\n",
        "  Precios_outliers.loc[precio < cuartil_25-(3*(cuartil_75-cuartil_25)), 'rdo_ri_geo'] = 'extremo inferior'\n",
        "  Precios_outliers.loc[(cuartil_75+3*(cuartil_75-cuartil_25) >= precio) & (precio >= cuartil_25-3*(cuartil_75-cuartil_25)), 'rdo_ri_geo'] = 'normal'\n",
        "  Precios_outliers.loc[(cuartil_25==cuartil_75), 'rdo_ri_geo'] = 'normal'"
      ],
      "execution_count": null,
      "outputs": []
    },
    {
      "cell_type": "code",
      "metadata": {
        "id": "3oS5VUyXnlpj"
      },
      "source": [
        "is_outlier(Precios_outliers['precio'], Precios_outliers['cuartil_25'], Precios_outliers['cuartil_75'])"
      ],
      "execution_count": null,
      "outputs": []
    },
    {
      "cell_type": "code",
      "metadata": {
        "id": "yMv0HYnBaGvf"
      },
      "source": [
        "Precios_outliers['rdo_ri_geo'].value_counts(dropna=False)"
      ],
      "execution_count": null,
      "outputs": []
    },
    {
      "cell_type": "code",
      "metadata": {
        "id": "pfmJiyutaTSk"
      },
      "source": [
        "Precios_extremos=Precios_outliers[(Precios_outliers.rdo_ri_geo.str.contains('extremo'))]\n",
        "print(\"Cantidad de Registros Outliers:\", len(Precios_extremos))\n",
        "print(\"Outliers / Total Dataset:\",  round((len(Precios_extremos) / len(Precios_outliers) * 100),2), '%')\n"
      ],
      "execution_count": null,
      "outputs": []
    },
    {
      "cell_type": "code",
      "metadata": {
        "id": "eBoI3pERkd0U"
      },
      "source": [
        "Precios_extremos['producto_id'].value_counts(dropna=False)"
      ],
      "execution_count": null,
      "outputs": []
    },
    {
      "cell_type": "code",
      "metadata": {
        "id": "TPZi4QNYksmF"
      },
      "source": [
        "##miramos algunos casos\n",
        "##1)7791337560819   yogurisimo\n",
        "##)el producto aparece outliers en el centro, patagonia y en el norte. \n",
        "##en el centro el 40 de 247 son outliers (18%) \n",
        "\n",
        "productos_limpios[productos_limpios.id=='7791337560819']"
      ],
      "execution_count": null,
      "outputs": []
    },
    {
      "cell_type": "code",
      "metadata": {
        "id": "g3NoyMypk6Wx"
      },
      "source": [
        "Precios_extremos[Precios_extremos.producto_id=='7791337560819']"
      ],
      "execution_count": null,
      "outputs": []
    },
    {
      "cell_type": "code",
      "metadata": {
        "id": "EfatUkjDos-7"
      },
      "source": [
        "##Precios_outliers[(Precios_outliers.producto_id == '7791337560819') & (Precios_outliers.region=='Centro')].count()\n",
        "Precios_outliers[(Precios_outliers.producto_id == '7791337560819')].count()"
      ],
      "execution_count": null,
      "outputs": []
    },
    {
      "cell_type": "code",
      "metadata": {
        "id": "q5ifAkV2p_Jz"
      },
      "source": [
        "##Precios_extremos[(Precios_extremos.producto_id == '7791337560819') & (Precios_extremos.region=='Centro')].count()\n",
        "#Precios_extremos[(Precios_extremos.producto_id == '7791337560819')].count()"
      ],
      "execution_count": null,
      "outputs": []
    },
    {
      "cell_type": "code",
      "metadata": {
        "id": "GenGDC17lp59"
      },
      "source": [
        "filtro=Precios_outliers[(Precios_outliers.producto_id == '7791337560819') & (Precios_outliers.region=='Centro')]\n",
        "sns.distplot(filtro['precio'])"
      ],
      "execution_count": null,
      "outputs": []
    },
    {
      "cell_type": "code",
      "metadata": {
        "id": "Sr4FMogmk6LA"
      },
      "source": [
        "filtro=Precios_outliers[(Precios_outliers.producto_id == '7791337560819') & (Precios_outliers.region=='Patagonia')]\n",
        "sns.distplot(filtro['precio'])"
      ],
      "execution_count": null,
      "outputs": []
    },
    {
      "cell_type": "code",
      "metadata": {
        "id": "s-nXqpFdsu0y"
      },
      "source": [
        "filtro=Precios_outliers[(Precios_outliers.producto_id == '7791337560819') & (Precios_outliers.region=='Norte Grande')]\n",
        "sns.distplot(filtro['precio'])"
      ],
      "execution_count": null,
      "outputs": []
    },
    {
      "cell_type": "code",
      "metadata": {
        "id": "2SLKhTdgfQLU"
      },
      "source": [
        "##miramos unos casos\n",
        "productos_limpios[productos_limpios.id=='7790040994904']"
      ],
      "execution_count": null,
      "outputs": []
    },
    {
      "cell_type": "code",
      "metadata": {
        "id": "H2bl95_Occah"
      },
      "source": [
        "Precios_outliers[(Precios_outliers.producto_id == '7790040994904')].count()\n",
        "##347"
      ],
      "execution_count": null,
      "outputs": []
    },
    {
      "cell_type": "code",
      "metadata": {
        "id": "1dbLfH9Xwxnh"
      },
      "source": [
        "Precios_extremos[(Precios_extremos.producto_id == '7790040994904')].count()\n",
        "##42"
      ],
      "execution_count": null,
      "outputs": []
    },
    {
      "cell_type": "code",
      "metadata": {
        "id": "ifjMFjF7bV0D"
      },
      "source": [
        "sns.distplot(filtro['precio'])"
      ],
      "execution_count": null,
      "outputs": []
    },
    {
      "cell_type": "code",
      "metadata": {
        "id": "uxTvxcH6gfU7"
      },
      "source": [
        "filtro=Precios_outliers[(Precios_outliers.producto_id == '7790040994904')]\n",
        "sns.distplot(filtro['precio'])"
      ],
      "execution_count": null,
      "outputs": []
    },
    {
      "cell_type": "code",
      "metadata": {
        "id": "4oAWGxB7xK9y"
      },
      "source": [
        "filtro.rdo_ri_geo.value_counts()\n",
        "##0.08 y 0.03"
      ],
      "execution_count": null,
      "outputs": []
    },
    {
      "cell_type": "code",
      "metadata": {
        "id": "yPiKt5hPxgKE"
      },
      "source": [
        "filtro=Precios_outliers[(Precios_outliers.producto_id == '7790040994904') & (Precios_outliers.region=='Centro')]\n",
        "sns.distplot(filtro['precio'])"
      ],
      "execution_count": null,
      "outputs": []
    },
    {
      "cell_type": "code",
      "metadata": {
        "id": "rFsIHRYYxgey"
      },
      "source": [
        "filtro.rdo_ri_geo.value_counts()"
      ],
      "execution_count": null,
      "outputs": []
    },
    {
      "cell_type": "code",
      "metadata": {
        "id": "-3IZapgGynAL"
      },
      "source": [
        "filtro=Precios_outliers[(Precios_outliers.producto_id == '7790040994904') & (Precios_outliers.region=='Norte Grande')]\n",
        "sns.distplot(filtro['precio'])"
      ],
      "execution_count": null,
      "outputs": []
    },
    {
      "cell_type": "code",
      "metadata": {
        "id": "PjlBpqWgy71S"
      },
      "source": [
        "filtro.rdo_ri_geo.value_counts()"
      ],
      "execution_count": null,
      "outputs": []
    },
    {
      "cell_type": "code",
      "metadata": {
        "id": "jPRC8k3azN8-"
      },
      "source": [
        "###ejemplo con un solo outliers"
      ],
      "execution_count": null,
      "outputs": []
    },
    {
      "cell_type": "code",
      "metadata": {
        "id": "IC0a2UTu0m4C"
      },
      "source": [
        "#7793750000156     1\n",
        "#7798124361550     1\n",
        "#7702031887942     1\n",
        "#4005808555802     1\n",
        "#7793940198007     1"
      ],
      "execution_count": null,
      "outputs": []
    },
    {
      "cell_type": "code",
      "metadata": {
        "id": "3YtcBFMm0puF"
      },
      "source": [
        "####frente a estos valorees encontrados. Decidimos sacar los valores outliers ya que la cantidad es infima y prepara mejor el set de datos para un futuro"
      ],
      "execution_count": null,
      "outputs": []
    },
    {
      "cell_type": "code",
      "metadata": {
        "id": "PYXfJtWzGEm1"
      },
      "source": [
        "len(Precios_extremos)"
      ],
      "execution_count": null,
      "outputs": []
    },
    {
      "cell_type": "code",
      "metadata": {
        "id": "IqL_vz9F0pj-"
      },
      "source": [
        "##LLLEEEOOOO: ES NECESARIO SACAR ESTOS ANTES DEL ANALISIS TUYO\n",
        "Precios_extremos.head()"
      ],
      "execution_count": null,
      "outputs": []
    },
    {
      "cell_type": "code",
      "metadata": {
        "id": "VVYI79-Z0pdS"
      },
      "source": [
        "precios_limpios[(precios_limpios.producto_id=='0000040084107') & (precios_limpios.fecha=='20200412') & (precios_limpios.sucursal_id=='13-1-106')]"
      ],
      "execution_count": null,
      "outputs": []
    },
    {
      "cell_type": "code",
      "metadata": {
        "id": "mAg_GAFx4Rbw"
      },
      "source": [
        "Precios_outliers.head()"
      ],
      "execution_count": null,
      "outputs": []
    },
    {
      "cell_type": "code",
      "metadata": {
        "id": "zcGxSfSE0pVm"
      },
      "source": [
        "precios_limpios = pd.merge(precios_limpios,Precios_outliers,left_on=['producto_id', 'sucursal_id','fecha','precio'],right_on=['producto_id','sucursal_id','fecha','precio'],how='left')"
      ],
      "execution_count": null,
      "outputs": []
    },
    {
      "cell_type": "code",
      "metadata": {
        "id": "lGOA6yNT4z3y"
      },
      "source": [
        "precios_limpios"
      ],
      "execution_count": null,
      "outputs": []
    },
    {
      "cell_type": "code",
      "metadata": {
        "id": "jly7aTCo49rX"
      },
      "source": [
        "##comprobamos que se unio bien\n",
        "precios_limpios.rdo_ri_geo.value_counts()"
      ],
      "execution_count": null,
      "outputs": []
    },
    {
      "cell_type": "code",
      "metadata": {
        "id": "OMlAGDdf5TG7"
      },
      "source": [
        "precios_limpios.columns"
      ],
      "execution_count": null,
      "outputs": []
    },
    {
      "cell_type": "code",
      "metadata": {
        "id": "Dwzwu8u55hSv"
      },
      "source": [
        "precios_limpios=precios_limpios.drop(['resultado_y','resultado_nuevo_y',], axis=1)"
      ],
      "execution_count": null,
      "outputs": []
    },
    {
      "cell_type": "code",
      "metadata": {
        "id": "W53zFR9C375S"
      },
      "source": [
        "precios_limpios=precios_limpios.drop(['id'], axis=1)"
      ],
      "execution_count": null,
      "outputs": []
    },
    {
      "cell_type": "code",
      "metadata": {
        "id": "aLy-TnJC6VWd"
      },
      "source": [
        "#recios_limpios[precios_limpios[''].str.contains('-')]\n",
        "#precios_limpios.drop(precios_limpios[precios_limpios.rdo_ri_geo.str.contains('extremo')], inplace = True)\n",
        "\n",
        "precios_limpios=precios_limpios[precios_limpios.rdo_ri_geo=='normal']"
      ],
      "execution_count": null,
      "outputs": []
    },
    {
      "cell_type": "code",
      "metadata": {
        "id": "EsxtnC-58SLV"
      },
      "source": [
        "precios_limpios.rdo_ri_geo.value_counts()"
      ],
      "execution_count": null,
      "outputs": []
    },
    {
      "cell_type": "code",
      "metadata": {
        "id": "G2YjjoeRkAWF"
      },
      "source": [
        "#productos_limpios[productos_limpios.id=='7791337560819']\n",
        "#Precios_extremos[Precios_extremos.producto_id=='7791337560819']\n",
        "#\n",
        "##Precios_outliers[(Precios_outliers.producto_id == '7791337560819') & (Precios_outliers.region=='Centro')].count()\n",
        "#Precios_outliers[(Precios_outliers.producto_id == '7791337560819')].count()\n",
        "\n",
        "#filtro=Precios_outliers[(Precios_outliers.producto_id == '7791337560819') & (Precios_outliers.region=='Centro')]\n",
        "#sns.distplot(filtro['precio'])"
      ],
      "execution_count": null,
      "outputs": []
    },
    {
      "cell_type": "code",
      "metadata": {
        "id": "ulQMBIDq8atI"
      },
      "source": [
        "#ANALIZAR EL SET DE DATOS PRECIOS_extremo\n",
        "\n",
        "Precios_extremos['precio'].describe()"
      ],
      "execution_count": null,
      "outputs": []
    },
    {
      "cell_type": "code",
      "metadata": {
        "id": "gVLUEaQM-vE0"
      },
      "source": [
        "Precios_extremos[Precios_extremos.precio ==1.220000]\n",
        "Precios_extremos[Precios_extremos.precio ==1.220000]"
      ],
      "execution_count": null,
      "outputs": []
    },
    {
      "cell_type": "code",
      "metadata": {
        "id": "kZ1oLVWM-u-L"
      },
      "source": [
        "productos_limpios[productos_limpios.id=='7622300871918']"
      ],
      "execution_count": null,
      "outputs": []
    },
    {
      "cell_type": "code",
      "metadata": {
        "id": "dVc2yYvmABjA"
      },
      "source": [
        "Precios_extremos[Precios_extremos.precio ==16995.89]"
      ],
      "execution_count": null,
      "outputs": []
    },
    {
      "cell_type": "code",
      "metadata": {
        "id": "Bb13-DlYAMq8"
      },
      "source": [
        "productos_limpios[productos_limpios.id=='7792389079939']"
      ],
      "execution_count": null,
      "outputs": []
    },
    {
      "cell_type": "code",
      "metadata": {
        "id": "86jlU1EpAo1a"
      },
      "source": [
        "\n",
        "Precios_extremos.groupby(['fecha']).agg(cantidad=('producto_id', 'count'))"
      ],
      "execution_count": null,
      "outputs": []
    },
    {
      "cell_type": "code",
      "metadata": {
        "id": "CMl2584EEfNa"
      },
      "source": [
        "\n",
        "Precios_extremos.groupby(['region']).agg(cantidad=('producto_id', 'count'))"
      ],
      "execution_count": null,
      "outputs": []
    },
    {
      "cell_type": "code",
      "metadata": {
        "id": "Yd90krXFE08J"
      },
      "source": [
        "precios_limpios.groupby(['region']).agg(cantidad=('producto_id', 'count'))"
      ],
      "execution_count": null,
      "outputs": []
    },
    {
      "cell_type": "code",
      "metadata": {
        "id": "9m3LuBfZFx97"
      },
      "source": [
        "Precios_extremos.groupby(['sucursal_id']).agg(cantidad=('producto_id', 'count'))"
      ],
      "execution_count": null,
      "outputs": []
    },
    {
      "cell_type": "code",
      "metadata": {
        "id": "6vbb7vgmHs-r"
      },
      "source": [
        "sucursales_limpios[sucursales_limpios.id=='10-1-142']"
      ],
      "execution_count": null,
      "outputs": []
    },
    {
      "cell_type": "markdown",
      "metadata": {
        "id": "oJHJX2C2TIsv"
      },
      "source": [
        "#### 2.7. Evaluar Cómo Comprimir los Datos Para su Almacenamiento Más Eficiente"
      ]
    },
    {
      "cell_type": "markdown",
      "metadata": {
        "id": "c6vcb8GvTIsz"
      },
      "source": [
        "#### 2.8. Guardar el Set de Datos con un Nombre Informativo"
      ]
    },
    {
      "cell_type": "markdown",
      "metadata": {
        "id": "9rB8N01-aHzq"
      },
      "source": [
        "### 3. Pasos de Limpieza Deseables"
      ]
    },
    {
      "cell_type": "markdown",
      "metadata": {
        "id": "PHPvnYqNTIs3"
      },
      "source": [
        "#### 3.1. Ordenar Variables/Columnas"
      ]
    },
    {
      "cell_type": "markdown",
      "metadata": {
        "id": "kVNjUtXrTIs6"
      },
      "source": [
        "#### 3.2. Quitar Variables/Columnas Irrelevantes"
      ]
    },
    {
      "cell_type": "markdown",
      "metadata": {
        "id": "tUFa2BoUTIs7"
      },
      "source": [
        "Tenemos alguna en este caso?"
      ]
    },
    {
      "cell_type": "markdown",
      "metadata": {
        "id": "s0WYzKEemh0w"
      },
      "source": [
        "**dataset de precios**\n"
      ]
    },
    {
      "cell_type": "markdown",
      "metadata": {
        "id": "1zp3Od1Wm9Zx"
      },
      "source": [
        "**dataset de sucursales**"
      ]
    },
    {
      "cell_type": "code",
      "metadata": {
        "id": "7gG5863jm9ni"
      },
      "source": [
        "sucursales_limpios.head(1)\n",
        "\n"
      ],
      "execution_count": null,
      "outputs": []
    },
    {
      "cell_type": "code",
      "metadata": {
        "id": "khoj6_W3cAH9"
      },
      "source": [
        "sucursales_limpios.columns"
      ],
      "execution_count": null,
      "outputs": []
    },
    {
      "cell_type": "code",
      "metadata": {
        "id": "mjywzfhKnujb"
      },
      "source": [
        "sucursales_limpios=sucursales_limpios.drop(['comercioId', 'banderaId', 'comercioRazonSocial', 'provincia', 'localidad', 'direccion'], axis=1)"
      ],
      "execution_count": null,
      "outputs": []
    },
    {
      "cell_type": "code",
      "metadata": {
        "id": "qRZ1hGs_n86R"
      },
      "source": [
        "productos_limpios.head(1)"
      ],
      "execution_count": null,
      "outputs": []
    },
    {
      "cell_type": "code",
      "metadata": {
        "id": "IjJ7_--IoB-C"
      },
      "source": [
        "productos_limpios=productos_limpios.drop(['categoria1', 'categoria2', 'categoria3'], axis=1)"
      ],
      "execution_count": null,
      "outputs": []
    },
    {
      "cell_type": "code",
      "metadata": {
        "id": "WZzRe4s1qqEu"
      },
      "source": [
        "productos_limpios"
      ],
      "execution_count": null,
      "outputs": []
    },
    {
      "cell_type": "markdown",
      "metadata": {
        "id": "9wTYDyBzTIs-"
      },
      "source": [
        "#### 3.3. Renombrar Variables de Grillas"
      ]
    },
    {
      "cell_type": "markdown",
      "metadata": {
        "id": "k3ZMG5oRTIs_"
      },
      "source": [
        "Esto se puede hacer de manera transparente a través de un diccionario.\n"
      ]
    },
    {
      "cell_type": "code",
      "metadata": {
        "id": "PBalRqO8TItC"
      },
      "source": [
        ""
      ],
      "execution_count": null,
      "outputs": []
    },
    {
      "cell_type": "markdown",
      "metadata": {
        "id": "eimlnBkaTItF"
      },
      "source": [
        "#### 3.4. Categorizar Variables que Contengan “Otros”"
      ]
    },
    {
      "cell_type": "code",
      "metadata": {
        "id": "S_8Hf25oTItG"
      },
      "source": [
        ""
      ],
      "execution_count": null,
      "outputs": []
    },
    {
      "cell_type": "markdown",
      "metadata": {
        "id": "0zIGXsNXTItK"
      },
      "source": [
        "#### 3.5. Agregar Metadata a los Datos"
      ]
    },
    {
      "cell_type": "markdown",
      "metadata": {
        "id": "I6ttNTZyTItK"
      },
      "source": [
        "Cuando y como fueron obtenidos, limpieza realizada, decisiones implementadas, asunciones, etc."
      ]
    },
    {
      "cell_type": "markdown",
      "metadata": {
        "id": "b4KLoCsRTItO"
      },
      "source": [
        "## II. Análisis en Profundidad del Contenido"
      ]
    },
    {
      "cell_type": "markdown",
      "metadata": {
        "id": "WzWb7VHhTItO"
      },
      "source": [
        "### 1. Features Tipo Objetos"
      ]
    },
    {
      "cell_type": "markdown",
      "metadata": {
        "id": "MvXuAkHwTItP"
      },
      "source": [
        "Primero nos quedamos con las features cuyo tipo es 'Objeto'."
      ]
    },
    {
      "cell_type": "code",
      "metadata": {
        "scrolled": false,
        "id": "_n0tUbR5TItQ"
      },
      "source": [
        "# Observamos los campos que tienen tipo 'Objeto'\n",
        "precios.dtypes[precios.dtypes == 'object']"
      ],
      "execution_count": null,
      "outputs": []
    },
    {
      "cell_type": "code",
      "metadata": {
        "id": "6cTgJhVdJeF4"
      },
      "source": [
        ""
      ],
      "execution_count": null,
      "outputs": []
    },
    {
      "cell_type": "code",
      "metadata": {
        "id": "fLyl6HywjzO9"
      },
      "source": [
        "precios['fecha'] = pd.to_datetime(precios['fecha'], format=\"%Y%m%d\")"
      ],
      "execution_count": null,
      "outputs": []
    },
    {
      "cell_type": "code",
      "metadata": {
        "id": "6ISk4Agwl274"
      },
      "source": [
        "precios.dtypes"
      ],
      "execution_count": null,
      "outputs": []
    },
    {
      "cell_type": "code",
      "metadata": {
        "id": "H9ZpSAs6Mu14"
      },
      "source": [
        "#del precios\n",
        "#del productos\n",
        "#del sucursales\n",
        "#del Precios_outliers\n",
        "#del Precios_outliers"
      ],
      "execution_count": null,
      "outputs": []
    },
    {
      "cell_type": "markdown",
      "metadata": {
        "id": "Adil9PQiTItl"
      },
      "source": [
        "### 2. producto_id en Entidad Producto"
      ]
    },
    {
      "cell_type": "markdown",
      "metadata": {
        "id": "e7VHgpdM3vuy"
      },
      "source": [
        "Todos los producto_id en el dataset de precios se encuentran en la entidad de productos? Tomamos decisiones al respecto?"
      ]
    },
    {
      "cell_type": "code",
      "metadata": {
        "id": "6P5j0jm0TItl"
      },
      "source": [
        "productos_limpios.sample(2)"
      ],
      "execution_count": null,
      "outputs": []
    },
    {
      "cell_type": "code",
      "metadata": {
        "id": "MRBqVGWuqbFL"
      },
      "source": [
        "precios_limpios.sample(2)"
      ],
      "execution_count": null,
      "outputs": []
    },
    {
      "cell_type": "code",
      "metadata": {
        "id": "B0zafwbioPnn"
      },
      "source": [
        "##### ver si todos los precios reportados tienen un id producto que matchea\n",
        "lei_prec_prod = pd.merge(precios_limpios, productos_limpios, left_on='producto_id', right_on='id', how='left')\n",
        "lei_prec_prod.columns"
      ],
      "execution_count": null,
      "outputs": []
    },
    {
      "cell_type": "code",
      "metadata": {
        "id": "IyDYYOzFo6BC"
      },
      "source": [
        "lei_prec_prod[['id','producto_id']].isna().sum()"
      ],
      "execution_count": null,
      "outputs": []
    },
    {
      "cell_type": "code",
      "metadata": {
        "id": "htBDmxUevdmp"
      },
      "source": [
        "lei_prec_prod[lei_prec_prod['id'].isnull()]"
      ],
      "execution_count": null,
      "outputs": []
    },
    {
      "cell_type": "code",
      "metadata": {
        "id": "P67x1_Ii2rcd"
      },
      "source": [
        "productos_sin_id = lei_prec_prod[lei_prec_prod.id.isnull()]['producto_id'].tolist()"
      ],
      "execution_count": null,
      "outputs": []
    },
    {
      "cell_type": "code",
      "metadata": {
        "id": "i9iZPCROvdis"
      },
      "source": [
        "###Hay 7 prodcutos que estan reportados en la fecha 20200419 (primer fecha de nuestro dataset) que no tienen informacion en el fichero de prodcutos.\n",
        "##Los productos que no matcheen es necesario eliminarlos del analisis, porque no tenemos informacion sobre marca ni nada."
      ],
      "execution_count": null,
      "outputs": []
    },
    {
      "cell_type": "code",
      "metadata": {
        "id": "IXnnD3_N13zk"
      },
      "source": [
        "precios_limpios = precios_limpios[~precios_limpios.producto_id.isin(productos_sin_id)]"
      ],
      "execution_count": null,
      "outputs": []
    },
    {
      "cell_type": "code",
      "metadata": {
        "id": "ETdj0S1t3hSS"
      },
      "source": [
        "precios_limpios[precios_limpios.producto_id.isin(productos_sin_id)]"
      ],
      "execution_count": null,
      "outputs": []
    },
    {
      "cell_type": "code",
      "metadata": {
        "id": "NpmuENyC47RD"
      },
      "source": [
        ""
      ],
      "execution_count": null,
      "outputs": []
    },
    {
      "cell_type": "code",
      "metadata": {
        "id": "9PGRZFsJ5Fk9"
      },
      "source": [
        "precios_limpios"
      ],
      "execution_count": null,
      "outputs": []
    },
    {
      "cell_type": "markdown",
      "metadata": {
        "id": "p4IG1ICW3nnx"
      },
      "source": [
        ""
      ]
    },
    {
      "cell_type": "markdown",
      "metadata": {
        "id": "408LSHjtTItq"
      },
      "source": [
        "### 3. sucursal_id en Entidad Sucursales"
      ]
    },
    {
      "cell_type": "markdown",
      "metadata": {
        "id": "-C8f8rzR35Sv"
      },
      "source": [
        "\n",
        "Todos los sucursal_id en el dataset de precios se encuentran en la entidad de sucursales? Tomamos decisiones al respecto?\n"
      ]
    },
    {
      "cell_type": "code",
      "metadata": {
        "id": "3mjs6_qGAyYv"
      },
      "source": [
        "precios_limpios"
      ],
      "execution_count": null,
      "outputs": []
    },
    {
      "cell_type": "code",
      "metadata": {
        "id": "lFdCfZo8TItq"
      },
      "source": [
        "#######lo saque de la notebook de las chicas para ver como une dos archivos. \n",
        "lei_prec_sucursal = pd.merge(precios_limpios,sucursales_limpios,left_on='sucursal_id',right_on='id',how='left')\n"
      ],
      "execution_count": null,
      "outputs": []
    },
    {
      "cell_type": "code",
      "metadata": {
        "id": "TKonHbwxx8_V"
      },
      "source": [
        "lei_prec_sucursal[['id','sucursal_id']].isnull().sum()"
      ],
      "execution_count": null,
      "outputs": []
    },
    {
      "cell_type": "markdown",
      "metadata": {
        "id": "Wbhsq3kc2vSA"
      },
      "source": [
        "####todos matchean porque los que no, fueron sacados en la parte de outliets"
      ]
    },
    {
      "cell_type": "code",
      "metadata": {
        "id": "i6BqxPDj2wXc"
      },
      "source": [
        "##hay 17998 registros reportados en el dataset precio que no tiene id en el de sucursales.\n",
        "## De estos 17998 casos son 20 sucursales unicas"
      ],
      "execution_count": null,
      "outputs": []
    },
    {
      "cell_type": "markdown",
      "metadata": {
        "id": "uWkLXsD3TItt"
      },
      "source": [
        "### 4. Precios Reportados por Sucursal"
      ]
    },
    {
      "cell_type": "code",
      "metadata": {
        "id": "YuU4sIpKTItv"
      },
      "source": [
        "Cuántos precios reporta cada sucursal? Todas las sucursales reportan precios en todas las fechas?"
      ],
      "execution_count": null,
      "outputs": []
    },
    {
      "cell_type": "code",
      "metadata": {
        "id": "9x1Ay-eG5A6o"
      },
      "source": [
        "sucursales_limpios.count()"
      ],
      "execution_count": null,
      "outputs": []
    },
    {
      "cell_type": "code",
      "metadata": {
        "id": "XVfmU2bz4IhT"
      },
      "source": [
        "## DE LAS 2333 sucursales que existen el el dataset original solo 508 son las que se reportan en los precios.\n",
        "precios_limpios.groupby(['sucursal_id']).agg(cantidad=('producto_id', 'count'))\n"
      ],
      "execution_count": null,
      "outputs": []
    },
    {
      "cell_type": "code",
      "metadata": {
        "id": "TnmPCZ7X6VVu"
      },
      "source": [
        "##y no todas reportan en todas las fechas\n",
        "precios_limpios.groupby(['sucursal_id','fecha']).agg(cantidad=('producto_id', 'count'))"
      ],
      "execution_count": null,
      "outputs": []
    },
    {
      "cell_type": "markdown",
      "metadata": {
        "id": "Xd5CY-JzTIt1"
      },
      "source": [
        "### 5. Transformación y Ampliación de Características de Productos"
      ]
    },
    {
      "cell_type": "markdown",
      "metadata": {
        "id": "s2qnsXiD-rxf"
      },
      "source": [
        "#### 5.1 Presentación"
      ]
    },
    {
      "cell_type": "code",
      "metadata": {
        "id": "h18Earxmyr_h"
      },
      "source": [
        "productos_limpios[productos_limpios.presentacion.isnull()]\n",
        "# Por lo que vemos, la variable 'presentacion' no tiene nulos."
      ],
      "execution_count": null,
      "outputs": []
    },
    {
      "cell_type": "code",
      "metadata": {
        "id": "bsQEwdSwqoMZ"
      },
      "source": [
        "productos_limpios['presentacion_depurada'] = productos_limpios['presentacion'].str.lower()\n",
        "productos_limpios['presentacion_depurada']"
      ],
      "execution_count": null,
      "outputs": []
    },
    {
      "cell_type": "code",
      "metadata": {
        "id": "f_7dYGJErBu1"
      },
      "source": [
        "productos_limpios['um_en_presentacion'] = productos_limpios['presentacion_depurada'].str[-2:]\n",
        "productos_limpios['um_en_presentacion'].unique()"
      ],
      "execution_count": null,
      "outputs": []
    },
    {
      "cell_type": "code",
      "metadata": {
        "id": "0FQj6af7TIt2"
      },
      "source": [
        "productos_limpios['cantidad_en_presentacion'] = productos_limpios['presentacion_depurada'].str[0:-3]\n",
        "productos_limpios[productos_limpios.cantidad_en_presentacion.isnull()]"
      ],
      "execution_count": null,
      "outputs": []
    },
    {
      "cell_type": "code",
      "metadata": {
        "id": "ZpgK7bibxp0i"
      },
      "source": [
        "# Convierto los numeros en integer para luego tener una expresion String sin el caracter '.'\n",
        "productos_limpios['presentacion_depurada_str'] = productos_limpios.apply(lambda x: str(int(float(x['cantidad_en_presentacion']))) + ' ' + x['um_en_presentacion']\n",
        "                if int(float(x['cantidad_en_presentacion']))-float(x['cantidad_en_presentacion']) == 0.\n",
        "                else str(float(x['cantidad_en_presentacion'])) + ' ' + x['um_en_presentacion'], axis=1)\n",
        "\n",
        "productos_limpios['presentacion_depurada_str'].sample(7)"
      ],
      "execution_count": null,
      "outputs": []
    },
    {
      "cell_type": "markdown",
      "metadata": {
        "id": "ZR7gWtLA-1kZ"
      },
      "source": [
        "#### 5.2 Nombre de Productos"
      ]
    },
    {
      "cell_type": "code",
      "metadata": {
        "id": "TmzKXM---2F2"
      },
      "source": [
        "productos_limpios['nombre_depurado'] = productos_limpios['nombre'].str.lower().fillna('')\n",
        "productos_limpios['nombre_depurado']"
      ],
      "execution_count": null,
      "outputs": []
    },
    {
      "cell_type": "markdown",
      "metadata": {
        "id": "vU0l5ASA47nx"
      },
      "source": [
        "Al tratar de depurar la unidad de medida, aparecieron las siguientes inconsistencias:"
      ]
    },
    {
      "cell_type": "code",
      "metadata": {
        "id": "djZKFRb3tBJe"
      },
      "source": [
        "filtro_nombre_sin_presentacion = productos_limpios.apply(lambda x: x['presentacion_depurada_str'] not in x['nombre_depurado'], axis=1)\n",
        "print('Cantidad de Productos cuyo nombre no coincide con su presentacion:', len(productos_limpios[filtro_nombre_sin_presentacion]),'\\n')\n",
        "productos_limpios[['id','nombre_depurado', 'presentacion_depurada', 'presentacion_depurada_str']][filtro_nombre_sin_presentacion].sample(5)"
      ],
      "execution_count": null,
      "outputs": []
    },
    {
      "cell_type": "markdown",
      "metadata": {
        "id": "ZI1QI9b17mgt"
      },
      "source": [
        "Qué pasó en estos casos? Deberíamos depurar el nombre o modificar la um?\n",
        "Cómo podemos hacer para extraer la um del nombre?"
      ]
    },
    {
      "cell_type": "code",
      "metadata": {
        "id": "vXxc14hT77F6"
      },
      "source": [
        "def is_float(number):\n",
        "  try:\n",
        "    float(number)\n",
        "    return True\n",
        "  except Exception as e:\n",
        "    return False\n",
        "\n"
      ],
      "execution_count": null,
      "outputs": []
    },
    {
      "cell_type": "code",
      "metadata": {
        "id": "nUT5eBctpZMz"
      },
      "source": [
        "def extraer_cant_um_de_nombre_enhanced(df):\n",
        "  cant_en_nombre_prod = []\n",
        "  um_en_nombre_prod = []\n",
        "  pattern_um = r'(?P<cant_en_nombre_prod>[\\d\\.]+)\\s?(?P<um_en_nombre_prod>\\D{1,3}$)'\n",
        "\n",
        "  for idx, producto in df.iterrows(): \n",
        "      um = producto['um_en_presentacion']  # Si no encuentro un match, lo dejo como esta en la presentacion\n",
        "      cantidad = producto['cantidad_en_presentacion']  # Si no encuentro un match, lo dejo como esta en la presentacion \n",
        "      \n",
        "      match = re.search(pattern_um, producto[\"nombre_depurado\"])\n",
        "      if match is not None:\n",
        "        if is_float(match.group('cant_en_nombre_prod')):\n",
        "          cantidad = match.group('cant_en_nombre_prod') \n",
        "          um = match.group('um_en_nombre_prod')\n",
        "      \n",
        "      cant_en_nombre_prod.append(cantidad)\n",
        "      um_en_nombre_prod.append(um)\n",
        "\n",
        "  return cant_en_nombre_prod, um_en_nombre_prod"
      ],
      "execution_count": null,
      "outputs": []
    },
    {
      "cell_type": "code",
      "metadata": {
        "id": "ke8xz8zKVLzg"
      },
      "source": [
        "# Llamo a la funcion extractora de 'um' y 'cantidad' del nombre_depurado\n",
        "cant_en_nombre_prod, um_en_nombre_prod = extraer_cant_um_de_nombre_enhanced(productos_limpios)\n",
        "\n",
        "# Guardo el resultado de la funcion en las respectivas NUEVAS columnas\n",
        "productos_limpios['cant_en_nombre_prod'] = cant_en_nombre_prod\n",
        "productos_limpios['um_en_nombre_prod'] = um_en_nombre_prod "
      ],
      "execution_count": null,
      "outputs": []
    },
    {
      "cell_type": "code",
      "metadata": {
        "id": "bRX_E3ma8ldz"
      },
      "source": [
        "# Armo un filtro de columnas de interes para \n",
        "filtro_columnas_presentacion_interes = ['nombre_depurado',\n",
        "                                        'presentacion_depurada_str',\n",
        "                                        'cantidad_en_presentacion',\n",
        "                                        'um_en_presentacion',\n",
        "                                        'cant_en_nombre_prod',\n",
        "                                        'um_en_nombre_prod']\n"
      ],
      "execution_count": null,
      "outputs": []
    },
    {
      "cell_type": "code",
      "metadata": {
        "id": "3GI4b26xVYiv"
      },
      "source": [
        "productos_limpios[filtro_columnas_presentacion_interes][filtro_nombre_sin_presentacion].sample(7)"
      ],
      "execution_count": null,
      "outputs": []
    },
    {
      "cell_type": "code",
      "metadata": {
        "id": "GjA5dnkRVZf1"
      },
      "source": [
        "# Veamos cómo nos quedaron las 'um'' extraídas del nombre_depurado\n",
        "productos_limpios['um_en_nombre_prod'].unique()"
      ],
      "execution_count": null,
      "outputs": []
    },
    {
      "cell_type": "code",
      "metadata": {
        "id": "jOGwpm7LVZRw"
      },
      "source": [
        "# Utilizamos una serie de conversiones para arreglar algunas 'um'\n",
        "productos_limpios['um_en_nombre_prod'] = productos_limpios['um_en_nombre_prod'].str.replace('[^a-zA-Z]','')\n",
        "productos_limpios['um_en_nombre_prod'] = productos_limpios['um_en_nombre_prod'].str.replace('k\\w+','kg')\n",
        "productos_limpios['um_en_nombre_prod'] = productos_limpios['um_en_nombre_prod'].str.replace('g\\w+','gr')\n",
        "productos_limpios['um_en_nombre_prod'] = productos_limpios['um_en_nombre_prod'].str.replace('un\\w+','un')\n",
        "productos_limpios['um_en_nombre_prod'] = productos_limpios['um_en_nombre_prod'].str.replace('^g$','gr')\n",
        "productos_limpios['um_en_nombre_prod'] = productos_limpios['um_en_nombre_prod'].str.replace('^l$','lt')\n",
        "productos_limpios['um_en_nombre_prod'] = productos_limpios['um_en_nombre_prod'].str.replace('^u$','un')\n",
        "productos_limpios['um_en_nombre_prod'] = productos_limpios['um_en_nombre_prod'].str.replace('^c$','cc')"
      ],
      "execution_count": null,
      "outputs": []
    },
    {
      "cell_type": "code",
      "metadata": {
        "id": "2EODXNu_VZGP"
      },
      "source": [
        "productos_limpios['um_en_nombre_prod'].unique()\n",
        "# Podemos ver que todavia nos quedan algunas unidades sin determinar. No nos preocupa por el momento ya que\n",
        "# luego vamos a crear una variable que tenga la um final (o limpia) y la cantidad final (o limpia)"
      ],
      "execution_count": null,
      "outputs": []
    },
    {
      "cell_type": "code",
      "metadata": {
        "id": "Odlshz7BVYtD"
      },
      "source": [
        "# \n",
        "# Algunos productos tienen en su nombre la presentacion y la cantidad de unidades, veamos cuantos son:\n",
        "print(len(productos_limpios.nombre_depurado[productos_limpios.nombre_depurado.str.contains(r'.*\\d{1,2}\\sun\\s.*')]))\n",
        "productos_limpios.nombre_depurado[productos_limpios.nombre_depurado.str.contains(r'.*\\sun\\s.*')].sample(5)\n"
      ],
      "execution_count": null,
      "outputs": []
    },
    {
      "cell_type": "code",
      "metadata": {
        "id": "sv0sprSfVYY_"
      },
      "source": [
        "# En esta variable vamos a guardar la presentacion que aparece en el NOMBRE del producto con el formato de presentacion_depurada_str\n",
        "# para poder comparar ambas y luego decidir con qué presentación quedarse.\n",
        "def get_um_cantidad_en_nombre(cantidad, um):\n",
        "  nombre_str = ''\n",
        "  try:  \n",
        "    if int(float(cantidad))-float(cantidad) == 0.:\n",
        "      nombre_str = str(int(float(cantidad))) + ' ' + um\n",
        "    else:\n",
        "      nombre_str = str(float(cantidad)) + ' ' + um\n",
        "  except Exception as e: \n",
        "    nombre_str = str(cantidad) + ' ' + um\n",
        "  finally:\n",
        "    return nombre_str"
      ],
      "execution_count": null,
      "outputs": []
    },
    {
      "cell_type": "code",
      "metadata": {
        "id": "CiJq7xLZV-A3"
      },
      "source": [
        "productos_limpios['presentacion_en_nombre_depurada'] = productos_limpios.apply(lambda x: get_um_cantidad_en_nombre(x['cant_en_nombre_prod'], x['um_en_nombre_prod']), axis=1)"
      ],
      "execution_count": null,
      "outputs": []
    },
    {
      "cell_type": "code",
      "metadata": {
        "id": "i9Y-pIChV-SQ"
      },
      "source": [
        "filtro_columnas_presentacion_interes.append('presentacion_en_nombre_depurada')\n",
        "productos_limpios[filtro_columnas_presentacion_interes][filtro_nombre_sin_presentacion].sample(5)"
      ],
      "execution_count": null,
      "outputs": []
    },
    {
      "cell_type": "code",
      "metadata": {
        "id": "xzE4Ga9KV-ue"
      },
      "source": [
        "#filtro_presentaciones_diff = productos['presentacion_depurada_str'] != productos['presentacion_en_nombre_depurada'] \n",
        "filtro_presentaciones_diff = productos_limpios.apply(lambda x: x['presentacion_depurada_str'] not in x['presentacion_en_nombre_depurada'], axis=1)\n",
        "len(productos_limpios[filtro_columnas_presentacion_interes][filtro_presentaciones_diff])"
      ],
      "execution_count": null,
      "outputs": []
    },
    {
      "cell_type": "code",
      "metadata": {
        "id": "0TbdDfVFV_Cl"
      },
      "source": [
        "# Teniendo todas las presentaciones \"normalizadas\" veamos cuantos productos tienen la presentacion original en su nombre y cuántos tiene\n",
        "# la presentacion nueva (extraida de su nombre pero \"curada\") en su nombre. Esto nos va a dar una idea de que cantidad de datos\n",
        "# tenemos que limpiar/curar\n",
        "filtro_presentacion_or_en_nombre = [row[0] not in row[1] for row in zip(productos_limpios['presentacion_depurada_str'], productos_limpios['nombre_depurado'])]\n",
        "print(\"Cantidad de Productos cuya Presentacion Depurada no coincide con la presentacion del Nombre Depurado\",'\\n', len(productos_limpios[filtro_presentacion_or_en_nombre]))\n"
      ],
      "execution_count": null,
      "outputs": []
    },
    {
      "cell_type": "code",
      "metadata": {
        "id": "20exuHnGV_Kc"
      },
      "source": [
        "filtro_presentacion_ext_en_nombre = [row[0] not in row[1] for row in zip(productos_limpios['presentacion_en_nombre_depurada'], productos_limpios['nombre_depurado'])]\n",
        "print(\"Cantidad de Productos cuya Presentacion Extraida y Depurada no coincide con la presentacion del Nombre Depurado\",'\\n', len(productos_limpios[filtro_presentacion_ext_en_nombre]))\n",
        "productos_limpios[filtro_presentacion_ext_en_nombre].sample(2)"
      ],
      "execution_count": null,
      "outputs": []
    },
    {
      "cell_type": "markdown",
      "metadata": {
        "id": "BS2-wJWVWig8"
      },
      "source": [
        "####*Intentaremos hacer una funcion que seleccione la \"mejor opcion\" de presentacion de acuerdo a las siguientes reglas:*\n",
        "\n",
        "[IMAGEN](https://app.diagrams.net/?title=GP2_ArbolDecision_AyC_Precios_Claros.drawio#R7Vxdc5s4FP01nu4%2BxCMkPsRjHafdnbbbzmRmu92XHRlkmw0gB0Pj9NevhPmU5MZxY%2FBSMpMxEkLAPUfS0dUVE3Qd7d4mZLP%2BwHwaTiDwdxM0n0BoWhDwH5HzuM%2BB2CpyVkng7%2FOMOuM2%2BEaLzLJYFvh02yqYMhamwaad6bE4pl7ayiNJwh7axZYsbN91Q1ZUybj1SKjmfg78dF3kGgDUJ36jwWpd3Lp6vwXx7lYJy%2BLifhOIlvnf%2FnREyrqK8ts18dlDIwvdTNB1wli6P4p21zQUxi3Ntr%2FuzYGz1XMnNE6PuoASZDiOC3zoERejq6KGryTMCltkEU%2FTWFSb0C2vl3gBE0kOEK9olRFRIeH%2FdcmYRYuEX%2F%2BmeMv0sbQsvz0HkSdmD%2Bsgpbcb4okzD5xIPG%2BdRiFPGfwwNyIVjwl4qrKTOOWxKPCKEyFZ0HBWWf2ahSzhp2IWi3ts04TdVRCKa5csTt%2BQKAgFNf%2BkiU9iUmQXNDQ4CDMSBquYJzz%2BvpRXOFMNW1qKJindNbIKQ7%2BlLKJp8siLVO2iAL1sFUXyocEwu8hbN8hVsY4UrF5VVdfI8oMCXD3Qu78fPPzxPtjsgmiezbx3d06qAdsjcRr4xD8Wcrn8CLwGeBtKwPePPFbx8XkPWCRZkq7ZisUkvKlzJWDqMu8Z2xRG%2Fpem6WNhTpKlrI3sQVNuWZZ49DuPC%2FflxDN%2B1%2BAJDUkafG334jrjFZd%2BYgF%2FlAooZLSBQqZk%2F5QkK5oWV0kQVI9xOipwbI9dtEeI2jAbbu%2Ft0VGQv8%2BoLyFagAntkD%2FPbJHwo5U4Kovm42%2BbIQMBfRmEYVk5l1S%2BRbFvVndonMFwgWz7PDRBptUhTdS%2B4PZ3BU%2F%2BJmkbOMV04n0DrmxfFyeiwPf33TndBt%2FIIq9KYLkRvVr%2BwNZsYs1FXbwH3xawvIxJDSyNhJqWhzQWhedqd%2B4x7a7dpMbW10nrO6bx4W7VMlDIokIc%2B6%2FF%2FFOYLyTbrcCqiSzdBelfBXzi%2BEsjf75rnJg%2FlomYP3t%2BydS23TLjS54BYJmur81TrYs%2F0STgFhBQ5pk%2FLMP2KujpVvWkXGtgaWmgLPN%2BUNWZttTp2BJD9u%2BtqDqlIkuSh5W7oiN5aKjztWER8FII49hT5Bqm5VjAAo4NUVsuGniKLAshF1gugo4JT6MTwgdkaFd0UiXG8%2Bn005HDknoTQ54jHgu%2FbRlTLPUnxtQ2u%2BUAUjgwAJmJXEttsbaiHzpVmoapWPqPj%2F97S8uurao19GZma4hmVhxToG8z24qZT3VYlIXGydIPuCqcNj8srPKj67UF1aVVIs1nyczPvJSJuURAY5HFqXGfiVWvWRbXx%2BKE8F2CX7JYcIpufx0MUV4AduxK3cIFwI4V2FXERlEpaUFHBtIwp6Uln6srMZZ1JcLWFEuTlHPrStWxNtLgSRrY0goxQqfOLSRZZoLOZxblEwxrZmEDCaG%2B9S5UfUID0LtY0jMI1v1hb5ZW3SUhmShLsimNA6JKXv5LIiFI4sVW%2FOTSN68FvMriV6XQGbVNtVQEpD6scrz0J26g6i3RzHp4W0tIkOfGGf2qIUNr%2FtMkwUDg72UO5NiXxxfV5zOqoCdVkCuLF1x7754tht0DpOhKBanuqJEBTzLAAIZCgdPwN4DsGbHcqdv865YOqttsAKJYVmtW395JqPqeBiCKDWBKraLv6Bk4hs9cqhrC0uKyo5modhw%2FU1JzHAufNxZKTiHbFnIIVH9SjcePjPAAQzoaC9FLRLP8fHQwVDqcSAAIeiaA6lAZwigtx7jamkWZTkdpNMgYDz5O9WdnmMXvH%2FEXG8%2B3cbhw5h%2Bct7rdG%2Fn2DC5T7vhPc7FzyZJIaB6fludH319rOVtqQleGo1Ev5wu916GrNqJxtHp6QxV2p0YbylODb00Mpm6rKhEth%2BqJPHbQuYYvLSEGGc9lSmH3Vxonaqedqs5%2Ftp9CbjckLieRjdlmXkiI4n0pftNmQe3CjFJd0y8vuudXB2sbSJ%2FdyxRVcs3qNsW6nXbxqnPu%2BV38GF5%2FxC7b74bX8y5nCoBp28A1ge1AW3LRHjtgQGl%2B2%2FNwobokByDCoTQZvbK6Gy6Wn%2F9x4gjM0Y03e%2Ff6%2Ff2NtSRXavSZ8lEKuN81ned7LGaeWKod9XdLBUhds9npBwu0wLoqPj1%2BsODcHyIQq1RWO4jPcsxjQ7iOqg6q1R3oWU%2FoAbUQavZPDqALNKGwbe2OBeZBO%2FfVKY77BjvaGgbQFBi1sDHtNhWAWHqu9w3C03SNCYQ%2BUvz%2FVeT%2FOSM99fRSHV8DmAnr%2Bkx0AW35qBC08Ushnc5kZb3U7fYbPU9U99SohE9ZzZEcYo5mhtM1tGNM2UkLp1J8KLZeZh1dZogrb9o49%2FD7Em6rn48OUKXDiQSQN%2Bd2ToBhRrvJ%2FmGsWQPsVnqpzqUBzF8Nw7gwO2t2jo17y%2FsTt0qgmKsLJexWAml2vY2BpxdCF3lNQEuXl4o85cn6Y9n7AbX%2BJDm6%2BQ8%3D)|"
      ]
    },
    {
      "cell_type": "code",
      "metadata": {
        "id": "-CVtuleQV-r1"
      },
      "source": [
        "def is_pack(nombre_producto):\n",
        "  # En el peor de los casos, si la palabra 'pack' esta al ultimo de la cadena, la funcion demora \"23.5 µs per loop\"\n",
        "  for palabra in nombre_producto.split(' '):\n",
        "    if re.search(r'^pack', palabra) is not None:\n",
        "      return True\n",
        "  return False\n",
        "\n",
        "\n",
        "def obtener_presentacion_limpia(df):\n",
        "  um_limpia = []\n",
        "  cant_limpia = []\n",
        "\n",
        "\n",
        "  # Defino mi patron de productos \"empaquetados\". Aquellos que tienen 'y' ó '+' en su nombre además de contar con\n",
        "  # numeros y unidades en ambos lados del caracter concatenador.\n",
        "  pack_pattern = r'^.*\\s\\d{1,3}\\s{0,1}\\w{1,3}\\s[y\\+]\\s.*\\d{1,3}\\s{0,1}\\w{1,3}.*$'\n",
        "\n",
        "  # Defino patron de productos cuyo nombre contiene 'un'.\n",
        "  un_pattern = r'(?P<cant>[\\d]+)\\sun'\n",
        "\n",
        "  for idx, producto in df.iterrows():\n",
        "    producto_um_limpia = ''\n",
        "    producto_cant_limpia = ''\n",
        "    \n",
        "    \n",
        "    #is_pack = [True if re.search(patron, palabra) is not None else False for palabra in nombre_depurado.split(' ')\n",
        "    if is_pack(producto['nombre_depurado']):\n",
        "      producto_um_limpia = 'pack'\n",
        "      producto_cant_limpia = 1\n",
        "\n",
        "    # Si el patron de productos empaquetados es detectado en el nombre, o sea que el resultado NO es vacío...\n",
        "    elif re.search(pack_pattern, producto['nombre_depurado']) is not None:\n",
        "        producto_um_limpia = 'pack'\n",
        "        producto_cant_limpia = 1\n",
        "    \n",
        "    elif producto['um_en_presentacion'] == producto['um_en_nombre_prod']:\n",
        "      producto_um_limpia = producto['um_en_presentacion']\n",
        "\n",
        "      if float(producto['cantidad_en_presentacion']) == float(producto['cant_en_nombre_prod']):\n",
        "        producto_cant_limpia = producto['cantidad_en_presentacion']\n",
        "      else:\n",
        "        producto_cant_limpia = producto['cant_en_nombre_prod']\n",
        "    \n",
        "    # Si el producto tiene unidades diferentes pero igual cantidad, me quedo con la unidad del nombre    \n",
        "    elif float(producto['cantidad_en_presentacion']) == float(producto['cant_en_nombre_prod']):\n",
        "      producto_cant_limpia = producto['cant_en_nombre_prod']\n",
        "      if producto['um_en_nombre_prod'] in df['um_en_presentacion'].unique():\n",
        "        producto_um_limpia = producto['um_en_nombre_prod']\n",
        "      else:\n",
        "        producto_um_limpia = producto['um_en_presentacion']\n",
        "\n",
        "    # Si el producto no tiene ni la unidad ni la cantidad en comun entre nombre y presentacion, entonces intento\n",
        "    # obtener la unidad del nombre, y si eso no sirve le dejo la unidad y cantidad de la presentacion como vino cargada\n",
        "    # o la etiqueto como posible de ser removida\n",
        "    else:\n",
        "      extraer_unid = re.search(un_pattern, producto['nombre_depurado'])\n",
        "      if extraer_unid is not None:\n",
        "        producto_um_limpia = 'un'\n",
        "        producto_cant_limpia = extraer_unid.group('cant') ## el 'cant' sale de un \"extractor\" que se define en el patron.\n",
        "      elif producto['um_en_presentacion'] == 'un':\n",
        "        producto_um_limpia = producto['um_en_presentacion']\n",
        "        producto_cant_limpia = producto['cantidad_en_presentacion']\n",
        "      \n",
        "      elif producto['um_en_nombre_prod'] in df['um_en_presentacion'].unique():\n",
        "        producto_um_limpia = producto['um_en_nombre_prod']\n",
        "        producto_cant_limpia = producto['cant_en_nombre_prod']\n",
        "\n",
        "      else:\n",
        "        producto_um_limpia = producto['um_en_presentacion']\n",
        "        producto_cant_limpia = producto['cantidad_en_presentacion']\n",
        "    \n",
        "    um_limpia.append(producto_um_limpia)\n",
        "    cant_limpia.append(float(producto_cant_limpia))\n",
        "  \n",
        "  return um_limpia, cant_limpia\n",
        "    "
      ],
      "execution_count": null,
      "outputs": []
    },
    {
      "cell_type": "code",
      "metadata": {
        "id": "PJmpeLmcV-Pu"
      },
      "source": [
        "um_limpia,cant_limpia = obtener_presentacion_limpia(productos_limpios)"
      ],
      "execution_count": null,
      "outputs": []
    },
    {
      "cell_type": "code",
      "metadata": {
        "id": "PrPngP4FV-NF"
      },
      "source": [
        "productos_limpios['um_limpia'] = um_limpia\n",
        "productos_limpios['cant_limpia'] = cant_limpia"
      ],
      "execution_count": null,
      "outputs": []
    },
    {
      "cell_type": "code",
      "metadata": {
        "id": "OZbUfpU2V-Ka"
      },
      "source": [
        "# Veamos cuantos productos venian en 'pack' originalmente y cuantos fueron agregados por el script\n",
        "# Considerar que hay varias marcas que tienen en su nomnre la palabra pack como 'doypack' por lo tanto la expresion regular\n",
        "# considera solamente la palabra 'pack' suelta\n",
        "\n",
        "print('Cantidad PACK ORIGINALES:', len(productos_limpios[productos_limpios.nombre_depurado.str.contains(r'^pack\\s|\\spack\\s')]))\n",
        "print('Cantidad PACK NUEVOS:', len(productos_limpios[productos_limpios.um_limpia.str.contains('pack')]) - len(productos_limpios[productos_limpios.nombre_depurado.str.contains(r'^pack\\s|\\spack\\s')]))"
      ],
      "execution_count": null,
      "outputs": []
    },
    {
      "cell_type": "code",
      "metadata": {
        "id": "rhTNjO4xV-HL"
      },
      "source": [
        "productos_limpios['um_limpia'].value_counts()"
      ],
      "execution_count": null,
      "outputs": []
    },
    {
      "cell_type": "code",
      "metadata": {
        "id": "9Ox3riS3X80e"
      },
      "source": [
        "# Veamos ahora cómo quedaron aquellos productos cuya presentacion suministrada no coincidía con la presentacion en el nombre\n",
        "# del producto.\n",
        "productos_limpios[['nombre_depurado', 'presentacion_depurada', 'presentacion_depurada_str', 'cant_limpia', 'um_limpia']][filtro_nombre_sin_presentacion].sample(3)"
      ],
      "execution_count": null,
      "outputs": []
    },
    {
      "cell_type": "code",
      "metadata": {
        "id": "_cluDtkmX8cK"
      },
      "source": [
        ""
      ],
      "execution_count": null,
      "outputs": []
    },
    {
      "cell_type": "markdown",
      "metadata": {
        "id": "20t5TL-R_t89"
      },
      "source": [
        "#### 5.3 Marca"
      ]
    },
    {
      "cell_type": "code",
      "metadata": {
        "id": "YSK3uYMY_uXE"
      },
      "source": [
        "!pip install unidecode\n",
        "from unidecode import unidecode"
      ],
      "execution_count": null,
      "outputs": []
    },
    {
      "cell_type": "code",
      "metadata": {
        "id": "yqpFDcJUYYpt"
      },
      "source": [
        "# Hago una lista de palabras no importantes acotada ya que la lista provista por NTLK es muy variada y puede quitarnos algunas marcas\n",
        "spanish_stopwords = ['ante', 'bajo', 'cabe', 'con', 'contra', 'de', 'desde','durante', 'en', 'entre', 'hacia', 'hasta', 'mediante', 'para', 'por', 'segun', 'sin', 'sobre', 'tras', 'la', 'las', 'los', 'del','el', 'a', 'y']"
      ],
      "execution_count": null,
      "outputs": []
    },
    {
      "cell_type": "code",
      "metadata": {
        "id": "ePUACDEyYYz9"
      },
      "source": [
        "def limpiar_palabras(columna, limpiar_stopwords=True):\n",
        "  columna_limpia = []\n",
        "\n",
        "  for contenido in columna:\n",
        "    contenido = contenido.lower()\n",
        "    contenido = unidecode(contenido)\n",
        "    \n",
        "    if limpiar_stopwords:\n",
        "      palabra_limpia = ''\n",
        "      palabras = contenido.split(' ')\n",
        "\n",
        "      for palabra in palabras:\n",
        "        if palabra not in spanish_stopwords:\n",
        "          palabra_limpia += palabra.strip() + ' '\n",
        "      columna_limpia.append(palabra_limpia.strip())\n",
        "    else:\n",
        "      columna_limpia.append(contenido)\n",
        "\n",
        "  return columna_limpia"
      ],
      "execution_count": null,
      "outputs": []
    },
    {
      "cell_type": "code",
      "metadata": {
        "id": "ScPZsaUNYY8-"
      },
      "source": [
        "productos_limpios['marca_depurada'] = limpiar_palabras(productos_limpios['marca'])"
      ],
      "execution_count": null,
      "outputs": []
    },
    {
      "cell_type": "code",
      "metadata": {
        "id": "QAva2uqIYZLS"
      },
      "source": [
        "print(\"Cantidad de Marcas Unicas:\", len(productos_limpios['marca'].unique()))\n",
        "print(\"Cantidad de Marcas Depuradas Unicas:\", len(productos_limpios['marca_depurada'].unique()))"
      ],
      "execution_count": null,
      "outputs": []
    },
    {
      "cell_type": "code",
      "metadata": {
        "id": "Dj1AEi1NYZVA"
      },
      "source": [
        "# Veamos como quedaron algunas marcas en su version depurada y su version limpia\n",
        "productos_limpios[['marca','marca_depurada']].sample(5)"
      ],
      "execution_count": null,
      "outputs": []
    },
    {
      "cell_type": "code",
      "metadata": {
        "id": "okEObGZ1YZlJ"
      },
      "source": [
        "productos_limpios[['marca','marca_depurada']][productos_limpios.marca_depurada == ' ']\n",
        "# Vemos que no hay marcas depuradas vacías"
      ],
      "execution_count": null,
      "outputs": []
    },
    {
      "cell_type": "code",
      "metadata": {
        "id": "6NlbzwVDYZ0b"
      },
      "source": [
        "productos_limpios['marca_depurada_unida'] = productos_limpios.marca_depurada.apply(lambda x: '_'.join(x.split(' ')))"
      ],
      "execution_count": null,
      "outputs": []
    },
    {
      "cell_type": "code",
      "metadata": {
        "id": "92D9Si31YZvr"
      },
      "source": [
        "#Chequeamos cuantos valores hay en la nueva columna, para eso generamos un nuevo dataframe \"summary\" con la info que necesitamos\n",
        "def get_column_stats(columna):\n",
        "  counts = columna.value_counts()\n",
        "  percent= columna.value_counts(normalize=True).mul(100).round(1).astype(str) + '%'\n",
        "  accum = columna.value_counts(normalize=True).cumsum().mul(100).round(1).astype(str) + '%'\n",
        "  return pd.DataFrame({'counts': counts, 'per': percent,'accum': accum })\n"
      ],
      "execution_count": null,
      "outputs": []
    },
    {
      "cell_type": "code",
      "metadata": {
        "id": "R2kiztDfYZet"
      },
      "source": [
        "get_column_stats(productos_limpios['marca_depurada'])[:10]"
      ],
      "execution_count": null,
      "outputs": []
    },
    {
      "cell_type": "code",
      "metadata": {
        "id": "LSzFKIDMYZEQ"
      },
      "source": [
        "# Buscamos las marcas mas repetidas y guardamos el dataset resultante para posterior uso\n",
        "marcas_mas_repetidas = productos_limpios['marca_depurada_unida'].value_counts()[:10].reset_index().rename(columns={'index':'marca_depurada_unida', 'marca_depurada_unida':'cantidad'})"
      ],
      "execution_count": null,
      "outputs": []
    },
    {
      "cell_type": "code",
      "metadata": {
        "id": "JxnaTiITY-BH"
      },
      "source": [
        "marcas_mas_repetidas[:10]"
      ],
      "execution_count": null,
      "outputs": []
    },
    {
      "cell_type": "code",
      "metadata": {
        "id": "tWNBBUlclx6g"
      },
      "source": [
        "productos_limpios['marca_depurada_unida'].value_counts().reset_index()[:10]['index'].tolist()"
      ],
      "execution_count": null,
      "outputs": []
    },
    {
      "cell_type": "code",
      "metadata": {
        "id": "XpZ6Au_bY9-I"
      },
      "source": [
        "# Esta funcion acepta una columna y una lista de palabras mas frecuentes\n",
        "# Con ello, crea una nueva lista la cual contiene la palabra original (si se encuentra dentro de las mas frecuentes)\n",
        "# o le pone la palabra suministrada\n",
        "def get_dummy_column(column, top_rank=10, default_word='others'):\n",
        "  \n",
        "  dummy_list = column.value_counts().reset_index()[:top_rank]['index'].tolist()\n",
        "  \n",
        "  dummy_column = []\n",
        "\n",
        "  for row in column:\n",
        "    valor_dummy = default_word\n",
        "    if row in dummy_list:\n",
        "      valor_dummy = row\n",
        "    dummy_column.append(valor_dummy)\n",
        "\n",
        "  return dummy_column"
      ],
      "execution_count": null,
      "outputs": []
    },
    {
      "cell_type": "code",
      "metadata": {
        "id": "T5QFbnVwY97R"
      },
      "source": [
        "productos_limpios['marca_dummy'] = get_dummy_column(productos_limpios['marca_depurada_unida'], 10, 'otras_marcas')"
      ],
      "execution_count": null,
      "outputs": []
    },
    {
      "cell_type": "code",
      "metadata": {
        "id": "XOcUMhCiY93x"
      },
      "source": [
        "productos_limpios[['marca', 'marca_depurada_unida','marca_dummy']].sample(15)"
      ],
      "execution_count": null,
      "outputs": []
    },
    {
      "cell_type": "code",
      "metadata": {
        "id": "JFVt4D1bY909"
      },
      "source": [
        "# Una vez que tenemos la columna nueva con las categorias dummy, utilizamos la funcion de Pandas para\n",
        "# extender el dataframe.\n",
        "productos_limpios = pd.concat([productos_limpios, pd.get_dummies(productos_limpios['marca_dummy'], prefix='marca')], axis=1)\n",
        "productos_limpios.sample(3)"
      ],
      "execution_count": null,
      "outputs": []
    },
    {
      "cell_type": "markdown",
      "metadata": {
        "id": "SScca8AEf5pW"
      },
      "source": [
        "### DUMMY DE PRODUCTOS"
      ]
    },
    {
      "cell_type": "code",
      "metadata": {
        "id": "QKk44D6uCmE8"
      },
      "source": [
        "# DUMMY DE UM DE PRODUCTOS\n",
        "productos_limpios = pd.concat([productos_limpios, pd.get_dummies(productos_limpios['um_limpia'], prefix='um')], axis=1)"
      ],
      "execution_count": null,
      "outputs": []
    },
    {
      "cell_type": "code",
      "metadata": {
        "id": "JFg2OmOoFG3A"
      },
      "source": [
        "productos_limpios.filter(regex=(\"um.*\")).sample(2)"
      ],
      "execution_count": null,
      "outputs": []
    },
    {
      "cell_type": "code",
      "metadata": {
        "id": "zQN2kqFBY9xV"
      },
      "source": [
        "# DUMMY DE NOMBRE DE PRODUCTO (dejamos para mas adelante la alternativa de hacer dummy sobre nombre+marca)\n",
        "# Quitemos primero la presentacion del nombre:\n",
        "productos_limpios['nombre_sin_presentacion'] = productos_limpios['nombre_depurado'].apply(lambda x: re.sub('[\\d\\.]+\\s?\\D{1,3}$', '', x))"
      ],
      "execution_count": null,
      "outputs": []
    },
    {
      "cell_type": "code",
      "metadata": {
        "id": "yPaWcRHEY9t0"
      },
      "source": [
        "productos_limpios[['nombre_depurado','nombre_sin_presentacion']].sample(5)"
      ],
      "execution_count": null,
      "outputs": []
    },
    {
      "cell_type": "code",
      "metadata": {
        "id": "iFgOynuJY9pp"
      },
      "source": [
        "# Quitamos la marca del nombre\n",
        "# Para eso definimos una funcion que, de encontrar la marca en el nombre, primero se fija de que\n",
        "# el nombre del producto no quede vacío.\n",
        "# De ser así, deja el nombre como está, sino elimina la marca del nombre\n",
        "def quitar_marca(nombre, marca):\n",
        "  nombre_sin_marca = re.sub(marca, '', nombre) \n",
        "  if len(nombre_sin_marca) > 1:\n",
        "    return nombre_sin_marca\n",
        "  else:\n",
        "    return nombre"
      ],
      "execution_count": null,
      "outputs": []
    },
    {
      "cell_type": "code",
      "metadata": {
        "id": "muwqV4NAf_c0"
      },
      "source": [
        "productos_limpios['nombre_sin_presentacion_marca'] = productos_limpios.apply(lambda x: quitar_marca(x.nombre_sin_presentacion, x.marca_depurada), axis=1)"
      ],
      "execution_count": null,
      "outputs": []
    },
    {
      "cell_type": "code",
      "metadata": {
        "id": "wk6axJ6rf_vL"
      },
      "source": [
        "productos_limpios[['nombre_depurado','marca_depurada', 'nombre_sin_presentacion','nombre_sin_presentacion_marca']][productos_limpios.nombre_depurado.str.contains('coca')].sample(7)"
      ],
      "execution_count": null,
      "outputs": []
    },
    {
      "cell_type": "code",
      "metadata": {
        "id": "PYIPFBsRf_rb"
      },
      "source": [
        "# Quitemos ahora las palabras sin importancia (stopwords)\n",
        "spanish_stopwords += productos_limpios['um_limpia'].unique().tolist()\n",
        "productos_limpios['nombre_limpio'] = limpiar_palabras(productos_limpios['nombre_sin_presentacion_marca'], limpiar_stopwords=True)"
      ],
      "execution_count": null,
      "outputs": []
    },
    {
      "cell_type": "code",
      "metadata": {
        "id": "3nGVpEeGf_oh"
      },
      "source": [
        "productos_limpios[['nombre_depurado','marca_depurada','nombre_limpio']].sample(5)"
      ],
      "execution_count": null,
      "outputs": []
    },
    {
      "cell_type": "code",
      "metadata": {
        "id": "_tjnn4bdf_mJ"
      },
      "source": [
        "def get_freq_words(column):\n",
        "  list_of_words = []\n",
        "\n",
        "  for item in column:\n",
        "    list_of_words += item\n",
        "\n",
        "  return list_of_words"
      ],
      "execution_count": null,
      "outputs": []
    },
    {
      "cell_type": "code",
      "metadata": {
        "id": "pbIJWmpEf_h2"
      },
      "source": [
        "lista_palabras_producto = get_freq_words(productos_limpios.nombre_limpio.str.split())\n",
        "df_palbras_producto = pd.DataFrame(lista_palabras_producto, columns =['palabras'])\n",
        "get_column_stats(df_palbras_producto['palabras'])[:50]"
      ],
      "execution_count": null,
      "outputs": []
    },
    {
      "cell_type": "code",
      "metadata": {
        "id": "MTuF_2pdf_Z6"
      },
      "source": [
        "top_palabras = df_palbras_producto['palabras'].value_counts().reset_index().rename(columns={'index':'palabras', 'palabras':'cantidad'})"
      ],
      "execution_count": null,
      "outputs": []
    },
    {
      "cell_type": "code",
      "metadata": {
        "id": "6c2pzchSgLCE"
      },
      "source": [
        "top_palabras['palabras'][:10].to_list()"
      ],
      "execution_count": null,
      "outputs": []
    },
    {
      "cell_type": "code",
      "metadata": {
        "id": "mUjo14BNgLGE"
      },
      "source": [
        "lista_palabras_frecuentes = top_palabras['palabras'][:10].to_list() + ['otras']"
      ],
      "execution_count": null,
      "outputs": []
    },
    {
      "cell_type": "code",
      "metadata": {
        "id": "92WPpvrjgK83"
      },
      "source": [
        "# Recorro df de productos\n",
        "# Tomo nombre de la fila i-fila\n",
        "# Para cada palabra del nombre la comparo con cada columna\n",
        "# Si la palabra coincide con la columna, guardo columna en una lista\n",
        "# Al terminar si la lista es vacia, en otras sumo 1 (considerar que \"otras\" tiene que ser la ULTIMA columna)\n",
        "# Si la lista no es vacia deberia hacer algo como df.loc(i-fila, [\"lista de columnas\"]) = 1\n",
        "def get_top_words_dummy_vars(df, word_column, top_word_list, prefix):\n",
        "\n",
        "  dummy_df = pd.DataFrame(0, index=df.index, columns=top_word_list)\n",
        "\n",
        "  for idx, row in df.iterrows():\n",
        "    palabras_encontradas = []\n",
        "    for palabra in row[word_column].split(' '):\n",
        "      for top_word in top_word_list:\n",
        "        if palabra == top_word:\n",
        "          palabras_encontradas.append(top_word)\n",
        "    if len(palabras_encontradas) == 0:\n",
        "      dummy_df.loc[idx, top_word_list[-1]] = 1\n",
        "    else:\n",
        "      dummy_df.loc[idx, palabras_encontradas] = 1\n",
        "\n",
        "  return dummy_df.add_prefix(prefix)"
      ],
      "execution_count": null,
      "outputs": []
    },
    {
      "cell_type": "code",
      "metadata": {
        "id": "m818kb4tgK6c"
      },
      "source": [
        "productos_dummy_df = get_top_words_dummy_vars(productos_limpios, 'nombre_limpio', lista_palabras_frecuentes, 'producto_')"
      ],
      "execution_count": null,
      "outputs": []
    },
    {
      "cell_type": "code",
      "metadata": {
        "id": "deE688AfgK32"
      },
      "source": [
        "productos_limpios = pd.merge(productos_limpios, productos_dummy_df, left_index=True, right_index=True)"
      ],
      "execution_count": null,
      "outputs": []
    },
    {
      "cell_type": "code",
      "metadata": {
        "id": "3m1nK0NSgQ-L"
      },
      "source": [
        "productos_limpios.sample(7)"
      ],
      "execution_count": null,
      "outputs": []
    },
    {
      "cell_type": "code",
      "metadata": {
        "id": "CvqCDwZ5gQ06"
      },
      "source": [
        ""
      ],
      "execution_count": null,
      "outputs": []
    },
    {
      "cell_type": "markdown",
      "metadata": {
        "id": "3T8FvreTALpm"
      },
      "source": [
        "### 6. Transformación de Características de Sucursales"
      ]
    },
    {
      "cell_type": "markdown",
      "metadata": {
        "id": "0detltnnALpq"
      },
      "source": [
        "#### 6.1 Provincia"
      ]
    },
    {
      "cell_type": "code",
      "metadata": {
        "id": "cP7sQaxXALpr"
      },
      "source": [
        "# Veamos los nombres de las provincias y el formato del nombre\n",
        "sucursales_limpios['nom_provincia'].unique()"
      ],
      "execution_count": null,
      "outputs": []
    },
    {
      "cell_type": "code",
      "metadata": {
        "id": "nYUfOoKHgsoR"
      },
      "source": [
        "sucursales_limpios['provincia_depurada'] = sucursales_limpios['nom_provincia'].str.lower()\n",
        "\n",
        "for letra, reemplazo in zip(['á', 'é', 'í', 'ó', 'ú'], ['a', 'e', 'i', 'o', 'u']):\n",
        "    sucursales_limpios['provincia_depurada'] = sucursales_limpios['provincia_depurada'].str.replace(letra, reemplazo)\n",
        "\n",
        "sucursales_limpios['provincia_depurada'] = sucursales_limpios['provincia_depurada'].str.replace(' ', '_')"
      ],
      "execution_count": null,
      "outputs": []
    },
    {
      "cell_type": "code",
      "metadata": {
        "id": "PeQwfDXPuJEG"
      },
      "source": [
        "sucursales_limpios['provincia_depurada'].sample(5)"
      ],
      "execution_count": null,
      "outputs": []
    },
    {
      "cell_type": "code",
      "metadata": {
        "id": "1j07bPEdgtIT"
      },
      "source": [
        "sucursales_limpios['provincia_depurada'].unique()\n",
        "# Chequeamos la itegridad de la nueva columna"
      ],
      "execution_count": null,
      "outputs": []
    },
    {
      "cell_type": "code",
      "metadata": {
        "id": "axCtVQoGhX5j"
      },
      "source": [
        "sucursales_limpios = pd.concat([sucursales_limpios, pd.get_dummies(sucursales_limpios['provincia_depurada'], prefix='prov')], axis=1)\n",
        "sucursales_limpios.sample(5)"
      ],
      "execution_count": null,
      "outputs": []
    },
    {
      "cell_type": "markdown",
      "metadata": {
        "id": "CqFWfSb7BRKj"
      },
      "source": [
        "Por qué no vale la pena hacer lo mismo para regiones, ya habiendo transformado en dummies las provincias?\n",
        "\n",
        "*Porque hay una relacion directa entre las regiones y las provincias, por lo tanto la informacion resultante (si ademas transformaramos en dummie a las regiones) seria totalmente redundante.*\n",
        "\n",
        "*De igual manera sucederia con la localidad y las provincias. Pero elegimos provincias porque el numero de provincias es mucho menor y \"mas manejable\" que el de localidades*\n",
        "\n",
        "*Considerar ademas de que hay muy pocas regiones y utilizar pronvincias seria un buen balance entre cantidad y detalle*"
      ]
    },
    {
      "cell_type": "markdown",
      "metadata": {
        "id": "jCsgeDmHALpv"
      },
      "source": [
        "#### 6.2 Tipo Sucursal\n",
        " `tipoSucursal`: a partir de esta característica, crear las variables dummies correspondientes."
      ]
    },
    {
      "cell_type": "code",
      "metadata": {
        "id": "YrWVrsTkALpx"
      },
      "source": [
        "# Veamos cuantos valores de tipo sucursal tenemos\n",
        "sucursales_limpios['sucursalTipo'].value_counts(dropna=False)"
      ],
      "execution_count": null,
      "outputs": []
    },
    {
      "cell_type": "code",
      "metadata": {
        "id": "3QKB4tq8jck0"
      },
      "source": [
        "print('Cantidad de sucursalTipo Unicas:', len(sucursales_limpios['sucursalTipo'].unique()))\n",
        "print('Cantidad de banderaDescripcion Unicas:', len(sucursales_limpios['banderaDescripcion'].unique()))\n",
        "print('Cantidad de sucursalNombre Unicas:', len(sucursales_limpios['sucursalNombre'].unique()))"
      ],
      "execution_count": null,
      "outputs": []
    },
    {
      "cell_type": "code",
      "metadata": {
        "id": "P2SpeDoFjch6"
      },
      "source": [
        "sucursales_limpios = pd.concat([sucursales_limpios, pd.get_dummies(sucursales_limpios['sucursalTipo'], prefix='sucTipo')], axis=1)"
      ],
      "execution_count": null,
      "outputs": []
    },
    {
      "cell_type": "code",
      "metadata": {
        "id": "I3uESwZ7jcfA"
      },
      "source": [
        "sucursales_limpios.sample(3)"
      ],
      "execution_count": null,
      "outputs": []
    },
    {
      "cell_type": "markdown",
      "metadata": {
        "id": "pqNXSinVALp0"
      },
      "source": [
        "#### 6.3 Descripción Sucursal\n",
        "`banderaDescripcion`: a partir de esta característica, crear las variables dummies correspondientes. La misma descripción de sucursal tiene siempre el mismo tipo? En qué afecta esto?"
      ]
    },
    {
      "cell_type": "code",
      "metadata": {
        "id": "M_eWHK4Bj8eq"
      },
      "source": [
        "print('Cantidad de banderaDescripcion Unicos:', len(sucursales_limpios['banderaDescripcion'].unique()))"
      ],
      "execution_count": null,
      "outputs": []
    },
    {
      "cell_type": "code",
      "metadata": {
        "id": "rIZVAE_Nj8qw"
      },
      "source": [
        "# En esta variable almacenamos la cantidad de tipoSucursales por cada banderaDescripcion.\n",
        "cant_tiposuc_x_desc = sucursales_limpios[['id', 'banderaDescripcion','sucursalTipo']].groupby(['banderaDescripcion','sucursalTipo']).count().reset_index().groupby('banderaDescripcion').count().reset_index()"
      ],
      "execution_count": null,
      "outputs": []
    },
    {
      "cell_type": "code",
      "metadata": {
        "id": "oHQ3_OJGj8Vd"
      },
      "source": [
        "len(cant_tiposuc_x_desc[cant_tiposuc_x_desc.sucursalTipo > 1])"
      ],
      "execution_count": null,
      "outputs": []
    },
    {
      "cell_type": "code",
      "metadata": {
        "id": "-vYVuLw6mKzU"
      },
      "source": [
        "sucursales_limpios['banderaDescripcion_limpio'] = limpiar_palabras(sucursales_limpios['banderaDescripcion'])"
      ],
      "execution_count": null,
      "outputs": []
    },
    {
      "cell_type": "code",
      "metadata": {
        "id": "RfYYgTM6mjl0"
      },
      "source": [
        "sucursales_limpios['banderaDescripcion_limpio'] = sucursales_limpios['banderaDescripcion_limpio'].apply(lambda x: '_'.join(x.split(' ')))"
      ],
      "execution_count": null,
      "outputs": []
    },
    {
      "cell_type": "code",
      "metadata": {
        "id": "H_FXUAsHnVoM"
      },
      "source": [
        "sucursales_limpios['banderaDescripcion_limpio'] = sucursales_limpios['banderaDescripcion_limpio'].str.replace('.', '')"
      ],
      "execution_count": null,
      "outputs": []
    },
    {
      "cell_type": "code",
      "metadata": {
        "id": "fXENU2R7j8Fx"
      },
      "source": [
        "get_column_stats(sucursales_limpios['banderaDescripcion_limpio'])[:15]\n",
        "# Podemos ver que si codificamos el top 15 de sucursales estariamos considerando practicamente \n",
        "# el 90% del dataset\n"
      ],
      "execution_count": null,
      "outputs": []
    },
    {
      "cell_type": "code",
      "metadata": {
        "id": "rK3v9AnZ4ZbZ"
      },
      "source": [
        "sucursales_limpios['sucursal_dummy'] = get_dummy_column(sucursales_limpios['banderaDescripcion_limpio'], 15, 'otras_sucursales')"
      ],
      "execution_count": null,
      "outputs": []
    },
    {
      "cell_type": "code",
      "metadata": {
        "id": "AwEbP_ngmKwI"
      },
      "source": [
        "sucursales_limpios = pd.concat([sucursales_limpios, pd.get_dummies(sucursales_limpios['banderaDescripcion_limpio'], prefix='bandesc')], axis=1)"
      ],
      "execution_count": null,
      "outputs": []
    },
    {
      "cell_type": "code",
      "metadata": {
        "id": "xOCX9j7uolms"
      },
      "source": [
        "sucursales_limpios.sample(4)"
      ],
      "execution_count": null,
      "outputs": []
    },
    {
      "cell_type": "code",
      "metadata": {
        "id": "bqibCOzQqOVC"
      },
      "source": [
        "precios_limpios.sample(1)"
      ],
      "execution_count": null,
      "outputs": []
    },
    {
      "cell_type": "code",
      "metadata": {
        "id": "OPSctMYpqgPm"
      },
      "source": [
        "productos_limpios.sample(1)"
      ],
      "execution_count": null,
      "outputs": []
    },
    {
      "cell_type": "markdown",
      "metadata": {
        "id": "Lbjewkl7p_JI"
      },
      "source": [
        "### DROP DE COLUMNAS"
      ]
    },
    {
      "cell_type": "code",
      "metadata": {
        "id": "lC1T9ppFmKtW"
      },
      "source": [
        "#sucursales_columns_drop = ['banderaDescripcion','sucursalNombre','sucursalTipo','nom_provincia','provincia_depurada','banderaDescripcion_limpio','sucursal_dummy','lat','lng']"
      ],
      "execution_count": null,
      "outputs": []
    },
    {
      "cell_type": "code",
      "metadata": {
        "id": "j_9fBIy-mKp6"
      },
      "source": [
        "#precios_columns_drop = []"
      ],
      "execution_count": null,
      "outputs": []
    },
    {
      "cell_type": "code",
      "metadata": {
        "id": "dBV8JNcCqHI1"
      },
      "source": [
        "#productos_columns_drop = ['marca', 'nombre','presentacion','presentacion_depurada','um_en_presentacion','cantidad_en_presentacion','presentacion_depurada_str',\n",
        "#                          'cant_en_nombre_prod','um_en_nombre_prod','presentacion_en_nombre_depurada','marca_depurada','marca_depurada_unida',\n",
        "#                          'marca_dummy','nombre_sin_presentacion','nombre_sin_presentacion_marca','nombre_limpio']"
      ],
      "execution_count": null,
      "outputs": []
    },
    {
      "cell_type": "markdown",
      "metadata": {
        "id": "RgyvmGV2AsIV"
      },
      "source": [
        "*Qué* situación puede aparecer si el tipo de sucursal tiene una asignación unívoca a la descripción de la sucursal? Vale la pena tener ambas variables como dummies o con una de estas características alcanza? Cuál creen que es mejor?"
      ]
    },
    {
      "cell_type": "code",
      "metadata": {
        "id": "5k_xga1Cti9U"
      },
      "source": [
        "#sucursales_limpios = sucursales_limpios.drop(columns=sucursales_columns_drop)"
      ],
      "execution_count": null,
      "outputs": []
    },
    {
      "cell_type": "code",
      "metadata": {
        "id": "nx-z-0vMtjsL"
      },
      "source": [
        "#precios_limpios = precios_limpios.drop(columns=precios_columns_drop)"
      ],
      "execution_count": null,
      "outputs": []
    },
    {
      "cell_type": "code",
      "metadata": {
        "id": "2F5cK_LxALp1"
      },
      "source": [
        "#productos_limpios = productos_limpios.drop(columns=productos_columns_drop)"
      ],
      "execution_count": null,
      "outputs": []
    },
    {
      "cell_type": "markdown",
      "metadata": {
        "id": "QuBF0K9_TIt7"
      },
      "source": [
        "### 7. Unión de Datasets y Creación de Precio Homogéneo. Nuevos Outliers."
      ]
    },
    {
      "cell_type": "code",
      "metadata": {
        "id": "XAlH2kkvsdFm"
      },
      "source": [
        "precio_producto = pd.merge(precios_limpios,productos_limpios,left_on='producto_id',right_on='id',how='left').drop(columns = 'id')\n",
        "precio_sucursal_producto_clean = pd.merge(precio_producto,sucursales_limpios,left_on='sucursal_id', right_on='id',how='left').drop(columns = 'id')\n",
        "precio_sucursal_producto_clean.head()"
      ],
      "execution_count": null,
      "outputs": []
    },
    {
      "cell_type": "code",
      "metadata": {
        "id": "5kldEhr2cjjZ"
      },
      "source": [
        "\n"
      ],
      "execution_count": null,
      "outputs": []
    },
    {
      "cell_type": "code",
      "metadata": {
        "id": "773pShXHsmph"
      },
      "source": [
        "precio_sucursal_producto_clean.shape"
      ],
      "execution_count": null,
      "outputs": []
    },
    {
      "cell_type": "markdown",
      "metadata": {
        "id": "U-izHjPLuNZ_"
      },
      "source": [
        "#### 7.0.1 Precio Homogéneo"
      ]
    },
    {
      "cell_type": "code",
      "metadata": {
        "id": "OIway-9muUoB"
      },
      "source": [
        "# Definimos la funcion para obtener el factor normalizador\n",
        "def get_factor(df):\n",
        "    um_primaria = ['kg', 'lt', 'un', 'mt', 'pack']\n",
        "    um_secundaria = ['gr', 'ml', 'cc']\n",
        "\n",
        "    df.loc[df.um_limpia.isin(um_primaria), 'factor_normalizador'] = 1 / df['cant_limpia']\n",
        "    df.loc[df.um_limpia.isin(um_secundaria), 'factor_normalizador'] = 1 / df['cant_limpia'] * 1000"
      ],
      "execution_count": null,
      "outputs": []
    },
    {
      "cell_type": "code",
      "metadata": {
        "id": "nOfxu2v_uUYx"
      },
      "source": [
        "# Llamamos a la funcion que calculará la columna de factores. Esto nos permitira luego multiplicar el precio y el factor de manera vectorial\n",
        "get_factor(precio_sucursal_producto_clean)"
      ],
      "execution_count": null,
      "outputs": []
    },
    {
      "cell_type": "code",
      "metadata": {
        "id": "spPqVLjMuUKh"
      },
      "source": [
        "precio_sucursal_producto_clean[['um_limpia','cant_limpia','factor_normalizador']].sample(10)"
      ],
      "execution_count": null,
      "outputs": []
    },
    {
      "cell_type": "code",
      "metadata": {
        "id": "VQlXUIyVz_yq"
      },
      "source": [
        "precio_sucursal_producto_clean['precio_normalizado'] = precio_sucursal_producto_clean['precio'] * precio_sucursal_producto_clean['factor_normalizador']"
      ],
      "execution_count": null,
      "outputs": []
    },
    {
      "cell_type": "code",
      "metadata": {
        "id": "Yc9Gz1610hxT"
      },
      "source": [
        "# Veamos algunos ejemplos random de cómo quedó el cálculo\n",
        "precio_sucursal_producto_clean[['precio', 'um_limpia','cant_limpia','factor_normalizador','precio_normalizado']].sample(10)"
      ],
      "execution_count": null,
      "outputs": []
    },
    {
      "cell_type": "markdown",
      "metadata": {
        "id": "-UlgbP2JLp0w"
      },
      "source": [
        "#### 7.1 Análisis de Outliers"
      ]
    },
    {
      "cell_type": "code",
      "metadata": {
        "id": "YVHBlSPCLo7d"
      },
      "source": [
        ""
      ],
      "execution_count": null,
      "outputs": []
    },
    {
      "cell_type": "markdown",
      "metadata": {
        "id": "ckRMorPOEYrC"
      },
      "source": [
        "### 8. Precio Relativo"
      ]
    },
    {
      "cell_type": "code",
      "metadata": {
        "id": "obR_iSDTEYrE"
      },
      "source": [
        "# Recordemos el bien numerario seleccionado en el Practico anterior: 'Mayonesa Clasica Doypack Hellmann's 950 Gr'\n",
        "producto_numerario_id = '7794000960077'"
      ],
      "execution_count": null,
      "outputs": []
    },
    {
      "cell_type": "code",
      "metadata": {
        "id": "8P9RTmhy9RPi"
      },
      "source": [
        "precio_sucursal_producto_clean[precio_sucursal_producto_clean['producto_id'] == producto_numerario_id]"
      ],
      "execution_count": null,
      "outputs": []
    },
    {
      "cell_type": "code",
      "metadata": {
        "id": "JQ1Cr-YNASb0"
      },
      "source": [
        "precio_sucursal_producto_clean.columns"
      ],
      "execution_count": null,
      "outputs": []
    },
    {
      "cell_type": "code",
      "metadata": {
        "id": "KUYqyg0_9RMX"
      },
      "source": [
        "# Veamos como se distribuye el precio normalizado de dicho producto segun las fechas\n",
        "bien_numerarop_by_fecha = precio_sucursal_producto_clean[precio_sucursal_producto_clean['producto_id'] == producto_numerario_id].groupby('fecha').agg(count=('precio_normalizado','count'), \n",
        "                                                                                                                            min=('precio_normalizado','min'), \n",
        "                                                                                                                            precio_numerario_normalizado=('precio_normalizado','mean'), \n",
        "                                                                                                                            max=('precio_normalizado','max'),\n",
        "                                                                                                                            std=('precio_normalizado','std')).reset_index()\n",
        "    \n",
        "bien_numerarop_by_fecha"
      ],
      "execution_count": null,
      "outputs": []
    },
    {
      "cell_type": "code",
      "metadata": {
        "id": "trejuWy0_dkL"
      },
      "source": [
        "# Agreguemos el precio promedio del bien numerario a cada registro del dataframe considerando la fecha\n",
        "precio_sucursal_producto_clean = pd.merge(precio_sucursal_producto_clean, bien_numerarop_by_fecha[['fecha','precio_numerario_normalizado']], left_on='fecha', right_on='fecha')"
      ],
      "execution_count": null,
      "outputs": []
    },
    {
      "cell_type": "code",
      "metadata": {
        "id": "HZHk-lRH_dYO"
      },
      "source": [
        "precio_sucursal_producto_clean[['fecha','precio','precio_normalizado','precio_numerario_normalizado']].sample(3)"
      ],
      "execution_count": null,
      "outputs": []
    },
    {
      "cell_type": "code",
      "metadata": {
        "id": "pn9lIdgKAbTg"
      },
      "source": [
        "precio_sucursal_producto_clean['precio_relativo'] = precio_sucursal_producto_clean['precio_normalizado'] / precio_sucursal_producto_clean['precio_numerario_normalizado']"
      ],
      "execution_count": null,
      "outputs": []
    },
    {
      "cell_type": "code",
      "metadata": {
        "id": "Xh-9bUoTAbGU"
      },
      "source": [
        "precio_sucursal_producto_clean[['fecha','region_y','id_referencia','precio','nombre_depurado','precio_normalizado','precio_numerario_normalizado','precio_relativo']].sample(3)"
      ],
      "execution_count": null,
      "outputs": []
    },
    {
      "cell_type": "markdown",
      "metadata": {
        "id": "1wUnAG6YTIuG"
      },
      "source": [
        "### 9. Adicional"
      ]
    },
    {
      "cell_type": "code",
      "metadata": {
        "id": "q1m-LiTic7sO"
      },
      "source": [
        "##OUTLIERS!!"
      ],
      "execution_count": null,
      "outputs": []
    },
    {
      "cell_type": "code",
      "metadata": {
        "id": "vXy7s1G1c_7f"
      },
      "source": [
        "relativo_mean_std = precio_sucursal_producto_clean.groupby(['producto_id','fecha','region_y']).agg(pr_mean=('precio_relativo', 'mean'), pr_std=('precio_relativo', lambda x: np.std(x)))"
      ],
      "execution_count": null,
      "outputs": []
    },
    {
      "cell_type": "code",
      "metadata": {
        "id": "ntWXN_20dK75"
      },
      "source": [
        "relativo_pr_cuartiles=precio_sucursal_producto_clean.groupby(['producto_id','fecha','region_y']).agg(relat_cuartil_25=('precio_relativo',lambda x: np.quantile(x, .25)),\n",
        "                                                                            relat_cuartil_75=('precio_relativo',lambda x: np.quantile(x, .75)))"
      ],
      "execution_count": null,
      "outputs": []
    },
    {
      "cell_type": "code",
      "metadata": {
        "id": "3cTf0P7kdY7c"
      },
      "source": [
        "precio_sucursal_producto_clean = pd.merge(precio_sucursal_producto_clean,relativo_mean_std,left_on=['producto_id', 'fecha','region_y'],right_on=['producto_id','fecha','region_y'],how='left')\n",
        "precio_sucursal_producto_clean = pd.merge(precio_sucursal_producto_clean,relativo_pr_cuartiles,left_on=['producto_id', 'fecha','region_y'],right_on=['producto_id','fecha','region_y'],how='left')"
      ],
      "execution_count": null,
      "outputs": []
    },
    {
      "cell_type": "code",
      "metadata": {
        "id": "I68_903Ge1-c"
      },
      "source": [
        "precio_sucursal_producto_clean.head()"
      ],
      "execution_count": null,
      "outputs": []
    },
    {
      "cell_type": "code",
      "metadata": {
        "id": "9xAs9cdX4NVx"
      },
      "source": [
        "def is_outlier(precio_relativo, relat_cuartil_25, relat_cuartil_75):\n",
        "  precio_sucursal_producto_clean.loc[precio_relativo > relat_cuartil_75+(3*(relat_cuartil_75-relat_cuartil_25)), 'rdo_ri_geo_relativo'] = 'extremo superior'\n",
        "  precio_sucursal_producto_clean.loc[precio_relativo < relat_cuartil_25-(3*(relat_cuartil_75-relat_cuartil_25)), 'rdo_ri_geo_relativo'] = 'extremo inferior'\n",
        "  precio_sucursal_producto_clean.loc[(relat_cuartil_75+3*(relat_cuartil_75-relat_cuartil_25) >= precio_relativo) & (precio_relativo >= relat_cuartil_25-3*(relat_cuartil_75-relat_cuartil_25)), 'rdo_ri_geo_relativo'] = 'normal'\n",
        "  precio_sucursal_producto_clean.loc[(relat_cuartil_25==relat_cuartil_75), 'rdo_ri_geo_relativo'] = 'normal'"
      ],
      "execution_count": null,
      "outputs": []
    },
    {
      "cell_type": "code",
      "metadata": {
        "id": "dLWcXN6844S0"
      },
      "source": [
        "is_outlier(precio_sucursal_producto_clean['precio_relativo'], precio_sucursal_producto_clean['relat_cuartil_25'], precio_sucursal_producto_clean['relat_cuartil_75'])"
      ],
      "execution_count": null,
      "outputs": []
    },
    {
      "cell_type": "code",
      "metadata": {
        "id": "ikb9BuBa5IUX"
      },
      "source": [
        "precio_sucursal_producto_clean['rdo_ri_geo_relativo'].value_counts(dropna=False)"
      ],
      "execution_count": null,
      "outputs": []
    },
    {
      "cell_type": "code",
      "metadata": {
        "id": "JMrMqoMi5am0"
      },
      "source": [
        "ver=precio_sucursal_producto_clean[precio_sucursal_producto_clean['rdo_ri_geo_relativo'].str.contains('extremo')]\n"
      ],
      "execution_count": null,
      "outputs": []
    },
    {
      "cell_type": "code",
      "metadata": {
        "id": "VL5cxU2P5-sX"
      },
      "source": [
        "ver[['fecha','region_y','id_referencia','precio','nombre_depurado','cant_limpia','um_limpia','precio_normalizado','factor_normalizador','precio_numerario_normalizado','precio_relativo', 'rdo_ri_geo_relativo']].sample(3)"
      ],
      "execution_count": null,
      "outputs": []
    },
    {
      "cell_type": "markdown",
      "metadata": {
        "id": "Vp7HqIm2sAld"
      },
      "source": [
        "### 10. Guardado de Dataset Limpio"
      ]
    },
    {
      "cell_type": "code",
      "metadata": {
        "id": "5eT4uHo0std9"
      },
      "source": [
        "# Guardamos el dataset limpio\n",
        "pd.to_pickle(precio_sucursal_producto_clean, 'precio_sucursal_producto_clean.pkl', compression=\"zip\")"
      ],
      "execution_count": null,
      "outputs": []
    }
  ]
}